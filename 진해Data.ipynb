{
  "nbformat": 4,
  "nbformat_minor": 0,
  "metadata": {
    "kernelspec": {
      "display_name": "Python 3",
      "language": "python",
      "name": "python3"
    },
    "language_info": {
      "codemirror_mode": {
        "name": "ipython",
        "version": 3
      },
      "file_extension": ".py",
      "mimetype": "text/x-python",
      "name": "python",
      "nbconvert_exporter": "python",
      "pygments_lexer": "ipython3",
      "version": "3.8.5"
    },
    "colab": {
      "name": "진해Data.ipynb",
      "provenance": [],
      "collapsed_sections": [
        "hCDcfYpFmJxA"
      ],
      "include_colab_link": true
    }
  },
  "cells": [
    {
      "cell_type": "markdown",
      "metadata": {
        "id": "view-in-github",
        "colab_type": "text"
      },
      "source": [
        "<a href=\"https://colab.research.google.com/github/HWANG-HOE-SUN/Univ.Project/blob/main/%EC%A7%84%ED%95%B4Data.ipynb\" target=\"_parent\"><img src=\"https://colab.research.google.com/assets/colab-badge.svg\" alt=\"Open In Colab\"/></a>"
      ]
    },
    {
      "cell_type": "markdown",
      "metadata": {
        "id": "rCjcdKSL6wXL"
      },
      "source": [
        "# **고장코드 有 변환 후**"
      ]
    },
    {
      "cell_type": "markdown",
      "metadata": {
        "id": "X5lEqi9UTHYs"
      },
      "source": [
        "### 데이터 불러오기"
      ]
    },
    {
      "cell_type": "code",
      "metadata": {
        "id": "Srdx7aFzn1xA"
      },
      "source": [
        "import os\n",
        "from scipy import io\n",
        "import numpy as np\n",
        "import pandas as pd\n",
        "import copy\n",
        "import matplotlib.pyplot as plt\n",
        "import re # 텍스트 검색(정규표현)\n",
        "import struct\n",
        "%matplotlib inline"
      ],
      "execution_count": 1,
      "outputs": []
    },
    {
      "cell_type": "code",
      "metadata": {
        "colab": {
          "base_uri": "https://localhost:8080/"
        },
        "id": "gjioNyZVoAQq",
        "outputId": "4cc3931c-5629-4b11-fed1-c13f88b7d7f4"
      },
      "source": [
        "from google.colab import drive \n",
        "drive.mount('/content/gdrive/')"
      ],
      "execution_count": null,
      "outputs": [
        {
          "output_type": "stream",
          "text": [
            "Mounted at /content/gdrive/\n"
          ],
          "name": "stdout"
        }
      ]
    },
    {
      "cell_type": "code",
      "metadata": {
        "id": "dxxfGsnGn96L"
      },
      "source": [
        "path_dir = '/content/gdrive/MyDrive/DATA/고장코드 有_변환 후/27.진해_6033_200115_P1F0166,0066'\n",
        "file_list = os.listdir(path_dir)"
      ],
      "execution_count": null,
      "outputs": []
    },
    {
      "cell_type": "code",
      "metadata": {
        "colab": {
          "base_uri": "https://localhost:8080/"
        },
        "id": "9YsrK5v3BPkK",
        "outputId": "b6102aaf-5d31-40fb-b121-da472e6b0fe4"
      },
      "source": [
        "for file in file_list:\n",
        "  print(file)"
      ],
      "execution_count": null,
      "outputs": [
        {
          "output_type": "stream",
          "text": [
            "진해_6033_20200114061311.mat\n",
            "진해_6033_20200114065945.mat\n",
            "진해_6033_20200114092858.mat\n",
            "진해_6033_20200114115522.mat\n",
            "진해_6033_20200114142250.mat\n",
            "진해_6033_20200114164902.mat\n",
            "진해_6033_20200114191610.mat\n",
            "진해_6033_20200114211913.mat\n",
            "진해_6033_20200115044101.mat\n",
            "분할\n"
          ],
          "name": "stdout"
        }
      ]
    },
    {
      "cell_type": "code",
      "metadata": {
        "id": "cr2fMqYb7ZU4"
      },
      "source": [
        "matfile14=[]\n",
        "dist = path_dir+'/'+file_list[7] # file_list 1~6까진 분할파일에서 얻어야 함 (file size때문)\n",
        "matfile14.append(io.loadmat(dist)) # 14일 "
      ],
      "execution_count": null,
      "outputs": []
    },
    {
      "cell_type": "code",
      "metadata": {
        "id": "Vs-XClKF70uQ",
        "colab": {
          "base_uri": "https://localhost:8080/"
        },
        "outputId": "fac4f980-dbd0-4459-bc96-e6803b5da3cc"
      },
      "source": [
        "feature_name = []\n",
        "for file in matfile14:\n",
        "  feature_name.append(list(file.keys()))\n",
        "for i in feature_name:\n",
        "  print(len(i))"
      ],
      "execution_count": null,
      "outputs": [
        {
          "output_type": "stream",
          "text": [
            "1142\n"
          ],
          "name": "stdout"
        }
      ]
    },
    {
      "cell_type": "code",
      "metadata": {
        "id": "8HvVyS19MNHX"
      },
      "source": [
        "test = pd.DataFrame(matfile14)"
      ],
      "execution_count": null,
      "outputs": []
    },
    {
      "cell_type": "code",
      "metadata": {
        "id": "8T6XTnqgQlI_"
      },
      "source": [
        "col_len=[]\n",
        "for i in range(len(test.T)):\n",
        "  col_len.append(len(test.iloc[0,i]))"
      ],
      "execution_count": null,
      "outputs": []
    },
    {
      "cell_type": "code",
      "metadata": {
        "colab": {
          "base_uri": "https://localhost:8080/"
        },
        "id": "r8hFWc2PTnZx",
        "outputId": "eeb102fe-21cb-4e7c-89f0-c63a79191d3d"
      },
      "source": [
        "np.argmax(col_len) # 최대 시간 길이를 가진 칼럼의 위치"
      ],
      "execution_count": null,
      "outputs": [
        {
          "output_type": "execute_result",
          "data": {
            "text/plain": [
              "47"
            ]
          },
          "metadata": {
            "tags": []
          },
          "execution_count": 9
        }
      ]
    },
    {
      "cell_type": "code",
      "metadata": {
        "colab": {
          "base_uri": "https://localhost:8080/"
        },
        "id": "QkZsQfG7Meps",
        "outputId": "4e9dd668-469d-4b81-9c79-7896c1175b85"
      },
      "source": [
        "test.iloc[:,np.argmax(col_len)].iloc[0]"
      ],
      "execution_count": null,
      "outputs": [
        {
          "output_type": "execute_result",
          "data": {
            "text/plain": [
              "array([[240.1402 ,   0.     ],\n",
              "       [240.1497 ,   0.     ],\n",
              "       [240.1597 ,   0.     ],\n",
              "       ...,\n",
              "       [301.4632 ,   0.     ],\n",
              "       [301.4732 ,   0.     ],\n",
              "       [301.48315,   0.     ]])"
            ]
          },
          "metadata": {
            "tags": []
          },
          "execution_count": 10
        }
      ]
    },
    {
      "cell_type": "code",
      "metadata": {
        "colab": {
          "base_uri": "https://localhost:8080/"
        },
        "id": "mzx_kcMEJOPW",
        "outputId": "418a79c5-b305-4977-ce0a-93abbcf294a9"
      },
      "source": [
        "test.iloc[0,].iloc[0]"
      ],
      "execution_count": null,
      "outputs": [
        {
          "output_type": "execute_result",
          "data": {
            "text/plain": [
              "array([[2.40131550e+02, 2.01211479e-01],\n",
              "       [2.40141650e+02, 2.01211479e-01],\n",
              "       [2.40151550e+02, 2.01211479e-01],\n",
              "       ...,\n",
              "       [3.01458350e+02, 8.98832970e-02],\n",
              "       [3.01468350e+02, 8.98832970e-02],\n",
              "       [3.01478350e+02, 8.98832970e-02]])"
            ]
          },
          "metadata": {
            "tags": []
          },
          "execution_count": 15
        }
      ]
    },
    {
      "cell_type": "markdown",
      "metadata": {
        "id": "ql26F08eTL4N"
      },
      "source": [
        "# 데이터 통합"
      ]
    },
    {
      "cell_type": "markdown",
      "metadata": {
        "id": "hCDcfYpFmJxA"
      },
      "source": [
        "### 채널 길이 확인"
      ]
    },
    {
      "cell_type": "code",
      "metadata": {
        "id": "adIoGehvQbjy"
      },
      "source": [
        "excel_path = '/content/gdrive/MyDrive/학부연구생/겹치는채널.xlsx'\n",
        "useful_excel1 = pd.read_excel(excel_path,sheet_name=0)\n",
        "useful_excel2 = pd.read_excel(excel_path,sheet_name=1)\n",
        "useful_excel3 = pd.read_excel(excel_path,sheet_name=2)\n",
        "useful_excel4 = pd.read_excel(excel_path,sheet_name=3)\n",
        "useful_excel5 = pd.read_excel(excel_path,sheet_name=4)\n",
        "useful_excel6 = pd.read_excel(excel_path,sheet_name=5)"
      ],
      "execution_count": null,
      "outputs": []
    },
    {
      "cell_type": "code",
      "metadata": {
        "colab": {
          "base_uri": "https://localhost:8080/"
        },
        "id": "xiMPlsNGbHx9",
        "outputId": "61da8e60-6aa8-412d-dd0b-88c81dc35519"
      },
      "source": [
        "sig1 = useful_excel1['SignalName'][:-1]\n",
        "useful_excel1['SignalName'][:-1] # 맨 뒤 제외 , 휠모터 고장 연관 채널"
      ],
      "execution_count": null,
      "outputs": [
        {
          "output_type": "execute_result",
          "data": {
            "text/plain": [
              "0             BM1__AxuInverter__Inv_Battery_V\n",
              "1           BM1__AxuInverter__INV_Fault_Check\n",
              "2              BM1__AxuInverter__Inv_IptVol_V\n",
              "3              BM1__AxuInverter__INV_Power_kW\n",
              "4         BM1__AxuInverter__Mot_ActRotSpd_rpm\n",
              "                        ...                  \n",
              "122    CCAN__VCU_EFD__CR_VCU_EVCoolantAuxTemp\n",
              "123    CCAN__VCU_EFD__CR_VCU_EVCoolantMotTemp\n",
              "124    CCAN__VCU_EFD__CR_VCU_EVCoolantRadTemp\n",
              "125             CCAN__VCU_M2__CR_VCU_ActDmdTq\n",
              "126          CCAN__VCU_M2__CR_VCU_DriverDmdTq\n",
              "Name: SignalName, Length: 127, dtype: object"
            ]
          },
          "metadata": {
            "tags": []
          },
          "execution_count": 4
        }
      ]
    },
    {
      "cell_type": "code",
      "metadata": {
        "colab": {
          "base_uri": "https://localhost:8080/"
        },
        "id": "oGGRWH7QcsN5",
        "outputId": "1f4e1617-7051-4fc9-b011-f83e2d1b696a"
      },
      "source": [
        "sig2 = useful_excel2['SignalName']\n",
        "print(sig2.head(),'\\n AuxInv 길이:',len(sig2))  # AuxInv"
      ],
      "execution_count": null,
      "outputs": [
        {
          "output_type": "stream",
          "text": [
            "0        BM1__AxuInverter__Inv_Battery_V\n",
            "1      BM1__AxuInverter__INV_Fault_Check\n",
            "2         BM1__AxuInverter__Inv_IptVol_V\n",
            "3         BM1__AxuInverter__INV_Power_kW\n",
            "4    BM1__AxuInverter__Mot_ActRotSpd_rpm\n",
            "Name: SignalName, dtype: object \n",
            " AuxInv 길이: 25\n"
          ],
          "name": "stdout"
        }
      ]
    },
    {
      "cell_type": "code",
      "metadata": {
        "colab": {
          "base_uri": "https://localhost:8080/"
        },
        "id": "HX2nZW0PcS0_",
        "outputId": "6635bbbb-526f-41c1-a2f5-2f7c2cc8ebf2"
      },
      "source": [
        "sig3 = useful_excel3['SignalName']\n",
        "print(sig3.head(),'\\n BMS 길이:',len(sig3))  # BMS"
      ],
      "execution_count": null,
      "outputs": [
        {
          "output_type": "stream",
          "text": [
            "0            BM1__BMS10__CR_Bms_BulkSOC\n",
            "1       BM1__BMS10__CR_Bms_EvEnergyCapa\n",
            "2    BM1__BMS10__CR_Bms_EVTargetCurrent\n",
            "3       BM1__BMS10__CR_Bms_EVTargetVolt\n",
            "4            BM1__BMS10__CR_Bms_FullSOC\n",
            "Name: SignalName, dtype: object \n",
            " BMS 길이: 339\n"
          ],
          "name": "stdout"
        }
      ]
    },
    {
      "cell_type": "code",
      "metadata": {
        "colab": {
          "base_uri": "https://localhost:8080/"
        },
        "id": "ipqDF9C8dOt9",
        "outputId": "c4472e4b-6ea3-4c03-9da6-23a0ef2734c5"
      },
      "source": [
        "sig4 = useful_excel4['SignalName']\n",
        "print(sig4.head(),'\\n EBS 길이:',len(sig4))  # EBS"
      ],
      "execution_count": null,
      "outputs": [
        {
          "output_type": "stream",
          "text": [
            "0       CCAN__CVW__GrossCombinationVehicleWeight\n",
            "1                CCAN__CVW__PoweredVehicleWeight\n",
            "2    CCAN__DM1_EBS__AmberWarningLampStatus_EBS_C\n",
            "3                      CCAN__DM1_EBS__DTC1_EBS_C\n",
            "4                      CCAN__DM1_EBS__DTC2_EBS_C\n",
            "Name: SignalName, dtype: object \n",
            " EBS 길이: 143\n"
          ],
          "name": "stdout"
        }
      ]
    },
    {
      "cell_type": "code",
      "metadata": {
        "colab": {
          "base_uri": "https://localhost:8080/"
        },
        "id": "prP0jgS3dOqY",
        "outputId": "1ed30dae-8ea6-4753-f745-bdf20cd54088"
      },
      "source": [
        "sig5 = useful_excel5['SignalName']\n",
        "print(sig5.head(),'\\n MCU 길이:',len(sig5))  # MCU"
      ],
      "execution_count": null,
      "outputs": [
        {
          "output_type": "stream",
          "text": [
            "0    BM1__DM1_MCU_L__AmberWarningLampStatus_MCU_L_B\n",
            "1                      BM1__DM1_MCU_L__DTC1_MCU_L_B\n",
            "2                      BM1__DM1_MCU_L__DTC2_MCU_L_B\n",
            "3                      BM1__DM1_MCU_L__DTC3_MCU_L_B\n",
            "4                      BM1__DM1_MCU_L__DTC4_MCU_L_B\n",
            "Name: SignalName, dtype: object \n",
            " MCU 길이: 66\n"
          ],
          "name": "stdout"
        }
      ]
    },
    {
      "cell_type": "code",
      "metadata": {
        "colab": {
          "base_uri": "https://localhost:8080/"
        },
        "id": "w4fQjUeydOnN",
        "outputId": "bee3768f-bf8f-4e50-cdfd-dc97fea77b08"
      },
      "source": [
        "sig6 = useful_excel6['SignalName']\n",
        "print(sig6.head(),'\\n VCU 길이:',len(sig6))  # VCU"
      ],
      "execution_count": null,
      "outputs": [
        {
          "output_type": "stream",
          "text": [
            "0    BM1__DM1_VCU__AmberWarningLampStatus_VCU_B\n",
            "1                      BM1__DM1_VCU__DTC1_VCU_B\n",
            "2                      BM1__DM1_VCU__DTC2_VCU_B\n",
            "3                      BM1__DM1_VCU__DTC3_VCU_B\n",
            "4                      BM1__DM1_VCU__DTC4_VCU_B\n",
            "Name: SignalName, dtype: object \n",
            " VCU 길이: 157\n"
          ],
          "name": "stdout"
        }
      ]
    },
    {
      "cell_type": "code",
      "metadata": {
        "colab": {
          "base_uri": "https://localhost:8080/"
        },
        "id": "z5gSsvapeQM5",
        "outputId": "fbfba4d8-f9ac-4dbf-b435-8b3cf209e1e1"
      },
      "source": [
        "print(len(sig1)+len(sig2)+len(sig3)+len(sig4)+len(sig5)+len(sig6))\n",
        "print(len(set(sig1)|set(sig2)|set(sig3)|set(sig4)|set(sig5)|set(sig6)))\n",
        "set(sig1)&set(sig2)&set(sig3)&set(sig4)&set(sig5)&set(sig6)"
      ],
      "execution_count": null,
      "outputs": [
        {
          "output_type": "stream",
          "text": [
            "857\n",
            "730\n"
          ],
          "name": "stdout"
        },
        {
          "output_type": "execute_result",
          "data": {
            "text/plain": [
              "set()"
            ]
          },
          "metadata": {
            "tags": []
          },
          "execution_count": 10
        }
      ]
    },
    {
      "cell_type": "code",
      "metadata": {
        "colab": {
          "base_uri": "https://localhost:8080/"
        },
        "id": "KRDaueY3hR3F",
        "outputId": "be1d461f-ec03-4e1f-f7a2-0cc783b60fd4"
      },
      "source": [
        "# 휠모터 고장 연관 채널(sig1) + 다른 sheet 변수명(sig2~sig6) 교집합\n",
        "print('1:',set(sig1)&set(sig2)) \n",
        "print('2:',set(sig1)&set(sig3))\n",
        "print('3:',set(sig1)&set(sig4))\n",
        "print('4:',set(sig1)&set(sig5))\n",
        "print('5:',set(sig1)&set(sig6))"
      ],
      "execution_count": null,
      "outputs": [
        {
          "output_type": "stream",
          "text": [
            "1: {'BM1__AxuInverter__Mot_TKO_Sensor', 'BM1__AxuInverter__Inv_Battery_V', 'BM1__AxuInverter__Mot_APU_Sensor', 'BM1__AxuInverter__Mot_ActRotSpd_rpm', 'BM1__AxuInverter__INV_Power_kW', 'BM1__AxuInverter__MotInv_Mode_Status', 'BM1__AxuInverter__MotInvRdy', 'BM1__AxuInverter__Mot_APU_Stats', 'BM1__AxuInverter__MotInv_Temp_C', 'BM1__AxuInverter__INV_Fault_Check', 'BM1__AxuInverter__Inv_IptVol_V', 'BM1__AxuInverter__Mot_PRE_Sensor', 'BM1__AxuInverter__Mot_CtrMod'}\n",
            "2: {'BM1__BMS10__CR_Bms_BulkSOC', 'BM1__BMS10__CR_Bms_FullSOC', 'BM1__BMS10__CR_Bms_EVTargetCurrent', 'BM1__BMS10__CR_Bms_EVTargetVolt', 'BM1__BMS11__CR_Bms_BatTotV_V', 'BM1__BMS10__CR_Bms_EvEnergyCapa'}\n",
            "3: {'CCAN__EBC1__EngRetarderSelection', 'CCAN__EBC1__EBSBrakeSwitch', 'CCAN__EBC1__BrakePedalPos', 'CCAN__HRW__RearAxleRightWheelSpeed', 'CCAN__HRW__RearAxleLeftWheelSpeed'}\n",
            "4: {'BM1__MCU_R1__MotoringTorqueUpperLimit', 'BM1__DM1_MCU_L__RedStopLampState_MCU_L_B', 'BM1__MCU_L2__ActualMotorRotationSpeed', 'BM1__DM1_MCU_L__FlashMalfuncIndicatorLamp_MCU_L_B', 'BM1__DM1_MCU_L__MalfunctionIndicatorLampStatus_MCU_L_B', 'BM1__MCU_R2__ActualMotorRotationSpeed', 'BM1__MCU_R2__InverterControllerReady', 'BM1__DM1_MCU_L__FlashProtectLamp_MCU_L_B', 'BM1__MCU_L3__MCUFaultCode', 'BM1__MCU_R2__SeviceLampRequestofMCU', 'BM1__MCU_L2__FaultFlagofMCU', 'BM1__DM1_MCU_L__DTC4_MCU_L_B', 'BM1__MCU_R1__GeneratingTorqueUpperLimit', 'BM1__DM1_MCU_R__FlashProtectLamp_MCU_R_B', 'BM1__MCU_L1__MotorTemperature1', 'BM1__MCU_L2__SeviceLampRequestofMCU', 'BM1__MCU_R2__MILRequestofMCU', 'BM1__MCU_L2__MotorControllable', 'BM1__DM1_MCU_R__DTC1_MCU_R_B', 'BM1__MCU_R2__EstimatedMotorTorque', 'BM1__DM1_MCU_R__MalfunctionIndicatorLampStatus_MCU_R_B', 'BM1__MCU_R3__MCUWarningCode', 'BM1__DM1_MCU_R__DTC2_MCU_R_B', 'BM1__MCU_R2__MainRelayCutoffRequest', 'BM1__MCU_L2__EstimatedMotorTorque', 'BM1__MCU_R2__IG_Voltage', 'BM1__MCU_L2__MILRequestofMCU', 'BM1__MCU_R1__MotorTemperature2', 'BM1__DM1_MCU_R__RedStopLampState_MCU_R_B', 'BM1__DM1_MCU_L__DTC1_MCU_L_B', 'BM1__MCU_L1__MCUInveterTemperature', 'BM1__MCU_L3__MCUWarningCode', 'BM1__DM1_MCU_R__DTC4_MCU_R_B', 'BM1__DM1_MCU_R__FlashRedStopLamp_MCU_R_B', 'BM1__MCU_R1__DeratingRatio', 'BM1__MCU_R2__MotorControlState', 'BM1__DM1_MCU_L__FlashRedStopLamp_MCU_L_B', 'BM1__MCU_L2__IG_Voltage', 'BM1__MCU_L1__DeratingRatio', 'BM1__MCU_R2__FaultFlagofMCU', 'BM1__MCU_R2__MotorControllable', 'BM1__MCU_R1__MCUInveterTemperature', 'BM1__DM1_MCU_R__FlashMalfuncIndicatorLamp_MCU_R_B', 'BM1__DM1_MCU_R__FlashAmberWarningLamp_MCU_R_B', 'BM1__MCU_L1__InverterInputPower', 'BM1__MCU_L2__MainRelayCutoffRequest', 'BM1__DM1_MCU_R__AmberWarningLampStatus_MCU_R_B', 'BM1__MCU_R1__MotorTemperature1', 'BM1__MCU_R2__InverterInputVoltage', 'BM1__DM1_MCU_L__AmberWarningLampStatus_MCU_L_B', 'BM1__MCU_L2__InverterInputVoltage', 'BM1__DM1_MCU_L__ProtectLampStatus_MCU_L_B', 'BM1__MCU_L1__GeneratingTorqueUpperLimit', 'BM1__MCU_L1__MotoringTorqueUpperLimit', 'BM1__DM1_MCU_R__ProtectLampStatus_MCU_R_B', 'BM1__DM1_MCU_R__DTC3_MCU_R_B', 'BM1__MCU_R1__InverterInputPower', 'BM1__DM1_MCU_L__FlashAmberWarningLamp_MCU_L_B', 'BM1__MCU_L2__MotorControlState', 'BM1__MCU_L1__MotorTemperature2', 'BM1__DM1_MCU_L__DTC2_MCU_L_B', 'BM1__MCU_L2__WarningFlagofMCU', 'BM1__MCU_R2__WarningFlagofMCU', 'BM1__MCU_L2__InverterControllerReady', 'BM1__DM1_MCU_L__DTC3_MCU_L_B', 'BM1__MCU_R3__MCUFaultCode'}\n",
            "5: {'CCAN__VCU_CLUINF3__CR_VCU_InvLHTemp', 'CCAN__VCU_EFD__CR_VCU_EVCoolantRadTemp', 'CCAN__EMRC1__CR_Vcu_Em1ActMaxAvailRtdTq', 'CCAN__EMRC1__CR_Vcu_Em1ActPerTorq', 'CCAN__VCU_CLUINF3__CR_VCU_V_BAT', 'CCAN__EEC2__CR_VCU_AccelPedPos', 'CCAN__VCU_CLUINF3__CR_VCU_Batt_Inlet_Temp', 'CCAN__VCU_CLUINF3__CR_VCU_InvRHTemp', 'CCAN__EMRC1__CR_Vcu_Em1RtdPerTorq', 'CCAN__ETC2__CR_VCU_SelGear', 'CCAN__VCU_CLUINF1__CF_VCU_MotorOverTemp', 'CCAN__VCU_CLUINF3__CR_VCU_MotorLH_Temp', 'CCAN__VCU_CLUINF3__CR_VCU_MotorRH_Temp', 'CCAN__EMRC1__CR_Vcu_Em1RtdSelect', 'CCAN__VCU_EFD__CR_VCU_EVCoolantAuxTemp', 'CCAN__VCU_M2__CR_VCU_DriverDmdTq', 'CCAN__EEC1__CR_VCU_EngineSpd', 'CCAN__VCU_CLUINF1__CR_VCU_CoolantTemp', 'CCAN__ETC1__CR_VCU_ShiftInProcess', 'CCAN__ETC2__CR_VCU_TransCurrentGear', 'CCAN__ETC1__CR_VCU_DrivelineEng', 'CCAN__VCU_CLUINF1__CF_VCU_VCUFault', 'CCAN__ETC2__CR_VCU_TrasmCurRange', 'CCAN__EMRC1__CR_Vcu_Em1CtrlDevice', 'CCAN__VCU_EFD__CR_VCU_EVCoolantMotTemp', 'CCAN__ETC1__CR_VCU_OutputShaftSpd', 'CCAN__EMRC1__CR_Vcu_Em1ActPctTqHiRes', 'CCAN__EMRC1__CR_Vcu_Em1TorqMode', 'CCAN__ETC1__CR_VCU_InputShaftSpd', 'CCAN__VCU_CLUINF2__CR_VCU_SOC', 'CCAN__VCU_CLUINF3__CR_VCU_T_Cell_Avr', 'CCAN__VCU_CLUINF1__CF_VCU_MCUInverterFault', 'CCAN__ETC2__CR_VCU_TrasmReqRange', 'CCAN__EMRC1__CR_Vcu_Em1MotOutShaftSpd', 'CCAN__EEC2__CR_VCU_AccelPedPos2', 'CCAN__VCU_CLUINF1__CR_VCU_MotorPower_Per', 'CCAN__VCU_M2__CR_VCU_ActDmdTq'}\n"
          ],
          "name": "stdout"
        }
      ]
    },
    {
      "cell_type": "code",
      "metadata": {
        "colab": {
          "base_uri": "https://localhost:8080/"
        },
        "id": "YEf8fyevjHTS",
        "outputId": "ca76fe54-e89e-4dbc-e92f-1af5daaacf6a"
      },
      "source": [
        "print('1:',len(set(sig1)&set(sig2)))\n",
        "print('2:',len(set(sig1)&set(sig3)))\n",
        "print('3:',len(set(sig1)&set(sig4)))\n",
        "print('4:',len(set(sig1)&set(sig5)))\n",
        "print('5:',len(set(sig1)&set(sig6)))"
      ],
      "execution_count": null,
      "outputs": [
        {
          "output_type": "stream",
          "text": [
            "1: 13\n",
            "2: 6\n",
            "3: 5\n",
            "4: 66\n",
            "5: 37\n"
          ],
          "name": "stdout"
        }
      ]
    },
    {
      "cell_type": "code",
      "metadata": {
        "colab": {
          "base_uri": "https://localhost:8080/"
        },
        "id": "tQ6SiC79jY_h",
        "outputId": "1be4272a-e5a0-4d44-f018-cba23dd34a7b"
      },
      "source": [
        "13+6+5+66+37 \n",
        "# 휠모터고장연관채널 sheet는 각 sheet별로 고장에 제일 연관되어 보이는 것들만 뽑아 놓은 것"
      ],
      "execution_count": null,
      "outputs": [
        {
          "output_type": "execute_result",
          "data": {
            "text/plain": [
              "127"
            ]
          },
          "metadata": {
            "tags": []
          },
          "execution_count": 545
        }
      ]
    },
    {
      "cell_type": "markdown",
      "metadata": {
        "id": "J74CK6RimSOe"
      },
      "source": [
        "### 해당 채널 탐색"
      ]
    },
    {
      "cell_type": "code",
      "metadata": {
        "colab": {
          "base_uri": "https://localhost:8080/"
        },
        "id": "yxuM8Ju2jfZU",
        "outputId": "7952b722-fa15-4c40-c465-bcbe07bad59d"
      },
      "source": [
        "final_set = set(sig1)|set(sig2)|set(sig3)|set(sig4)|set(sig5)|set(sig6)\n",
        "final_name = list(final_set)\n",
        "final_name[:5] # 선정된 채널 이름들"
      ],
      "execution_count": null,
      "outputs": [
        {
          "output_type": "execute_result",
          "data": {
            "text/plain": [
              "['BM1__BMS_M1_CellVol__Cell_Vol3_Index',\n",
              " 'BM1__BMS_S1_2__CR_Bms_BatI_A',\n",
              " 'BM1__BMS4__CF_BMS_FltForCCM',\n",
              " 'CCAN__RQST_VCU__CR_VCU_ReqPGN',\n",
              " 'BM1__BMS9__CF_Bms_RlyWeldDetectionReq']"
            ]
          },
          "metadata": {
            "tags": []
          },
          "execution_count": 12
        }
      ]
    },
    {
      "cell_type": "markdown",
      "metadata": {
        "id": "Jf10Lu5DmuIw"
      },
      "source": [
        "* 15일 mat file 탐색"
      ]
    },
    {
      "cell_type": "code",
      "metadata": {
        "id": "hzry3HOolLlF"
      },
      "source": [
        "set(test.columns)&final_set # 15일 파일중 해당하는 채널은 1개"
      ],
      "execution_count": null,
      "outputs": []
    },
    {
      "cell_type": "code",
      "metadata": {
        "colab": {
          "base_uri": "https://localhost:8080/"
        },
        "id": "t3xxcyLvltye",
        "outputId": "f776db1e-ee21-400c-ffb8-9552ecc49ba5"
      },
      "source": [
        "test['CCAN__XBR1__CR_VCU_XBRUrgency'].iloc[0][0][0]"
      ],
      "execution_count": null,
      "outputs": [
        {
          "output_type": "execute_result",
          "data": {
            "text/plain": [
              "240.1399"
            ]
          },
          "metadata": {
            "tags": []
          },
          "execution_count": 18
        }
      ]
    },
    {
      "cell_type": "code",
      "metadata": {
        "colab": {
          "base_uri": "https://localhost:8080/"
        },
        "id": "jpHVDkSwP8Oi",
        "outputId": "270d5264-ea19-4105-a08d-af3ca7db2322"
      },
      "source": [
        "test[test.columns[0]][0][0]"
      ],
      "execution_count": null,
      "outputs": [
        {
          "output_type": "execute_result",
          "data": {
            "text/plain": [
              "array([2.40131550e+02, 2.01211479e-01])"
            ]
          },
          "metadata": {
            "tags": []
          },
          "execution_count": 33
        }
      ]
    },
    {
      "cell_type": "code",
      "metadata": {
        "colab": {
          "base_uri": "https://localhost:8080/"
        },
        "id": "3aDwyT8vQVt4",
        "outputId": "cb4db048-971f-4d11-e7be-8e46661c0eea"
      },
      "source": [
        "test[test.columns[0]][0]"
      ],
      "execution_count": null,
      "outputs": [
        {
          "output_type": "execute_result",
          "data": {
            "text/plain": [
              "array([[2.40131550e+02, 2.01211479e-01],\n",
              "       [2.40141650e+02, 2.01211479e-01],\n",
              "       [2.40151550e+02, 2.01211479e-01],\n",
              "       ...,\n",
              "       [3.01458350e+02, 8.98832970e-02],\n",
              "       [3.01468350e+02, 8.98832970e-02],\n",
              "       [3.01478350e+02, 8.98832970e-02]])"
            ]
          },
          "metadata": {
            "tags": []
          },
          "execution_count": 34
        }
      ]
    },
    {
      "cell_type": "code",
      "metadata": {
        "colab": {
          "base_uri": "https://localhost:8080/"
        },
        "id": "_6XK-MmaSSfi",
        "outputId": "ab16f387-6178-46a9-b96d-39018ddc9722"
      },
      "source": [
        "test.iloc[:,np.argmin(col_len)][0]"
      ],
      "execution_count": null,
      "outputs": [
        {
          "output_type": "execute_result",
          "data": {
            "text/plain": [
              "array([], shape=(0, 2), dtype=float64)"
            ]
          },
          "metadata": {
            "tags": []
          },
          "execution_count": 60
        }
      ]
    },
    {
      "cell_type": "code",
      "metadata": {
        "colab": {
          "base_uri": "https://localhost:8080/"
        },
        "id": "-cYkr8muRSXq",
        "outputId": "ecff080e-cce3-4e29-d2ce-1c586622fdd5"
      },
      "source": [
        "test.iloc[:,np.argmax(col_len)][0]"
      ],
      "execution_count": null,
      "outputs": [
        {
          "output_type": "execute_result",
          "data": {
            "text/plain": [
              "array([[240.1402 ,   0.     ],\n",
              "       [240.1497 ,   0.     ],\n",
              "       [240.1597 ,   0.     ],\n",
              "       ...,\n",
              "       [301.4632 ,   0.     ],\n",
              "       [301.4732 ,   0.     ],\n",
              "       [301.48315,   0.     ]])"
            ]
          },
          "metadata": {
            "tags": []
          },
          "execution_count": 47
        }
      ]
    },
    {
      "cell_type": "code",
      "metadata": {
        "colab": {
          "base_uri": "https://localhost:8080/"
        },
        "id": "jnEKiXVYQ7aF",
        "outputId": "cf83ade7-b5c1-4d48-d77c-c5f5234dc44d"
      },
      "source": [
        "test['CCAN__VDC2_EBS__SteerWheelAngleSensorType'].iloc[0]"
      ],
      "execution_count": null,
      "outputs": [
        {
          "output_type": "execute_result",
          "data": {
            "text/plain": [
              "array([[240.13155,   3.     ],\n",
              "       [240.14165,   3.     ],\n",
              "       [240.15155,   3.     ],\n",
              "       ...,\n",
              "       [301.45835,   3.     ],\n",
              "       [301.46835,   3.     ],\n",
              "       [301.47835,   3.     ]])"
            ]
          },
          "metadata": {
            "tags": []
          },
          "execution_count": 54
        }
      ]
    },
    {
      "cell_type": "markdown",
      "metadata": {
        "id": "udWQyridmqE1"
      },
      "source": [
        "* 14일 mat file 탐색"
      ]
    },
    {
      "cell_type": "code",
      "metadata": {
        "id": "9v5MLDvlm0Q7"
      },
      "source": [
        "def main_search(n):\n",
        "  path_dir = '/content/gdrive/MyDrive/DATA/고장코드 有_변환 후/45.동남_1643_200928_P1F2086'\n",
        "  file_list = os.listdir(path_dir)\n",
        "  matfile14=[]\n",
        "  date = file_list[n]\n",
        "  dist = path_dir+'/'+date # file_list 1~6까진 분할파일에서 얻어야 함 (file size때문)\n",
        "  matfile14.append(io.loadmat(dist)) # 14일 21 19 13\n",
        "  feature_name = [] \n",
        "  global main_test\n",
        "  main_test = pd.DataFrame(matfile14)\n",
        "  col_len=[]\n",
        "  for i in range(len(main_test.T)):\n",
        "    col_len.append(len(main_test.iloc[0,i]))\n",
        "  global max_timelen_file\n",
        "  max_timelen_file = []  \n",
        "  max_timelen_file.append(main_test.iloc[:,np.argmax(col_len)].iloc[0]) # 해당 일자 data중 최대 길이 시간 길이인 채널 따로 저장\n",
        "  selected_chan = set(main_test.columns)&final_set # 해당 파일중 선정된 채널에 해당하는 것 (column 교집합)\n",
        "  print(dist) # 파일 주소 출력\n",
        "  print(len(pd.DataFrame(matfile14).T)) # 데이터프레임 길이(채널 갯수)\n",
        "  print(date)   # 날짜 표시\n",
        "  print(max(col_len)) # 채널 중 최대 시간 길이\n",
        "  print(len(selected_chan)) # 해당 채널의 총 길이\n",
        "  global selected_df\n",
        "  selected_df = main_test[selected_chan]"
      ],
      "execution_count": null,
      "outputs": []
    },
    {
      "cell_type": "code",
      "metadata": {
        "id": "Ex1mMYLqRMAX"
      },
      "source": [
        "def wheel_search(n):\n",
        "  path_dir = '/content/gdrive/MyDrive/DATA/고장코드 有_변환 후/27.진해_6033_200115_P1F0166,0066'\n",
        "  file_list = os.listdir(path_dir)\n",
        "  matfile14=[]\n",
        "  date = file_list[n]\n",
        "  dist = path_dir+'/'+date # file_list 1~6까진 분할파일에서 얻어야 함 (file size때문)\n",
        "  matfile14.append(io.loadmat(dist)) # 14일 21 19 13\n",
        "  global wheel_test\n",
        "  wheel_test = pd.DataFrame(matfile14)\n",
        "  col_len=[]\n",
        "  for i in range(len(wheel_test.T)):\n",
        "    col_len.append(len(wheel_test.iloc[0,i]))\n",
        "  global max_timelen_file2\n",
        "  max_timelen_file2 = []  \n",
        "  max_timelen_file2.append(wheel_test.iloc[:,np.argmax(col_len)].iloc[0]) # 해당 일자 data중 최대 길이 시간 길이인 채널 따로 저장\n",
        "  selected_chan = set(wheel_test.columns)&set(sig1) # 해당 파일중 wheel모터 고장 채널과의 교집합 \n",
        "  print(dist) # 파일 주소 출력\n",
        "  print(len(pd.DataFrame(matfile14).T)) # 데이터프레임 길이(채널 갯수)\n",
        "  print(date)   # 날짜 표시\n",
        "  print(max(col_len)) # 채널 중 최대 시간 길이\n",
        "  print(len(selected_chan)) # 해당 채널의 총 길이\n",
        "  global wheel_df\n",
        "  wheel_df = wheel_test[selected_chan].T\n",
        "  return wheel_df"
      ],
      "execution_count": null,
      "outputs": []
    },
    {
      "cell_type": "code",
      "metadata": {
        "colab": {
          "base_uri": "https://localhost:8080/"
        },
        "id": "5xaKKxk0Xlrs",
        "outputId": "5f3ee91a-bd74-4f94-a8e8-ddd6f6bf38ca"
      },
      "source": [
        "# hi_1 = set(wheel_search(0).T.columns)\n",
        "# hi_2 = set(wheel_search(11).T.columns)\n",
        "# hi_1&hi_2"
      ],
      "execution_count": null,
      "outputs": [
        {
          "output_type": "stream",
          "text": [
            "/content/gdrive/MyDrive/DATA/고장코드 有_변환 후/27.진해_6033_200115_P1F0166,0066/분할/진해_6033_20200114191610_1.mat\n",
            "631\n",
            "진해_6033_20200114191610_1.mat\n",
            "709706\n",
            "43\n"
          ],
          "name": "stdout"
        }
      ]
    },
    {
      "cell_type": "code",
      "metadata": {
        "colab": {
          "base_uri": "https://localhost:8080/",
          "height": 1000
        },
        "id": "a7zALB6rgGN6",
        "outputId": "ecdb6bc6-dc95-4f48-fa23-410f910c1455"
      },
      "source": [
        "wheel_search(8)"
      ],
      "execution_count": null,
      "outputs": [
        {
          "output_type": "stream",
          "text": [
            "/content/gdrive/MyDrive/DATA/고장코드 有_변환 후/27.진해_6033_200115_P1F0166,0066/진해_6033_20200115044101.mat\n",
            "609\n",
            "진해_6033_20200115044101.mat\n",
            "1484\n",
            "32\n"
          ],
          "name": "stdout"
        },
        {
          "output_type": "execute_result",
          "data": {
            "text/html": [
              "<div>\n",
              "<style scoped>\n",
              "    .dataframe tbody tr th:only-of-type {\n",
              "        vertical-align: middle;\n",
              "    }\n",
              "\n",
              "    .dataframe tbody tr th {\n",
              "        vertical-align: top;\n",
              "    }\n",
              "\n",
              "    .dataframe thead th {\n",
              "        text-align: right;\n",
              "    }\n",
              "</style>\n",
              "<table border=\"1\" class=\"dataframe\">\n",
              "  <thead>\n",
              "    <tr style=\"text-align: right;\">\n",
              "      <th></th>\n",
              "      <th>0</th>\n",
              "    </tr>\n",
              "  </thead>\n",
              "  <tbody>\n",
              "    <tr>\n",
              "      <th>CCAN__EMRC1__CR_Vcu_Em1ActMaxAvailRtdTq</th>\n",
              "      <td>[[240.45275, 0.0], [240.46365, 0.0], [240.4727...</td>\n",
              "    </tr>\n",
              "    <tr>\n",
              "      <th>CCAN__EMRC1__CR_Vcu_Em1ActPerTorq</th>\n",
              "      <td>[[240.45275, 0.0], [240.46365, 0.0], [240.4727...</td>\n",
              "    </tr>\n",
              "    <tr>\n",
              "      <th>CCAN__EEC2__CR_VCU_AccelPedPos</th>\n",
              "      <td>[[240.46275, 0.0], [240.48265, 0.0], [240.5027...</td>\n",
              "    </tr>\n",
              "    <tr>\n",
              "      <th>CCAN__EMRC1__CR_Vcu_Em1RtdPerTorq</th>\n",
              "      <td>[[240.45275, 0.0], [240.46365, 0.0], [240.4727...</td>\n",
              "    </tr>\n",
              "    <tr>\n",
              "      <th>CCAN__ETC2__CR_VCU_SelGear</th>\n",
              "      <td>[[240.54365, 0.0], [240.64365, 0.0], [240.7436...</td>\n",
              "    </tr>\n",
              "    <tr>\n",
              "      <th>CCAN__VCU_CLUINF1__CF_VCU_MotorOverTemp</th>\n",
              "      <td>[[240.5451, 0.0], [240.6451, 0.0]]</td>\n",
              "    </tr>\n",
              "    <tr>\n",
              "      <th>BM1__BMS10__CR_Bms_EVTargetVolt</th>\n",
              "      <td>[[241.20325, 0.0], [241.30325, 0.0], [241.4032...</td>\n",
              "    </tr>\n",
              "    <tr>\n",
              "      <th>CCAN__EMRC1__CR_Vcu_Em1RtdSelect</th>\n",
              "      <td>[[240.45275, 0.0], [240.46365, 0.0], [240.4727...</td>\n",
              "    </tr>\n",
              "    <tr>\n",
              "      <th>BM1__BMS10__CR_Bms_EvEnergyCapa</th>\n",
              "      <td>[[241.20325, 64000.0], [241.30325, 64000.0], [...</td>\n",
              "    </tr>\n",
              "    <tr>\n",
              "      <th>CCAN__VCU_M2__CR_VCU_DriverDmdTq</th>\n",
              "      <td>[[240.45305, 0.0], [240.46395, 0.0], [240.4730...</td>\n",
              "    </tr>\n",
              "    <tr>\n",
              "      <th>CCAN__EEC1__CR_VCU_EngineSpd</th>\n",
              "      <td>[[240.4522, 0.0], [240.4622, 0.0], [240.4722, ...</td>\n",
              "    </tr>\n",
              "    <tr>\n",
              "      <th>CCAN__VCU_CLUINF1__CR_VCU_CoolantTemp</th>\n",
              "      <td>[[240.5451, 0.0], [240.6451, 0.0]]</td>\n",
              "    </tr>\n",
              "    <tr>\n",
              "      <th>CCAN__ETC1__CR_VCU_ShiftInProcess</th>\n",
              "      <td>[[240.4519, 0.0], [240.4619, 0.0], [240.4719, ...</td>\n",
              "    </tr>\n",
              "    <tr>\n",
              "      <th>CCAN__ETC2__CR_VCU_TransCurrentGear</th>\n",
              "      <td>[[240.54365, 0.0], [240.64365, 0.0], [240.7436...</td>\n",
              "    </tr>\n",
              "    <tr>\n",
              "      <th>CCAN__ETC1__CR_VCU_DrivelineEng</th>\n",
              "      <td>[[240.4519, 0.0], [240.4619, 0.0], [240.4719, ...</td>\n",
              "    </tr>\n",
              "    <tr>\n",
              "      <th>BM1__BMS10__CR_Bms_FullSOC</th>\n",
              "      <td>[[241.20325, 0.0], [241.30325, 0.0], [241.4032...</td>\n",
              "    </tr>\n",
              "    <tr>\n",
              "      <th>CCAN__VCU_CLUINF1__CF_VCU_VCUFault</th>\n",
              "      <td>[[240.5451, 0.0], [240.6451, 0.0]]</td>\n",
              "    </tr>\n",
              "    <tr>\n",
              "      <th>BM1__BMS11__CR_Bms_BatTotV_V</th>\n",
              "      <td>[[241.2035, 0.0], [241.3035, 0.0], [241.40345,...</td>\n",
              "    </tr>\n",
              "    <tr>\n",
              "      <th>CCAN__ETC2__CR_VCU_TrasmCurRange</th>\n",
              "      <td>[[240.54365, 78.0], [240.64365, 78.0], [240.74...</td>\n",
              "    </tr>\n",
              "    <tr>\n",
              "      <th>CCAN__EMRC1__CR_Vcu_Em1CtrlDevice</th>\n",
              "      <td>[[240.45275, 239.0], [240.46365, 239.0], [240....</td>\n",
              "    </tr>\n",
              "    <tr>\n",
              "      <th>CCAN__ETC1__CR_VCU_OutputShaftSpd</th>\n",
              "      <td>[[240.4519, 0.0], [240.4619, 0.0], [240.4719, ...</td>\n",
              "    </tr>\n",
              "    <tr>\n",
              "      <th>CCAN__EMRC1__CR_Vcu_Em1ActPctTqHiRes</th>\n",
              "      <td>[[240.45275, 0.0], [240.46365, 0.0], [240.4727...</td>\n",
              "    </tr>\n",
              "    <tr>\n",
              "      <th>CCAN__EMRC1__CR_Vcu_Em1TorqMode</th>\n",
              "      <td>[[240.45275, 14.0], [240.46365, 14.0], [240.47...</td>\n",
              "    </tr>\n",
              "    <tr>\n",
              "      <th>CCAN__ETC1__CR_VCU_InputShaftSpd</th>\n",
              "      <td>[[240.4519, 0.0], [240.4619, 0.0], [240.4719, ...</td>\n",
              "    </tr>\n",
              "    <tr>\n",
              "      <th>CCAN__VCU_CLUINF1__CF_VCU_MCUInverterFault</th>\n",
              "      <td>[[240.5451, 0.0], [240.6451, 0.0]]</td>\n",
              "    </tr>\n",
              "    <tr>\n",
              "      <th>BM1__BMS10__CR_Bms_BulkSOC</th>\n",
              "      <td>[[241.20325, 154.0], [241.30325, 154.0], [241....</td>\n",
              "    </tr>\n",
              "    <tr>\n",
              "      <th>BM1__BMS10__CR_Bms_EVTargetCurrent</th>\n",
              "      <td>[[241.20325, 0.0], [241.30325, 0.0], [241.4032...</td>\n",
              "    </tr>\n",
              "    <tr>\n",
              "      <th>CCAN__ETC2__CR_VCU_TrasmReqRange</th>\n",
              "      <td>[[240.54365, 78.0], [240.64365, 78.0], [240.74...</td>\n",
              "    </tr>\n",
              "    <tr>\n",
              "      <th>CCAN__EMRC1__CR_Vcu_Em1MotOutShaftSpd</th>\n",
              "      <td>[[240.45275, 0.0], [240.46365, 0.0], [240.4727...</td>\n",
              "    </tr>\n",
              "    <tr>\n",
              "      <th>CCAN__EEC2__CR_VCU_AccelPedPos2</th>\n",
              "      <td>[[240.46275, 0.0], [240.48265, 0.0], [240.5027...</td>\n",
              "    </tr>\n",
              "    <tr>\n",
              "      <th>CCAN__VCU_CLUINF1__CR_VCU_MotorPower_Per</th>\n",
              "      <td>[[240.5451, 0.0], [240.6451, 0.0]]</td>\n",
              "    </tr>\n",
              "    <tr>\n",
              "      <th>CCAN__VCU_M2__CR_VCU_ActDmdTq</th>\n",
              "      <td>[[240.45305, 77.0], [240.46395, 77.0], [240.47...</td>\n",
              "    </tr>\n",
              "  </tbody>\n",
              "</table>\n",
              "</div>"
            ],
            "text/plain": [
              "                                                                                            0\n",
              "CCAN__EMRC1__CR_Vcu_Em1ActMaxAvailRtdTq     [[240.45275, 0.0], [240.46365, 0.0], [240.4727...\n",
              "CCAN__EMRC1__CR_Vcu_Em1ActPerTorq           [[240.45275, 0.0], [240.46365, 0.0], [240.4727...\n",
              "CCAN__EEC2__CR_VCU_AccelPedPos              [[240.46275, 0.0], [240.48265, 0.0], [240.5027...\n",
              "CCAN__EMRC1__CR_Vcu_Em1RtdPerTorq           [[240.45275, 0.0], [240.46365, 0.0], [240.4727...\n",
              "CCAN__ETC2__CR_VCU_SelGear                  [[240.54365, 0.0], [240.64365, 0.0], [240.7436...\n",
              "CCAN__VCU_CLUINF1__CF_VCU_MotorOverTemp                    [[240.5451, 0.0], [240.6451, 0.0]]\n",
              "BM1__BMS10__CR_Bms_EVTargetVolt             [[241.20325, 0.0], [241.30325, 0.0], [241.4032...\n",
              "CCAN__EMRC1__CR_Vcu_Em1RtdSelect            [[240.45275, 0.0], [240.46365, 0.0], [240.4727...\n",
              "BM1__BMS10__CR_Bms_EvEnergyCapa             [[241.20325, 64000.0], [241.30325, 64000.0], [...\n",
              "CCAN__VCU_M2__CR_VCU_DriverDmdTq            [[240.45305, 0.0], [240.46395, 0.0], [240.4730...\n",
              "CCAN__EEC1__CR_VCU_EngineSpd                [[240.4522, 0.0], [240.4622, 0.0], [240.4722, ...\n",
              "CCAN__VCU_CLUINF1__CR_VCU_CoolantTemp                      [[240.5451, 0.0], [240.6451, 0.0]]\n",
              "CCAN__ETC1__CR_VCU_ShiftInProcess           [[240.4519, 0.0], [240.4619, 0.0], [240.4719, ...\n",
              "CCAN__ETC2__CR_VCU_TransCurrentGear         [[240.54365, 0.0], [240.64365, 0.0], [240.7436...\n",
              "CCAN__ETC1__CR_VCU_DrivelineEng             [[240.4519, 0.0], [240.4619, 0.0], [240.4719, ...\n",
              "BM1__BMS10__CR_Bms_FullSOC                  [[241.20325, 0.0], [241.30325, 0.0], [241.4032...\n",
              "CCAN__VCU_CLUINF1__CF_VCU_VCUFault                         [[240.5451, 0.0], [240.6451, 0.0]]\n",
              "BM1__BMS11__CR_Bms_BatTotV_V                [[241.2035, 0.0], [241.3035, 0.0], [241.40345,...\n",
              "CCAN__ETC2__CR_VCU_TrasmCurRange            [[240.54365, 78.0], [240.64365, 78.0], [240.74...\n",
              "CCAN__EMRC1__CR_Vcu_Em1CtrlDevice           [[240.45275, 239.0], [240.46365, 239.0], [240....\n",
              "CCAN__ETC1__CR_VCU_OutputShaftSpd           [[240.4519, 0.0], [240.4619, 0.0], [240.4719, ...\n",
              "CCAN__EMRC1__CR_Vcu_Em1ActPctTqHiRes        [[240.45275, 0.0], [240.46365, 0.0], [240.4727...\n",
              "CCAN__EMRC1__CR_Vcu_Em1TorqMode             [[240.45275, 14.0], [240.46365, 14.0], [240.47...\n",
              "CCAN__ETC1__CR_VCU_InputShaftSpd            [[240.4519, 0.0], [240.4619, 0.0], [240.4719, ...\n",
              "CCAN__VCU_CLUINF1__CF_VCU_MCUInverterFault                 [[240.5451, 0.0], [240.6451, 0.0]]\n",
              "BM1__BMS10__CR_Bms_BulkSOC                  [[241.20325, 154.0], [241.30325, 154.0], [241....\n",
              "BM1__BMS10__CR_Bms_EVTargetCurrent          [[241.20325, 0.0], [241.30325, 0.0], [241.4032...\n",
              "CCAN__ETC2__CR_VCU_TrasmReqRange            [[240.54365, 78.0], [240.64365, 78.0], [240.74...\n",
              "CCAN__EMRC1__CR_Vcu_Em1MotOutShaftSpd       [[240.45275, 0.0], [240.46365, 0.0], [240.4727...\n",
              "CCAN__EEC2__CR_VCU_AccelPedPos2             [[240.46275, 0.0], [240.48265, 0.0], [240.5027...\n",
              "CCAN__VCU_CLUINF1__CR_VCU_MotorPower_Per                   [[240.5451, 0.0], [240.6451, 0.0]]\n",
              "CCAN__VCU_M2__CR_VCU_ActDmdTq               [[240.45305, 77.0], [240.46395, 77.0], [240.47..."
            ]
          },
          "metadata": {
            "tags": []
          },
          "execution_count": 54
        }
      ]
    },
    {
      "cell_type": "code",
      "metadata": {
        "colab": {
          "base_uri": "https://localhost:8080/"
        },
        "id": "qb7-w02kUoUD",
        "outputId": "c89a82a1-51c3-4919-8cdf-00a2753d607f"
      },
      "source": [
        "wheel_search(2).to_excel(excel_writer='Daejin_wheel.xlsx') # 최소갯수 추출"
      ],
      "execution_count": null,
      "outputs": [
        {
          "output_type": "stream",
          "text": [
            "/content/gdrive/MyDrive/DATA/고장코드 有_변환 후/41.대진_1872_200803_P1F2806/대진_1872_20200803092814.mat\n",
            "521\n",
            "대진_1872_20200803092814.mat\n",
            "63\n",
            "6\n"
          ],
          "name": "stdout"
        }
      ]
    },
    {
      "cell_type": "code",
      "metadata": {
        "colab": {
          "base_uri": "https://localhost:8080/"
        },
        "id": "oW5MfZbXm0NQ",
        "outputId": "115fd7fb-370c-41dd-d72f-e3e22a415e18"
      },
      "source": [
        "main_search(7) # 함수 주소의 해당 폴더 n번째 파일"
      ],
      "execution_count": null,
      "outputs": [
        {
          "output_type": "stream",
          "text": [
            "/content/gdrive/MyDrive/DATA/고장코드 有_변환 후/45.동남_1643_200928_P1F2086/동남_1643_20200928164616.mat\n",
            "1184\n",
            "동남_1643_20200928164616.mat\n",
            "23343\n",
            "668\n"
          ],
          "name": "stdout"
        }
      ]
    },
    {
      "cell_type": "code",
      "metadata": {
        "colab": {
          "base_uri": "https://localhost:8080/"
        },
        "id": "cIv9IAy6MLMn",
        "outputId": "0a72cd9c-a3b5-4f82-a3d5-1e8abd8b09a3"
      },
      "source": [
        "max_timelen_file[0][0],max_timelen_file[0][-1]"
      ],
      "execution_count": null,
      "outputs": [
        {
          "output_type": "execute_result",
          "data": {
            "text/plain": [
              "(array([240.11185,   0.     ]), array([301.7644,   0.    ]))"
            ]
          },
          "metadata": {
            "tags": []
          },
          "execution_count": 684
        }
      ]
    },
    {
      "cell_type": "code",
      "metadata": {
        "colab": {
          "base_uri": "https://localhost:8080/"
        },
        "id": "3nj66g5DNZHs",
        "outputId": "d636b624-86c0-4451-8a13-2df3e0ff9f5e"
      },
      "source": [
        "max_timelen_file[0]"
      ],
      "execution_count": null,
      "outputs": [
        {
          "output_type": "execute_result",
          "data": {
            "text/plain": [
              "array([[240.02275,   0.     ],\n",
              "       [240.0328 ,   0.     ],\n",
              "       [240.04285,   0.     ],\n",
              "       ...,\n",
              "       [507.67895,   0.     ],\n",
              "       [507.68895,   0.     ],\n",
              "       [507.699  ,   0.     ]])"
            ]
          },
          "metadata": {
            "tags": []
          },
          "execution_count": 687
        }
      ]
    },
    {
      "cell_type": "code",
      "metadata": {
        "id": "hYNVYOKo9EIo"
      },
      "source": [
        "# pd.DataFrame(main_test.columns).to_excel(excel_writer='sample.xlsx')"
      ],
      "execution_count": null,
      "outputs": []
    },
    {
      "cell_type": "code",
      "metadata": {
        "colab": {
          "base_uri": "https://localhost:8080/",
          "height": 140
        },
        "id": "W_YxcJvupkQc",
        "outputId": "405412d5-1370-41a7-bf3c-5db9484982d5"
      },
      "source": [
        "selected_df"
      ],
      "execution_count": null,
      "outputs": [
        {
          "output_type": "execute_result",
          "data": {
            "text/html": [
              "<div>\n",
              "<style scoped>\n",
              "    .dataframe tbody tr th:only-of-type {\n",
              "        vertical-align: middle;\n",
              "    }\n",
              "\n",
              "    .dataframe tbody tr th {\n",
              "        vertical-align: top;\n",
              "    }\n",
              "\n",
              "    .dataframe thead th {\n",
              "        text-align: right;\n",
              "    }\n",
              "</style>\n",
              "<table border=\"1\" class=\"dataframe\">\n",
              "  <thead>\n",
              "    <tr style=\"text-align: right;\">\n",
              "      <th></th>\n",
              "      <th>CCAN__TSC1_290B__EngineRequestedTorqueHiRes</th>\n",
              "      <th>BM1__BMS_M1_TEMP__BMS_TEMP_2</th>\n",
              "      <th>CCAN__VCU_M2__CR_VCU_DriverDmdTq</th>\n",
              "      <th>BM1__BMS1_M1__CR_Bms_BatChaLmt_W</th>\n",
              "      <th>BM1__BMS9__CF_Bms_BatHeatStat</th>\n",
              "      <th>BM1__BMS_M1_TEMP__BMS_TEMP_8</th>\n",
              "      <th>CCAN__VDC1_EBS__YCEngCtrlActive</th>\n",
              "      <th>BM1__CMM6_BM2__CF_CMM_DCChargingStat</th>\n",
              "      <th>CCAN__VCU_CLUINF1__CF_VCU_StartingPro</th>\n",
              "      <th>BM1__BMS_S2_3__CR_Bms_CoolStatus</th>\n",
              "      <th>BM1__BMS_S2_3__CF_Serge_Level</th>\n",
              "      <th>BM1__BMS_S2_1__CF_Bms_Wrn</th>\n",
              "      <th>BM1__VCU_BMS__CF_VCU_VehChgEn</th>\n",
              "      <th>BM1__MCU_R2__SeviceLampRequestofMCU</th>\n",
              "      <th>BM1__BMS5_M1__CR_Bms_Outlet</th>\n",
              "      <th>CCAN__EMC1_EM1__EM1_MessagChecksum</th>\n",
              "      <th>BM1__BMS_S2_1__Relay_ON_Status_Acon</th>\n",
              "      <th>BM1__BMS_S1_1__CR_Selection_BMU</th>\n",
              "      <th>BM1__BMS_S1_3__CF_Slave_LCRR_ON</th>\n",
              "      <th>CCAN__EBC1__TrctrMntdTrilerABSWarningSignal</th>\n",
              "      <th>BM1__BMS13__CR_Bms_PwmDutyCmd</th>\n",
              "      <th>BM1__VCU_MCU_L1__CR_VCU_ReqMGTorq_L</th>\n",
              "      <th>BM1__BMS3_M1__CF_Bms_Diag_Group</th>\n",
              "      <th>BM1__MCU_L3__MCUWarningCode</th>\n",
              "      <th>BM1__BMS_S2_1__CF_BMU_Slave_Decision</th>\n",
              "      <th>CCAN__EBC4_BRK__BrkLnngRmningRearAxle2LeftWheel</th>\n",
              "      <th>BM1__VCU_BMS__CF_VCU_IG3_RlyOn</th>\n",
              "      <th>BM1__BMS_M1__CF_BMU_Master_Ready</th>\n",
              "      <th>BM1__BMS_M2__CF_Master2_LCRR_Permit</th>\n",
              "      <th>BM1__DM1_MCU_R__DTC4_MCU_R_B</th>\n",
              "      <th>BM1__MCU_R2__MotorControlState</th>\n",
              "      <th>CCAN__VCU_CLUINF3__CR_VCU_V_BAT</th>\n",
              "      <th>BM1__BMS_S1_TEMP__BMS_TEMP_4</th>\n",
              "      <th>BM1__BMS_S2_3__CF_Slave_LCRR_Permit</th>\n",
              "      <th>BM1__BMS9__CF_Bms_Fail_VoltRange</th>\n",
              "      <th>BM1__BMS_S2_2__CR_Bms_BatMaxTemp_C</th>\n",
              "      <th>BM1__BMS_S2_TEMP__BMS_TEMP_7</th>\n",
              "      <th>CCAN__TSC1_000B__TransmissionRate</th>\n",
              "      <th>BM1__BMS_S1_1__CR_BMU_Type_BSW</th>\n",
              "      <th>BM1__BMS_M1_TEMP__BMS_TEMP_5</th>\n",
              "      <th>...</th>\n",
              "      <th>BM1__BMS8__CR_Bms_CCMMainsVol</th>\n",
              "      <th>BM1__AxuInverter__INV_Fault_Check</th>\n",
              "      <th>BM1__BMS_M2_CellVol__Cell_Vol4</th>\n",
              "      <th>BM1__VCU_MCU_L1__CR_VCU_MGRefTorq_L</th>\n",
              "      <th>BM1__BMS_M1_CellVol__Cell_Vol4</th>\n",
              "      <th>CCAN__EBC4_BRK__BrkLnngRmningRearAxle1LeftWheel</th>\n",
              "      <th>CCAN__EEC2_EM1__CR_Vcu_EngLoadatSpd_Per</th>\n",
              "      <th>BM1__BMS_S2_1__CF_Relay_ON_Status</th>\n",
              "      <th>BM1__BMS_S1_TEMP__BMS_TEMP_3</th>\n",
              "      <th>CCAN__EEC1__CR_VCU_EngineSpd</th>\n",
              "      <th>BM1__BMS_M2_CellVol__Cell_Vol3</th>\n",
              "      <th>CCAN__TSC1_290B__EngRqedSpeed_SpeedLimit</th>\n",
              "      <th>CCAN__TSC1_0F0B__EngineRequestedTorqueHiRes</th>\n",
              "      <th>CCAN__TSC1_100B__OverrideCtrlModePriority</th>\n",
              "      <th>BM1__BMS_S1_3__CR_CoolFANDuty</th>\n",
              "      <th>BM1__CMM6_BM2__CR_CMM_ACT_VOLTAGE</th>\n",
              "      <th>BM1__VCU_BMS__CF_VCU_Rdy_BMS</th>\n",
              "      <th>CCAN__DM1_EBS__ProtectLampStatus_EBS_C</th>\n",
              "      <th>BM1__BMS_M2_2__CR_Bms_BatI_A</th>\n",
              "      <th>CCAN__EBC1__ABSFullyOperational</th>\n",
              "      <th>BM1__VCU_MCU_L1__CR_VCU_MsgChecksum_L</th>\n",
              "      <th>CCAN__EBC4_BRK__BrkLnngRmnngRearAxle3RightWheel</th>\n",
              "      <th>BM1__DM1_BMU_M1__FlashAmberWarningLamp_BMU_M1_B</th>\n",
              "      <th>CCAN__EBC5__BrakeTempWarning</th>\n",
              "      <th>CCAN__RQST__CR_VCU_LSBReqPGN</th>\n",
              "      <th>BM1__BMS_ISOL_M1__CF_Status</th>\n",
              "      <th>BM1__DM1_AuxInv__DTC2_AuxInv_B</th>\n",
              "      <th>CCAN__EBC3__BrkAppPrssHghRngRrAxl2RghtWheel</th>\n",
              "      <th>BM1__BMS_S2_1__CF_Serge_Level</th>\n",
              "      <th>CCAN__DM1_VCU__FlashProtectLamp_VCU_B</th>\n",
              "      <th>BM1__VCU_MCU_R2__CR_VCU_GenTorqLimit_R</th>\n",
              "      <th>BM1__DM1_VCU__MalfunctionIndicatorLampStatus_VCU_B</th>\n",
              "      <th>BM1__MCU_R1__InverterInputPower</th>\n",
              "      <th>BM1__BMS_S1_1__Relay_ON_Status_Acon</th>\n",
              "      <th>CCAN__EMC1_EM1__EM1_Ovr_Ctrl_Mode_Priority_Brk</th>\n",
              "      <th>CCAN__XBR1__CR_VCU_XBRUrgency</th>\n",
              "      <th>CCAN__XBR1__CR_VCU_XBREbiMode</th>\n",
              "      <th>BM1__BMS_M2_CellVol__Cell_Vol4_Bal</th>\n",
              "      <th>BM1__BMS_S1_2__CR_Bms_BatMinCel_V</th>\n",
              "      <th>BM1__BMS9__CF_Bms_Fail_Temp</th>\n",
              "    </tr>\n",
              "  </thead>\n",
              "  <tbody>\n",
              "    <tr>\n",
              "      <th>0</th>\n",
              "      <td>[[240.0775, 1.875], [240.2775, 1.875], [240.47...</td>\n",
              "      <td>[[241.07805, 0.0], [241.17805, 0.0], [241.278,...</td>\n",
              "      <td>[[240.05115, 0.0], [240.06125, 0.0], [240.0710...</td>\n",
              "      <td>[[241.0517, 500000.0], [241.1517, 500000.0], [...</td>\n",
              "      <td>[[241.0482, 0.0], [241.1482, 0.0], [241.2482, ...</td>\n",
              "      <td>[[241.07805, 22.0], [241.17805, 0.0], [241.278...</td>\n",
              "      <td>[[240.0575, 0.0], [240.1575, 0.0], [240.2575, ...</td>\n",
              "      <td>[[241.05535, 0.0], [241.15535, 0.0], [241.2553...</td>\n",
              "      <td>[[240.1131, 0.0], [240.21305, 0.0], [240.3143,...</td>\n",
              "      <td>[[241.0643, 2.0], [241.16435, 2.0], [241.2643,...</td>\n",
              "      <td>[[241.0643, 0.0], [241.16435, 0.0], [241.2643,...</td>\n",
              "      <td>[[241.0654, 0.0], [241.16545, 0.0], [241.2654,...</td>\n",
              "      <td>[[241.01135, 1.0], [241.11135, 1.0], [241.2113...</td>\n",
              "      <td>[[240.99235, 0.0], [241.0024, 0.0], [241.01235...</td>\n",
              "      <td>[[241.05505, 23.0], [241.15505, 23.0], [241.25...</td>\n",
              "      <td>[[240.1175, 6.0], [240.2175, 1.0], [240.3175, ...</td>\n",
              "      <td>[[241.0654, 0.0], [241.16545, 0.0], [241.2654,...</td>\n",
              "      <td>[[241.066, 1.0], [241.166, 2.0], [241.266, 3.0...</td>\n",
              "      <td>[[241.06485, 0.0], [241.1649, 0.0], [241.26485...</td>\n",
              "      <td>[[240.0556, 3.0], [240.1556, 3.0], [240.2556, ...</td>\n",
              "      <td>[[241.0492, 0.0], [241.1492, 0.0], [241.2492, ...</td>\n",
              "      <td>[[240.9891, 0.0], [240.9991, 0.0], [241.0091, ...</td>\n",
              "      <td>[[241.0539, 0.0], [241.1539, 0.0], [241.2539, ...</td>\n",
              "      <td>[[241.00135, 0.0], [241.10105, 0.0], [241.2011...</td>\n",
              "      <td>[[241.0654, 1.0], [241.16545, 1.0], [241.2654,...</td>\n",
              "      <td>[[240.9663, 102.0], [241.96625, 102.0], [242.9...</td>\n",
              "      <td>[[241.01135, 0.0], [241.11135, 0.0], [241.2113...</td>\n",
              "      <td>[[241.06515, 1.0], [241.16515, 1.0], [241.2651...</td>\n",
              "      <td>[[241.06345, 0.0], [241.1635, 0.0], [241.26345...</td>\n",
              "      <td>[]</td>\n",
              "      <td>[[240.99235, 0.0], [241.0024, 0.0], [241.01235...</td>\n",
              "      <td>[[240.31485, 764.4000000000001], [240.8145, 76...</td>\n",
              "      <td>[[240.98695, 0.0], [241.08695, 0.0], [241.1869...</td>\n",
              "      <td>[[241.0643, 0.0], [241.16435, 0.0], [241.2643,...</td>\n",
              "      <td>[[241.0482, 0.0], [241.1482, 0.0], [241.2482, ...</td>\n",
              "      <td>[[241.0663, 25.0], [241.1663, 25.0], [241.2663...</td>\n",
              "      <td>[[241.0768, 21.0], [241.1768, 0.0], [241.2768,...</td>\n",
              "      <td>[[240.0515, 7.0], [240.1517, 7.0], [240.25145,...</td>\n",
              "      <td>[[241.066, 0.0], [241.166, 0.0], [241.266, 0.0...</td>\n",
              "      <td>[[241.07805, 0.0], [241.17805, 0.0], [241.278,...</td>\n",
              "      <td>...</td>\n",
              "      <td>[[241.0559, 0.0], [241.1559, 0.0], [241.2559, ...</td>\n",
              "      <td>[[241.0008, 0.0], [241.10135, 0.0], [241.2021,...</td>\n",
              "      <td>[[240.9844, 194.0], [241.00185, 194.0], [241.0...</td>\n",
              "      <td>[[240.9891, 550.0], [240.9991, 550.0], [241.00...</td>\n",
              "      <td>[[240.9976, 194.0], [241.01755, 194.0], [241.0...</td>\n",
              "      <td>[[240.9663, 74.4], [241.96625, 74.4], [242.966...</td>\n",
              "      <td>[[240.0503, 0.0], [240.0702, 0.0], [240.0902, ...</td>\n",
              "      <td>[[241.0654, 1.0], [241.16545, 1.0], [241.2654,...</td>\n",
              "      <td>[[240.98695, 24.0], [241.08695, 23.0], [241.18...</td>\n",
              "      <td>[[240.0494, 1000.0], [240.05955, 1000.0], [240...</td>\n",
              "      <td>[[240.9844, 194.0], [241.00185, 194.0], [241.0...</td>\n",
              "      <td>[[240.0775, 8191.875], [240.2775, 8191.875], [...</td>\n",
              "      <td>[[240.0975, 1.875], [240.2975, 1.875], [240.49...</td>\n",
              "      <td>[[240.0875, 3.0], [240.2875, 3.0], [240.4875, ...</td>\n",
              "      <td>[[241.06485, 75.0], [241.1649, 75.0], [241.264...</td>\n",
              "      <td>[[241.05535, 1.24], [241.15535, 1.24], [241.25...</td>\n",
              "      <td>[[241.01135, 1.0], [241.11135, 1.0], [241.2113...</td>\n",
              "      <td>[[240.2355, 0.0], [241.23545, 0.0], [242.2354,...</td>\n",
              "      <td>[[241.06405, -497.1], [241.16405, -497.2], [24...</td>\n",
              "      <td>[[240.0556, 1.0], [240.1556, 1.0], [240.2556, ...</td>\n",
              "      <td>[[240.9891, 2.0], [240.9991, 3.0], [241.0091, ...</td>\n",
              "      <td>[[240.9663, 102.0], [241.96625, 102.0], [242.9...</td>\n",
              "      <td>[[241.33565, 0.0], [242.33565, 0.0], [243.3356...</td>\n",
              "      <td>[[240.0675, 0.0], [240.16755, 0.0], [240.26755...</td>\n",
              "      <td>[[240.3106, 112.0], [242.3106, 112.0], [244.31...</td>\n",
              "      <td>[[241.0542, 0.0], [241.1542, 0.0], [241.2542, ...</td>\n",
              "      <td>[]</td>\n",
              "      <td>[[240.0598, 1270.0], [240.15985, 1270.0], [240...</td>\n",
              "      <td>[[241.0654, 0.0], [241.16545, 0.0], [241.2654,...</td>\n",
              "      <td>[[240.1506, 3.0], [241.1509, 3.0], [242.1509, ...</td>\n",
              "      <td>[[240.98995, -90.4296875], [240.99995, -90.429...</td>\n",
              "      <td>[[241.1445, 0.0], [242.14455, 0.0], [243.14465...</td>\n",
              "      <td>[[240.9921, 0.0], [241.0021, 0.0], [241.0121, ...</td>\n",
              "      <td>[[241.066, 1.0], [241.166, 1.0], [241.266, 1.0...</td>\n",
              "      <td>[[240.1175, 3.0], [240.2175, 3.0], [240.3175, ...</td>\n",
              "      <td>[[240.0497, 0.0], [240.06965, 0.0], [240.08965...</td>\n",
              "      <td>[[240.0497, 0.0], [240.06965, 0.0], [240.08965...</td>\n",
              "      <td>[[240.9844, 0.0], [241.00185, 0.0], [241.0218,...</td>\n",
              "      <td>[[241.06655, 3.88], [241.1666, 3.88], [241.266...</td>\n",
              "      <td>[[241.0482, 0.0], [241.1482, 0.0], [241.2482, ...</td>\n",
              "    </tr>\n",
              "  </tbody>\n",
              "</table>\n",
              "<p>1 rows × 730 columns</p>\n",
              "</div>"
            ],
            "text/plain": [
              "         CCAN__TSC1_290B__EngineRequestedTorqueHiRes  ...                        BM1__BMS9__CF_Bms_Fail_Temp\n",
              "0  [[240.0775, 1.875], [240.2775, 1.875], [240.47...  ...  [[241.0482, 0.0], [241.1482, 0.0], [241.2482, ...\n",
              "\n",
              "[1 rows x 730 columns]"
            ]
          },
          "metadata": {
            "tags": []
          },
          "execution_count": 593
        }
      ]
    },
    {
      "cell_type": "code",
      "metadata": {
        "colab": {
          "base_uri": "https://localhost:8080/"
        },
        "id": "WcF4S-tHnGnI",
        "outputId": "d5572934-b042-48ba-812d-a1891f3d662a"
      },
      "source": [
        "print(len(main_test['CCAN__XBR1__CR_VCU_XBRUrgency'].iloc[0])) # 해당 채널 데이터 길이\n",
        "main_test['CCAN__XBR1__CR_VCU_XBRUrgency'].iloc[0]"
      ],
      "execution_count": null,
      "outputs": [
        {
          "output_type": "stream",
          "text": [
            "223091\n"
          ],
          "name": "stdout"
        },
        {
          "output_type": "execute_result",
          "data": {
            "text/plain": [
              "array([[ 240.0497 ,    0.     ],\n",
              "       [ 240.06965,    0.     ],\n",
              "       [ 240.08965,    0.     ],\n",
              "       ...,\n",
              "       [4702.0492 ,    0.     ],\n",
              "       [4702.06925,    0.     ],\n",
              "       [4702.0892 ,    0.     ]])"
            ]
          },
          "metadata": {
            "tags": []
          },
          "execution_count": 532
        }
      ]
    },
    {
      "cell_type": "code",
      "metadata": {
        "id": "ZBBh00qOqkTt"
      },
      "source": [
        "pd.DataFrame(main_test['CCAN__XBR1__CR_VCU_XBRUrgency'].iloc[0])"
      ],
      "execution_count": null,
      "outputs": []
    },
    {
      "cell_type": "code",
      "metadata": {
        "colab": {
          "base_uri": "https://localhost:8080/"
        },
        "id": "aBtU3knCqTyK",
        "outputId": "e1598783-b8d9-48f4-c2e9-0f2c00590b79"
      },
      "source": [
        "np.unique(pd.DataFrame(main_test['CCAN__XBR1__CR_VCU_XBRUrgency'].iloc[0])[1])"
      ],
      "execution_count": null,
      "outputs": [
        {
          "output_type": "execute_result",
          "data": {
            "text/plain": [
              "array([0.])"
            ]
          },
          "metadata": {
            "tags": []
          },
          "execution_count": 402
        }
      ]
    },
    {
      "cell_type": "markdown",
      "metadata": {
        "id": "EQ1bic8UzjO1"
      },
      "source": [
        "### 무고장"
      ]
    },
    {
      "cell_type": "code",
      "metadata": {
        "id": "jIYPljzpzkk0"
      },
      "source": [
        "def main_mu(n):\n",
        "  path_dir = '/content/gdrive/MyDrive/DATA/무고장데이터_5일간/27.진해_6033_200110_200114_5일간'\n",
        "  file_list = os.listdir(path_dir)\n",
        "  matfile=[]\n",
        "  date = file_list[n]\n",
        "  dist = path_dir+'/'+date # file_list 1~6까진 분할파일에서 얻어야 함 (file size때문)\n",
        "  matfile.append(io.loadmat(dist)) #무고장\n",
        "  feature_name = [] \n",
        "  global main_mu\n",
        "  main_df = pd.DataFrame(matfile)\n",
        "  print(dist) # 파일 주소 출력\n",
        "  print(date)   # 날짜 표시\n",
        "  return main_df"
      ],
      "execution_count": null,
      "outputs": []
    },
    {
      "cell_type": "code",
      "metadata": {
        "colab": {
          "base_uri": "https://localhost:8080/",
          "height": 191
        },
        "id": "4GDlNjSSz2Ny",
        "outputId": "74f91419-c325-4f9b-e783-ab34e9a8af3e"
      },
      "source": [
        "mu_2 = main_mu(1)\n",
        "mu_2.head()"
      ],
      "execution_count": null,
      "outputs": [
        {
          "output_type": "stream",
          "text": [
            "/content/gdrive/MyDrive/DATA/무고장데이터_5일간/27.진해_6033_200110_200114_5일간/진해_6033_20200111053415.mat\n",
            "진해_6033_20200111053415.mat\n"
          ],
          "name": "stdout"
        },
        {
          "output_type": "execute_result",
          "data": {
            "text/html": [
              "<div>\n",
              "<style scoped>\n",
              "    .dataframe tbody tr th:only-of-type {\n",
              "        vertical-align: middle;\n",
              "    }\n",
              "\n",
              "    .dataframe tbody tr th {\n",
              "        vertical-align: top;\n",
              "    }\n",
              "\n",
              "    .dataframe thead th {\n",
              "        text-align: right;\n",
              "    }\n",
              "</style>\n",
              "<table border=\"1\" class=\"dataframe\">\n",
              "  <thead>\n",
              "    <tr style=\"text-align: right;\">\n",
              "      <th></th>\n",
              "      <th>CCAN__HRW__FrontAxl</th>\n",
              "      <th>CCAN__HRW__RearAxle</th>\n",
              "      <th>CCAN__SAS__Steering</th>\n",
              "      <th>CCAN__SAS__MessageC</th>\n",
              "      <th>CCAN__EMC1_EM1__EM1</th>\n",
              "      <th>CCAN__ETC1__CR_VCU_</th>\n",
              "      <th>CCAN__EEC1__CR_VCU_</th>\n",
              "      <th>CCAN__CCVS_VCU__CF_</th>\n",
              "      <th>CCAN__CCVS_VCU__CR_</th>\n",
              "      <th>CCAN__EMRC1__CR_Vcu</th>\n",
              "      <th>CCAN__VCU_M2__CR_VC</th>\n",
              "      <th>CCAN__VDC2_EBS__Ste</th>\n",
              "      <th>CCAN__VDC2_EBS__Yaw</th>\n",
              "      <th>CCAN__VDC2_EBS__Lat</th>\n",
              "      <th>CCAN__VDC2_EBS__Lon</th>\n",
              "      <th>CCAN__XBR1__CR_VCU_</th>\n",
              "      <th>CCAN__EEC2__CR_VCU_</th>\n",
              "      <th>CCAN__EEC2_EM1__CR_</th>\n",
              "      <th>CCAN__DODmsg01__C_D</th>\n",
              "      <th>CCAN__DODmsg01__C_R</th>\n",
              "      <th>CCAN__DODmsg01__C_F</th>\n",
              "      <th>CCAN__DODmsg01__C_M</th>\n",
              "      <th>CCAN__DODmsg01__C_P</th>\n",
              "      <th>CCAN__CLUmsg02__Ste</th>\n",
              "      <th>CCAN__CLUmsg02__Kin</th>\n",
              "      <th>CCAN__CLUmsg02__Ind</th>\n",
              "      <th>CCAN__CLUmsg02__Dis</th>\n",
              "      <th>CCAN__CLU_TestMsg02</th>\n",
              "      <th>CCAN__CLU_TestMsg03</th>\n",
              "      <th>CCAN__AEBS2__AEBS_S</th>\n",
              "      <th>CCAN__AEBS2__AEBS_D</th>\n",
              "      <th>CCAN__AEBS2__AEBS_C</th>\n",
              "      <th>CCAN__TSC1_000B__En</th>\n",
              "      <th>CCAN__TSC1_000B__Ov</th>\n",
              "      <th>CCAN__TSC1_000B__Tr</th>\n",
              "      <th>CCAN__TSC1_000B__Co</th>\n",
              "      <th>CCAN__TSC1_000B__Me</th>\n",
              "      <th>CCAN__EBC2__FrontAx</th>\n",
              "      <th>CCAN__EBC2__Relativ</th>\n",
              "      <th>CCAN__EBC2__Rlative</th>\n",
              "      <th>...</th>\n",
              "      <th>BM1__DM1_LDC__RedSt</th>\n",
              "      <th>BM1__DM1_LDC__Malfu</th>\n",
              "      <th>BM1__DM1_LDC__Flash</th>\n",
              "      <th>BM1__DM1_LDC__DTC1_</th>\n",
              "      <th>BM1__DM1_LDC__DTC2_</th>\n",
              "      <th>BM1__DM1_LDC__DTC3_</th>\n",
              "      <th>BM1__DM1_LDC__DTC4_</th>\n",
              "      <th>BM1__DM1_AuxInv__Pr</th>\n",
              "      <th>BM1__DM1_AuxInv__Am</th>\n",
              "      <th>BM1__DM1_AuxInv__Re</th>\n",
              "      <th>BM1__DM1_AuxInv__Ma</th>\n",
              "      <th>BM1__DM1_AuxInv__Fl</th>\n",
              "      <th>BM1__DM1_AuxInv__DT</th>\n",
              "      <th>BM1__DM1_VCU__Prote</th>\n",
              "      <th>BM1__DM1_VCU__Amber</th>\n",
              "      <th>BM1__DM1_VCU__RedSt</th>\n",
              "      <th>BM1__DM1_VCU__Malfu</th>\n",
              "      <th>BM1__DM1_VCU__Flash</th>\n",
              "      <th>BM1__DM1_VCU__DTC1_</th>\n",
              "      <th>BM1__DM1_VCU__DTC2_</th>\n",
              "      <th>BM1__DM1_VCU__DTC3_</th>\n",
              "      <th>BM1__DM1_VCU__DTC4_</th>\n",
              "      <th>CCAN__RQST__CR_VCU_</th>\n",
              "      <th>CCAN__CVW__PoweredV</th>\n",
              "      <th>CCAN__CVW__GrossCom</th>\n",
              "      <th>BM1__DM1_BMU_M1__Pr</th>\n",
              "      <th>BM1__DM1_BMU_M1__Am</th>\n",
              "      <th>BM1__DM1_BMU_M1__Re</th>\n",
              "      <th>BM1__DM1_BMU_M1__Ma</th>\n",
              "      <th>BM1__DM1_BMU_M1__Fl</th>\n",
              "      <th>BM1__DM1_BMU_M1__DT</th>\n",
              "      <th>CCAN__TPCM_VCU__Con</th>\n",
              "      <th>CCAN__TPCM_VCU__Tot</th>\n",
              "      <th>CCAN__TPCM_VCU__PGN</th>\n",
              "      <th>CCAN__TPDT_VCU__Seq</th>\n",
              "      <th>CCAN__TPDT_VCU__Pac</th>\n",
              "      <th>BM1__BMS_M2_CMMGTX_</th>\n",
              "      <th>BM1__CMM4_BM2__CR_C</th>\n",
              "      <th>BM1__CMM4_BM2__CF_C</th>\n",
              "      <th>BM1__CMM4_BM2__CF_E</th>\n",
              "    </tr>\n",
              "  </thead>\n",
              "  <tbody>\n",
              "    <tr>\n",
              "      <th>0</th>\n",
              "      <td>[[240.369, 0.0], [240.3892, 0.0], [240.40905, ...</td>\n",
              "      <td>[[240.369, 0.0], [240.3892, 0.0], [240.40905, ...</td>\n",
              "      <td>[[240.37175, 1.0], [240.38175, 1.0], [240.3918...</td>\n",
              "      <td>[[240.37175, 13.0], [240.38175, 14.0], [240.39...</td>\n",
              "      <td>[[240.37305, 1.0], [240.47305, 0.0], [240.5730...</td>\n",
              "      <td>[[240.37485, 0.0], [240.3848, 0.0], [240.3948,...</td>\n",
              "      <td>[[240.3751, 1000.0], [240.3851, 1000.0], [240....</td>\n",
              "      <td>[[240.3754, 1.0], [240.3863, 1.0], [240.3954, ...</td>\n",
              "      <td>[[240.3754, 5.0], [240.3863, 5.0], [240.3954, ...</td>\n",
              "      <td>[[240.3757, 0.0], [240.38655, 0.0], [240.3957,...</td>\n",
              "      <td>[[240.376, 77.0], [240.38685, 77.0], [240.3959...</td>\n",
              "      <td>[[240.377, 3.0], [240.3871, 3.0], [240.397, 3....</td>\n",
              "      <td>[[240.377, -0.0013088599999999673], [240.3871,...</td>\n",
              "      <td>[[240.377, -0.039547073999997906], [240.3871, ...</td>\n",
              "      <td>[[240.377, 0.0], [240.3871, 0.0], [240.397, 0....</td>\n",
              "      <td>[[240.3854, 10.0], [240.4054, 11.0], [240.4254...</td>\n",
              "      <td>[[240.3857, 0.0], [240.4057, 0.0], [240.4257, ...</td>\n",
              "      <td>[[240.386, 0.0], [240.406, 0.0], [240.426, 0.0...</td>\n",
              "      <td>[[240.3889, 0.0], [240.4389, 0.0], [240.4889, ...</td>\n",
              "      <td>[[240.3889, 0.0], [240.4389, 0.0], [240.4889, ...</td>\n",
              "      <td>[[240.3889, 3.0], [240.4389, 3.0], [240.4889, ...</td>\n",
              "      <td>[[240.3889, 3.0], [240.4389, 3.0], [240.4889, ...</td>\n",
              "      <td>[[240.3889, 0.0], [240.4389, 0.0], [240.4889, ...</td>\n",
              "      <td>[[240.39205, 1.0], [240.44235, 1.0], [240.4918...</td>\n",
              "      <td>[[240.39205, 0.0], [240.44235, 0.0], [240.4918...</td>\n",
              "      <td>[[240.39205, 0.0], [240.44235, 0.0], [240.4918...</td>\n",
              "      <td>[[240.39205, 0.0], [240.44235, 0.0], [240.4918...</td>\n",
              "      <td>[[240.39235, 0.0], [240.44265, 0.0], [240.4923...</td>\n",
              "      <td>[[240.39265, 0.0], [240.44295, 0.0], [240.4926...</td>\n",
              "      <td>[[240.4001, 1.0], [240.45015, 1.0], [240.50005...</td>\n",
              "      <td>[[240.4001, 255.0], [240.45015, 255.0], [240.5...</td>\n",
              "      <td>[[240.4001, 9.0], [240.45015, 10.0], [240.5000...</td>\n",
              "      <td>[[240.4071, 1.875], [240.5071, 1.875], [240.60...</td>\n",
              "      <td>[[240.4071, 3.0], [240.5071, 3.0], [240.60715,...</td>\n",
              "      <td>[[240.4071, 7.0], [240.5071, 7.0], [240.60715,...</td>\n",
              "      <td>[[240.4071, 31.0], [240.5071, 31.0], [240.6071...</td>\n",
              "      <td>[[240.4071, 3.0], [240.5071, 4.0], [240.60715,...</td>\n",
              "      <td>[[240.40965, 0.0], [240.45905, 0.0], [240.5095...</td>\n",
              "      <td>[[240.40965, 8.125], [240.45905, 8.125], [240....</td>\n",
              "      <td>[[240.40965, 8.125], [240.45905, 8.125], [240....</td>\n",
              "      <td>...</td>\n",
              "      <td>[[241.69575, 0.0], [242.6958, 0.0], [243.6961,...</td>\n",
              "      <td>[[241.69575, 0.0], [242.6958, 0.0], [243.6961,...</td>\n",
              "      <td>[[241.69575, 3.0], [242.6958, 3.0], [243.6961,...</td>\n",
              "      <td>[[241.69575, 4278190080.0], [242.6958, 4278190...</td>\n",
              "      <td>[]</td>\n",
              "      <td>[]</td>\n",
              "      <td>[]</td>\n",
              "      <td>[[241.82155, 0.0], [242.87145, 0.0], [243.9217...</td>\n",
              "      <td>[[241.82155, 0.0], [242.87145, 0.0], [243.9217...</td>\n",
              "      <td>[[241.82155, 0.0], [242.87145, 0.0], [243.9217...</td>\n",
              "      <td>[[241.82155, 0.0], [242.87145, 0.0], [243.9217...</td>\n",
              "      <td>[[241.82155, 3.0], [242.87145, 3.0], [243.9217...</td>\n",
              "      <td>[]</td>\n",
              "      <td>[[241.90035, 0.0], [242.9004, 0.0], [243.9004,...</td>\n",
              "      <td>[[241.90035, 0.0], [242.9004, 0.0], [243.9004,...</td>\n",
              "      <td>[[241.90035, 0.0], [242.9004, 0.0], [243.9004,...</td>\n",
              "      <td>[[241.90035, 0.0], [242.9004, 0.0], [243.9004,...</td>\n",
              "      <td>[[241.90035, 3.0], [242.9004, 3.0], [243.9004,...</td>\n",
              "      <td>[[241.90035, 0.0], [242.9004, 0.0], [243.9004,...</td>\n",
              "      <td>[]</td>\n",
              "      <td>[]</td>\n",
              "      <td>[]</td>\n",
              "      <td>[[242.02635, 0.0], [244.0264, 0.0], [246.0265,...</td>\n",
              "      <td>[[242.0318, 655350.0], [244.0318, 655350.0], [...</td>\n",
              "      <td>[[242.0318, 12400.0], [244.0318, 12400.0], [24...</td>\n",
              "      <td>[[242.09575, 0.0], [243.0958, 0.0], [244.09555...</td>\n",
              "      <td>[[242.09575, 0.0], [243.0958, 0.0], [244.09555...</td>\n",
              "      <td>[[242.09575, 0.0], [243.0958, 0.0], [244.09555...</td>\n",
              "      <td>[[242.09575, 0.0], [243.0958, 0.0], [244.09555...</td>\n",
              "      <td>[[242.09575, 0.0], [243.0958, 0.0], [244.09555...</td>\n",
              "      <td>[]</td>\n",
              "      <td>[[244.0267, 32.0], [249.0266, 32.0], [254.0270...</td>\n",
              "      <td>[[244.0267, 3.0], [249.0266, 3.0], [254.02705,...</td>\n",
              "      <td>[[244.0267, 65249.0], [249.0266, 65249.0], [25...</td>\n",
              "      <td>[[244.07555, 1.0], [244.1264, 2.0], [244.17555...</td>\n",
              "      <td>[[244.07555, 576.0], [244.1264, 0.0], [244.175...</td>\n",
              "      <td>[[7247.65205, 0.0], [7247.75205, 0.0], [7247.8...</td>\n",
              "      <td>[[7247.65325, 0.0], [7247.7532, 0.0], [7247.85...</td>\n",
              "      <td>[[7247.65325, 0.0], [7247.7532, 0.0], [7247.85...</td>\n",
              "      <td>[[7247.65325, 0.0], [7247.7532, 0.0], [7247.85...</td>\n",
              "    </tr>\n",
              "  </tbody>\n",
              "</table>\n",
              "<p>1 rows × 510 columns</p>\n",
              "</div>"
            ],
            "text/plain": [
              "                                 CCAN__HRW__FrontAxl  ...                                BM1__CMM4_BM2__CF_E\n",
              "0  [[240.369, 0.0], [240.3892, 0.0], [240.40905, ...  ...  [[7247.65325, 0.0], [7247.7532, 0.0], [7247.85...\n",
              "\n",
              "[1 rows x 510 columns]"
            ]
          },
          "metadata": {
            "tags": []
          },
          "execution_count": 490
        }
      ]
    },
    {
      "cell_type": "code",
      "metadata": {
        "colab": {
          "base_uri": "https://localhost:8080/"
        },
        "id": "V6H_IWhW0aMp",
        "outputId": "4be5362b-ac89-4d0d-9961-00db59a60e42"
      },
      "source": [
        "set(mu_2.columns)&final_set"
      ],
      "execution_count": null,
      "outputs": [
        {
          "output_type": "execute_result",
          "data": {
            "text/plain": [
              "set()"
            ]
          },
          "metadata": {
            "tags": []
          },
          "execution_count": 491
        }
      ]
    },
    {
      "cell_type": "markdown",
      "metadata": {
        "id": "40beosOinMKz"
      },
      "source": [
        "### dd"
      ]
    },
    {
      "cell_type": "code",
      "metadata": {
        "id": "m_R4ML_An1xS"
      },
      "source": [
        "useful_index = []\n",
        "for idx in range(0, len(matfile1)): # feature가 각각 142,1142,1142,1142 서로 다른 길이의 파일 총 4개 에서 for문\n",
        "    useful_idx = []  # 빈 리스트 4개 생성\n",
        "    for idx2, keys in enumerate(feature_name[idx]): # 142,1142,1142,1142개의 항목... 각 idx와 key값(피처이름)\n",
        "        length = show_duplicate(matfile1[idx][keys]) \n",
        "        if length > 1 :\n",
        "            useful_idx.append((idx2,length, len(matfile1[idx][keys])))\n",
        "    useful_index.append(useful_idx)    "
      ],
      "execution_count": null,
      "outputs": []
    },
    {
      "cell_type": "code",
      "metadata": {
        "id": "A20ccmPiLY2y"
      },
      "source": [
        "useful_index[0] # [0~3]까지 총 4항목 존재\n",
        "# 각각의 값은 tuple형태로 저장되어있고 각 값의 의미는... 순서대로\n",
        "# (1. feature가있는 위치(feature index), 2. unique한 값 갯수 , 3. 해당 feature의 전체 data수)"
      ],
      "execution_count": null,
      "outputs": []
    },
    {
      "cell_type": "code",
      "metadata": {
        "id": "XHwWFcPdo9hi"
      },
      "source": [
        "useful_col=[]\n",
        "for s in useful_index[0]:\n",
        "    useful_col.append(s[0])\n",
        "print(len(useful_col))"
      ],
      "execution_count": null,
      "outputs": []
    },
    {
      "cell_type": "code",
      "metadata": {
        "id": "wwv-_glWsO1B"
      },
      "source": [
        "pd.DataFrame(matfile1).T.iloc[useful_col] # useful한 column들만 남겨놓는다."
      ],
      "execution_count": null,
      "outputs": []
    },
    {
      "cell_type": "code",
      "metadata": {
        "id": "OhDXWWlqrNtl"
      },
      "source": [
        "useful_df = pd.DataFrame(matfile1).T.iloc[useful_col]"
      ],
      "execution_count": null,
      "outputs": []
    },
    {
      "cell_type": "markdown",
      "metadata": {
        "id": "rj-K6KMcmH_X"
      },
      "source": [
        "### DTC 추출"
      ]
    },
    {
      "cell_type": "code",
      "metadata": {
        "id": "QVIpXQwC3BFH"
      },
      "source": [
        "import re\n",
        "p = re.compile('.*DTC1.*')\n",
        "dtc_set = []\n",
        "for f_name in feature_name:\n",
        "    dtc_index = []\n",
        "    for idx, name in enumerate(f_name):\n",
        "        m = p.match(name)\n",
        "        if m != None:\n",
        "            print(m.group())\n",
        "            dtc_index.append(idx)\n",
        "    dtc_set.append(dtc_index)"
      ],
      "execution_count": null,
      "outputs": []
    },
    {
      "cell_type": "code",
      "metadata": {
        "id": "DNKXSxcGn1xT"
      },
      "source": [
        "for i in dtc_set:\n",
        "    print(len(i))\n",
        "    print(dtc_set[0])"
      ],
      "execution_count": null,
      "outputs": []
    },
    {
      "cell_type": "code",
      "metadata": {
        "id": "mRLvk7zTZMXo"
      },
      "source": [
        "dtc_name = [] # 이름 list\n",
        "for i in range(len(dtc_set)):\n",
        "  print(i+1,'번째 파일의 dtc이름 및 index')\n",
        "  for dtc in dtc_set[i]:\n",
        "    print(dtc,feature_name[0][dtc])\n",
        "    dtc_name.append(feature_name[0][dtc])"
      ],
      "execution_count": null,
      "outputs": []
    },
    {
      "cell_type": "code",
      "metadata": {
        "id": "_s158xKleBES"
      },
      "source": [
        "matfile13[0]['CCAN__DM1_DOD__DTC1_DOD_B']"
      ],
      "execution_count": null,
      "outputs": []
    },
    {
      "cell_type": "code",
      "metadata": {
        "id": "UzBwUSZhgjsh"
      },
      "source": [
        "DTC_df_1 = pd.DataFrame(matfile1)[dtc_name].T\n",
        "DTC_df_1"
      ],
      "execution_count": null,
      "outputs": []
    },
    {
      "cell_type": "code",
      "metadata": {
        "id": "ziAwCk5LPIDy"
      },
      "source": [
        "DTC_df_1[0].iloc[2]"
      ],
      "execution_count": null,
      "outputs": []
    },
    {
      "cell_type": "code",
      "metadata": {
        "id": "itKt2v71l06t"
      },
      "source": [
        "for i in range(len(DTC_df_1)): # DTC 피쳐별로 데이터 개수가 다름(수집 시간 차이?)\n",
        "  print(len(DTC_df_1[0].iloc[i]))"
      ],
      "execution_count": null,
      "outputs": []
    },
    {
      "cell_type": "code",
      "metadata": {
        "id": "GDJXuCx5hbVL"
      },
      "source": [
        "def float_to_hex(f):\n",
        "    return hex(struct.unpack('<I', struct.pack('<f', f))[0])"
      ],
      "execution_count": null,
      "outputs": []
    },
    {
      "cell_type": "code",
      "metadata": {
        "id": "rgG8Sb-Kko3D"
      },
      "source": [
        "len(DTC_df_1)"
      ],
      "execution_count": null,
      "outputs": []
    },
    {
      "cell_type": "code",
      "metadata": {
        "id": "xqVBHHwIhirJ"
      },
      "source": [
        "dtc_col = []\n",
        "dtc_val = []\n",
        "for i in range(len(DTC_df_1)):\n",
        "  dtc_col.append(DTC_df_1.index[i]) # DTC Feature 이름\n",
        "  dtc_val.append(DTC_df_1[0].iloc[i][:,1]) # value 2-d array의 i번째 인덱스의 두번째값(실제 value)"
      ],
      "execution_count": null,
      "outputs": []
    },
    {
      "cell_type": "code",
      "metadata": {
        "id": "bmEB9P67O-7N"
      },
      "source": [
        "pd.DataFrame(dtc_val,dtc_col).T"
      ],
      "execution_count": null,
      "outputs": []
    },
    {
      "cell_type": "markdown",
      "metadata": {
        "id": "iOjZOhtW3S_W"
      },
      "source": [
        "> NAN값 없는 범위에 대해서만 생성"
      ]
    },
    {
      "cell_type": "code",
      "metadata": {
        "id": "c3esRV6Bm-Mg"
      },
      "source": [
        "dtc_df = pd.DataFrame(dtc_val,dtc_col).T[:6898]"
      ],
      "execution_count": null,
      "outputs": []
    },
    {
      "cell_type": "code",
      "metadata": {
        "id": "vfiNgUIEsSZK"
      },
      "source": [
        "dtc_df = dtc_df[:6898]"
      ],
      "execution_count": null,
      "outputs": []
    },
    {
      "cell_type": "code",
      "metadata": {
        "id": "bqSjFq2jsVJx"
      },
      "source": [
        "dtc_hex_df = dtc_df"
      ],
      "execution_count": null,
      "outputs": []
    },
    {
      "cell_type": "code",
      "metadata": {
        "id": "64UOHSmCtCcb"
      },
      "source": [
        "dtc_hex_df"
      ],
      "execution_count": null,
      "outputs": []
    },
    {
      "cell_type": "code",
      "metadata": {
        "id": "DftOqaQrso1p"
      },
      "source": [
        "for i in dtc_hex_df.columns:\n",
        "  dtc_hex_df[i] = dtc_hex_df[i].apply(float_to_hex)\n",
        "dtc_hex_df"
      ],
      "execution_count": null,
      "outputs": []
    },
    {
      "cell_type": "markdown",
      "metadata": {
        "id": "bLSmGVGn_9yq"
      },
      "source": [
        "# **고장코드 無 변환 후**"
      ]
    },
    {
      "cell_type": "code",
      "metadata": {
        "id": "82DKuQx2ABz6"
      },
      "source": [
        "path_dir = '/content/gdrive/MyDrive/DATA/무고장데이터_5일간/27.진해_6033_200110_200114_5일간'\n",
        "file_list13 = os.listdir(path_dir)"
      ],
      "execution_count": null,
      "outputs": []
    },
    {
      "cell_type": "code",
      "metadata": {
        "id": "SWTnAGFeAEk4"
      },
      "source": [
        "file_list13 = file_list[-20:-8] # 13일 \n",
        "file_list13"
      ],
      "execution_count": null,
      "outputs": []
    },
    {
      "cell_type": "code",
      "metadata": {
        "id": "f5xrlU12tWT6"
      },
      "source": [
        "matfile13 = []\n",
        "count = 0\n",
        "for file in file_list13:\n",
        "    dist = path_dir + '/' + file\n",
        "    count+=1\n",
        "    if count==1: \n",
        "      matfile13.append(io.loadmat(dist)) # 13일 첫번째 파일\n"
      ],
      "execution_count": null,
      "outputs": []
    },
    {
      "cell_type": "code",
      "metadata": {
        "id": "MGWwOUwuAOQs"
      },
      "source": [
        "pd.DataFrame(matfile13).T[0]"
      ],
      "execution_count": null,
      "outputs": []
    },
    {
      "cell_type": "code",
      "metadata": {
        "id": "UtPPu80Gn1xP"
      },
      "source": [
        "feature_name = []\n",
        "for file in matfile13:\n",
        "    feature_name.append(list(file.keys()))\n",
        "\n",
        "for i in feature_name:\n",
        "    print(len(i))"
      ],
      "execution_count": null,
      "outputs": []
    },
    {
      "cell_type": "code",
      "metadata": {
        "id": "PaQ-DsKgCx95"
      },
      "source": [
        "time = []\n",
        "for i in range(len(pd.DataFrame(matfile13).T[0])):\n",
        "  time.append(pd.DataFrame(matfile13).T[0].iloc[i][-1][0])\n",
        "print(max(time))"
      ],
      "execution_count": null,
      "outputs": []
    },
    {
      "cell_type": "code",
      "metadata": {
        "id": "Z6bjJXMRD4bz"
      },
      "source": [
        "pd.DataFrame(matfile13).T[0].iloc[2][-1][0]"
      ],
      "execution_count": null,
      "outputs": []
    }
  ]
}
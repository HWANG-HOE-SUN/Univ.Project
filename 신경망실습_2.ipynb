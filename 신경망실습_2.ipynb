{
  "nbformat": 4,
  "nbformat_minor": 0,
  "metadata": {
    "colab": {
      "name": "신경망실습-2.ipynb",
      "provenance": [],
      "authorship_tag": "ABX9TyNFAoJZek7aE7hu0XRQTF5s",
      "include_colab_link": true
    },
    "kernelspec": {
      "name": "python3",
      "display_name": "Python 3"
    }
  },
  "cells": [
    {
      "cell_type": "markdown",
      "metadata": {
        "id": "view-in-github",
        "colab_type": "text"
      },
      "source": [
        "<a href=\"https://colab.research.google.com/github/HWANG-HOE-SUN/Univ.Project/blob/main/%EC%8B%A0%EA%B2%BD%EB%A7%9D%EC%8B%A4%EC%8A%B5_2.ipynb\" target=\"_parent\"><img src=\"https://colab.research.google.com/assets/colab-badge.svg\" alt=\"Open In Colab\"/></a>"
      ]
    },
    {
      "cell_type": "code",
      "metadata": {
        "id": "7Y7IHk0CnYmE"
      },
      "source": [
        "# 기본 데이터 정리 및 처리\r\n",
        "import numpy as np\r\n",
        "import pandas as pd\r\n",
        "\r\n",
        "# 시각화\r\n",
        "import matplotlib.pyplot as plt\r\n",
        "import seaborn as sns\r\n",
        "%matplotlib inline\r\n",
        "plt.style.use('seaborn-whitegrid')\r\n",
        "import missingno\r\n",
        "\r\n",
        "# 전처리 및 머신 러닝 알고리즘\r\n",
        "from sklearn.preprocessing import LabelEncoder, OneHotEncoder\r\n",
        "from sklearn.preprocessing import StandardScaler\r\n",
        "from sklearn.preprocessing import MinMaxScaler"
      ],
      "execution_count": 14,
      "outputs": []
    },
    {
      "cell_type": "code",
      "metadata": {
        "id": "bNWmUkAQnpJ9"
      },
      "source": [
        "# 경고 제거(판다스 error 메시지 무시)\r\n",
        "import sys\r\n",
        "import warnings\r\n",
        "\r\n",
        "warnings.filterwarnings('ignore')"
      ],
      "execution_count": 15,
      "outputs": []
    },
    {
      "cell_type": "code",
      "metadata": {
        "colab": {
          "base_uri": "https://localhost:8080/"
        },
        "id": "jAV_a29Xn0pd",
        "outputId": "ac8ad4ea-9957-4eee-977d-cd01e0bf0628"
      },
      "source": [
        "# 데이터 불러오기\r\n",
        "\r\n",
        "from keras.datasets import mnist\r\n",
        "\r\n",
        "(x_train,y_train) , (x_test, y_test) = mnist.load_data()\r\n",
        "x_train = x_train.astype(\"float32\") / 255\r\n",
        "x_test = x_test.astype(\"float32\") / 255\r\n",
        "x_train = x_train.reshape((len(x_train), np.prod(x_train.shape[1:])))\r\n",
        "x_test = x_test.reshape((len(x_test), np.prod(x_test.shape[1:])))\r\n",
        "print(x_train.shape)\r\n",
        "print(x_test.shape)"
      ],
      "execution_count": 16,
      "outputs": [
        {
          "output_type": "stream",
          "text": [
            "(60000, 784)\n",
            "(10000, 784)\n"
          ],
          "name": "stdout"
        }
      ]
    },
    {
      "cell_type": "code",
      "metadata": {
        "id": "SfHNGAarpONy"
      },
      "source": [
        "from keras.layers import Input, Dense\r\n",
        "from keras.models import Model\r\n",
        "from keras import backend as K\r\n",
        "\r\n",
        "# configure\r\n",
        "encoding_dim = 32\r\n",
        "input_img = Input(shape=(784,))\r\n",
        "\r\n",
        "# layers\r\n",
        "encoded = Dense(encoding_dim, activation=\"relu\")(input_img)\r\n",
        "decoded = Dense(784, activation = \"sigmoid\")(encoded)\r\n",
        "\r\n",
        "# Models\r\n",
        "autoencoder = Model(input_img , decoded) # autoencoder\r\n",
        "\r\n",
        "encoder = Model(input_img, encoded) # encoder\r\n",
        "\r\n",
        "encoded_input = Input(shape=(encoding_dim,))\r\n",
        "decoder_layer = autoencoder.layers[-1]\r\n",
        "decoder = Model(encoded_input, decoder_layer(encoded_input)) # decoder"
      ],
      "execution_count": 17,
      "outputs": []
    },
    {
      "cell_type": "code",
      "metadata": {
        "colab": {
          "base_uri": "https://localhost:8080/"
        },
        "id": "7ysngwplpOBi",
        "outputId": "00acddc5-7d51-4f35-e845-8a039d7d4642"
      },
      "source": [
        "def rmse(y_true, y_pred):\r\n",
        "  return K.sqrt(K.mean(K.square(y_pred - y_true), axis=-1))\r\n",
        "\r\n",
        "def recall(y_true, y_pred):\r\n",
        "  y_true_yn = K.round(K.clip(y_true,0,1))\r\n",
        "  y_pred_yn = K.round(K.clip(y_pred,0,1))\r\n",
        "\r\n",
        "  count_true_positive = K.sum(y_true_yn * y_pred_yn)\r\n",
        "  count_true_positive_false_negative = K.sum(y_true_yn)\r\n",
        "  recall = count_true_positive / (count_true_positive_false_negative + K.epsilon()) \r\n",
        "  return recall\r\n",
        "\r\n",
        "# train autoencoder\r\n",
        "autoencoder.compile(optimizer=\"adadelta\", loss=\"binary_crossentropy\", metrics=[rmse, recall])\r\n",
        "autoencoder.fit(x_train, x_train, \r\n",
        "                epochs=50,\r\n",
        "                batch_size=256,\r\n",
        "                shuffle=True,\r\n",
        "                validation_data = (x_test,x_test))\r\n",
        "\r\n",
        "# encoding result\r\n",
        "\r\n",
        "encoded_imgs = encoder.predict(x_test)\r\n",
        "decoded_imgs = decoder.predict(encoded_imgs)"
      ],
      "execution_count": 18,
      "outputs": [
        {
          "output_type": "stream",
          "text": [
            "Epoch 1/50\n",
            "235/235 [==============================] - 3s 12ms/step - loss: 0.6930 - rmse: 0.4809 - recall: 0.5059 - val_loss: 0.6928 - val_rmse: 0.4809 - val_recall: 0.5059\n",
            "Epoch 2/50\n",
            "235/235 [==============================] - 3s 11ms/step - loss: 0.6929 - rmse: 0.4808 - recall: 0.5055 - val_loss: 0.6927 - val_rmse: 0.4808 - val_recall: 0.5054\n",
            "Epoch 3/50\n",
            "235/235 [==============================] - 3s 11ms/step - loss: 0.6927 - rmse: 0.4807 - recall: 0.5050 - val_loss: 0.6925 - val_rmse: 0.4808 - val_recall: 0.5050\n",
            "Epoch 4/50\n",
            "235/235 [==============================] - 3s 11ms/step - loss: 0.6926 - rmse: 0.4806 - recall: 0.5042 - val_loss: 0.6924 - val_rmse: 0.4807 - val_recall: 0.5045\n",
            "Epoch 5/50\n",
            "235/235 [==============================] - 3s 11ms/step - loss: 0.6924 - rmse: 0.4806 - recall: 0.5040 - val_loss: 0.6922 - val_rmse: 0.4806 - val_recall: 0.5040\n",
            "Epoch 6/50\n",
            "235/235 [==============================] - 3s 11ms/step - loss: 0.6923 - rmse: 0.4805 - recall: 0.5036 - val_loss: 0.6921 - val_rmse: 0.4805 - val_recall: 0.5034\n",
            "Epoch 7/50\n",
            "235/235 [==============================] - 3s 11ms/step - loss: 0.6921 - rmse: 0.4804 - recall: 0.5025 - val_loss: 0.6919 - val_rmse: 0.4804 - val_recall: 0.5030\n",
            "Epoch 8/50\n",
            "235/235 [==============================] - 3s 11ms/step - loss: 0.6920 - rmse: 0.4804 - recall: 0.5025 - val_loss: 0.6918 - val_rmse: 0.4804 - val_recall: 0.5026\n",
            "Epoch 9/50\n",
            "235/235 [==============================] - 3s 11ms/step - loss: 0.6918 - rmse: 0.4803 - recall: 0.5018 - val_loss: 0.6916 - val_rmse: 0.4803 - val_recall: 0.5021\n",
            "Epoch 10/50\n",
            "235/235 [==============================] - 3s 11ms/step - loss: 0.6917 - rmse: 0.4802 - recall: 0.5011 - val_loss: 0.6915 - val_rmse: 0.4802 - val_recall: 0.5017\n",
            "Epoch 11/50\n",
            "235/235 [==============================] - 3s 11ms/step - loss: 0.6915 - rmse: 0.4801 - recall: 0.5002 - val_loss: 0.6913 - val_rmse: 0.4801 - val_recall: 0.5012\n",
            "Epoch 12/50\n",
            "235/235 [==============================] - 3s 11ms/step - loss: 0.6914 - rmse: 0.4800 - recall: 0.5001 - val_loss: 0.6912 - val_rmse: 0.4800 - val_recall: 0.5006\n",
            "Epoch 13/50\n",
            "235/235 [==============================] - 3s 11ms/step - loss: 0.6912 - rmse: 0.4799 - recall: 0.4996 - val_loss: 0.6910 - val_rmse: 0.4800 - val_recall: 0.5000\n",
            "Epoch 14/50\n",
            "235/235 [==============================] - 3s 11ms/step - loss: 0.6910 - rmse: 0.4799 - recall: 0.4991 - val_loss: 0.6908 - val_rmse: 0.4799 - val_recall: 0.4995\n",
            "Epoch 15/50\n",
            "235/235 [==============================] - 3s 11ms/step - loss: 0.6909 - rmse: 0.4798 - recall: 0.4986 - val_loss: 0.6907 - val_rmse: 0.4798 - val_recall: 0.4988\n",
            "Epoch 16/50\n",
            "235/235 [==============================] - 3s 11ms/step - loss: 0.6907 - rmse: 0.4797 - recall: 0.4978 - val_loss: 0.6905 - val_rmse: 0.4797 - val_recall: 0.4983\n",
            "Epoch 17/50\n",
            "235/235 [==============================] - 3s 11ms/step - loss: 0.6906 - rmse: 0.4796 - recall: 0.4974 - val_loss: 0.6903 - val_rmse: 0.4796 - val_recall: 0.4978\n",
            "Epoch 18/50\n",
            "235/235 [==============================] - 3s 11ms/step - loss: 0.6904 - rmse: 0.4795 - recall: 0.4967 - val_loss: 0.6902 - val_rmse: 0.4795 - val_recall: 0.4972\n",
            "Epoch 19/50\n",
            "235/235 [==============================] - 3s 12ms/step - loss: 0.6902 - rmse: 0.4794 - recall: 0.4964 - val_loss: 0.6900 - val_rmse: 0.4794 - val_recall: 0.4966\n",
            "Epoch 20/50\n",
            "235/235 [==============================] - 3s 12ms/step - loss: 0.6900 - rmse: 0.4793 - recall: 0.4959 - val_loss: 0.6898 - val_rmse: 0.4793 - val_recall: 0.4961\n",
            "Epoch 21/50\n",
            "235/235 [==============================] - 3s 12ms/step - loss: 0.6899 - rmse: 0.4793 - recall: 0.4950 - val_loss: 0.6896 - val_rmse: 0.4792 - val_recall: 0.4955\n",
            "Epoch 22/50\n",
            "235/235 [==============================] - 3s 12ms/step - loss: 0.6897 - rmse: 0.4792 - recall: 0.4945 - val_loss: 0.6895 - val_rmse: 0.4792 - val_recall: 0.4950\n",
            "Epoch 23/50\n",
            "235/235 [==============================] - 3s 12ms/step - loss: 0.6895 - rmse: 0.4790 - recall: 0.4943 - val_loss: 0.6893 - val_rmse: 0.4791 - val_recall: 0.4945\n",
            "Epoch 24/50\n",
            "235/235 [==============================] - 3s 12ms/step - loss: 0.6893 - rmse: 0.4790 - recall: 0.4938 - val_loss: 0.6891 - val_rmse: 0.4790 - val_recall: 0.4940\n",
            "Epoch 25/50\n",
            "235/235 [==============================] - 3s 12ms/step - loss: 0.6891 - rmse: 0.4789 - recall: 0.4930 - val_loss: 0.6889 - val_rmse: 0.4789 - val_recall: 0.4935\n",
            "Epoch 26/50\n",
            "235/235 [==============================] - 3s 12ms/step - loss: 0.6889 - rmse: 0.4788 - recall: 0.4925 - val_loss: 0.6887 - val_rmse: 0.4788 - val_recall: 0.4930\n",
            "Epoch 27/50\n",
            "235/235 [==============================] - 3s 12ms/step - loss: 0.6888 - rmse: 0.4787 - recall: 0.4922 - val_loss: 0.6885 - val_rmse: 0.4786 - val_recall: 0.4925\n",
            "Epoch 28/50\n",
            "235/235 [==============================] - 3s 12ms/step - loss: 0.6886 - rmse: 0.4785 - recall: 0.4914 - val_loss: 0.6883 - val_rmse: 0.4785 - val_recall: 0.4920\n",
            "Epoch 29/50\n",
            "235/235 [==============================] - 3s 12ms/step - loss: 0.6883 - rmse: 0.4785 - recall: 0.4911 - val_loss: 0.6881 - val_rmse: 0.4784 - val_recall: 0.4915\n",
            "Epoch 30/50\n",
            "235/235 [==============================] - 3s 12ms/step - loss: 0.6881 - rmse: 0.4784 - recall: 0.4903 - val_loss: 0.6879 - val_rmse: 0.4783 - val_recall: 0.4911\n",
            "Epoch 31/50\n",
            "235/235 [==============================] - 3s 12ms/step - loss: 0.6879 - rmse: 0.4783 - recall: 0.4898 - val_loss: 0.6877 - val_rmse: 0.4782 - val_recall: 0.4904\n",
            "Epoch 32/50\n",
            "235/235 [==============================] - 3s 12ms/step - loss: 0.6877 - rmse: 0.4781 - recall: 0.4892 - val_loss: 0.6874 - val_rmse: 0.4781 - val_recall: 0.4899\n",
            "Epoch 33/50\n",
            "235/235 [==============================] - 3s 12ms/step - loss: 0.6875 - rmse: 0.4780 - recall: 0.4889 - val_loss: 0.6872 - val_rmse: 0.4780 - val_recall: 0.4893\n",
            "Epoch 34/50\n",
            "235/235 [==============================] - 3s 12ms/step - loss: 0.6873 - rmse: 0.4779 - recall: 0.4885 - val_loss: 0.6870 - val_rmse: 0.4779 - val_recall: 0.4888\n",
            "Epoch 35/50\n",
            "235/235 [==============================] - 3s 12ms/step - loss: 0.6871 - rmse: 0.4778 - recall: 0.4877 - val_loss: 0.6868 - val_rmse: 0.4777 - val_recall: 0.4882\n",
            "Epoch 36/50\n",
            "235/235 [==============================] - 3s 12ms/step - loss: 0.6868 - rmse: 0.4776 - recall: 0.4868 - val_loss: 0.6865 - val_rmse: 0.4776 - val_recall: 0.4877\n",
            "Epoch 37/50\n",
            "235/235 [==============================] - 3s 12ms/step - loss: 0.6866 - rmse: 0.4775 - recall: 0.4866 - val_loss: 0.6863 - val_rmse: 0.4775 - val_recall: 0.4872\n",
            "Epoch 38/50\n",
            "235/235 [==============================] - 3s 12ms/step - loss: 0.6863 - rmse: 0.4774 - recall: 0.4863 - val_loss: 0.6860 - val_rmse: 0.4774 - val_recall: 0.4866\n",
            "Epoch 39/50\n",
            "235/235 [==============================] - 3s 12ms/step - loss: 0.6861 - rmse: 0.4773 - recall: 0.4856 - val_loss: 0.6858 - val_rmse: 0.4772 - val_recall: 0.4861\n",
            "Epoch 40/50\n",
            "235/235 [==============================] - 3s 12ms/step - loss: 0.6858 - rmse: 0.4771 - recall: 0.4847 - val_loss: 0.6855 - val_rmse: 0.4771 - val_recall: 0.4854\n",
            "Epoch 41/50\n",
            "235/235 [==============================] - 3s 12ms/step - loss: 0.6856 - rmse: 0.4770 - recall: 0.4839 - val_loss: 0.6852 - val_rmse: 0.4769 - val_recall: 0.4849\n",
            "Epoch 42/50\n",
            "235/235 [==============================] - 3s 12ms/step - loss: 0.6853 - rmse: 0.4769 - recall: 0.4835 - val_loss: 0.6849 - val_rmse: 0.4768 - val_recall: 0.4842\n",
            "Epoch 43/50\n",
            "235/235 [==============================] - 3s 12ms/step - loss: 0.6850 - rmse: 0.4767 - recall: 0.4832 - val_loss: 0.6847 - val_rmse: 0.4766 - val_recall: 0.4837\n",
            "Epoch 44/50\n",
            "235/235 [==============================] - 3s 12ms/step - loss: 0.6847 - rmse: 0.4766 - recall: 0.4826 - val_loss: 0.6844 - val_rmse: 0.4765 - val_recall: 0.4832\n",
            "Epoch 45/50\n",
            "235/235 [==============================] - 3s 12ms/step - loss: 0.6844 - rmse: 0.4764 - recall: 0.4819 - val_loss: 0.6841 - val_rmse: 0.4763 - val_recall: 0.4827\n",
            "Epoch 46/50\n",
            "235/235 [==============================] - 3s 12ms/step - loss: 0.6841 - rmse: 0.4763 - recall: 0.4816 - val_loss: 0.6838 - val_rmse: 0.4762 - val_recall: 0.4821\n",
            "Epoch 47/50\n",
            "235/235 [==============================] - 3s 12ms/step - loss: 0.6838 - rmse: 0.4761 - recall: 0.4809 - val_loss: 0.6834 - val_rmse: 0.4760 - val_recall: 0.4815\n",
            "Epoch 48/50\n",
            "235/235 [==============================] - 3s 12ms/step - loss: 0.6835 - rmse: 0.4759 - recall: 0.4801 - val_loss: 0.6831 - val_rmse: 0.4758 - val_recall: 0.4810\n",
            "Epoch 49/50\n",
            "235/235 [==============================] - 3s 12ms/step - loss: 0.6832 - rmse: 0.4758 - recall: 0.4798 - val_loss: 0.6828 - val_rmse: 0.4757 - val_recall: 0.4804\n",
            "Epoch 50/50\n",
            "235/235 [==============================] - 3s 12ms/step - loss: 0.6829 - rmse: 0.4756 - recall: 0.4787 - val_loss: 0.6825 - val_rmse: 0.4755 - val_recall: 0.4797\n"
          ],
          "name": "stdout"
        }
      ]
    },
    {
      "cell_type": "code",
      "metadata": {
        "id": "GaCN_scPqnve"
      },
      "source": [
        "np.set_printoptions(suppress=True)"
      ],
      "execution_count": 19,
      "outputs": []
    },
    {
      "cell_type": "code",
      "metadata": {
        "colab": {
          "base_uri": "https://localhost:8080/"
        },
        "id": "XEHi5w21r92N",
        "outputId": "1b04c031-e523-407d-8228-448f570ab5c9"
      },
      "source": [
        "encoded_imgs.shape"
      ],
      "execution_count": 20,
      "outputs": [
        {
          "output_type": "execute_result",
          "data": {
            "text/plain": [
              "(10000, 32)"
            ]
          },
          "metadata": {
            "tags": []
          },
          "execution_count": 20
        }
      ]
    },
    {
      "cell_type": "code",
      "metadata": {
        "colab": {
          "base_uri": "https://localhost:8080/"
        },
        "id": "Bzaz1UJUr-_F",
        "outputId": "8af39ec4-cb32-4427-8f5e-484038655122"
      },
      "source": [
        "encoded_imgs"
      ],
      "execution_count": 21,
      "outputs": [
        {
          "output_type": "execute_result",
          "data": {
            "text/plain": [
              "array([[0.        , 0.07133099, 0.        , ..., 0.53326887, 0.        ,\n",
              "        0.        ],\n",
              "       [0.        , 0.        , 0.        , ..., 0.8839164 , 0.16320561,\n",
              "        0.        ],\n",
              "       [0.        , 0.        , 0.24404474, ..., 0.629945  , 0.17510411,\n",
              "        0.        ],\n",
              "       ...,\n",
              "       [0.        , 0.        , 0.34790638, ..., 0.7226432 , 0.        ,\n",
              "        0.        ],\n",
              "       [0.        , 0.04107292, 0.7562044 , ..., 1.1556228 , 0.        ,\n",
              "        0.        ],\n",
              "       [0.        , 0.        , 0.        , ..., 0.81176805, 0.        ,\n",
              "        0.        ]], dtype=float32)"
            ]
          },
          "metadata": {
            "tags": []
          },
          "execution_count": 21
        }
      ]
    },
    {
      "cell_type": "code",
      "metadata": {
        "colab": {
          "base_uri": "https://localhost:8080/"
        },
        "id": "rmqHu3-AsCBv",
        "outputId": "a6f86e2d-f80c-4344-ea87-642b2b9bf6a4"
      },
      "source": [
        "decoded_imgs"
      ],
      "execution_count": 22,
      "outputs": [
        {
          "output_type": "execute_result",
          "data": {
            "text/plain": [
              "array([[0.44984275, 0.4895233 , 0.49444038, ..., 0.47595826, 0.5375355 ,\n",
              "        0.49684483],\n",
              "       [0.45637265, 0.47641608, 0.5110128 , ..., 0.46739945, 0.52579427,\n",
              "        0.5020006 ],\n",
              "       [0.48527095, 0.49138877, 0.48911288, ..., 0.4849178 , 0.5011777 ,\n",
              "        0.4976067 ],\n",
              "       ...,\n",
              "       [0.43646494, 0.49980214, 0.45930126, ..., 0.4619914 , 0.55376637,\n",
              "        0.49233615],\n",
              "       [0.4607949 , 0.4741905 , 0.462307  , ..., 0.48340392, 0.5690521 ,\n",
              "        0.52349406],\n",
              "       [0.4170629 , 0.48357466, 0.4768991 , ..., 0.45778912, 0.561694  ,\n",
              "        0.4663628 ]], dtype=float32)"
            ]
          },
          "metadata": {
            "tags": []
          },
          "execution_count": 22
        }
      ]
    },
    {
      "cell_type": "code",
      "metadata": {
        "colab": {
          "base_uri": "https://localhost:8080/",
          "height": 185
        },
        "id": "hoYPoCcPsDlo",
        "outputId": "bb84309a-ac77-43a1-defa-23d999322fa4"
      },
      "source": [
        "n=10\r\n",
        "plt.figure(figsize=(20,4))\r\n",
        "for i in range(n):\r\n",
        "  ax = plt.subplot(2, n, i+1)\r\n",
        "  plt.imshow(x_test[i].reshape(28,28))\r\n",
        "  plt.gray()\r\n",
        "  ax.get_xaxis().set_visible(False)\r\n",
        "  ax.get_yaxis().set_visible(False)\r\n",
        "\r\n",
        "  ax = plt.subplot(2, n, i+1+n)\r\n",
        "  plt.imshow(decoded_imgs[i].reshape(28,28))\r\n",
        "  plt.gray()\r\n",
        "  ax.get_xaxis().set_visible(False)\r\n",
        "  ax.get_yaxis().set_visible(False)\r\n",
        "plt.show()"
      ],
      "execution_count": 23,
      "outputs": [
        {
          "output_type": "display_data",
          "data": {
            "image/png": "[encoded data removed]",
            "text/plain": [
              "<Figure size 1440x288 with 20 Axes>"
            ]
          },
          "metadata": {
            "tags": []
          }
        }
      ]
    }
  ]
}
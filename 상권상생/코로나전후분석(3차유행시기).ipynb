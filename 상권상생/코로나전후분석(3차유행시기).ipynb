{
  "nbformat": 4,
  "nbformat_minor": 0,
  "metadata": {
    "colab": {
      "name": "코로나전후분석(3차유행시기).ipynb",
      "provenance": [],
      "collapsed_sections": [],
      "authorship_tag": "ABX9TyN2Zlnwc4sxC0zWntYDq47V",
      "include_colab_link": true
    },
    "kernelspec": {
      "name": "python3",
      "display_name": "Python 3"
    },
    "language_info": {
      "name": "python"
    }
  },
  "cells": [
    {
      "cell_type": "markdown",
      "metadata": {
        "id": "view-in-github",
        "colab_type": "text"
      },
      "source": [
        "<a href=\"https://colab.research.google.com/github/HWANG-HOE-SUN/Univ.Project/blob/main/%EC%83%81%EA%B6%8C%EC%83%81%EC%83%9D/%EC%BD%94%EB%A1%9C%EB%82%98%EC%A0%84%ED%9B%84%EB%B6%84%EC%84%9D(3%EC%B0%A8%EC%9C%A0%ED%96%89%EC%8B%9C%EA%B8%B0).ipynb\" target=\"_parent\"><img src=\"https://colab.research.google.com/assets/colab-badge.svg\" alt=\"Open In Colab\"/></a>"
      ]
    },
    {
      "cell_type": "code",
      "execution_count": 1,
      "metadata": {
        "id": "V4Y5tVtcIKHu"
      },
      "outputs": [],
      "source": [
        "import pandas as pd\n",
        "import numpy as np\n",
        "a = pd.read_excel('/content/중간결과_상권군집별_업종별_시기별변화%(수정).xlsx',sheet_name='Sheet6') # 19년4분기"
      ]
    },
    {
      "cell_type": "code",
      "source": [
        "a = a.dropna(axis=0)\n",
        "a"
      ],
      "metadata": {
        "colab": {
          "base_uri": "https://localhost:8080/",
          "height": 424
        },
        "id": "GMh5Y2hzIW1Q",
        "outputId": "07b7fcf7-1ef6-4fbe-ae2c-3eb1d5c5b50b"
      },
      "execution_count": 2,
      "outputs": [
        {
          "output_type": "execute_result",
          "data": {
            "text/html": [
              "<div>\n",
              "<style scoped>\n",
              "    .dataframe tbody tr th:only-of-type {\n",
              "        vertical-align: middle;\n",
              "    }\n",
              "\n",
              "    .dataframe tbody tr th {\n",
              "        vertical-align: top;\n",
              "    }\n",
              "\n",
              "    .dataframe thead th {\n",
              "        text-align: right;\n",
              "    }\n",
              "</style>\n",
              "<table border=\"1\" class=\"dataframe\">\n",
              "  <thead>\n",
              "    <tr style=\"text-align: right;\">\n",
              "      <th></th>\n",
              "      <th>19년4분기</th>\n",
              "      <th>상권군집번호</th>\n",
              "      <th>업종</th>\n",
              "      <th>4분기_변화%</th>\n",
              "    </tr>\n",
              "  </thead>\n",
              "  <tbody>\n",
              "    <tr>\n",
              "      <th>0</th>\n",
              "      <td>0</td>\n",
              "      <td>0</td>\n",
              "      <td>SB016</td>\n",
              "      <td>-0.274193</td>\n",
              "    </tr>\n",
              "    <tr>\n",
              "      <th>1</th>\n",
              "      <td>1</td>\n",
              "      <td>0</td>\n",
              "      <td>SB003</td>\n",
              "      <td>-0.764790</td>\n",
              "    </tr>\n",
              "    <tr>\n",
              "      <th>2</th>\n",
              "      <td>2</td>\n",
              "      <td>0</td>\n",
              "      <td>SB047</td>\n",
              "      <td>0.191279</td>\n",
              "    </tr>\n",
              "    <tr>\n",
              "      <th>3</th>\n",
              "      <td>3</td>\n",
              "      <td>0</td>\n",
              "      <td>SB041</td>\n",
              "      <td>-0.012098</td>\n",
              "    </tr>\n",
              "    <tr>\n",
              "      <th>4</th>\n",
              "      <td>4</td>\n",
              "      <td>0</td>\n",
              "      <td>SB017</td>\n",
              "      <td>12.840537</td>\n",
              "    </tr>\n",
              "    <tr>\n",
              "      <th>...</th>\n",
              "      <td>...</td>\n",
              "      <td>...</td>\n",
              "      <td>...</td>\n",
              "      <td>...</td>\n",
              "    </tr>\n",
              "    <tr>\n",
              "      <th>17980</th>\n",
              "      <td>17980</td>\n",
              "      <td>300</td>\n",
              "      <td>SB002</td>\n",
              "      <td>0.465774</td>\n",
              "    </tr>\n",
              "    <tr>\n",
              "      <th>17996</th>\n",
              "      <td>17996</td>\n",
              "      <td>300</td>\n",
              "      <td>SB021</td>\n",
              "      <td>-0.058698</td>\n",
              "    </tr>\n",
              "    <tr>\n",
              "      <th>17997</th>\n",
              "      <td>17997</td>\n",
              "      <td>300</td>\n",
              "      <td>SB022</td>\n",
              "      <td>-1.000000</td>\n",
              "    </tr>\n",
              "    <tr>\n",
              "      <th>17998</th>\n",
              "      <td>17998</td>\n",
              "      <td>300</td>\n",
              "      <td>SB044</td>\n",
              "      <td>inf</td>\n",
              "    </tr>\n",
              "    <tr>\n",
              "      <th>18010</th>\n",
              "      <td>18010</td>\n",
              "      <td>300</td>\n",
              "      <td>SB003</td>\n",
              "      <td>0.185142</td>\n",
              "    </tr>\n",
              "  </tbody>\n",
              "</table>\n",
              "<p>5830 rows × 4 columns</p>\n",
              "</div>"
            ],
            "text/plain": [
              "       19년4분기  상권군집번호     업종    4분기_변화%\n",
              "0           0       0  SB016  -0.274193\n",
              "1           1       0  SB003  -0.764790\n",
              "2           2       0  SB047   0.191279\n",
              "3           3       0  SB041  -0.012098\n",
              "4           4       0  SB017  12.840537\n",
              "...       ...     ...    ...        ...\n",
              "17980   17980     300  SB002   0.465774\n",
              "17996   17996     300  SB021  -0.058698\n",
              "17997   17997     300  SB022  -1.000000\n",
              "17998   17998     300  SB044        inf\n",
              "18010   18010     300  SB003   0.185142\n",
              "\n",
              "[5830 rows x 4 columns]"
            ]
          },
          "metadata": {},
          "execution_count": 2
        }
      ]
    },
    {
      "cell_type": "code",
      "source": [
        "b1 = pd.read_excel('/content/중간결과_상권군집별_업종별_시기별변화%(수정).xlsx',sheet_name='Sheet1')\n",
        "b2 = pd.read_excel('/content/중간결과_상권군집별_업종별_시기별변화%(수정).xlsx',sheet_name='Sheet2')\n",
        "b3 = pd.read_excel('/content/중간결과_상권군집별_업종별_시기별변화%(수정).xlsx',sheet_name='Sheet3')\n",
        "b4 = pd.read_excel('/content/중간결과_상권군집별_업종별_시기별변화%(수정).xlsx',sheet_name='Sheet4')\n",
        "b5 = pd.read_excel('/content/중간결과_상권군집별_업종별_시기별변화%(수정).xlsx',sheet_name='Sheet5')"
      ],
      "metadata": {
        "id": "HnL7zTCeIV4m"
      },
      "execution_count": 3,
      "outputs": []
    },
    {
      "cell_type": "code",
      "source": [
        "print(len(b1),len(b2),len(b3),len(b4),len(b5))"
      ],
      "metadata": {
        "colab": {
          "base_uri": "https://localhost:8080/"
        },
        "id": "jwU2E3GwIhl8",
        "outputId": "0f666e88-ce95-48f9-dbe0-4b15b6b0e506"
      },
      "execution_count": 4,
      "outputs": [
        {
          "output_type": "stream",
          "name": "stdout",
          "text": [
            "3199 3229 3218 3182 3231\n"
          ]
        }
      ]
    },
    {
      "cell_type": "code",
      "source": [
        "print(len(b1.dropna(axis=0)),len(b2.dropna(axis=0)),len(b3.dropna(axis=0)),len(b4.dropna(axis=0)),len(b5.dropna(axis=0)))"
      ],
      "metadata": {
        "colab": {
          "base_uri": "https://localhost:8080/"
        },
        "id": "wD0CXwFqISsK",
        "outputId": "b336aa04-5f98-4098-b932-54b803e1cf0c"
      },
      "execution_count": 5,
      "outputs": [
        {
          "output_type": "stream",
          "name": "stdout",
          "text": [
            "3199 3229 3218 3182 3231\n"
          ]
        }
      ]
    },
    {
      "cell_type": "code",
      "source": [
        "b3"
      ],
      "metadata": {
        "colab": {
          "base_uri": "https://localhost:8080/",
          "height": 424
        },
        "id": "liFozf0gISvR",
        "outputId": "f8079ac9-6e82-4738-d5de-f7827a3544d5"
      },
      "execution_count": 6,
      "outputs": [
        {
          "output_type": "execute_result",
          "data": {
            "text/html": [
              "<div>\n",
              "<style scoped>\n",
              "    .dataframe tbody tr th:only-of-type {\n",
              "        vertical-align: middle;\n",
              "    }\n",
              "\n",
              "    .dataframe tbody tr th {\n",
              "        vertical-align: top;\n",
              "    }\n",
              "\n",
              "    .dataframe thead th {\n",
              "        text-align: right;\n",
              "    }\n",
              "</style>\n",
              "<table border=\"1\" class=\"dataframe\">\n",
              "  <thead>\n",
              "    <tr style=\"text-align: right;\">\n",
              "      <th></th>\n",
              "      <th>20년4분기</th>\n",
              "      <th>상권군집번호</th>\n",
              "      <th>업종</th>\n",
              "      <th>4분기_변화%</th>\n",
              "    </tr>\n",
              "  </thead>\n",
              "  <tbody>\n",
              "    <tr>\n",
              "      <th>0</th>\n",
              "      <td>0</td>\n",
              "      <td>0</td>\n",
              "      <td>SB016</td>\n",
              "      <td>-0.274193</td>\n",
              "    </tr>\n",
              "    <tr>\n",
              "      <th>1</th>\n",
              "      <td>1</td>\n",
              "      <td>0</td>\n",
              "      <td>SB003</td>\n",
              "      <td>-0.764790</td>\n",
              "    </tr>\n",
              "    <tr>\n",
              "      <th>2</th>\n",
              "      <td>2</td>\n",
              "      <td>0</td>\n",
              "      <td>SB047</td>\n",
              "      <td>0.191279</td>\n",
              "    </tr>\n",
              "    <tr>\n",
              "      <th>3</th>\n",
              "      <td>3</td>\n",
              "      <td>0</td>\n",
              "      <td>SB041</td>\n",
              "      <td>-0.012098</td>\n",
              "    </tr>\n",
              "    <tr>\n",
              "      <th>4</th>\n",
              "      <td>4</td>\n",
              "      <td>0</td>\n",
              "      <td>SB017</td>\n",
              "      <td>12.840537</td>\n",
              "    </tr>\n",
              "    <tr>\n",
              "      <th>...</th>\n",
              "      <td>...</td>\n",
              "      <td>...</td>\n",
              "      <td>...</td>\n",
              "      <td>...</td>\n",
              "    </tr>\n",
              "    <tr>\n",
              "      <th>3213</th>\n",
              "      <td>18237</td>\n",
              "      <td>299</td>\n",
              "      <td>SB021</td>\n",
              "      <td>-0.575467</td>\n",
              "    </tr>\n",
              "    <tr>\n",
              "      <th>3214</th>\n",
              "      <td>18239</td>\n",
              "      <td>299</td>\n",
              "      <td>SB001</td>\n",
              "      <td>-0.631618</td>\n",
              "    </tr>\n",
              "    <tr>\n",
              "      <th>3215</th>\n",
              "      <td>18244</td>\n",
              "      <td>299</td>\n",
              "      <td>SB045</td>\n",
              "      <td>inf</td>\n",
              "    </tr>\n",
              "    <tr>\n",
              "      <th>3216</th>\n",
              "      <td>18245</td>\n",
              "      <td>299</td>\n",
              "      <td>SB003</td>\n",
              "      <td>-0.524940</td>\n",
              "    </tr>\n",
              "    <tr>\n",
              "      <th>3217</th>\n",
              "      <td>18249</td>\n",
              "      <td>299</td>\n",
              "      <td>SB022</td>\n",
              "      <td>inf</td>\n",
              "    </tr>\n",
              "  </tbody>\n",
              "</table>\n",
              "<p>3218 rows × 4 columns</p>\n",
              "</div>"
            ],
            "text/plain": [
              "      20년4분기  상권군집번호     업종    4분기_변화%\n",
              "0          0       0  SB016  -0.274193\n",
              "1          1       0  SB003  -0.764790\n",
              "2          2       0  SB047   0.191279\n",
              "3          3       0  SB041  -0.012098\n",
              "4          4       0  SB017  12.840537\n",
              "...      ...     ...    ...        ...\n",
              "3213   18237     299  SB021  -0.575467\n",
              "3214   18239     299  SB001  -0.631618\n",
              "3215   18244     299  SB045        inf\n",
              "3216   18245     299  SB003  -0.524940\n",
              "3217   18249     299  SB022        inf\n",
              "\n",
              "[3218 rows x 4 columns]"
            ]
          },
          "metadata": {},
          "execution_count": 6
        }
      ]
    },
    {
      "cell_type": "code",
      "source": [
        "# 19년 4분기 (12월-10월)\n",
        "집계_19년_4분기 = a.groupby('업종')['4분기_변화%'].mean().replace(np.inf,np.nan).dropna(axis=0)\n",
        "집계_19년_4분기"
      ],
      "metadata": {
        "colab": {
          "base_uri": "https://localhost:8080/"
        },
        "id": "kHW0j3HkISx8",
        "outputId": "89a464ba-fdeb-471b-a816-4adc4bb19e49"
      },
      "execution_count": 7,
      "outputs": [
        {
          "output_type": "execute_result",
          "data": {
            "text/plain": [
              "업종\n",
              "SB008     -0.156395\n",
              "SB013      0.166797\n",
              "SB014     -0.166662\n",
              "SB023    120.304588\n",
              "SB024      0.102811\n",
              "SB028     -0.406880\n",
              "SB035      0.072727\n",
              "SB056      0.404709\n",
              "SB059      2.881264\n",
              "SB061     -0.176206\n",
              "SB062      0.073913\n",
              "Name: 4분기_변화%, dtype: float64"
            ]
          },
          "metadata": {},
          "execution_count": 7
        }
      ]
    },
    {
      "cell_type": "code",
      "source": [
        "# 20년 4분기 (12월-10월)\n",
        "집계_20년_4분기 = b3.groupby('업종')['4분기_변화%'].mean().replace(np.inf,np.nan).dropna(axis=0)\n",
        "집계_20년_4분기"
      ],
      "metadata": {
        "colab": {
          "base_uri": "https://localhost:8080/"
        },
        "id": "7phWDuCHI-lK",
        "outputId": "792142b9-1f7b-4256-f0d2-1b39bea2b0fe"
      },
      "execution_count": 8,
      "outputs": [
        {
          "output_type": "execute_result",
          "data": {
            "text/plain": [
              "업종\n",
              "SB002     -0.398477\n",
              "SB003     -0.414111\n",
              "SB008     -0.403736\n",
              "SB009     -0.923214\n",
              "SB010     -0.914498\n",
              "SB011     -0.962521\n",
              "SB013      0.352428\n",
              "SB014     -0.129338\n",
              "SB016      0.022327\n",
              "SB018      0.575341\n",
              "SB023    226.937448\n",
              "SB024      0.113501\n",
              "SB028     -0.654513\n",
              "SB029     -0.662846\n",
              "SB033      1.136473\n",
              "SB035     -0.112310\n",
              "SB056     -0.096875\n",
              "SB059      2.881264\n",
              "SB061     -0.130232\n",
              "SB062      0.104833\n",
              "Name: 4분기_변화%, dtype: float64"
            ]
          },
          "metadata": {},
          "execution_count": 8
        }
      ]
    },
    {
      "cell_type": "code",
      "source": [
        "공통업종 = set(a.groupby('업종')['4분기_변화%'].mean().replace(np.inf,np.nan).dropna(axis=0).index)&set(b3.groupby('업종')['4분기_변화%'].mean().replace(np.inf,np.nan).dropna(axis=0).index)\n",
        "집계_19년_4분기[list(공통업종)], 집계_20년_4분기[list(공통업종)]\n",
        "# 시계/귀금속 (sb023)이 양쪽에서 모두 비정상적으로 크게 상승함 (19년 3월-19년1월), (20년3월-20년1월) 모두 10000%가 넘을정도면 이상치인데..."
      ],
      "metadata": {
        "colab": {
          "base_uri": "https://localhost:8080/"
        },
        "id": "cp9xJqtLJSBh",
        "outputId": "f276034f-6195-4b44-bd14-0a7c5e9e4231"
      },
      "execution_count": 9,
      "outputs": [
        {
          "output_type": "execute_result",
          "data": {
            "text/plain": [
              "(업종\n",
              " SB061     -0.176206\n",
              " SB056      0.404709\n",
              " SB028     -0.406880\n",
              " SB013      0.166797\n",
              " SB008     -0.156395\n",
              " SB035      0.072727\n",
              " SB062      0.073913\n",
              " SB023    120.304588\n",
              " SB014     -0.166662\n",
              " SB059      2.881264\n",
              " SB024      0.102811\n",
              " Name: 4분기_변화%, dtype: float64, 업종\n",
              " SB061     -0.130232\n",
              " SB056     -0.096875\n",
              " SB028     -0.654513\n",
              " SB013      0.352428\n",
              " SB008     -0.403736\n",
              " SB035     -0.112310\n",
              " SB062      0.104833\n",
              " SB023    226.937448\n",
              " SB014     -0.129338\n",
              " SB059      2.881264\n",
              " SB024      0.113501\n",
              " Name: 4분기_변화%, dtype: float64)"
            ]
          },
          "metadata": {},
          "execution_count": 9
        }
      ]
    },
    {
      "cell_type": "code",
      "source": [
        "집계_19년_4분기"
      ],
      "metadata": {
        "colab": {
          "base_uri": "https://localhost:8080/"
        },
        "id": "lnNr59agKESK",
        "outputId": "3d560901-975b-4bdf-9707-a1a0f94ff03a"
      },
      "execution_count": 10,
      "outputs": [
        {
          "output_type": "execute_result",
          "data": {
            "text/plain": [
              "업종\n",
              "SB008     -0.156395\n",
              "SB013      0.166797\n",
              "SB014     -0.166662\n",
              "SB023    120.304588\n",
              "SB024      0.102811\n",
              "SB028     -0.406880\n",
              "SB035      0.072727\n",
              "SB056      0.404709\n",
              "SB059      2.881264\n",
              "SB061     -0.176206\n",
              "SB062      0.073913\n",
              "Name: 4분기_변화%, dtype: float64"
            ]
          },
          "metadata": {},
          "execution_count": 10
        }
      ]
    },
    {
      "cell_type": "code",
      "source": [
        "집계_20년만있는업종 = set(b3.groupby('업종')['4분기_변화%'].mean().replace(np.inf,np.nan).dropna(axis=0).index)-set(a.groupby('업종')['4분기_변화%'].mean().replace(np.inf,np.nan).dropna(axis=0).index)\n",
        "집계_19년만있는업종 = set(a.groupby('업종')['4분기_변화%'].mean().replace(np.inf,np.nan).dropna(axis=0).index)-set(b3.groupby('업종')['4분기_변화%'].mean().replace(np.inf,np.nan).dropna(axis=0).index)"
      ],
      "metadata": {
        "id": "1UboUkqyKgKa"
      },
      "execution_count": 11,
      "outputs": []
    },
    {
      "cell_type": "code",
      "source": [
        "print(집계_19년만있는업종) # 없음\n",
        "집계_20년만있는업종 # 다소있음 \n",
        "\n",
        "# 20년만 있는 업종\n",
        "# SB002 일식\n",
        "# SB003 양식\n",
        "# SB009 노래방\n",
        "# SB010 기타유흥업소\n",
        "# SB011 유흥주점\n",
        "# SB016 편의점\n",
        "# SB018 정육점\n",
        "# SB029 스포츠시설\n",
        "# SB033 문화용품"
      ],
      "metadata": {
        "colab": {
          "base_uri": "https://localhost:8080/"
        },
        "id": "KAR2km9SKwcM",
        "outputId": "2d23ddca-7282-4ddd-da83-9652fade823b"
      },
      "execution_count": 12,
      "outputs": [
        {
          "output_type": "stream",
          "name": "stdout",
          "text": [
            "set()\n"
          ]
        },
        {
          "output_type": "execute_result",
          "data": {
            "text/plain": [
              "{'SB002',\n",
              " 'SB003',\n",
              " 'SB009',\n",
              " 'SB010',\n",
              " 'SB011',\n",
              " 'SB016',\n",
              " 'SB018',\n",
              " 'SB029',\n",
              " 'SB033'}"
            ]
          },
          "metadata": {},
          "execution_count": 12
        }
      ]
    },
    {
      "cell_type": "markdown",
      "source": [
        "## 코로나 이후, 충격 관련 분석(20년, 3차 대유행)"
      ],
      "metadata": {
        "id": "q6JBdXxgMaWb"
      }
    },
    {
      "cell_type": "markdown",
      "source": [
        "### 데이터 정제 "
      ],
      "metadata": {
        "id": "1erCLggsnvrk"
      }
    },
    {
      "cell_type": "code",
      "source": [
        "import warnings \n",
        "warnings.filterwarnings(action='ignore')"
      ],
      "metadata": {
        "id": "vXLRSZBgM6LU"
      },
      "execution_count": 332,
      "outputs": []
    },
    {
      "cell_type": "code",
      "source": [
        "class 분기변화율_스케일조정:\n",
        "  def __init__(self,분기,data):\n",
        "    from sklearn.preprocessing import MinMaxScaler\n",
        "    self.scaler = MinMaxScaler()\n",
        "    self.df = data\n",
        "    self.분기 = 분기\n",
        "    self.temp = self.df['{}분기_변화%'.format(self.분기)] \n",
        "    if __name__ == \"__main__\":\n",
        "      print(\"자동으로 해당분기 업종별 변화%의 MinMaxScaler를 적용해줍니다\")\n",
        "      print(__name__)\n",
        "    else:\n",
        "        print(\"임포트되어 사용됨\")\n",
        "        print(\"자동으로 해당분기 업종별 변화%의 MinMaxScaler를 적용해줍니다\")\n",
        "        print(__name__) \n",
        "  def rescale(self):\n",
        "    self.temp = self.temp.replace(np.inf,np.nan)\n",
        "    self.temp.dropna(axis=0,inplace=True)\n",
        "    minmax = pd.DataFrame()\n",
        "    # 업종별 변화추세에 따른 minmaxscaler 적용\n",
        "    for i in self.df['업종'].unique():\n",
        "      my_df = self.df[self.df['업종']==i]\n",
        "      my_df['{}분기_변화%'.format(self.분기)] = self.scaler.fit_transform(my_df['{}분기_변화%'.format(self.분기)].values.reshape(-1,1))\n",
        "      minmax = pd.concat([minmax,my_df])                                                                                                                                                                           \n",
        "    return minmax\n",
        "  def info(self):               \n",
        "    print(\"데이터 업종 가짓수\",len(self.df['업종'].unique()))\n",
        "    print(\"데이터 상권 군집수\",len(self.df['상권군집번호'].unique())) # 1분기_변화%가 무한으로 나오는걸 지워서 군집도 다소 날아감\n",
        "    print(\"데이터 전체수\",len(self.df))"
      ],
      "metadata": {
        "id": "QqleD3FsMc0Q"
      },
      "execution_count": 333,
      "outputs": []
    },
    {
      "cell_type": "code",
      "source": [
        "중간결과_19년4분기변화 = a.replace(np.inf,np.nan).dropna(axis=0)\n",
        "중간결과_19년4분기변화 = 분기변화율_스케일조정(4,중간결과_19년4분기변화).rescale()\n",
        "중간결과_19년4분기변화.head()"
      ],
      "metadata": {
        "colab": {
          "base_uri": "https://localhost:8080/",
          "height": 243
        },
        "id": "F7lhpX7EPDzm",
        "outputId": "9ea0a934-fac0-41b5-8688-8dc3fd1d28e7"
      },
      "execution_count": 334,
      "outputs": [
        {
          "output_type": "stream",
          "name": "stdout",
          "text": [
            "자동으로 해당분기 업종별 변화%의 MinMaxScaler를 적용해줍니다\n",
            "__main__\n"
          ]
        },
        {
          "output_type": "execute_result",
          "data": {
            "text/html": [
              "<div>\n",
              "<style scoped>\n",
              "    .dataframe tbody tr th:only-of-type {\n",
              "        vertical-align: middle;\n",
              "    }\n",
              "\n",
              "    .dataframe tbody tr th {\n",
              "        vertical-align: top;\n",
              "    }\n",
              "\n",
              "    .dataframe thead th {\n",
              "        text-align: right;\n",
              "    }\n",
              "</style>\n",
              "<table border=\"1\" class=\"dataframe\">\n",
              "  <thead>\n",
              "    <tr style=\"text-align: right;\">\n",
              "      <th></th>\n",
              "      <th>19년4분기</th>\n",
              "      <th>상권군집번호</th>\n",
              "      <th>업종</th>\n",
              "      <th>4분기_변화%</th>\n",
              "    </tr>\n",
              "  </thead>\n",
              "  <tbody>\n",
              "    <tr>\n",
              "      <th>0</th>\n",
              "      <td>0</td>\n",
              "      <td>0</td>\n",
              "      <td>SB016</td>\n",
              "      <td>0.039217</td>\n",
              "    </tr>\n",
              "    <tr>\n",
              "      <th>13</th>\n",
              "      <td>20</td>\n",
              "      <td>1</td>\n",
              "      <td>SB016</td>\n",
              "      <td>0.048677</td>\n",
              "    </tr>\n",
              "    <tr>\n",
              "      <th>26</th>\n",
              "      <td>81</td>\n",
              "      <td>2</td>\n",
              "      <td>SB016</td>\n",
              "      <td>0.051063</td>\n",
              "    </tr>\n",
              "    <tr>\n",
              "      <th>81</th>\n",
              "      <td>325</td>\n",
              "      <td>6</td>\n",
              "      <td>SB016</td>\n",
              "      <td>0.045905</td>\n",
              "    </tr>\n",
              "    <tr>\n",
              "      <th>96</th>\n",
              "      <td>386</td>\n",
              "      <td>7</td>\n",
              "      <td>SB016</td>\n",
              "      <td>0.062255</td>\n",
              "    </tr>\n",
              "  </tbody>\n",
              "</table>\n",
              "</div>"
            ],
            "text/plain": [
              "    19년4분기  상권군집번호     업종   4분기_변화%\n",
              "0        0       0  SB016  0.039217\n",
              "13      20       1  SB016  0.048677\n",
              "26      81       2  SB016  0.051063\n",
              "81     325       6  SB016  0.045905\n",
              "96     386       7  SB016  0.062255"
            ]
          },
          "metadata": {},
          "execution_count": 334
        }
      ]
    },
    {
      "cell_type": "code",
      "source": [
        "중간결과_20년4분기변화 = b3.replace(np.inf,np.nan).dropna(axis=0)\n",
        "중간결과_20년4분기변화 = 분기변화율_스케일조정(4,중간결과_20년4분기변화).rescale()\n",
        "중간결과_20년4분기변화.head()"
      ],
      "metadata": {
        "colab": {
          "base_uri": "https://localhost:8080/",
          "height": 243
        },
        "id": "syOpTW_-MUpK",
        "outputId": "78058f74-5739-491d-f8b2-1981a79c2c4d"
      },
      "execution_count": 335,
      "outputs": [
        {
          "output_type": "stream",
          "name": "stdout",
          "text": [
            "자동으로 해당분기 업종별 변화%의 MinMaxScaler를 적용해줍니다\n",
            "__main__\n"
          ]
        },
        {
          "output_type": "execute_result",
          "data": {
            "text/html": [
              "<div>\n",
              "<style scoped>\n",
              "    .dataframe tbody tr th:only-of-type {\n",
              "        vertical-align: middle;\n",
              "    }\n",
              "\n",
              "    .dataframe tbody tr th {\n",
              "        vertical-align: top;\n",
              "    }\n",
              "\n",
              "    .dataframe thead th {\n",
              "        text-align: right;\n",
              "    }\n",
              "</style>\n",
              "<table border=\"1\" class=\"dataframe\">\n",
              "  <thead>\n",
              "    <tr style=\"text-align: right;\">\n",
              "      <th></th>\n",
              "      <th>20년4분기</th>\n",
              "      <th>상권군집번호</th>\n",
              "      <th>업종</th>\n",
              "      <th>4분기_변화%</th>\n",
              "    </tr>\n",
              "  </thead>\n",
              "  <tbody>\n",
              "    <tr>\n",
              "      <th>0</th>\n",
              "      <td>0</td>\n",
              "      <td>0</td>\n",
              "      <td>SB016</td>\n",
              "      <td>0.039217</td>\n",
              "    </tr>\n",
              "    <tr>\n",
              "      <th>13</th>\n",
              "      <td>20</td>\n",
              "      <td>1</td>\n",
              "      <td>SB016</td>\n",
              "      <td>0.048677</td>\n",
              "    </tr>\n",
              "    <tr>\n",
              "      <th>26</th>\n",
              "      <td>81</td>\n",
              "      <td>2</td>\n",
              "      <td>SB016</td>\n",
              "      <td>0.051063</td>\n",
              "    </tr>\n",
              "    <tr>\n",
              "      <th>81</th>\n",
              "      <td>325</td>\n",
              "      <td>6</td>\n",
              "      <td>SB016</td>\n",
              "      <td>0.045905</td>\n",
              "    </tr>\n",
              "    <tr>\n",
              "      <th>96</th>\n",
              "      <td>386</td>\n",
              "      <td>7</td>\n",
              "      <td>SB016</td>\n",
              "      <td>0.062255</td>\n",
              "    </tr>\n",
              "  </tbody>\n",
              "</table>\n",
              "</div>"
            ],
            "text/plain": [
              "    20년4분기  상권군집번호     업종   4분기_변화%\n",
              "0        0       0  SB016  0.039217\n",
              "13      20       1  SB016  0.048677\n",
              "26      81       2  SB016  0.051063\n",
              "81     325       6  SB016  0.045905\n",
              "96     386       7  SB016  0.062255"
            ]
          },
          "metadata": {},
          "execution_count": 335
        }
      ]
    },
    {
      "cell_type": "code",
      "source": [
        "중간결과_20년4분기변화[중간결과_20년4분기변화.업종=='SB062'].iloc[:,[1,3]] # 변화율이 적었던 업종(주유소)"
      ],
      "metadata": {
        "colab": {
          "base_uri": "https://localhost:8080/",
          "height": 143
        },
        "id": "OAF0uJvWM_DM",
        "outputId": "13b17dc5-0795-4148-9617-9347c5a9775e"
      },
      "execution_count": 336,
      "outputs": [
        {
          "output_type": "execute_result",
          "data": {
            "text/html": [
              "<div>\n",
              "<style scoped>\n",
              "    .dataframe tbody tr th:only-of-type {\n",
              "        vertical-align: middle;\n",
              "    }\n",
              "\n",
              "    .dataframe tbody tr th {\n",
              "        vertical-align: top;\n",
              "    }\n",
              "\n",
              "    .dataframe thead th {\n",
              "        text-align: right;\n",
              "    }\n",
              "</style>\n",
              "<table border=\"1\" class=\"dataframe\">\n",
              "  <thead>\n",
              "    <tr style=\"text-align: right;\">\n",
              "      <th></th>\n",
              "      <th>상권군집번호</th>\n",
              "      <th>4분기_변화%</th>\n",
              "    </tr>\n",
              "  </thead>\n",
              "  <tbody>\n",
              "    <tr>\n",
              "      <th>416</th>\n",
              "      <td>33</td>\n",
              "      <td>0.000000</td>\n",
              "    </tr>\n",
              "    <tr>\n",
              "      <th>1770</th>\n",
              "      <td>159</td>\n",
              "      <td>1.000000</td>\n",
              "    </tr>\n",
              "    <tr>\n",
              "      <th>2972</th>\n",
              "      <td>274</td>\n",
              "      <td>0.163361</td>\n",
              "    </tr>\n",
              "  </tbody>\n",
              "</table>\n",
              "</div>"
            ],
            "text/plain": [
              "      상권군집번호   4분기_변화%\n",
              "416       33  0.000000\n",
              "1770     159  1.000000\n",
              "2972     274  0.163361"
            ]
          },
          "metadata": {},
          "execution_count": 336
        }
      ]
    },
    {
      "cell_type": "code",
      "source": [
        "중간결과_20년4분기변화[중간결과_20년4분기변화.업종=='SB035'].iloc[:,[1,3]] # 변화율이 적었던 업종(호텔콘도)"
      ],
      "metadata": {
        "colab": {
          "base_uri": "https://localhost:8080/",
          "height": 143
        },
        "id": "V1keWNoZNr8I",
        "outputId": "e549524d-a720-4043-bc8b-01e85861359d"
      },
      "execution_count": 337,
      "outputs": [
        {
          "output_type": "execute_result",
          "data": {
            "text/html": [
              "<div>\n",
              "<style scoped>\n",
              "    .dataframe tbody tr th:only-of-type {\n",
              "        vertical-align: middle;\n",
              "    }\n",
              "\n",
              "    .dataframe tbody tr th {\n",
              "        vertical-align: top;\n",
              "    }\n",
              "\n",
              "    .dataframe thead th {\n",
              "        text-align: right;\n",
              "    }\n",
              "</style>\n",
              "<table border=\"1\" class=\"dataframe\">\n",
              "  <thead>\n",
              "    <tr style=\"text-align: right;\">\n",
              "      <th></th>\n",
              "      <th>상권군집번호</th>\n",
              "      <th>4분기_변화%</th>\n",
              "    </tr>\n",
              "  </thead>\n",
              "  <tbody>\n",
              "    <tr>\n",
              "      <th>585</th>\n",
              "      <td>47</td>\n",
              "      <td>0.000000</td>\n",
              "    </tr>\n",
              "    <tr>\n",
              "      <th>1224</th>\n",
              "      <td>103</td>\n",
              "      <td>0.580792</td>\n",
              "    </tr>\n",
              "    <tr>\n",
              "      <th>3155</th>\n",
              "      <td>292</td>\n",
              "      <td>1.000000</td>\n",
              "    </tr>\n",
              "  </tbody>\n",
              "</table>\n",
              "</div>"
            ],
            "text/plain": [
              "      상권군집번호   4분기_변화%\n",
              "585       47  0.000000\n",
              "1224     103  0.580792\n",
              "3155     292  1.000000"
            ]
          },
          "metadata": {},
          "execution_count": 337
        }
      ]
    },
    {
      "cell_type": "code",
      "source": [
        "중간결과_20년4분기변화[중간결과_20년4분기변화.업종=='SB013'].iloc[:,[1,3]] # 변화율이 보통(35%)정도였던 업종 (할인점, 슈퍼마켓)"
      ],
      "metadata": {
        "colab": {
          "base_uri": "https://localhost:8080/",
          "height": 394
        },
        "id": "xjf4laxQNPkG",
        "outputId": "18cb82e7-7c6d-4729-ddae-c0f3460073d7"
      },
      "execution_count": 338,
      "outputs": [
        {
          "output_type": "execute_result",
          "data": {
            "text/html": [
              "<div>\n",
              "<style scoped>\n",
              "    .dataframe tbody tr th:only-of-type {\n",
              "        vertical-align: middle;\n",
              "    }\n",
              "\n",
              "    .dataframe tbody tr th {\n",
              "        vertical-align: top;\n",
              "    }\n",
              "\n",
              "    .dataframe thead th {\n",
              "        text-align: right;\n",
              "    }\n",
              "</style>\n",
              "<table border=\"1\" class=\"dataframe\">\n",
              "  <thead>\n",
              "    <tr style=\"text-align: right;\">\n",
              "      <th></th>\n",
              "      <th>상권군집번호</th>\n",
              "      <th>4분기_변화%</th>\n",
              "    </tr>\n",
              "  </thead>\n",
              "  <tbody>\n",
              "    <tr>\n",
              "      <th>581</th>\n",
              "      <td>47</td>\n",
              "      <td>0.182900</td>\n",
              "    </tr>\n",
              "    <tr>\n",
              "      <th>740</th>\n",
              "      <td>61</td>\n",
              "      <td>0.000000</td>\n",
              "    </tr>\n",
              "    <tr>\n",
              "      <th>788</th>\n",
              "      <td>65</td>\n",
              "      <td>1.000000</td>\n",
              "    </tr>\n",
              "    <tr>\n",
              "      <th>914</th>\n",
              "      <td>75</td>\n",
              "      <td>0.169587</td>\n",
              "    </tr>\n",
              "    <tr>\n",
              "      <th>1615</th>\n",
              "      <td>143</td>\n",
              "      <td>0.086852</td>\n",
              "    </tr>\n",
              "    <tr>\n",
              "      <th>2089</th>\n",
              "      <td>191</td>\n",
              "      <td>0.369245</td>\n",
              "    </tr>\n",
              "    <tr>\n",
              "      <th>2139</th>\n",
              "      <td>195</td>\n",
              "      <td>0.149636</td>\n",
              "    </tr>\n",
              "    <tr>\n",
              "      <th>2538</th>\n",
              "      <td>233</td>\n",
              "      <td>0.033597</td>\n",
              "    </tr>\n",
              "    <tr>\n",
              "      <th>2658</th>\n",
              "      <td>244</td>\n",
              "      <td>0.134382</td>\n",
              "    </tr>\n",
              "    <tr>\n",
              "      <th>2932</th>\n",
              "      <td>271</td>\n",
              "      <td>0.165193</td>\n",
              "    </tr>\n",
              "    <tr>\n",
              "      <th>3004</th>\n",
              "      <td>277</td>\n",
              "      <td>0.180108</td>\n",
              "    </tr>\n",
              "  </tbody>\n",
              "</table>\n",
              "</div>"
            ],
            "text/plain": [
              "      상권군집번호   4분기_변화%\n",
              "581       47  0.182900\n",
              "740       61  0.000000\n",
              "788       65  1.000000\n",
              "914       75  0.169587\n",
              "1615     143  0.086852\n",
              "2089     191  0.369245\n",
              "2139     195  0.149636\n",
              "2538     233  0.033597\n",
              "2658     244  0.134382\n",
              "2932     271  0.165193\n",
              "3004     277  0.180108"
            ]
          },
          "metadata": {},
          "execution_count": 338
        }
      ]
    },
    {
      "cell_type": "code",
      "source": [
        "중간결과_20년4분기변화[중간결과_20년4분기변화.업종=='SB023'].iloc[:,[1,3]] # 변화율이 너무 컸던 업종 (시계/귀금속) -> 하나의 이상치가 역시나 존재한게 문제였음 "
      ],
      "metadata": {
        "colab": {
          "base_uri": "https://localhost:8080/",
          "height": 426
        },
        "id": "4RHKZhL-OCDd",
        "outputId": "a54f8d6a-8af8-4e3e-e533-c0db0972c4d9"
      },
      "execution_count": 339,
      "outputs": [
        {
          "output_type": "execute_result",
          "data": {
            "text/html": [
              "<div>\n",
              "<style scoped>\n",
              "    .dataframe tbody tr th:only-of-type {\n",
              "        vertical-align: middle;\n",
              "    }\n",
              "\n",
              "    .dataframe tbody tr th {\n",
              "        vertical-align: top;\n",
              "    }\n",
              "\n",
              "    .dataframe thead th {\n",
              "        text-align: right;\n",
              "    }\n",
              "</style>\n",
              "<table border=\"1\" class=\"dataframe\">\n",
              "  <thead>\n",
              "    <tr style=\"text-align: right;\">\n",
              "      <th></th>\n",
              "      <th>상권군집번호</th>\n",
              "      <th>4분기_변화%</th>\n",
              "    </tr>\n",
              "  </thead>\n",
              "  <tbody>\n",
              "    <tr>\n",
              "      <th>73</th>\n",
              "      <td>5</td>\n",
              "      <td>0.000392</td>\n",
              "    </tr>\n",
              "    <tr>\n",
              "      <th>469</th>\n",
              "      <td>37</td>\n",
              "      <td>0.000032</td>\n",
              "    </tr>\n",
              "    <tr>\n",
              "      <th>899</th>\n",
              "      <td>74</td>\n",
              "      <td>0.000184</td>\n",
              "    </tr>\n",
              "    <tr>\n",
              "      <th>1187</th>\n",
              "      <td>100</td>\n",
              "      <td>0.000427</td>\n",
              "    </tr>\n",
              "    <tr>\n",
              "      <th>1250</th>\n",
              "      <td>106</td>\n",
              "      <td>0.000862</td>\n",
              "    </tr>\n",
              "    <tr>\n",
              "      <th>1571</th>\n",
              "      <td>139</td>\n",
              "      <td>0.000286</td>\n",
              "    </tr>\n",
              "    <tr>\n",
              "      <th>1586</th>\n",
              "      <td>140</td>\n",
              "      <td>1.000000</td>\n",
              "    </tr>\n",
              "    <tr>\n",
              "      <th>2090</th>\n",
              "      <td>191</td>\n",
              "      <td>0.000050</td>\n",
              "    </tr>\n",
              "    <tr>\n",
              "      <th>2110</th>\n",
              "      <td>193</td>\n",
              "      <td>0.003886</td>\n",
              "    </tr>\n",
              "    <tr>\n",
              "      <th>2267</th>\n",
              "      <td>207</td>\n",
              "      <td>0.000419</td>\n",
              "    </tr>\n",
              "    <tr>\n",
              "      <th>2727</th>\n",
              "      <td>251</td>\n",
              "      <td>0.000000</td>\n",
              "    </tr>\n",
              "    <tr>\n",
              "      <th>3109</th>\n",
              "      <td>288</td>\n",
              "      <td>0.000139</td>\n",
              "    </tr>\n",
              "  </tbody>\n",
              "</table>\n",
              "</div>"
            ],
            "text/plain": [
              "      상권군집번호   4분기_변화%\n",
              "73         5  0.000392\n",
              "469       37  0.000032\n",
              "899       74  0.000184\n",
              "1187     100  0.000427\n",
              "1250     106  0.000862\n",
              "1571     139  0.000286\n",
              "1586     140  1.000000\n",
              "2090     191  0.000050\n",
              "2110     193  0.003886\n",
              "2267     207  0.000419\n",
              "2727     251  0.000000\n",
              "3109     288  0.000139"
            ]
          },
          "metadata": {},
          "execution_count": 339
        }
      ]
    },
    {
      "cell_type": "code",
      "source": [
        "중간결과_20년4분기변화[중간결과_20년4분기변화.업종=='SB059'].iloc[:,[1,3]] # 변화율이 너무 컸던 업종 (자동차판매) # 상점이 하나만 있는 경우에 min_max를 적용하면 그냥 0으로 됨."
      ],
      "metadata": {
        "colab": {
          "base_uri": "https://localhost:8080/",
          "height": 81
        },
        "id": "e8rEQAZOO5DA",
        "outputId": "9a2ff27a-b948-4ef1-f6a8-b09a43be9e0c"
      },
      "execution_count": 340,
      "outputs": [
        {
          "output_type": "execute_result",
          "data": {
            "text/html": [
              "<div>\n",
              "<style scoped>\n",
              "    .dataframe tbody tr th:only-of-type {\n",
              "        vertical-align: middle;\n",
              "    }\n",
              "\n",
              "    .dataframe tbody tr th {\n",
              "        vertical-align: top;\n",
              "    }\n",
              "\n",
              "    .dataframe thead th {\n",
              "        text-align: right;\n",
              "    }\n",
              "</style>\n",
              "<table border=\"1\" class=\"dataframe\">\n",
              "  <thead>\n",
              "    <tr style=\"text-align: right;\">\n",
              "      <th></th>\n",
              "      <th>상권군집번호</th>\n",
              "      <th>4분기_변화%</th>\n",
              "    </tr>\n",
              "  </thead>\n",
              "  <tbody>\n",
              "    <tr>\n",
              "      <th>357</th>\n",
              "      <td>29</td>\n",
              "      <td>0.0</td>\n",
              "    </tr>\n",
              "  </tbody>\n",
              "</table>\n",
              "</div>"
            ],
            "text/plain": [
              "     상권군집번호  4분기_변화%\n",
              "357      29      0.0"
            ]
          },
          "metadata": {},
          "execution_count": 340
        }
      ]
    },
    {
      "cell_type": "code",
      "source": [
        "중간결과_20년4분기변화[중간결과_19년4분기변화.업종=='SB059'].iloc[:,[1,3]] # 변화율이 너무 컸던 업종 (자동차판매) # 상점이 하나만 있는 경우에 min_max를 적용하면 그냥 0으로 됨(19년,20년 마찬가지)"
      ],
      "metadata": {
        "colab": {
          "base_uri": "https://localhost:8080/",
          "height": 81
        },
        "id": "KQFT6MvYPIsC",
        "outputId": "fc3b7c3d-a3cf-4ae8-dc77-d3d2b8cf3c3a"
      },
      "execution_count": 341,
      "outputs": [
        {
          "output_type": "execute_result",
          "data": {
            "text/html": [
              "<div>\n",
              "<style scoped>\n",
              "    .dataframe tbody tr th:only-of-type {\n",
              "        vertical-align: middle;\n",
              "    }\n",
              "\n",
              "    .dataframe tbody tr th {\n",
              "        vertical-align: top;\n",
              "    }\n",
              "\n",
              "    .dataframe thead th {\n",
              "        text-align: right;\n",
              "    }\n",
              "</style>\n",
              "<table border=\"1\" class=\"dataframe\">\n",
              "  <thead>\n",
              "    <tr style=\"text-align: right;\">\n",
              "      <th></th>\n",
              "      <th>상권군집번호</th>\n",
              "      <th>4분기_변화%</th>\n",
              "    </tr>\n",
              "  </thead>\n",
              "  <tbody>\n",
              "    <tr>\n",
              "      <th>357</th>\n",
              "      <td>29</td>\n",
              "      <td>0.0</td>\n",
              "    </tr>\n",
              "  </tbody>\n",
              "</table>\n",
              "</div>"
            ],
            "text/plain": [
              "     상권군집번호  4분기_변화%\n",
              "357      29      0.0"
            ]
          },
          "metadata": {},
          "execution_count": 341
        }
      ]
    },
    {
      "cell_type": "code",
      "source": [
        "# 자식 클래스\n",
        "class 분기변화율_재조정(분기변화율_스케일조정):\n",
        "    def __init__(self, 분기, data):\n",
        "        super(분기변화율_재조정, self).__init__(분기, data)  # 부모 클래스 생성자 호출\n",
        "        print('분기변화율_재조정 생성자 호출') \n",
        "    def outliers_iqr(self,data):\n",
        "      q1, q3 = np.percentile(data, [25,75])\n",
        "      iqr = q3-q1\n",
        "      lower_bound = q1 - (iqr*7.0) # 보통 정하는 1.5 기준보다 더 크게 벗어난 이상치들을 제거(너무 데이터가 적어질것을 우려)\n",
        "      upper_bound = q3 + (iqr*7.0)\n",
        "      return np.where((data>upper_bound)|(data<lower_bound))\n",
        "    def del_outlier(self):\n",
        "      temp = self.rescale().iloc[:,[1,2,3]]\n",
        "      result = pd.DataFrame()\n",
        "      outlier_df = pd.DataFrame()\n",
        "      for i in temp.업종.unique():  \n",
        "        if temp.groupby('업종').count()['4분기_변화%'].loc[i]==1:\n",
        "          idx = temp[temp['업종']==i].index\n",
        "          outlier_df = pd.concat([outlier_df,temp.loc[idx]],axis=0)\n",
        "          temp = temp.drop(idx)\n",
        "        # try: # 위의 과정으로 인해 이미 없어진 업종이 아니라면 아래작업 수행(수치적 이상치)\n",
        "        #   out_idx = self.outliers_iqr(data=temp[temp['업종']==i]['4분기_변화%'])[0]\n",
        "        #   outlier_df = pd.concat([outlier_df,temp[temp['업종']==i].iloc[out_idx]],axis=0)\n",
        "        # except: # 이미 없어진 업종이라면 pass\n",
        "        #   pass          \n",
        "      \n",
        "      return temp,outlier_df  "
      ],
      "metadata": {
        "id": "5Iu1rt8mQ1IO"
      },
      "execution_count": 342,
      "outputs": []
    },
    {
      "cell_type": "code",
      "source": [
        "def outliers_iqr(data):\n",
        "  q1, q3 = np.percentile(data, [25,75])\n",
        "  iqr = q3-q1\n",
        "  lower_bound = q1 - (iqr*7.0) # 보통 정하는 1.5 기준보다 더 크게 벗어난 이상치들을 제거(너무 데이터가 적어질것을 우려)\n",
        "  upper_bound = q3 + (iqr*7.0)\n",
        "  return np.where((data>upper_bound)|(data<lower_bound))"
      ],
      "metadata": {
        "id": "ZMPQ-37AKL3f"
      },
      "execution_count": 343,
      "outputs": []
    },
    {
      "cell_type": "code",
      "source": [
        "import matplotlib.pyplot as plt\n",
        "import seaborn as sns\n",
        "\n",
        "ang = 중간결과_20년4분기변화\n",
        "print(outliers_iqr(ang[ang['업종']=='SB013']['4분기_변화%']))\n",
        "\n",
        "plt.figure(figsize=(12,8))\n",
        "sns.boxplot(data = ang[ang['업종']=='SB013']['4분기_변화%'].values,color='blue')\n",
        "plt.show()"
      ],
      "metadata": {
        "colab": {
          "base_uri": "https://localhost:8080/",
          "height": 501
        },
        "id": "JpibS0cjgaIu",
        "outputId": "1faa73e0-aa59-44d6-c9ef-33a889ccace8"
      },
      "execution_count": 344,
      "outputs": [
        {
          "output_type": "stream",
          "name": "stdout",
          "text": [
            "(array([2]),)\n"
          ]
        },
        {
          "output_type": "display_data",
          "data": {
            "image/png": "[encoded data removed]",
            "text/plain": [
              "<Figure size 864x576 with 1 Axes>"
            ]
          },
          "metadata": {
            "needs_background": "light"
          }
        }
      ]
    },
    {
      "cell_type": "code",
      "source": [
        "import matplotlib.pyplot as plt\n",
        "import seaborn as sns\n",
        "plt.figure(figsize=(12,8))\n",
        "sns.boxplot(data = ang[ang['업종']=='SB016']['4분기_변화%'],color='blue')\n",
        "plt.show()"
      ],
      "metadata": {
        "colab": {
          "base_uri": "https://localhost:8080/",
          "height": 483
        },
        "id": "UGXIQpc0gSZu",
        "outputId": "cf1ef395-d258-4288-bcb0-5b60371a63dd"
      },
      "execution_count": 345,
      "outputs": [
        {
          "output_type": "display_data",
          "data": {
            "image/png": "[encoded data removed]",
            "text/plain": [
              "<Figure size 864x576 with 1 Axes>"
            ]
          },
          "metadata": {
            "needs_background": "light"
          }
        }
      ]
    },
    {
      "cell_type": "code",
      "source": [
        "import matplotlib.pyplot as plt\n",
        "import seaborn as sns\n",
        "plt.figure(figsize=(12,8))\n",
        "sns.boxplot(data = ang[ang['업종']=='SB016'].iloc[:-157]['4분기_변화%'],color='blue')\n",
        "plt.show()"
      ],
      "metadata": {
        "colab": {
          "base_uri": "https://localhost:8080/",
          "height": 483
        },
        "id": "Tj1NRWQDfTzL",
        "outputId": "510717c8-9273-4937-f9d6-33991f16ab7a"
      },
      "execution_count": 346,
      "outputs": [
        {
          "output_type": "display_data",
          "data": {
            "image/png": "[encoded data removed]",
            "text/plain": [
              "<Figure size 864x576 with 1 Axes>"
            ]
          },
          "metadata": {
            "needs_background": "light"
          }
        }
      ]
    },
    {
      "cell_type": "code",
      "source": [
        "분기변화율_20년4분기,outliers = 분기변화율_재조정(4,중간결과_20년4분기변화).del_outlier()\n",
        "분기변화율_20년4분기"
      ],
      "metadata": {
        "colab": {
          "base_uri": "https://localhost:8080/",
          "height": 479
        },
        "id": "r2peLpR2nse0",
        "outputId": "6555d1ca-2985-4d7d-dc8b-7a93d365e61e"
      },
      "execution_count": 347,
      "outputs": [
        {
          "output_type": "stream",
          "name": "stdout",
          "text": [
            "자동으로 해당분기 업종별 변화%의 MinMaxScaler를 적용해줍니다\n",
            "__main__\n",
            "분기변화율_재조정 생성자 호출\n"
          ]
        },
        {
          "output_type": "execute_result",
          "data": {
            "text/html": [
              "<div>\n",
              "<style scoped>\n",
              "    .dataframe tbody tr th:only-of-type {\n",
              "        vertical-align: middle;\n",
              "    }\n",
              "\n",
              "    .dataframe tbody tr th {\n",
              "        vertical-align: top;\n",
              "    }\n",
              "\n",
              "    .dataframe thead th {\n",
              "        text-align: right;\n",
              "    }\n",
              "</style>\n",
              "<table border=\"1\" class=\"dataframe\">\n",
              "  <thead>\n",
              "    <tr style=\"text-align: right;\">\n",
              "      <th></th>\n",
              "      <th>상권군집번호</th>\n",
              "      <th>업종</th>\n",
              "      <th>4분기_변화%</th>\n",
              "    </tr>\n",
              "  </thead>\n",
              "  <tbody>\n",
              "    <tr>\n",
              "      <th>0</th>\n",
              "      <td>0</td>\n",
              "      <td>SB016</td>\n",
              "      <td>0.039217</td>\n",
              "    </tr>\n",
              "    <tr>\n",
              "      <th>13</th>\n",
              "      <td>1</td>\n",
              "      <td>SB016</td>\n",
              "      <td>0.048677</td>\n",
              "    </tr>\n",
              "    <tr>\n",
              "      <th>26</th>\n",
              "      <td>2</td>\n",
              "      <td>SB016</td>\n",
              "      <td>0.051063</td>\n",
              "    </tr>\n",
              "    <tr>\n",
              "      <th>81</th>\n",
              "      <td>6</td>\n",
              "      <td>SB016</td>\n",
              "      <td>0.045905</td>\n",
              "    </tr>\n",
              "    <tr>\n",
              "      <th>96</th>\n",
              "      <td>7</td>\n",
              "      <td>SB016</td>\n",
              "      <td>0.062255</td>\n",
              "    </tr>\n",
              "    <tr>\n",
              "      <th>...</th>\n",
              "      <td>...</td>\n",
              "      <td>...</td>\n",
              "      <td>...</td>\n",
              "    </tr>\n",
              "    <tr>\n",
              "      <th>3110</th>\n",
              "      <td>288</td>\n",
              "      <td>SB029</td>\n",
              "      <td>0.074136</td>\n",
              "    </tr>\n",
              "    <tr>\n",
              "      <th>1597</th>\n",
              "      <td>141</td>\n",
              "      <td>SB061</td>\n",
              "      <td>0.000000</td>\n",
              "    </tr>\n",
              "    <tr>\n",
              "      <th>2231</th>\n",
              "      <td>204</td>\n",
              "      <td>SB061</td>\n",
              "      <td>0.127166</td>\n",
              "    </tr>\n",
              "    <tr>\n",
              "      <th>2947</th>\n",
              "      <td>272</td>\n",
              "      <td>SB061</td>\n",
              "      <td>1.000000</td>\n",
              "    </tr>\n",
              "    <tr>\n",
              "      <th>3188</th>\n",
              "      <td>296</td>\n",
              "      <td>SB061</td>\n",
              "      <td>0.693371</td>\n",
              "    </tr>\n",
              "  </tbody>\n",
              "</table>\n",
              "<p>3118 rows × 3 columns</p>\n",
              "</div>"
            ],
            "text/plain": [
              "      상권군집번호     업종   4분기_변화%\n",
              "0          0  SB016  0.039217\n",
              "13         1  SB016  0.048677\n",
              "26         2  SB016  0.051063\n",
              "81         6  SB016  0.045905\n",
              "96         7  SB016  0.062255\n",
              "...      ...    ...       ...\n",
              "3110     288  SB029  0.074136\n",
              "1597     141  SB061  0.000000\n",
              "2231     204  SB061  0.127166\n",
              "2947     272  SB061  1.000000\n",
              "3188     296  SB061  0.693371\n",
              "\n",
              "[3118 rows x 3 columns]"
            ]
          },
          "metadata": {},
          "execution_count": 347
        }
      ]
    },
    {
      "cell_type": "code",
      "source": [
        "outliers # 아웃라이어 1(상점이 하나인 곳)+37(수치가 이상한곳) = 총 38개 거름"
      ],
      "metadata": {
        "colab": {
          "base_uri": "https://localhost:8080/",
          "height": 81
        },
        "id": "CV9agva6sVs6",
        "outputId": "9abb337a-9939-4af8-c460-60eb8dc07e12"
      },
      "execution_count": 348,
      "outputs": [
        {
          "output_type": "execute_result",
          "data": {
            "text/html": [
              "<div>\n",
              "<style scoped>\n",
              "    .dataframe tbody tr th:only-of-type {\n",
              "        vertical-align: middle;\n",
              "    }\n",
              "\n",
              "    .dataframe tbody tr th {\n",
              "        vertical-align: top;\n",
              "    }\n",
              "\n",
              "    .dataframe thead th {\n",
              "        text-align: right;\n",
              "    }\n",
              "</style>\n",
              "<table border=\"1\" class=\"dataframe\">\n",
              "  <thead>\n",
              "    <tr style=\"text-align: right;\">\n",
              "      <th></th>\n",
              "      <th>상권군집번호</th>\n",
              "      <th>업종</th>\n",
              "      <th>4분기_변화%</th>\n",
              "    </tr>\n",
              "  </thead>\n",
              "  <tbody>\n",
              "    <tr>\n",
              "      <th>357</th>\n",
              "      <td>29</td>\n",
              "      <td>SB059</td>\n",
              "      <td>0.0</td>\n",
              "    </tr>\n",
              "  </tbody>\n",
              "</table>\n",
              "</div>"
            ],
            "text/plain": [
              "     상권군집번호     업종  4분기_변화%\n",
              "357      29  SB059      0.0"
            ]
          },
          "metadata": {},
          "execution_count": 348
        }
      ]
    },
    {
      "cell_type": "code",
      "source": [
        "분기변화율_재조정(4,중간결과_20년4분기변화).rescale()[분기변화율_재조정(4,중간결과_20년4분기변화).rescale().업종=='SB001'].sort_values(by='4분기_변화%',ascending=False)"
      ],
      "metadata": {
        "colab": {
          "base_uri": "https://localhost:8080/",
          "height": 534
        },
        "id": "i_gCtChZ8QtL",
        "outputId": "d133a8c2-799b-4fca-be7f-b8f1554f3297"
      },
      "execution_count": 349,
      "outputs": [
        {
          "output_type": "stream",
          "name": "stdout",
          "text": [
            "자동으로 해당분기 업종별 변화%의 MinMaxScaler를 적용해줍니다\n",
            "__main__\n",
            "분기변화율_재조정 생성자 호출\n",
            "자동으로 해당분기 업종별 변화%의 MinMaxScaler를 적용해줍니다\n",
            "__main__\n",
            "분기변화율_재조정 생성자 호출\n"
          ]
        },
        {
          "output_type": "execute_result",
          "data": {
            "text/html": [
              "<div>\n",
              "<style scoped>\n",
              "    .dataframe tbody tr th:only-of-type {\n",
              "        vertical-align: middle;\n",
              "    }\n",
              "\n",
              "    .dataframe tbody tr th {\n",
              "        vertical-align: top;\n",
              "    }\n",
              "\n",
              "    .dataframe thead th {\n",
              "        text-align: right;\n",
              "    }\n",
              "</style>\n",
              "<table border=\"1\" class=\"dataframe\">\n",
              "  <thead>\n",
              "    <tr style=\"text-align: right;\">\n",
              "      <th></th>\n",
              "      <th>20년4분기</th>\n",
              "      <th>상권군집번호</th>\n",
              "      <th>업종</th>\n",
              "      <th>4분기_변화%</th>\n",
              "    </tr>\n",
              "  </thead>\n",
              "  <tbody>\n",
              "    <tr>\n",
              "      <th>1518</th>\n",
              "      <td>8174</td>\n",
              "      <td>134</td>\n",
              "      <td>SB001</td>\n",
              "      <td>1.000000</td>\n",
              "    </tr>\n",
              "    <tr>\n",
              "      <th>487</th>\n",
              "      <td>2379</td>\n",
              "      <td>39</td>\n",
              "      <td>SB001</td>\n",
              "      <td>0.094181</td>\n",
              "    </tr>\n",
              "    <tr>\n",
              "      <th>1213</th>\n",
              "      <td>6222</td>\n",
              "      <td>102</td>\n",
              "      <td>SB001</td>\n",
              "      <td>0.081213</td>\n",
              "    </tr>\n",
              "    <tr>\n",
              "      <th>961</th>\n",
              "      <td>4880</td>\n",
              "      <td>80</td>\n",
              "      <td>SB001</td>\n",
              "      <td>0.070425</td>\n",
              "    </tr>\n",
              "    <tr>\n",
              "      <th>1119</th>\n",
              "      <td>5673</td>\n",
              "      <td>93</td>\n",
              "      <td>SB001</td>\n",
              "      <td>0.050592</td>\n",
              "    </tr>\n",
              "    <tr>\n",
              "      <th>...</th>\n",
              "      <td>...</td>\n",
              "      <td>...</td>\n",
              "      <td>...</td>\n",
              "      <td>...</td>\n",
              "    </tr>\n",
              "    <tr>\n",
              "      <th>1430</th>\n",
              "      <td>7686</td>\n",
              "      <td>126</td>\n",
              "      <td>SB001</td>\n",
              "      <td>0.002387</td>\n",
              "    </tr>\n",
              "    <tr>\n",
              "      <th>850</th>\n",
              "      <td>4270</td>\n",
              "      <td>70</td>\n",
              "      <td>SB001</td>\n",
              "      <td>0.002235</td>\n",
              "    </tr>\n",
              "    <tr>\n",
              "      <th>449</th>\n",
              "      <td>2135</td>\n",
              "      <td>35</td>\n",
              "      <td>SB001</td>\n",
              "      <td>0.000696</td>\n",
              "    </tr>\n",
              "    <tr>\n",
              "      <th>2697</th>\n",
              "      <td>15189</td>\n",
              "      <td>249</td>\n",
              "      <td>SB001</td>\n",
              "      <td>0.000000</td>\n",
              "    </tr>\n",
              "    <tr>\n",
              "      <th>3010</th>\n",
              "      <td>16958</td>\n",
              "      <td>278</td>\n",
              "      <td>SB001</td>\n",
              "      <td>0.000000</td>\n",
              "    </tr>\n",
              "  </tbody>\n",
              "</table>\n",
              "<p>281 rows × 4 columns</p>\n",
              "</div>"
            ],
            "text/plain": [
              "      20년4분기  상권군집번호     업종   4분기_변화%\n",
              "1518    8174     134  SB001  1.000000\n",
              "487     2379      39  SB001  0.094181\n",
              "1213    6222     102  SB001  0.081213\n",
              "961     4880      80  SB001  0.070425\n",
              "1119    5673      93  SB001  0.050592\n",
              "...      ...     ...    ...       ...\n",
              "1430    7686     126  SB001  0.002387\n",
              "850     4270      70  SB001  0.002235\n",
              "449     2135      35  SB001  0.000696\n",
              "2697   15189     249  SB001  0.000000\n",
              "3010   16958     278  SB001  0.000000\n",
              "\n",
              "[281 rows x 4 columns]"
            ]
          },
          "metadata": {},
          "execution_count": 349
        }
      ]
    },
    {
      "cell_type": "markdown",
      "source": [
        "### 정제 끝 분석 시작 "
      ],
      "metadata": {
        "id": "ZPlS3_SnnriM"
      }
    },
    {
      "cell_type": "code",
      "source": [
        "분기변화율_20년4분기.groupby('상권군집번호')['업종'].unique()"
      ],
      "metadata": {
        "colab": {
          "base_uri": "https://localhost:8080/"
        },
        "id": "WXghRWyov7Ix",
        "outputId": "bfc26479-5921-481e-86c2-fa2a621a1b15"
      },
      "execution_count": 350,
      "outputs": [
        {
          "output_type": "execute_result",
          "data": {
            "text/plain": [
              "상권군집번호\n",
              "0      [SB016, SB003, SB047, SB041, SB017, SB008, SB0...\n",
              "1      [SB016, SB008, SB002, SB001, SB039, SB042, SB0...\n",
              "2      [SB016, SB003, SB008, SB004, SB002, SB001, SB0...\n",
              "3      [SB003, SB008, SB004, SB001, SB039, SB020, SB0...\n",
              "4      [SB003, SB047, SB041, SB008, SB002, SB001, SB0...\n",
              "                             ...                        \n",
              "295    [SB016, SB047, SB001, SB039, SB020, SB009, SB0...\n",
              "296                                       [SB055, SB061]\n",
              "297                         [SB016, SB003, SB001, SB028]\n",
              "298    [SB003, SB047, SB041, SB008, SB001, SB039, SB0...\n",
              "299    [SB003, SB008, SB002, SB001, SB039, SB044, SB0...\n",
              "Name: 업종, Length: 296, dtype: object"
            ]
          },
          "metadata": {},
          "execution_count": 350
        }
      ]
    },
    {
      "cell_type": "code",
      "source": [
        "tot_list = []\n",
        "for i in 분기변화율_20년4분기.groupby('상권군집번호')['업종'].unique():\n",
        "  tot_list.append(list(i))\n",
        "len(tot_list)"
      ],
      "metadata": {
        "colab": {
          "base_uri": "https://localhost:8080/"
        },
        "id": "ltl9zTUSw-XV",
        "outputId": "84693a13-d2d8-4680-8f31-7201499ee2b8"
      },
      "execution_count": 351,
      "outputs": [
        {
          "output_type": "execute_result",
          "data": {
            "text/plain": [
              "296"
            ]
          },
          "metadata": {},
          "execution_count": 351
        }
      ]
    },
    {
      "cell_type": "code",
      "source": [
        "print(len(중간결과_20년4분기변화['업종'].unique()))"
      ],
      "metadata": {
        "colab": {
          "base_uri": "https://localhost:8080/"
        },
        "id": "jTjesoVpxZZp",
        "outputId": "d1895e73-394f-4fd6-cb48-1feff3e9180e"
      },
      "execution_count": 352,
      "outputs": [
        {
          "output_type": "stream",
          "name": "stdout",
          "text": [
            "50\n"
          ]
        }
      ]
    },
    {
      "cell_type": "code",
      "source": [
        "from mlxtend.frequent_patterns import apriori\n",
        "from mlxtend.frequent_patterns import association_rules\n",
        "from mlxtend.preprocessing import TransactionEncoder"
      ],
      "metadata": {
        "id": "Bd3xZFp40AED"
      },
      "execution_count": 353,
      "outputs": []
    },
    {
      "cell_type": "code",
      "source": [
        "tot_list # 부호 부여하기전, 단순하게 가까이 묶여있는 현재 상태로서의 장바구니 정보\n",
        "te = TransactionEncoder()\n",
        "te_result = te.fit(tot_list).transform(tot_list)\n",
        "te_result"
      ],
      "metadata": {
        "colab": {
          "base_uri": "https://localhost:8080/"
        },
        "id": "LWdmm_962OTL",
        "outputId": "82eafafa-b0f0-4aeb-b4dd-816668d33c19"
      },
      "execution_count": 550,
      "outputs": [
        {
          "output_type": "execute_result",
          "data": {
            "text/plain": [
              "array([[ True,  True,  True, ..., False, False, False],\n",
              "       [ True,  True, False, ..., False, False, False],\n",
              "       [ True,  True,  True, ..., False, False, False],\n",
              "       ...,\n",
              "       [ True, False,  True, ..., False, False, False],\n",
              "       [ True, False,  True, ..., False, False, False],\n",
              "       [ True,  True,  True, ..., False, False, False]])"
            ]
          },
          "metadata": {},
          "execution_count": 550
        }
      ]
    },
    {
      "cell_type": "code",
      "source": [
        "분기변화율_20년4분기.groupby('상권군집번호')['업종'].unique().index # 군집번호임"
      ],
      "metadata": {
        "colab": {
          "base_uri": "https://localhost:8080/"
        },
        "id": "n9JOzdlC-meA",
        "outputId": "3dada7dc-0d6a-4485-ccbb-9a9a73da5637"
      },
      "execution_count": 441,
      "outputs": [
        {
          "output_type": "execute_result",
          "data": {
            "text/plain": [
              "Int64Index([  0,   1,   2,   3,   4,   5,   6,   7,   8,   9,\n",
              "            ...\n",
              "            290, 291, 292, 293, 294, 295, 296, 297, 298, 299],\n",
              "           dtype='int64', name='상권군집번호', length=296)"
            ]
          },
          "metadata": {},
          "execution_count": 441
        }
      ]
    },
    {
      "cell_type": "code",
      "source": [
        "# 상권군집번호 라는 중요한 index정보를 잃어버리지 않도록 \n",
        "hallo = pd.DataFrame(te_result,columns =te.columns_)\n",
        "hallo.index = 분기변화율_20년4분기.groupby('상권군집번호')['업종'].unique().index\n",
        "\n",
        "for iter,i in enumerate(분기변화율_20년4분기.groupby('상권군집번호')['업종'].unique()):\n",
        "  idx = 분기변화율_20년4분기.groupby('상권군집번호')['업종'].unique().index[iter]\n",
        "  for j in i:\n",
        "    temp = hallo[hallo.index==idx].T\n",
        "    temp = list(temp[temp[idx]==True].index)\n",
        "    globals()['군집{0}_{1}의근처업종'.format(idx,j)] = temp # 본인 업종 포함하고, 근처업종"
      ],
      "metadata": {
        "id": "jS7B-PLc-G4W"
      },
      "execution_count": 551,
      "outputs": []
    },
    {
      "cell_type": "code",
      "source": [
        "def top(df, ratio, column, opt): # default옵션 ratio->0.3 , opt=False (상위 30%)\n",
        "  n = int(np.floor(len(df)*ratio)) # 소수점 이하는 버림. \n",
        "  return df.sort_values(by=column, ascending=opt)[:n]\n",
        "\n",
        "top_4분기_업종별_상위30 = 분기변화율_20년4분기.groupby('업종').apply(top,ratio=0.3, column='4분기_변화%',opt=False)\n",
        "top_4분기_업종별_하위30 = 분기변화율_20년4분기.groupby('업종').apply(top,ratio=0.3, column='4분기_변화%',opt=True)"
      ],
      "metadata": {
        "id": "lN-EL-MJ0KxU"
      },
      "execution_count": 552,
      "outputs": []
    },
    {
      "cell_type": "code",
      "source": [
        "top_4분기_업종별_상위30.to_excel('top_4분기_업종별_상위30.xlsx')"
      ],
      "metadata": {
        "id": "_KW-bsbD5kOW"
      },
      "execution_count": 360,
      "outputs": []
    },
    {
      "cell_type": "code",
      "source": [
        "top_4분기_업종별_하위30.to_excel('top_4분기_업종별_하위30.xlsx')"
      ],
      "metadata": {
        "id": "shMzglRV5bSn"
      },
      "execution_count": 361,
      "outputs": []
    },
    {
      "cell_type": "markdown",
      "source": [
        "### 연관분석 어레인지 ( 아래의 예시에서 영감을 받아서, 새롭게 부호를 부여해서 하는 연관분석!! )"
      ],
      "metadata": {
        "id": "DA28ywr22ZIM"
      }
    },
    {
      "cell_type": "markdown",
      "source": [
        "### 지정업종별로, 상위 성적을 거둔 군집 및 주변 업종 파악 "
      ],
      "metadata": {
        "id": "qK3BqvQuNQk0"
      }
    },
    {
      "cell_type": "code",
      "source": [
        "top_4분기_업종별_상위30.loc['SB001']  #한식"
      ],
      "metadata": {
        "colab": {
          "base_uri": "https://localhost:8080/",
          "height": 424
        },
        "id": "7HCW_FcLI9Xc",
        "outputId": "b129bc8b-9c86-4b92-84fc-b51ab92792aa"
      },
      "execution_count": 555,
      "outputs": [
        {
          "output_type": "execute_result",
          "data": {
            "text/html": [
              "<div>\n",
              "<style scoped>\n",
              "    .dataframe tbody tr th:only-of-type {\n",
              "        vertical-align: middle;\n",
              "    }\n",
              "\n",
              "    .dataframe tbody tr th {\n",
              "        vertical-align: top;\n",
              "    }\n",
              "\n",
              "    .dataframe thead th {\n",
              "        text-align: right;\n",
              "    }\n",
              "</style>\n",
              "<table border=\"1\" class=\"dataframe\">\n",
              "  <thead>\n",
              "    <tr style=\"text-align: right;\">\n",
              "      <th></th>\n",
              "      <th>상권군집번호</th>\n",
              "      <th>업종</th>\n",
              "      <th>4분기_변화%</th>\n",
              "    </tr>\n",
              "  </thead>\n",
              "  <tbody>\n",
              "    <tr>\n",
              "      <th>1518</th>\n",
              "      <td>134</td>\n",
              "      <td>SB001</td>\n",
              "      <td>1.000000</td>\n",
              "    </tr>\n",
              "    <tr>\n",
              "      <th>487</th>\n",
              "      <td>39</td>\n",
              "      <td>SB001</td>\n",
              "      <td>0.094181</td>\n",
              "    </tr>\n",
              "    <tr>\n",
              "      <th>1213</th>\n",
              "      <td>102</td>\n",
              "      <td>SB001</td>\n",
              "      <td>0.081213</td>\n",
              "    </tr>\n",
              "    <tr>\n",
              "      <th>961</th>\n",
              "      <td>80</td>\n",
              "      <td>SB001</td>\n",
              "      <td>0.070425</td>\n",
              "    </tr>\n",
              "    <tr>\n",
              "      <th>1119</th>\n",
              "      <td>93</td>\n",
              "      <td>SB001</td>\n",
              "      <td>0.050592</td>\n",
              "    </tr>\n",
              "    <tr>\n",
              "      <th>...</th>\n",
              "      <td>...</td>\n",
              "      <td>...</td>\n",
              "      <td>...</td>\n",
              "    </tr>\n",
              "    <tr>\n",
              "      <th>1952</th>\n",
              "      <td>178</td>\n",
              "      <td>SB001</td>\n",
              "      <td>0.022932</td>\n",
              "    </tr>\n",
              "    <tr>\n",
              "      <th>928</th>\n",
              "      <td>76</td>\n",
              "      <td>SB001</td>\n",
              "      <td>0.022932</td>\n",
              "    </tr>\n",
              "    <tr>\n",
              "      <th>3054</th>\n",
              "      <td>282</td>\n",
              "      <td>SB001</td>\n",
              "      <td>0.022807</td>\n",
              "    </tr>\n",
              "    <tr>\n",
              "      <th>819</th>\n",
              "      <td>67</td>\n",
              "      <td>SB001</td>\n",
              "      <td>0.022744</td>\n",
              "    </tr>\n",
              "    <tr>\n",
              "      <th>2337</th>\n",
              "      <td>214</td>\n",
              "      <td>SB001</td>\n",
              "      <td>0.022736</td>\n",
              "    </tr>\n",
              "  </tbody>\n",
              "</table>\n",
              "<p>84 rows × 3 columns</p>\n",
              "</div>"
            ],
            "text/plain": [
              "      상권군집번호     업종   4분기_변화%\n",
              "1518     134  SB001  1.000000\n",
              "487       39  SB001  0.094181\n",
              "1213     102  SB001  0.081213\n",
              "961       80  SB001  0.070425\n",
              "1119      93  SB001  0.050592\n",
              "...      ...    ...       ...\n",
              "1952     178  SB001  0.022932\n",
              "928       76  SB001  0.022932\n",
              "3054     282  SB001  0.022807\n",
              "819       67  SB001  0.022744\n",
              "2337     214  SB001  0.022736\n",
              "\n",
              "[84 rows x 3 columns]"
            ]
          },
          "metadata": {},
          "execution_count": 555
        }
      ]
    },
    {
      "cell_type": "code",
      "source": [
        "top_4분기_업종별_상위30.loc['SB001'].상권군집번호.unique()  #한식"
      ],
      "metadata": {
        "colab": {
          "base_uri": "https://localhost:8080/"
        },
        "id": "DX4jfmJOOSRz",
        "outputId": "55eb4068-4652-466b-9e27-4edb3d98faee"
      },
      "execution_count": 556,
      "outputs": [
        {
          "output_type": "execute_result",
          "data": {
            "text/plain": [
              "array([134,  39, 102,  80,  93, 170, 206, 260,  63,  10, 113,  45, 125,\n",
              "       157, 104, 136, 142, 227, 131, 240, 109, 165,  77, 208, 254, 175,\n",
              "       117, 103, 139,  17, 219, 122, 259, 180, 295, 195, 226,  90, 287,\n",
              "        44,  20,  57,  12,  46, 204,  66,  43, 236, 225,  69, 164, 127,\n",
              "       269, 261,  51,  32, 239, 163,  37,   7, 187, 119, 174, 120,  59,\n",
              "       197,  36, 153, 123,   4, 288, 191,  78,   1,  54, 166,  64, 159,\n",
              "        13, 178,  76, 282,  67, 214])"
            ]
          },
          "metadata": {},
          "execution_count": 556
        }
      ]
    },
    {
      "cell_type": "code",
      "source": [
        "SB001_list = []\n",
        "for 상권 in top_4분기_업종별_상위30.loc['SB001'].상권군집번호.unique():\n",
        "  SB001_list.append(globals()['군집{0}_SB001의근처업종'.format(상권)])\n",
        "len(SB001_list)"
      ],
      "metadata": {
        "colab": {
          "base_uri": "https://localhost:8080/"
        },
        "id": "rf2S25xVNbWl",
        "outputId": "07f99a35-ec6c-437a-8143-ed233166bc31"
      },
      "execution_count": 557,
      "outputs": [
        {
          "output_type": "execute_result",
          "data": {
            "text/plain": [
              "84"
            ]
          },
          "metadata": {},
          "execution_count": 557
        }
      ]
    },
    {
      "cell_type": "markdown",
      "source": [
        "### 연관분석 예시 "
      ],
      "metadata": {
        "id": "fptCHHGA2XXl"
      }
    },
    {
      "cell_type": "code",
      "source": [
        "te = TransactionEncoder()\n",
        "te_001 = te.fit(SB001_list).transform(SB001_list)\n",
        "te_001 = pd.DataFrame(te_001, columns=te.columns_)\n",
        "te_001"
      ],
      "metadata": {
        "colab": {
          "base_uri": "https://localhost:8080/",
          "height": 444
        },
        "id": "xnpyR-w2jSx-",
        "outputId": "ddbaf9af-e804-4b2c-beb7-2adc290effc8"
      },
      "execution_count": 592,
      "outputs": [
        {
          "output_type": "execute_result",
          "data": {
            "text/html": [
              "<div>\n",
              "<style scoped>\n",
              "    .dataframe tbody tr th:only-of-type {\n",
              "        vertical-align: middle;\n",
              "    }\n",
              "\n",
              "    .dataframe tbody tr th {\n",
              "        vertical-align: top;\n",
              "    }\n",
              "\n",
              "    .dataframe thead th {\n",
              "        text-align: right;\n",
              "    }\n",
              "</style>\n",
              "<table border=\"1\" class=\"dataframe\">\n",
              "  <thead>\n",
              "    <tr style=\"text-align: right;\">\n",
              "      <th></th>\n",
              "      <th>SB001</th>\n",
              "      <th>SB002</th>\n",
              "      <th>SB003</th>\n",
              "      <th>SB004</th>\n",
              "      <th>SB005</th>\n",
              "      <th>SB006</th>\n",
              "      <th>SB007</th>\n",
              "      <th>SB008</th>\n",
              "      <th>SB009</th>\n",
              "      <th>SB010</th>\n",
              "      <th>SB011</th>\n",
              "      <th>SB013</th>\n",
              "      <th>SB014</th>\n",
              "      <th>SB015</th>\n",
              "      <th>SB016</th>\n",
              "      <th>SB017</th>\n",
              "      <th>SB018</th>\n",
              "      <th>SB019</th>\n",
              "      <th>SB020</th>\n",
              "      <th>SB021</th>\n",
              "      <th>SB022</th>\n",
              "      <th>SB023</th>\n",
              "      <th>SB024</th>\n",
              "      <th>SB025</th>\n",
              "      <th>SB028</th>\n",
              "      <th>SB029</th>\n",
              "      <th>SB030</th>\n",
              "      <th>SB031</th>\n",
              "      <th>SB032</th>\n",
              "      <th>SB033</th>\n",
              "      <th>SB034</th>\n",
              "      <th>SB035</th>\n",
              "      <th>SB036</th>\n",
              "      <th>SB039</th>\n",
              "      <th>SB040</th>\n",
              "      <th>SB041</th>\n",
              "      <th>SB042</th>\n",
              "      <th>SB043</th>\n",
              "      <th>SB044</th>\n",
              "      <th>SB045</th>\n",
              "      <th>SB046</th>\n",
              "      <th>SB047</th>\n",
              "      <th>SB048</th>\n",
              "      <th>SB055</th>\n",
              "      <th>SB056</th>\n",
              "      <th>SB057</th>\n",
              "      <th>SB060</th>\n",
              "      <th>SB061</th>\n",
              "      <th>SB062</th>\n",
              "    </tr>\n",
              "  </thead>\n",
              "  <tbody>\n",
              "    <tr>\n",
              "      <th>0</th>\n",
              "      <td>True</td>\n",
              "      <td>False</td>\n",
              "      <td>False</td>\n",
              "      <td>False</td>\n",
              "      <td>False</td>\n",
              "      <td>False</td>\n",
              "      <td>False</td>\n",
              "      <td>True</td>\n",
              "      <td>False</td>\n",
              "      <td>False</td>\n",
              "      <td>False</td>\n",
              "      <td>False</td>\n",
              "      <td>False</td>\n",
              "      <td>False</td>\n",
              "      <td>False</td>\n",
              "      <td>False</td>\n",
              "      <td>False</td>\n",
              "      <td>False</td>\n",
              "      <td>False</td>\n",
              "      <td>True</td>\n",
              "      <td>False</td>\n",
              "      <td>False</td>\n",
              "      <td>False</td>\n",
              "      <td>False</td>\n",
              "      <td>False</td>\n",
              "      <td>False</td>\n",
              "      <td>False</td>\n",
              "      <td>False</td>\n",
              "      <td>False</td>\n",
              "      <td>False</td>\n",
              "      <td>False</td>\n",
              "      <td>False</td>\n",
              "      <td>False</td>\n",
              "      <td>False</td>\n",
              "      <td>False</td>\n",
              "      <td>False</td>\n",
              "      <td>False</td>\n",
              "      <td>False</td>\n",
              "      <td>False</td>\n",
              "      <td>True</td>\n",
              "      <td>False</td>\n",
              "      <td>False</td>\n",
              "      <td>True</td>\n",
              "      <td>False</td>\n",
              "      <td>False</td>\n",
              "      <td>False</td>\n",
              "      <td>False</td>\n",
              "      <td>False</td>\n",
              "      <td>False</td>\n",
              "    </tr>\n",
              "    <tr>\n",
              "      <th>1</th>\n",
              "      <td>True</td>\n",
              "      <td>False</td>\n",
              "      <td>False</td>\n",
              "      <td>False</td>\n",
              "      <td>False</td>\n",
              "      <td>False</td>\n",
              "      <td>False</td>\n",
              "      <td>False</td>\n",
              "      <td>False</td>\n",
              "      <td>False</td>\n",
              "      <td>False</td>\n",
              "      <td>False</td>\n",
              "      <td>False</td>\n",
              "      <td>False</td>\n",
              "      <td>True</td>\n",
              "      <td>True</td>\n",
              "      <td>True</td>\n",
              "      <td>False</td>\n",
              "      <td>True</td>\n",
              "      <td>False</td>\n",
              "      <td>False</td>\n",
              "      <td>False</td>\n",
              "      <td>False</td>\n",
              "      <td>False</td>\n",
              "      <td>False</td>\n",
              "      <td>False</td>\n",
              "      <td>False</td>\n",
              "      <td>False</td>\n",
              "      <td>False</td>\n",
              "      <td>False</td>\n",
              "      <td>False</td>\n",
              "      <td>False</td>\n",
              "      <td>False</td>\n",
              "      <td>True</td>\n",
              "      <td>False</td>\n",
              "      <td>False</td>\n",
              "      <td>False</td>\n",
              "      <td>False</td>\n",
              "      <td>False</td>\n",
              "      <td>False</td>\n",
              "      <td>False</td>\n",
              "      <td>True</td>\n",
              "      <td>True</td>\n",
              "      <td>False</td>\n",
              "      <td>False</td>\n",
              "      <td>False</td>\n",
              "      <td>False</td>\n",
              "      <td>False</td>\n",
              "      <td>False</td>\n",
              "    </tr>\n",
              "    <tr>\n",
              "      <th>2</th>\n",
              "      <td>True</td>\n",
              "      <td>True</td>\n",
              "      <td>True</td>\n",
              "      <td>False</td>\n",
              "      <td>False</td>\n",
              "      <td>False</td>\n",
              "      <td>True</td>\n",
              "      <td>True</td>\n",
              "      <td>False</td>\n",
              "      <td>False</td>\n",
              "      <td>False</td>\n",
              "      <td>False</td>\n",
              "      <td>False</td>\n",
              "      <td>False</td>\n",
              "      <td>True</td>\n",
              "      <td>True</td>\n",
              "      <td>False</td>\n",
              "      <td>False</td>\n",
              "      <td>True</td>\n",
              "      <td>False</td>\n",
              "      <td>False</td>\n",
              "      <td>False</td>\n",
              "      <td>False</td>\n",
              "      <td>False</td>\n",
              "      <td>False</td>\n",
              "      <td>False</td>\n",
              "      <td>False</td>\n",
              "      <td>True</td>\n",
              "      <td>False</td>\n",
              "      <td>False</td>\n",
              "      <td>False</td>\n",
              "      <td>False</td>\n",
              "      <td>False</td>\n",
              "      <td>True</td>\n",
              "      <td>False</td>\n",
              "      <td>False</td>\n",
              "      <td>False</td>\n",
              "      <td>True</td>\n",
              "      <td>True</td>\n",
              "      <td>False</td>\n",
              "      <td>False</td>\n",
              "      <td>True</td>\n",
              "      <td>False</td>\n",
              "      <td>False</td>\n",
              "      <td>False</td>\n",
              "      <td>False</td>\n",
              "      <td>False</td>\n",
              "      <td>False</td>\n",
              "      <td>False</td>\n",
              "    </tr>\n",
              "    <tr>\n",
              "      <th>3</th>\n",
              "      <td>True</td>\n",
              "      <td>True</td>\n",
              "      <td>False</td>\n",
              "      <td>False</td>\n",
              "      <td>True</td>\n",
              "      <td>False</td>\n",
              "      <td>False</td>\n",
              "      <td>False</td>\n",
              "      <td>False</td>\n",
              "      <td>False</td>\n",
              "      <td>False</td>\n",
              "      <td>False</td>\n",
              "      <td>False</td>\n",
              "      <td>False</td>\n",
              "      <td>False</td>\n",
              "      <td>False</td>\n",
              "      <td>False</td>\n",
              "      <td>False</td>\n",
              "      <td>True</td>\n",
              "      <td>False</td>\n",
              "      <td>False</td>\n",
              "      <td>False</td>\n",
              "      <td>False</td>\n",
              "      <td>False</td>\n",
              "      <td>False</td>\n",
              "      <td>False</td>\n",
              "      <td>False</td>\n",
              "      <td>False</td>\n",
              "      <td>False</td>\n",
              "      <td>False</td>\n",
              "      <td>False</td>\n",
              "      <td>False</td>\n",
              "      <td>False</td>\n",
              "      <td>True</td>\n",
              "      <td>False</td>\n",
              "      <td>False</td>\n",
              "      <td>True</td>\n",
              "      <td>False</td>\n",
              "      <td>True</td>\n",
              "      <td>False</td>\n",
              "      <td>False</td>\n",
              "      <td>True</td>\n",
              "      <td>True</td>\n",
              "      <td>False</td>\n",
              "      <td>False</td>\n",
              "      <td>False</td>\n",
              "      <td>False</td>\n",
              "      <td>False</td>\n",
              "      <td>False</td>\n",
              "    </tr>\n",
              "    <tr>\n",
              "      <th>4</th>\n",
              "      <td>True</td>\n",
              "      <td>True</td>\n",
              "      <td>False</td>\n",
              "      <td>False</td>\n",
              "      <td>False</td>\n",
              "      <td>False</td>\n",
              "      <td>True</td>\n",
              "      <td>False</td>\n",
              "      <td>False</td>\n",
              "      <td>False</td>\n",
              "      <td>False</td>\n",
              "      <td>False</td>\n",
              "      <td>False</td>\n",
              "      <td>True</td>\n",
              "      <td>False</td>\n",
              "      <td>False</td>\n",
              "      <td>False</td>\n",
              "      <td>False</td>\n",
              "      <td>False</td>\n",
              "      <td>False</td>\n",
              "      <td>False</td>\n",
              "      <td>False</td>\n",
              "      <td>False</td>\n",
              "      <td>False</td>\n",
              "      <td>False</td>\n",
              "      <td>False</td>\n",
              "      <td>False</td>\n",
              "      <td>False</td>\n",
              "      <td>False</td>\n",
              "      <td>False</td>\n",
              "      <td>False</td>\n",
              "      <td>False</td>\n",
              "      <td>False</td>\n",
              "      <td>True</td>\n",
              "      <td>False</td>\n",
              "      <td>False</td>\n",
              "      <td>False</td>\n",
              "      <td>False</td>\n",
              "      <td>False</td>\n",
              "      <td>True</td>\n",
              "      <td>False</td>\n",
              "      <td>False</td>\n",
              "      <td>True</td>\n",
              "      <td>False</td>\n",
              "      <td>False</td>\n",
              "      <td>False</td>\n",
              "      <td>False</td>\n",
              "      <td>False</td>\n",
              "      <td>False</td>\n",
              "    </tr>\n",
              "    <tr>\n",
              "      <th>...</th>\n",
              "      <td>...</td>\n",
              "      <td>...</td>\n",
              "      <td>...</td>\n",
              "      <td>...</td>\n",
              "      <td>...</td>\n",
              "      <td>...</td>\n",
              "      <td>...</td>\n",
              "      <td>...</td>\n",
              "      <td>...</td>\n",
              "      <td>...</td>\n",
              "      <td>...</td>\n",
              "      <td>...</td>\n",
              "      <td>...</td>\n",
              "      <td>...</td>\n",
              "      <td>...</td>\n",
              "      <td>...</td>\n",
              "      <td>...</td>\n",
              "      <td>...</td>\n",
              "      <td>...</td>\n",
              "      <td>...</td>\n",
              "      <td>...</td>\n",
              "      <td>...</td>\n",
              "      <td>...</td>\n",
              "      <td>...</td>\n",
              "      <td>...</td>\n",
              "      <td>...</td>\n",
              "      <td>...</td>\n",
              "      <td>...</td>\n",
              "      <td>...</td>\n",
              "      <td>...</td>\n",
              "      <td>...</td>\n",
              "      <td>...</td>\n",
              "      <td>...</td>\n",
              "      <td>...</td>\n",
              "      <td>...</td>\n",
              "      <td>...</td>\n",
              "      <td>...</td>\n",
              "      <td>...</td>\n",
              "      <td>...</td>\n",
              "      <td>...</td>\n",
              "      <td>...</td>\n",
              "      <td>...</td>\n",
              "      <td>...</td>\n",
              "      <td>...</td>\n",
              "      <td>...</td>\n",
              "      <td>...</td>\n",
              "      <td>...</td>\n",
              "      <td>...</td>\n",
              "      <td>...</td>\n",
              "    </tr>\n",
              "    <tr>\n",
              "      <th>79</th>\n",
              "      <td>True</td>\n",
              "      <td>False</td>\n",
              "      <td>False</td>\n",
              "      <td>False</td>\n",
              "      <td>False</td>\n",
              "      <td>False</td>\n",
              "      <td>True</td>\n",
              "      <td>True</td>\n",
              "      <td>False</td>\n",
              "      <td>False</td>\n",
              "      <td>False</td>\n",
              "      <td>False</td>\n",
              "      <td>False</td>\n",
              "      <td>False</td>\n",
              "      <td>True</td>\n",
              "      <td>False</td>\n",
              "      <td>False</td>\n",
              "      <td>False</td>\n",
              "      <td>False</td>\n",
              "      <td>True</td>\n",
              "      <td>False</td>\n",
              "      <td>False</td>\n",
              "      <td>False</td>\n",
              "      <td>False</td>\n",
              "      <td>False</td>\n",
              "      <td>False</td>\n",
              "      <td>False</td>\n",
              "      <td>False</td>\n",
              "      <td>False</td>\n",
              "      <td>False</td>\n",
              "      <td>False</td>\n",
              "      <td>False</td>\n",
              "      <td>False</td>\n",
              "      <td>True</td>\n",
              "      <td>False</td>\n",
              "      <td>False</td>\n",
              "      <td>False</td>\n",
              "      <td>False</td>\n",
              "      <td>False</td>\n",
              "      <td>True</td>\n",
              "      <td>False</td>\n",
              "      <td>True</td>\n",
              "      <td>False</td>\n",
              "      <td>False</td>\n",
              "      <td>False</td>\n",
              "      <td>True</td>\n",
              "      <td>False</td>\n",
              "      <td>False</td>\n",
              "      <td>False</td>\n",
              "    </tr>\n",
              "    <tr>\n",
              "      <th>80</th>\n",
              "      <td>True</td>\n",
              "      <td>False</td>\n",
              "      <td>False</td>\n",
              "      <td>False</td>\n",
              "      <td>True</td>\n",
              "      <td>False</td>\n",
              "      <td>False</td>\n",
              "      <td>False</td>\n",
              "      <td>False</td>\n",
              "      <td>False</td>\n",
              "      <td>False</td>\n",
              "      <td>False</td>\n",
              "      <td>False</td>\n",
              "      <td>False</td>\n",
              "      <td>True</td>\n",
              "      <td>False</td>\n",
              "      <td>False</td>\n",
              "      <td>False</td>\n",
              "      <td>True</td>\n",
              "      <td>True</td>\n",
              "      <td>True</td>\n",
              "      <td>False</td>\n",
              "      <td>False</td>\n",
              "      <td>False</td>\n",
              "      <td>False</td>\n",
              "      <td>False</td>\n",
              "      <td>True</td>\n",
              "      <td>False</td>\n",
              "      <td>False</td>\n",
              "      <td>False</td>\n",
              "      <td>True</td>\n",
              "      <td>False</td>\n",
              "      <td>False</td>\n",
              "      <td>True</td>\n",
              "      <td>False</td>\n",
              "      <td>False</td>\n",
              "      <td>False</td>\n",
              "      <td>True</td>\n",
              "      <td>False</td>\n",
              "      <td>False</td>\n",
              "      <td>False</td>\n",
              "      <td>True</td>\n",
              "      <td>False</td>\n",
              "      <td>False</td>\n",
              "      <td>True</td>\n",
              "      <td>False</td>\n",
              "      <td>False</td>\n",
              "      <td>False</td>\n",
              "      <td>False</td>\n",
              "    </tr>\n",
              "    <tr>\n",
              "      <th>81</th>\n",
              "      <td>True</td>\n",
              "      <td>True</td>\n",
              "      <td>True</td>\n",
              "      <td>False</td>\n",
              "      <td>False</td>\n",
              "      <td>True</td>\n",
              "      <td>True</td>\n",
              "      <td>True</td>\n",
              "      <td>False</td>\n",
              "      <td>False</td>\n",
              "      <td>False</td>\n",
              "      <td>False</td>\n",
              "      <td>False</td>\n",
              "      <td>False</td>\n",
              "      <td>True</td>\n",
              "      <td>False</td>\n",
              "      <td>False</td>\n",
              "      <td>False</td>\n",
              "      <td>False</td>\n",
              "      <td>True</td>\n",
              "      <td>True</td>\n",
              "      <td>False</td>\n",
              "      <td>False</td>\n",
              "      <td>True</td>\n",
              "      <td>False</td>\n",
              "      <td>False</td>\n",
              "      <td>False</td>\n",
              "      <td>False</td>\n",
              "      <td>False</td>\n",
              "      <td>False</td>\n",
              "      <td>False</td>\n",
              "      <td>False</td>\n",
              "      <td>False</td>\n",
              "      <td>True</td>\n",
              "      <td>True</td>\n",
              "      <td>False</td>\n",
              "      <td>False</td>\n",
              "      <td>False</td>\n",
              "      <td>True</td>\n",
              "      <td>False</td>\n",
              "      <td>False</td>\n",
              "      <td>True</td>\n",
              "      <td>False</td>\n",
              "      <td>False</td>\n",
              "      <td>False</td>\n",
              "      <td>False</td>\n",
              "      <td>False</td>\n",
              "      <td>False</td>\n",
              "      <td>False</td>\n",
              "    </tr>\n",
              "    <tr>\n",
              "      <th>82</th>\n",
              "      <td>True</td>\n",
              "      <td>False</td>\n",
              "      <td>False</td>\n",
              "      <td>False</td>\n",
              "      <td>True</td>\n",
              "      <td>True</td>\n",
              "      <td>True</td>\n",
              "      <td>True</td>\n",
              "      <td>True</td>\n",
              "      <td>True</td>\n",
              "      <td>False</td>\n",
              "      <td>False</td>\n",
              "      <td>False</td>\n",
              "      <td>False</td>\n",
              "      <td>True</td>\n",
              "      <td>False</td>\n",
              "      <td>True</td>\n",
              "      <td>True</td>\n",
              "      <td>True</td>\n",
              "      <td>False</td>\n",
              "      <td>False</td>\n",
              "      <td>False</td>\n",
              "      <td>False</td>\n",
              "      <td>False</td>\n",
              "      <td>False</td>\n",
              "      <td>True</td>\n",
              "      <td>False</td>\n",
              "      <td>True</td>\n",
              "      <td>False</td>\n",
              "      <td>False</td>\n",
              "      <td>False</td>\n",
              "      <td>False</td>\n",
              "      <td>False</td>\n",
              "      <td>True</td>\n",
              "      <td>True</td>\n",
              "      <td>True</td>\n",
              "      <td>True</td>\n",
              "      <td>False</td>\n",
              "      <td>True</td>\n",
              "      <td>False</td>\n",
              "      <td>False</td>\n",
              "      <td>False</td>\n",
              "      <td>False</td>\n",
              "      <td>False</td>\n",
              "      <td>False</td>\n",
              "      <td>False</td>\n",
              "      <td>False</td>\n",
              "      <td>False</td>\n",
              "      <td>False</td>\n",
              "    </tr>\n",
              "    <tr>\n",
              "      <th>83</th>\n",
              "      <td>True</td>\n",
              "      <td>True</td>\n",
              "      <td>False</td>\n",
              "      <td>False</td>\n",
              "      <td>True</td>\n",
              "      <td>False</td>\n",
              "      <td>False</td>\n",
              "      <td>False</td>\n",
              "      <td>False</td>\n",
              "      <td>False</td>\n",
              "      <td>False</td>\n",
              "      <td>False</td>\n",
              "      <td>False</td>\n",
              "      <td>False</td>\n",
              "      <td>False</td>\n",
              "      <td>False</td>\n",
              "      <td>False</td>\n",
              "      <td>False</td>\n",
              "      <td>False</td>\n",
              "      <td>False</td>\n",
              "      <td>False</td>\n",
              "      <td>False</td>\n",
              "      <td>False</td>\n",
              "      <td>False</td>\n",
              "      <td>False</td>\n",
              "      <td>False</td>\n",
              "      <td>False</td>\n",
              "      <td>False</td>\n",
              "      <td>False</td>\n",
              "      <td>False</td>\n",
              "      <td>False</td>\n",
              "      <td>False</td>\n",
              "      <td>False</td>\n",
              "      <td>True</td>\n",
              "      <td>False</td>\n",
              "      <td>False</td>\n",
              "      <td>False</td>\n",
              "      <td>True</td>\n",
              "      <td>False</td>\n",
              "      <td>False</td>\n",
              "      <td>False</td>\n",
              "      <td>True</td>\n",
              "      <td>True</td>\n",
              "      <td>False</td>\n",
              "      <td>False</td>\n",
              "      <td>False</td>\n",
              "      <td>False</td>\n",
              "      <td>False</td>\n",
              "      <td>False</td>\n",
              "    </tr>\n",
              "  </tbody>\n",
              "</table>\n",
              "<p>84 rows × 49 columns</p>\n",
              "</div>"
            ],
            "text/plain": [
              "    SB001  SB002  SB003  SB004  SB005  ...  SB056  SB057  SB060  SB061  SB062\n",
              "0    True  False  False  False  False  ...  False  False  False  False  False\n",
              "1    True  False  False  False  False  ...  False  False  False  False  False\n",
              "2    True   True   True  False  False  ...  False  False  False  False  False\n",
              "3    True   True  False  False   True  ...  False  False  False  False  False\n",
              "4    True   True  False  False  False  ...  False  False  False  False  False\n",
              "..    ...    ...    ...    ...    ...  ...    ...    ...    ...    ...    ...\n",
              "79   True  False  False  False  False  ...  False   True  False  False  False\n",
              "80   True  False  False  False   True  ...   True  False  False  False  False\n",
              "81   True   True   True  False  False  ...  False  False  False  False  False\n",
              "82   True  False  False  False   True  ...  False  False  False  False  False\n",
              "83   True   True  False  False   True  ...  False  False  False  False  False\n",
              "\n",
              "[84 rows x 49 columns]"
            ]
          },
          "metadata": {},
          "execution_count": 592
        }
      ]
    },
    {
      "cell_type": "code",
      "source": [
        "itemset = apriori(pd.DataFrame(te_001), min_support=0.30, use_colnames=True)\n",
        "itemset"
      ],
      "metadata": {
        "id": "GGEMT3Gqnslh",
        "colab": {
          "base_uri": "https://localhost:8080/",
          "height": 424
        },
        "outputId": "6b291e4d-ad18-4361-b3b9-839905605f7c"
      },
      "execution_count": 593,
      "outputs": [
        {
          "output_type": "execute_result",
          "data": {
            "text/html": [
              "<div>\n",
              "<style scoped>\n",
              "    .dataframe tbody tr th:only-of-type {\n",
              "        vertical-align: middle;\n",
              "    }\n",
              "\n",
              "    .dataframe tbody tr th {\n",
              "        vertical-align: top;\n",
              "    }\n",
              "\n",
              "    .dataframe thead th {\n",
              "        text-align: right;\n",
              "    }\n",
              "</style>\n",
              "<table border=\"1\" class=\"dataframe\">\n",
              "  <thead>\n",
              "    <tr style=\"text-align: right;\">\n",
              "      <th></th>\n",
              "      <th>support</th>\n",
              "      <th>itemsets</th>\n",
              "    </tr>\n",
              "  </thead>\n",
              "  <tbody>\n",
              "    <tr>\n",
              "      <th>0</th>\n",
              "      <td>1.000000</td>\n",
              "      <td>(SB001)</td>\n",
              "    </tr>\n",
              "    <tr>\n",
              "      <th>1</th>\n",
              "      <td>0.309524</td>\n",
              "      <td>(SB002)</td>\n",
              "    </tr>\n",
              "    <tr>\n",
              "      <th>2</th>\n",
              "      <td>0.357143</td>\n",
              "      <td>(SB005)</td>\n",
              "    </tr>\n",
              "    <tr>\n",
              "      <th>3</th>\n",
              "      <td>0.380952</td>\n",
              "      <td>(SB006)</td>\n",
              "    </tr>\n",
              "    <tr>\n",
              "      <th>4</th>\n",
              "      <td>0.702381</td>\n",
              "      <td>(SB008)</td>\n",
              "    </tr>\n",
              "    <tr>\n",
              "      <th>...</th>\n",
              "      <td>...</td>\n",
              "      <td>...</td>\n",
              "    </tr>\n",
              "    <tr>\n",
              "      <th>58</th>\n",
              "      <td>0.357143</td>\n",
              "      <td>(SB016, SB008, SB001, SB047)</td>\n",
              "    </tr>\n",
              "    <tr>\n",
              "      <th>59</th>\n",
              "      <td>0.440476</td>\n",
              "      <td>(SB039, SB008, SB001, SB047)</td>\n",
              "    </tr>\n",
              "    <tr>\n",
              "      <th>60</th>\n",
              "      <td>0.464286</td>\n",
              "      <td>(SB016, SB039, SB001, SB047)</td>\n",
              "    </tr>\n",
              "    <tr>\n",
              "      <th>61</th>\n",
              "      <td>0.333333</td>\n",
              "      <td>(SB039, SB008, SB016, SB047)</td>\n",
              "    </tr>\n",
              "    <tr>\n",
              "      <th>62</th>\n",
              "      <td>0.333333</td>\n",
              "      <td>(SB008, SB016, SB039, SB001, SB047)</td>\n",
              "    </tr>\n",
              "  </tbody>\n",
              "</table>\n",
              "<p>63 rows × 2 columns</p>\n",
              "</div>"
            ],
            "text/plain": [
              "     support                             itemsets\n",
              "0   1.000000                              (SB001)\n",
              "1   0.309524                              (SB002)\n",
              "2   0.357143                              (SB005)\n",
              "3   0.380952                              (SB006)\n",
              "4   0.702381                              (SB008)\n",
              "..       ...                                  ...\n",
              "58  0.357143         (SB016, SB008, SB001, SB047)\n",
              "59  0.440476         (SB039, SB008, SB001, SB047)\n",
              "60  0.464286         (SB016, SB039, SB001, SB047)\n",
              "61  0.333333         (SB039, SB008, SB016, SB047)\n",
              "62  0.333333  (SB008, SB016, SB039, SB001, SB047)\n",
              "\n",
              "[63 rows x 2 columns]"
            ]
          },
          "metadata": {},
          "execution_count": 593
        }
      ]
    },
    {
      "cell_type": "code",
      "source": [
        "association_rules(itemset, metric=\"lift\", min_threshold=1) # 향상도가 최소 1이상인 연관관계 출력"
      ],
      "metadata": {
        "id": "32Eo2cIC2GGe",
        "colab": {
          "base_uri": "https://localhost:8080/",
          "height": 704
        },
        "outputId": "194fdc63-f45d-48bc-eaf8-4242eb84a491"
      },
      "execution_count": 594,
      "outputs": [
        {
          "output_type": "execute_result",
          "data": {
            "text/html": [
              "<div>\n",
              "<style scoped>\n",
              "    .dataframe tbody tr th:only-of-type {\n",
              "        vertical-align: middle;\n",
              "    }\n",
              "\n",
              "    .dataframe tbody tr th {\n",
              "        vertical-align: top;\n",
              "    }\n",
              "\n",
              "    .dataframe thead th {\n",
              "        text-align: right;\n",
              "    }\n",
              "</style>\n",
              "<table border=\"1\" class=\"dataframe\">\n",
              "  <thead>\n",
              "    <tr style=\"text-align: right;\">\n",
              "      <th></th>\n",
              "      <th>antecedents</th>\n",
              "      <th>consequents</th>\n",
              "      <th>antecedent support</th>\n",
              "      <th>consequent support</th>\n",
              "      <th>support</th>\n",
              "      <th>confidence</th>\n",
              "      <th>lift</th>\n",
              "      <th>leverage</th>\n",
              "      <th>conviction</th>\n",
              "    </tr>\n",
              "  </thead>\n",
              "  <tbody>\n",
              "    <tr>\n",
              "      <th>0</th>\n",
              "      <td>(SB002)</td>\n",
              "      <td>(SB001)</td>\n",
              "      <td>0.309524</td>\n",
              "      <td>1.000000</td>\n",
              "      <td>0.309524</td>\n",
              "      <td>1.000000</td>\n",
              "      <td>1.000000</td>\n",
              "      <td>0.000000</td>\n",
              "      <td>inf</td>\n",
              "    </tr>\n",
              "    <tr>\n",
              "      <th>1</th>\n",
              "      <td>(SB001)</td>\n",
              "      <td>(SB002)</td>\n",
              "      <td>1.000000</td>\n",
              "      <td>0.309524</td>\n",
              "      <td>0.309524</td>\n",
              "      <td>0.309524</td>\n",
              "      <td>1.000000</td>\n",
              "      <td>0.000000</td>\n",
              "      <td>1.000000</td>\n",
              "    </tr>\n",
              "    <tr>\n",
              "      <th>2</th>\n",
              "      <td>(SB005)</td>\n",
              "      <td>(SB001)</td>\n",
              "      <td>0.357143</td>\n",
              "      <td>1.000000</td>\n",
              "      <td>0.357143</td>\n",
              "      <td>1.000000</td>\n",
              "      <td>1.000000</td>\n",
              "      <td>0.000000</td>\n",
              "      <td>inf</td>\n",
              "    </tr>\n",
              "    <tr>\n",
              "      <th>3</th>\n",
              "      <td>(SB001)</td>\n",
              "      <td>(SB005)</td>\n",
              "      <td>1.000000</td>\n",
              "      <td>0.357143</td>\n",
              "      <td>0.357143</td>\n",
              "      <td>0.357143</td>\n",
              "      <td>1.000000</td>\n",
              "      <td>0.000000</td>\n",
              "      <td>1.000000</td>\n",
              "    </tr>\n",
              "    <tr>\n",
              "      <th>4</th>\n",
              "      <td>(SB006)</td>\n",
              "      <td>(SB001)</td>\n",
              "      <td>0.380952</td>\n",
              "      <td>1.000000</td>\n",
              "      <td>0.380952</td>\n",
              "      <td>1.000000</td>\n",
              "      <td>1.000000</td>\n",
              "      <td>0.000000</td>\n",
              "      <td>inf</td>\n",
              "    </tr>\n",
              "    <tr>\n",
              "      <th>...</th>\n",
              "      <td>...</td>\n",
              "      <td>...</td>\n",
              "      <td>...</td>\n",
              "      <td>...</td>\n",
              "      <td>...</td>\n",
              "      <td>...</td>\n",
              "      <td>...</td>\n",
              "      <td>...</td>\n",
              "      <td>...</td>\n",
              "    </tr>\n",
              "    <tr>\n",
              "      <th>195</th>\n",
              "      <td>(SB001, SB047)</td>\n",
              "      <td>(SB016, SB008, SB039)</td>\n",
              "      <td>0.678571</td>\n",
              "      <td>0.476190</td>\n",
              "      <td>0.333333</td>\n",
              "      <td>0.491228</td>\n",
              "      <td>1.031579</td>\n",
              "      <td>0.010204</td>\n",
              "      <td>1.029557</td>\n",
              "    </tr>\n",
              "    <tr>\n",
              "      <th>196</th>\n",
              "      <td>(SB008)</td>\n",
              "      <td>(SB016, SB039, SB001, SB047)</td>\n",
              "      <td>0.702381</td>\n",
              "      <td>0.464286</td>\n",
              "      <td>0.333333</td>\n",
              "      <td>0.474576</td>\n",
              "      <td>1.022164</td>\n",
              "      <td>0.007228</td>\n",
              "      <td>1.019585</td>\n",
              "    </tr>\n",
              "    <tr>\n",
              "      <th>197</th>\n",
              "      <td>(SB039)</td>\n",
              "      <td>(SB016, SB008, SB001, SB047)</td>\n",
              "      <td>0.833333</td>\n",
              "      <td>0.357143</td>\n",
              "      <td>0.333333</td>\n",
              "      <td>0.400000</td>\n",
              "      <td>1.120000</td>\n",
              "      <td>0.035714</td>\n",
              "      <td>1.071429</td>\n",
              "    </tr>\n",
              "    <tr>\n",
              "      <th>198</th>\n",
              "      <td>(SB001)</td>\n",
              "      <td>(SB016, SB008, SB039, SB047)</td>\n",
              "      <td>1.000000</td>\n",
              "      <td>0.333333</td>\n",
              "      <td>0.333333</td>\n",
              "      <td>0.333333</td>\n",
              "      <td>1.000000</td>\n",
              "      <td>0.000000</td>\n",
              "      <td>1.000000</td>\n",
              "    </tr>\n",
              "    <tr>\n",
              "      <th>199</th>\n",
              "      <td>(SB047)</td>\n",
              "      <td>(SB016, SB008, SB039, SB001)</td>\n",
              "      <td>0.678571</td>\n",
              "      <td>0.476190</td>\n",
              "      <td>0.333333</td>\n",
              "      <td>0.491228</td>\n",
              "      <td>1.031579</td>\n",
              "      <td>0.010204</td>\n",
              "      <td>1.029557</td>\n",
              "    </tr>\n",
              "  </tbody>\n",
              "</table>\n",
              "<p>200 rows × 9 columns</p>\n",
              "</div>"
            ],
            "text/plain": [
              "        antecedents                   consequents  ...  leverage  conviction\n",
              "0           (SB002)                       (SB001)  ...  0.000000         inf\n",
              "1           (SB001)                       (SB002)  ...  0.000000    1.000000\n",
              "2           (SB005)                       (SB001)  ...  0.000000         inf\n",
              "3           (SB001)                       (SB005)  ...  0.000000    1.000000\n",
              "4           (SB006)                       (SB001)  ...  0.000000         inf\n",
              "..              ...                           ...  ...       ...         ...\n",
              "195  (SB001, SB047)         (SB016, SB008, SB039)  ...  0.010204    1.029557\n",
              "196         (SB008)  (SB016, SB039, SB001, SB047)  ...  0.007228    1.019585\n",
              "197         (SB039)  (SB016, SB008, SB001, SB047)  ...  0.035714    1.071429\n",
              "198         (SB001)  (SB016, SB008, SB039, SB047)  ...  0.000000    1.000000\n",
              "199         (SB047)  (SB016, SB008, SB039, SB001)  ...  0.010204    1.029557\n",
              "\n",
              "[200 rows x 9 columns]"
            ]
          },
          "metadata": {},
          "execution_count": 594
        }
      ]
    },
    {
      "cell_type": "code",
      "source": [
        "result_df = association_rules(itemset, metric=\"lift\", min_threshold=1).loc[:,['antecedents','consequents','leverage']]\n",
        "result_df.sort_values(by='leverage',ascending=False)"
      ],
      "metadata": {
        "colab": {
          "base_uri": "https://localhost:8080/",
          "height": 424
        },
        "id": "YG7xuCw8kS5v",
        "outputId": "fa6c61b0-c0a6-4249-8411-c4b30a905d56"
      },
      "execution_count": 595,
      "outputs": [
        {
          "output_type": "execute_result",
          "data": {
            "text/html": [
              "<div>\n",
              "<style scoped>\n",
              "    .dataframe tbody tr th:only-of-type {\n",
              "        vertical-align: middle;\n",
              "    }\n",
              "\n",
              "    .dataframe tbody tr th {\n",
              "        vertical-align: top;\n",
              "    }\n",
              "\n",
              "    .dataframe thead th {\n",
              "        text-align: right;\n",
              "    }\n",
              "</style>\n",
              "<table border=\"1\" class=\"dataframe\">\n",
              "  <thead>\n",
              "    <tr style=\"text-align: right;\">\n",
              "      <th></th>\n",
              "      <th>antecedents</th>\n",
              "      <th>consequents</th>\n",
              "      <th>leverage</th>\n",
              "    </tr>\n",
              "  </thead>\n",
              "  <tbody>\n",
              "    <tr>\n",
              "      <th>106</th>\n",
              "      <td>(SB039, SB001)</td>\n",
              "      <td>(SB047)</td>\n",
              "      <td>0.053571</td>\n",
              "    </tr>\n",
              "    <tr>\n",
              "      <th>111</th>\n",
              "      <td>(SB047)</td>\n",
              "      <td>(SB039, SB001)</td>\n",
              "      <td>0.053571</td>\n",
              "    </tr>\n",
              "    <tr>\n",
              "      <th>43</th>\n",
              "      <td>(SB047)</td>\n",
              "      <td>(SB039)</td>\n",
              "      <td>0.053571</td>\n",
              "    </tr>\n",
              "    <tr>\n",
              "      <th>109</th>\n",
              "      <td>(SB039)</td>\n",
              "      <td>(SB001, SB047)</td>\n",
              "      <td>0.053571</td>\n",
              "    </tr>\n",
              "    <tr>\n",
              "      <th>108</th>\n",
              "      <td>(SB001, SB047)</td>\n",
              "      <td>(SB039)</td>\n",
              "      <td>0.053571</td>\n",
              "    </tr>\n",
              "    <tr>\n",
              "      <th>...</th>\n",
              "      <td>...</td>\n",
              "      <td>...</td>\n",
              "      <td>...</td>\n",
              "    </tr>\n",
              "    <tr>\n",
              "      <th>69</th>\n",
              "      <td>(SB001)</td>\n",
              "      <td>(SB016, SB008)</td>\n",
              "      <td>0.000000</td>\n",
              "    </tr>\n",
              "    <tr>\n",
              "      <th>64</th>\n",
              "      <td>(SB016, SB008)</td>\n",
              "      <td>(SB001)</td>\n",
              "      <td>0.000000</td>\n",
              "    </tr>\n",
              "    <tr>\n",
              "      <th>63</th>\n",
              "      <td>(SB001)</td>\n",
              "      <td>(SB039, SB006)</td>\n",
              "      <td>0.000000</td>\n",
              "    </tr>\n",
              "    <tr>\n",
              "      <th>62</th>\n",
              "      <td>(SB039, SB006)</td>\n",
              "      <td>(SB001)</td>\n",
              "      <td>0.000000</td>\n",
              "    </tr>\n",
              "    <tr>\n",
              "      <th>100</th>\n",
              "      <td>(SB039, SB043)</td>\n",
              "      <td>(SB001)</td>\n",
              "      <td>0.000000</td>\n",
              "    </tr>\n",
              "  </tbody>\n",
              "</table>\n",
              "<p>200 rows × 3 columns</p>\n",
              "</div>"
            ],
            "text/plain": [
              "        antecedents     consequents  leverage\n",
              "106  (SB039, SB001)         (SB047)  0.053571\n",
              "111         (SB047)  (SB039, SB001)  0.053571\n",
              "43          (SB047)         (SB039)  0.053571\n",
              "109         (SB039)  (SB001, SB047)  0.053571\n",
              "108  (SB001, SB047)         (SB039)  0.053571\n",
              "..              ...             ...       ...\n",
              "69          (SB001)  (SB016, SB008)  0.000000\n",
              "64   (SB016, SB008)         (SB001)  0.000000\n",
              "63          (SB001)  (SB039, SB006)  0.000000\n",
              "62   (SB039, SB006)         (SB001)  0.000000\n",
              "100  (SB039, SB043)         (SB001)  0.000000\n",
              "\n",
              "[200 rows x 3 columns]"
            ]
          },
          "metadata": {},
          "execution_count": 595
        }
      ]
    },
    {
      "cell_type": "markdown",
      "source": [
        "### 다른 시기, 다른 업종에 대해서도 시도 "
      ],
      "metadata": {
        "id": "6h2yfmNXmkNZ"
      }
    },
    {
      "cell_type": "code",
      "source": [
        ""
      ],
      "metadata": {
        "id": "yy0IC0LGml0d"
      },
      "execution_count": 590,
      "outputs": []
    },
    {
      "cell_type": "code",
      "source": [
        ""
      ],
      "metadata": {
        "id": "BaMsA7EHml6B"
      },
      "execution_count": 590,
      "outputs": []
    },
    {
      "cell_type": "code",
      "source": [
        ""
      ],
      "metadata": {
        "id": "iKoymA6dml8V"
      },
      "execution_count": 590,
      "outputs": []
    },
    {
      "cell_type": "code",
      "source": [
        ""
      ],
      "metadata": {
        "id": "T_qpKeYoml-l"
      },
      "execution_count": 590,
      "outputs": []
    },
    {
      "cell_type": "code",
      "source": [
        ""
      ],
      "metadata": {
        "id": "diS4dZ9YmmA1"
      },
      "execution_count": 590,
      "outputs": []
    },
    {
      "cell_type": "code",
      "source": [
        ""
      ],
      "metadata": {
        "id": "6rluDwBKmmC8"
      },
      "execution_count": 590,
      "outputs": []
    },
    {
      "cell_type": "code",
      "source": [
        ""
      ],
      "metadata": {
        "id": "BtPgDMAcmmEs"
      },
      "execution_count": null,
      "outputs": []
    }
  ]
}
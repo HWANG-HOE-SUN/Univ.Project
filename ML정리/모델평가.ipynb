{
  "nbformat": 4,
  "nbformat_minor": 0,
  "metadata": {
    "colab": {
      "name": "모델평가.ipynb",
      "provenance": [],
      "collapsed_sections": [],
      "include_colab_link": true
    },
    "kernelspec": {
      "display_name": "Python 3",
      "language": "python",
      "name": "python3"
    },
    "language_info": {
      "codemirror_mode": {
        "name": "ipython",
        "version": 3
      },
      "file_extension": ".py",
      "mimetype": "text/x-python",
      "name": "python",
      "nbconvert_exporter": "python",
      "pygments_lexer": "ipython3",
      "version": "3.7.4"
    }
  },
  "cells": [
    {
      "cell_type": "markdown",
      "metadata": {
        "id": "view-in-github",
        "colab_type": "text"
      },
      "source": [
        "<a href=\"https://colab.research.google.com/github/HWANG-HOE-SUN/Univ.Project/blob/main/%EB%AA%A8%EB%8D%B8%ED%8F%89%EA%B0%80.ipynb\" target=\"_parent\"><img src=\"https://colab.research.google.com/assets/colab-badge.svg\" alt=\"Open In Colab\"/></a>"
      ]
    },
    {
      "cell_type": "code",
      "metadata": {
        "id": "mJxKzblF4qlI"
      },
      "source": [
        "# 경고 제거(판다스 error 메시지 무시)\n",
        "import sys\n",
        "import warnings\n",
        "\n",
        "warnings.filterwarnings('ignore')"
      ],
      "execution_count": null,
      "outputs": []
    },
    {
      "cell_type": "markdown",
      "metadata": {
        "id": "CgXwWSPVExhB"
      },
      "source": [
        "### 모델 평가"
      ]
    },
    {
      "cell_type": "markdown",
      "metadata": {
        "id": "gn00hxXP4qlL"
      },
      "source": [
        "###  패키지 설치"
      ]
    },
    {
      "cell_type": "code",
      "metadata": {
        "id": "hqNjWQuSFduy"
      },
      "source": [
        "# 라이브러리 불러오기\n",
        "import pandas as pd \n",
        "import numpy as np\n",
        "import matplotlib.pyplot as plt\n",
        "from sklearn import datasets # boston(회귀 분석용)데이터등이 내재되어 있다.\n",
        "from sklearn.preprocessing import StandardScaler\n",
        "from sklearn.model_selection import train_test_split # 자료 분리용\n",
        "from sklearn.cluster import KMeans # KMeans알고리즘\n",
        "from sklearn.svm import LinearSVR # 회귀 분석용 모델 - svr회귀모형\n",
        "from sklearn.svm import LinearSVC # 분류 분석용 모델 - svm분류기\n",
        "from sklearn.linear_model import LinearRegression # 선형회귀모형\n",
        "\n",
        "from sklearn.datasets import fetch_openml # 분류용 데이터 준비\n",
        "\n",
        "np.random.seed(42) # 일관된 출력위해 유사난수 초기화\n",
        "\n",
        "# 시각화 라이브러리 맷플롯립 설정\n",
        "%matplotlib inline"
      ],
      "execution_count": null,
      "outputs": []
    },
    {
      "cell_type": "markdown",
      "metadata": {
        "id": "FpUexY7mFLtB"
      },
      "source": [
        "### 분류 예제"
      ]
    },
    {
      "cell_type": "code",
      "metadata": {
        "id": "1G_KD6b94qlL"
      },
      "source": [
        "# 아래의 코드(fetch_opennml)이 정상적으로 작동하지 않을 경우 scikit-learn 버전문제로 추측되며\n",
        "# 그 때, 아래의 코드를 통하여서 데이터를 불러 들이면 됩니다.\n",
        "# from sklearn.datasets import fetch_mldata\n",
        "# mnist = fetch_mldata('MNIST original')\n",
        "# mnist"
      ],
      "execution_count": null,
      "outputs": []
    },
    {
      "cell_type": "code",
      "metadata": {
        "id": "OycgbThmC6dP"
      },
      "source": [
        "mnist = fetch_openml('mnist_784',version=1)\n",
        "X, y = mnist[\"data\"], mnist[\"target\"]\n",
        "# X에는 사람이 직접 쓴 손글씨가, y에는 그것이 실제 어떤 숫자인지 정보가 들어있다."
      ],
      "execution_count": null,
      "outputs": []
    },
    {
      "cell_type": "code",
      "metadata": {
        "id": "bt1cuOJy4qlM",
        "outputId": "948e0c69-0552-4cc5-b9f4-24c49103ef2f"
      },
      "source": [
        "y[0:5] # 라벨인 y값이 문자(string)형으로 되어있다."
      ],
      "execution_count": null,
      "outputs": [
        {
          "output_type": "execute_result",
          "data": {
            "text/plain": [
              "0    5\n",
              "1    0\n",
              "2    4\n",
              "3    1\n",
              "4    9\n",
              "Name: class, dtype: category\n",
              "Categories (10, object): [0, 1, 2, 3, ..., 6, 7, 8, 9]"
            ]
          },
          "metadata": {
            "tags": []
          },
          "execution_count": 15
        }
      ]
    },
    {
      "cell_type": "code",
      "metadata": {
        "colab": {
          "base_uri": "https://localhost:8080/"
        },
        "id": "hNjbQmBAFdp6",
        "outputId": "5acdea8f-1509-49db-e141-e9ba60582b7c"
      },
      "source": [
        "print(X.shape)        # 각 픽셀의 색깔(강도)이 개별 특성을 나타냄. \n",
        "print(y.shape)        # 실제 숫자 이미지 정답"
      ],
      "execution_count": null,
      "outputs": [
        {
          "output_type": "stream",
          "text": [
            "(70000, 784)\n",
            "(70000,)\n"
          ],
          "name": "stdout"
        }
      ]
    },
    {
      "cell_type": "markdown",
      "metadata": {
        "id": "D45x9bye4qlN"
      },
      "source": [
        "+ reshape함수\n",
        "\n",
        "배열(numpy의 ndarray 타입)의 구조를 원하는 대로 바꿀 수 있는 함수이다.\n",
        "\n",
        "Ex) reshape(3,4)면 3x4형태의 배열로 구조를 바꾸겠다는것."
      ]
    },
    {
      "cell_type": "code",
      "metadata": {
        "id": "q_Xcwb7yU7ON"
      },
      "source": [
        "y = y.astype(np.int)  # y값을 정수형 값으로 변환하겠음."
      ],
      "execution_count": null,
      "outputs": []
    },
    {
      "cell_type": "code",
      "metadata": {
        "id": "Z5UXJ3F-4qlO",
        "outputId": "8eb4e7aa-6cf4-4e42-f016-7b10b295462f"
      },
      "source": [
        "print(type(X.iloc[0,:]),type(X.iloc[0,:].values)) # ※참고용. X와 X.values의 타입이 다르다."
      ],
      "execution_count": null,
      "outputs": [
        {
          "output_type": "stream",
          "text": [
            "<class 'pandas.core.series.Series'> <class 'numpy.ndarray'>\n"
          ],
          "name": "stdout"
        }
      ]
    },
    {
      "cell_type": "code",
      "metadata": {
        "colab": {
          "base_uri": "https://localhost:8080/",
          "height": 248
        },
        "id": "C5pnDbNJFdxW",
        "outputId": "1876b1d9-a3f0-4bed-e858-cd9652d72a35"
      },
      "source": [
        "some_digit=X.iloc[0,:] # 첫번째 사진데이터 확인해보겠다.\n",
        "\n",
        "some_digit_image = some_digit.values.reshape(28,28) # (784,)배열의 구조를 (28x28)로 바꾸겠다.\n",
        "\n",
        "plt.imshow(some_digit_image, cmap=\"binary\")  #회색음영을 위해 cmap은 binary로 지정\n",
        "plt.axis(\"off\") # 모든 axis값(축)을 제거하는 옵션(\"off\") 부분제거도 가능"
      ],
      "execution_count": null,
      "outputs": [
        {
          "output_type": "execute_result",
          "data": {
            "text/plain": [
              "(-0.5, 27.5, 27.5, -0.5)"
            ]
          },
          "metadata": {
            "tags": []
          },
          "execution_count": 7
        },
        {
          "output_type": "display_data",
          "data": {
            "image/png": "[encoded data removed]",
            "text/plain": [
              "<Figure size 432x288 with 1 Axes>"
            ]
          },
          "metadata": {
            "tags": [],
            "needs_background": "light"
          }
        }
      ]
    },
    {
      "cell_type": "code",
      "metadata": {
        "id": "mjqbIpSlNrv1"
      },
      "source": [
        "# slice방식으로 분리하겠다.\n",
        "X_train, X_test, y_train, y_test = X[:60000], X[60000:], y[:60000], y[60000:] "
      ],
      "execution_count": null,
      "outputs": []
    },
    {
      "cell_type": "code",
      "metadata": {
        "id": "AJG7iJqe4qlP",
        "outputId": "ae50619b-36d6-44aa-b36c-9cac2bc52905"
      },
      "source": [
        "print(f'학습용 train의 길이는 {len(X_train)}, 학습용 test의 길이는 {len(y_train)}')\n",
        "print(f'평가용 train의 길이는 {len(X_test)}, 평가용 test의 길이는 {len(y_test)}')"
      ],
      "execution_count": null,
      "outputs": [
        {
          "output_type": "stream",
          "text": [
            "학습용 train의 길이는 60000, 학습용 test의 길이는 60000\n",
            "평가용 train의 길이는 10000, 평가용 test의 길이는 10000\n"
          ],
          "name": "stdout"
        }
      ]
    },
    {
      "cell_type": "markdown",
      "metadata": {
        "id": "K83JOQ49PrsK"
      },
      "source": [
        "### 이진 분류기 생성( 숫자가 5인가 아닌가만을 구분 )"
      ]
    },
    {
      "cell_type": "code",
      "metadata": {
        "id": "Rc4xb1UdNryp"
      },
      "source": [
        "y_train_5 = (y_train == 5) # 라벨값5만 True, 나머지 False\n",
        "y_test_5 = (y_test==5)     # test용 자료에도 동일하게 처리해야한다."
      ],
      "execution_count": null,
      "outputs": []
    },
    {
      "cell_type": "code",
      "metadata": {
        "colab": {
          "base_uri": "https://localhost:8080/"
        },
        "id": "NPmogJRONr3Z",
        "outputId": "bc3da73a-029b-4c81-b8ad-63bcfd7a8085"
      },
      "source": [
        "svm_clf = LinearSVC() # 선형SVM분류기\n",
        "svm_clf.fit(X_train, y_train_5)"
      ],
      "execution_count": null,
      "outputs": [
        {
          "output_type": "stream",
          "text": [
            "C:\\Users\\Administrator\\Anaconda3\\lib\\site-packages\\sklearn\\svm\\_base.py:986: ConvergenceWarning: Liblinear failed to converge, increase the number of iterations.\n",
            "  \"the number of iterations.\", ConvergenceWarning)\n"
          ],
          "name": "stderr"
        },
        {
          "output_type": "execute_result",
          "data": {
            "text/plain": [
              "LinearSVC()"
            ]
          },
          "metadata": {
            "tags": []
          },
          "execution_count": 11
        }
      ]
    },
    {
      "cell_type": "code",
      "metadata": {
        "colab": {
          "base_uri": "https://localhost:8080/"
        },
        "id": "WvAIuuWFVzN-",
        "outputId": "bd248f54-3bb8-4a3b-863c-e52ad827cfe9"
      },
      "source": [
        "svm_clf.predict([some_digit]) # 이미지 5를 실제로 올바르게 예측했다."
      ],
      "execution_count": null,
      "outputs": [
        {
          "output_type": "execute_result",
          "data": {
            "text/plain": [
              "array([ True])"
            ]
          },
          "metadata": {
            "tags": []
          },
          "execution_count": 13
        }
      ]
    },
    {
      "cell_type": "markdown",
      "metadata": {
        "id": "8eWl0BkKWLLX"
      },
      "source": [
        "# 3.3 성능 측정"
      ]
    },
    {
      "cell_type": "code",
      "metadata": {
        "colab": {
          "base_uri": "https://localhost:8080/"
        },
        "id": "x58s-gNNVzSy",
        "outputId": "f59c02fe-ab3d-4ee4-d6c2-daa4257404d1"
      },
      "source": [
        "from sklearn.model_selection import cross_val_score\n",
        "scores = cross_val_score(svm_clf,X_train, y_train_5, scoring=\"accuracy\",cv=3)\n",
        "# 분류문제는 기본적으로 accuracy매개변수를 사용해서 정확도 측정한다.\n",
        "print(scores) #정확도가 매우 높다."
      ],
      "execution_count": null,
      "outputs": [
        {
          "output_type": "stream",
          "text": [
            "C:\\Users\\Administrator\\Anaconda3\\lib\\site-packages\\sklearn\\svm\\_base.py:986: ConvergenceWarning: Liblinear failed to converge, increase the number of iterations.\n",
            "  \"the number of iterations.\", ConvergenceWarning)\n",
            "C:\\Users\\Administrator\\Anaconda3\\lib\\site-packages\\sklearn\\svm\\_base.py:986: ConvergenceWarning: Liblinear failed to converge, increase the number of iterations.\n",
            "  \"the number of iterations.\", ConvergenceWarning)\n"
          ],
          "name": "stderr"
        },
        {
          "output_type": "stream",
          "text": [
            "[0.93465 0.96055 0.9599 ]\n"
          ],
          "name": "stdout"
        },
        {
          "output_type": "stream",
          "text": [
            "C:\\Users\\Administrator\\Anaconda3\\lib\\site-packages\\sklearn\\svm\\_base.py:986: ConvergenceWarning: Liblinear failed to converge, increase the number of iterations.\n",
            "  \"the number of iterations.\", ConvergenceWarning)\n"
          ],
          "name": "stderr"
        }
      ]
    },
    {
      "cell_type": "markdown",
      "metadata": {
        "id": "PqbeXs-ZXAMX"
      },
      "source": [
        "### 정확도 지표의 단점(편향적인 모델도 성능 좋게 나올수가 있다)"
      ]
    },
    {
      "cell_type": "code",
      "metadata": {
        "id": "2o3-QDk_VzRK"
      },
      "source": [
        "#무조건 5가 아니라고 예측하는 모델(현재 Dataset의 label중 10%만이 5이고 나머지 90%는 5가 아니다.)\n",
        "from sklearn.base import BaseEstimator \n",
        "class Never5Classifier(BaseEstimator):          \n",
        "  def fit(self, X, y=None): \n",
        "    return self\n",
        "  def predict(self, X):\n",
        "    return np.zeros((len(X),1),dtype=bool) # Data인풋 크기만큼 받아서 다 0만을 반환하는 배열 "
      ],
      "execution_count": null,
      "outputs": []
    },
    {
      "cell_type": "code",
      "metadata": {
        "id": "zd6kwj-U4qlR",
        "outputId": "f5b71458-dc05-4e72-f248-e7e7eb3ad1a1"
      },
      "source": [
        "Bad_clf = Never5Classifier()\n",
        "scores = cross_val_score(Bad_clf,X_train, y_train_5, scoring=\"accuracy\",cv=3)\n",
        "print(scores) # 이 또한 정확도가 매우 높다."
      ],
      "execution_count": null,
      "outputs": [
        {
          "output_type": "stream",
          "text": [
            "[0.91125 0.90855 0.90915]\n"
          ],
          "name": "stdout"
        }
      ]
    },
    {
      "cell_type": "markdown",
      "metadata": {
        "id": "xvHfc6GBc85y"
      },
      "source": [
        "### 오차행렬(Confusion matrix)"
      ]
    },
    {
      "cell_type": "code",
      "metadata": {
        "id": "drBzJpUSNr1V"
      },
      "source": [
        "from sklearn.model_selection import cross_val_predict # ※교차검증 예측값을 결과값으로 반환한다.\n",
        "y_train_pred = cross_val_predict(svm_clf, X_train, y_train_5, cv=3) # 5냐 아니냐 판단하는 모델"
      ],
      "execution_count": null,
      "outputs": []
    },
    {
      "cell_type": "code",
      "metadata": {
        "colab": {
          "base_uri": "https://localhost:8080/"
        },
        "id": "hecEH-7DZlmf",
        "outputId": "91a21559-6838-4676-bfb1-47accdcf326a"
      },
      "source": [
        "from sklearn.metrics import confusion_matrix\n",
        "confusion_matrix(y_train_5, y_train_pred) #실제 타깃벡터, 해당예측값\n",
        "#오차행렬의 행=실제클래스 // 열=예측한클래스 "
      ],
      "execution_count": null,
      "outputs": [
        {
          "output_type": "execute_result",
          "data": {
            "text/plain": [
              "array([[52068,  2511],\n",
              "       [ 1002,  4419]], dtype=int64)"
            ]
          },
          "metadata": {
            "tags": []
          },
          "execution_count": 42
        }
      ]
    },
    {
      "cell_type": "code",
      "metadata": {
        "id": "Os8BeLXd4qlS"
      },
      "source": [
        "# y_train_pred = svm_clf.predict(X_train) # 혹은 이 값을 예측값으로 사용해서 넣어봐도 된다."
      ],
      "execution_count": null,
      "outputs": []
    },
    {
      "cell_type": "markdown",
      "metadata": {
        "id": "TJhdA4fkq9fO"
      },
      "source": [
        "https://yamalab.tistory.com/50 참고"
      ]
    },
    {
      "cell_type": "markdown",
      "metadata": {
        "id": "91NsUuQcsZDX"
      },
      "source": [
        "### 정밀도와 재현율"
      ]
    },
    {
      "cell_type": "code",
      "metadata": {
        "colab": {
          "base_uri": "https://localhost:8080/"
        },
        "id": "aPIKc5i2qVJi",
        "outputId": "37680364-e27c-4723-d690-00330c8a5a37"
      },
      "source": [
        "from sklearn.metrics import precision_score, recall_score #정밀도, 재현율\n",
        "print(precision_score(y_train_5,y_train_pred)) #정밀도 66% 5로 판별한것중 66%만 5이다.\n",
        "print(recall_score(y_train_5,y_train_pred)) #재현율 80% 실제5중에 80%만 제대로 감지했다."
      ],
      "execution_count": null,
      "outputs": [
        {
          "output_type": "stream",
          "text": [
            "0.8006586169045006\n",
            "0.6727541044087807\n"
          ],
          "name": "stdout"
        }
      ]
    },
    {
      "cell_type": "markdown",
      "metadata": {
        "id": "6MbBPJwC4qlT"
      },
      "source": [
        "### F1-Score"
      ]
    },
    {
      "cell_type": "code",
      "metadata": {
        "colab": {
          "base_uri": "https://localhost:8080/"
        },
        "id": "io4zoiAbsk0F",
        "outputId": "73389b6d-219d-4a30-f61c-47131d86b10d"
      },
      "source": [
        "# F1점수 (정밀도와 재현율의 조화평균!)\n",
        "# 2 / [(1/정밀도) + (1/재현율)]\n",
        "from sklearn.metrics import f1_score #두 분류기를 비교할때 f1점수 자주쓰임.(정밀도 재현도 다 고려하기 위해)\n",
        "f1_score(y_train_5,y_train_pred) #정밀도와 재현율이 비슷할수록 1에 가까워 진다."
      ],
      "execution_count": null,
      "outputs": [
        {
          "output_type": "execute_result",
          "data": {
            "text/plain": [
              "0.7311547714514836"
            ]
          },
          "metadata": {
            "tags": []
          },
          "execution_count": 45
        }
      ]
    },
    {
      "cell_type": "markdown",
      "metadata": {
        "id": "e5PBpYyvxH2w"
      },
      "source": [
        "+ 정밀도 - 예측을 했을떄 그 예측이 믿을만한 정도\n",
        "\n",
        "정밀한 분류기는 상황이 '정말 확실할때'만 양성으로 감지한다.\n",
        "\n",
        "+ 재현율 - 실제 값들중 정말로 실제라고 감지된 비율.\n",
        "\n",
        "'재현율높은' 분류기는 '조금만 수상해도' 양성으로 감지한다. "
      ]
    },
    {
      "cell_type": "markdown",
      "metadata": {
        "id": "B1JbP2bn0LkR"
      },
      "source": [
        "### ROC 곡선"
      ]
    },
    {
      "cell_type": "markdown",
      "metadata": {
        "id": "ojxQuBCH4qlT"
      },
      "source": [
        "+ decision_function?\n",
        "\n",
        "주어진 X값에 대하여 어떤 label로 분류할지 예측값마다 점수를 부여한다.\n",
        "아래의 예시에선 0을 기점으로, 양수는 양성(5이다) 음수는 음성(5가 아니다)로 예측.\n",
        "\n",
        "이때, 0을 분류에서의 '임계점'(thresholds)이라고 할 수 있음."
      ]
    },
    {
      "cell_type": "code",
      "metadata": {
        "id": "XiP6nobc4qlU"
      },
      "source": [
        "y_scores = cross_val_predict(svm_clf, X_train, y_train_5, cv=3,\n",
        "                                 method = \"decision_function\")"
      ],
      "execution_count": null,
      "outputs": []
    },
    {
      "cell_type": "code",
      "metadata": {
        "id": "TWLUr6_X0Gdb"
      },
      "source": [
        "from sklearn.metrics import roc_curve # ROC곡선을 위한 함수\n",
        "fpr, tpr, thresholds = roc_curve(y_train_5, y_scores) #roc커브결과값, 거짓양성비, 진짜양성비, 임곗값을 저장"
      ],
      "execution_count": null,
      "outputs": []
    },
    {
      "cell_type": "code",
      "metadata": {
        "colab": {
          "base_uri": "https://localhost:8080/",
          "height": 486
        },
        "id": "_wqPWjzx2MDH",
        "outputId": "3249f043-e849-401e-a535-3610379ce30e"
      },
      "source": [
        "def plot_roc_curve(fpr, tpr, label=None):\n",
        "  plt.plot(fpr, tpr, linewidth=2, label=label)\n",
        "  plt.plot([0,1],[0,1],'k--')\n",
        "  \n",
        "plt.figure(figsize=(12,8))\n",
        "plot_roc_curve(fpr,tpr)\n",
        "plt.show()"
      ],
      "execution_count": null,
      "outputs": [
        {
          "output_type": "display_data",
          "data": {
            "image/png": "[encoded data removed]",
            "text/plain": [
              "<Figure size 864x576 with 1 Axes>"
            ]
          },
          "metadata": {
            "tags": [],
            "needs_background": "light"
          }
        }
      ]
    },
    {
      "cell_type": "code",
      "metadata": {
        "colab": {
          "base_uri": "https://localhost:8080/"
        },
        "id": "WJTDSC312L9N",
        "outputId": "0cdd6ac1-0e23-40d5-8388-1d932bc83d35"
      },
      "source": [
        "from sklearn.metrics import roc_auc_score\n",
        "roc_auc_score(y_train_5,y_scores) #AUC값 (면적)계산"
      ],
      "execution_count": null,
      "outputs": [
        {
          "output_type": "execute_result",
          "data": {
            "text/plain": [
              "0.9536789698168869"
            ]
          },
          "metadata": {
            "tags": []
          },
          "execution_count": 31
        }
      ]
    },
    {
      "cell_type": "markdown",
      "metadata": {
        "id": "VEsIZ2IK4qlU"
      },
      "source": [
        "### 회귀 실습"
      ]
    },
    {
      "cell_type": "code",
      "metadata": {
        "id": "T4IDQk0y4qlU",
        "outputId": "245d92bb-b937-48cf-d906-ce7889ef7e3b"
      },
      "source": [
        "# boston 데이터 load\n",
        "boston_data = datasets.load_boston() \n",
        "\n",
        "# boston feature\n",
        "boston_feature = boston_data.data\n",
        "\n",
        "# boston target\n",
        "boston_target = boston_data.target\n",
        "\n",
        "# boston 데이터 DataFrame변환\n",
        "boston = pd.DataFrame(boston_data.data, columns = boston_data.feature_names)\n",
        "\n",
        "# boston target변수 (주택가격 )\n",
        "boston['PRICE'] = boston_data.target\n",
        "boston"
      ],
      "execution_count": null,
      "outputs": [
        {
          "output_type": "execute_result",
          "data": {
            "text/html": [
              "<div>\n",
              "<style scoped>\n",
              "    .dataframe tbody tr th:only-of-type {\n",
              "        vertical-align: middle;\n",
              "    }\n",
              "\n",
              "    .dataframe tbody tr th {\n",
              "        vertical-align: top;\n",
              "    }\n",
              "\n",
              "    .dataframe thead th {\n",
              "        text-align: right;\n",
              "    }\n",
              "</style>\n",
              "<table border=\"1\" class=\"dataframe\">\n",
              "  <thead>\n",
              "    <tr style=\"text-align: right;\">\n",
              "      <th></th>\n",
              "      <th>CRIM</th>\n",
              "      <th>ZN</th>\n",
              "      <th>INDUS</th>\n",
              "      <th>CHAS</th>\n",
              "      <th>NOX</th>\n",
              "      <th>RM</th>\n",
              "      <th>AGE</th>\n",
              "      <th>DIS</th>\n",
              "      <th>RAD</th>\n",
              "      <th>TAX</th>\n",
              "      <th>PTRATIO</th>\n",
              "      <th>B</th>\n",
              "      <th>LSTAT</th>\n",
              "      <th>PRICE</th>\n",
              "    </tr>\n",
              "  </thead>\n",
              "  <tbody>\n",
              "    <tr>\n",
              "      <td>0</td>\n",
              "      <td>0.00632</td>\n",
              "      <td>18.0</td>\n",
              "      <td>2.31</td>\n",
              "      <td>0.0</td>\n",
              "      <td>0.538</td>\n",
              "      <td>6.575</td>\n",
              "      <td>65.2</td>\n",
              "      <td>4.0900</td>\n",
              "      <td>1.0</td>\n",
              "      <td>296.0</td>\n",
              "      <td>15.3</td>\n",
              "      <td>396.90</td>\n",
              "      <td>4.98</td>\n",
              "      <td>24.0</td>\n",
              "    </tr>\n",
              "    <tr>\n",
              "      <td>1</td>\n",
              "      <td>0.02731</td>\n",
              "      <td>0.0</td>\n",
              "      <td>7.07</td>\n",
              "      <td>0.0</td>\n",
              "      <td>0.469</td>\n",
              "      <td>6.421</td>\n",
              "      <td>78.9</td>\n",
              "      <td>4.9671</td>\n",
              "      <td>2.0</td>\n",
              "      <td>242.0</td>\n",
              "      <td>17.8</td>\n",
              "      <td>396.90</td>\n",
              "      <td>9.14</td>\n",
              "      <td>21.6</td>\n",
              "    </tr>\n",
              "    <tr>\n",
              "      <td>2</td>\n",
              "      <td>0.02729</td>\n",
              "      <td>0.0</td>\n",
              "      <td>7.07</td>\n",
              "      <td>0.0</td>\n",
              "      <td>0.469</td>\n",
              "      <td>7.185</td>\n",
              "      <td>61.1</td>\n",
              "      <td>4.9671</td>\n",
              "      <td>2.0</td>\n",
              "      <td>242.0</td>\n",
              "      <td>17.8</td>\n",
              "      <td>392.83</td>\n",
              "      <td>4.03</td>\n",
              "      <td>34.7</td>\n",
              "    </tr>\n",
              "    <tr>\n",
              "      <td>3</td>\n",
              "      <td>0.03237</td>\n",
              "      <td>0.0</td>\n",
              "      <td>2.18</td>\n",
              "      <td>0.0</td>\n",
              "      <td>0.458</td>\n",
              "      <td>6.998</td>\n",
              "      <td>45.8</td>\n",
              "      <td>6.0622</td>\n",
              "      <td>3.0</td>\n",
              "      <td>222.0</td>\n",
              "      <td>18.7</td>\n",
              "      <td>394.63</td>\n",
              "      <td>2.94</td>\n",
              "      <td>33.4</td>\n",
              "    </tr>\n",
              "    <tr>\n",
              "      <td>4</td>\n",
              "      <td>0.06905</td>\n",
              "      <td>0.0</td>\n",
              "      <td>2.18</td>\n",
              "      <td>0.0</td>\n",
              "      <td>0.458</td>\n",
              "      <td>7.147</td>\n",
              "      <td>54.2</td>\n",
              "      <td>6.0622</td>\n",
              "      <td>3.0</td>\n",
              "      <td>222.0</td>\n",
              "      <td>18.7</td>\n",
              "      <td>396.90</td>\n",
              "      <td>5.33</td>\n",
              "      <td>36.2</td>\n",
              "    </tr>\n",
              "    <tr>\n",
              "      <td>...</td>\n",
              "      <td>...</td>\n",
              "      <td>...</td>\n",
              "      <td>...</td>\n",
              "      <td>...</td>\n",
              "      <td>...</td>\n",
              "      <td>...</td>\n",
              "      <td>...</td>\n",
              "      <td>...</td>\n",
              "      <td>...</td>\n",
              "      <td>...</td>\n",
              "      <td>...</td>\n",
              "      <td>...</td>\n",
              "      <td>...</td>\n",
              "      <td>...</td>\n",
              "    </tr>\n",
              "    <tr>\n",
              "      <td>501</td>\n",
              "      <td>0.06263</td>\n",
              "      <td>0.0</td>\n",
              "      <td>11.93</td>\n",
              "      <td>0.0</td>\n",
              "      <td>0.573</td>\n",
              "      <td>6.593</td>\n",
              "      <td>69.1</td>\n",
              "      <td>2.4786</td>\n",
              "      <td>1.0</td>\n",
              "      <td>273.0</td>\n",
              "      <td>21.0</td>\n",
              "      <td>391.99</td>\n",
              "      <td>9.67</td>\n",
              "      <td>22.4</td>\n",
              "    </tr>\n",
              "    <tr>\n",
              "      <td>502</td>\n",
              "      <td>0.04527</td>\n",
              "      <td>0.0</td>\n",
              "      <td>11.93</td>\n",
              "      <td>0.0</td>\n",
              "      <td>0.573</td>\n",
              "      <td>6.120</td>\n",
              "      <td>76.7</td>\n",
              "      <td>2.2875</td>\n",
              "      <td>1.0</td>\n",
              "      <td>273.0</td>\n",
              "      <td>21.0</td>\n",
              "      <td>396.90</td>\n",
              "      <td>9.08</td>\n",
              "      <td>20.6</td>\n",
              "    </tr>\n",
              "    <tr>\n",
              "      <td>503</td>\n",
              "      <td>0.06076</td>\n",
              "      <td>0.0</td>\n",
              "      <td>11.93</td>\n",
              "      <td>0.0</td>\n",
              "      <td>0.573</td>\n",
              "      <td>6.976</td>\n",
              "      <td>91.0</td>\n",
              "      <td>2.1675</td>\n",
              "      <td>1.0</td>\n",
              "      <td>273.0</td>\n",
              "      <td>21.0</td>\n",
              "      <td>396.90</td>\n",
              "      <td>5.64</td>\n",
              "      <td>23.9</td>\n",
              "    </tr>\n",
              "    <tr>\n",
              "      <td>504</td>\n",
              "      <td>0.10959</td>\n",
              "      <td>0.0</td>\n",
              "      <td>11.93</td>\n",
              "      <td>0.0</td>\n",
              "      <td>0.573</td>\n",
              "      <td>6.794</td>\n",
              "      <td>89.3</td>\n",
              "      <td>2.3889</td>\n",
              "      <td>1.0</td>\n",
              "      <td>273.0</td>\n",
              "      <td>21.0</td>\n",
              "      <td>393.45</td>\n",
              "      <td>6.48</td>\n",
              "      <td>22.0</td>\n",
              "    </tr>\n",
              "    <tr>\n",
              "      <td>505</td>\n",
              "      <td>0.04741</td>\n",
              "      <td>0.0</td>\n",
              "      <td>11.93</td>\n",
              "      <td>0.0</td>\n",
              "      <td>0.573</td>\n",
              "      <td>6.030</td>\n",
              "      <td>80.8</td>\n",
              "      <td>2.5050</td>\n",
              "      <td>1.0</td>\n",
              "      <td>273.0</td>\n",
              "      <td>21.0</td>\n",
              "      <td>396.90</td>\n",
              "      <td>7.88</td>\n",
              "      <td>11.9</td>\n",
              "    </tr>\n",
              "  </tbody>\n",
              "</table>\n",
              "<p>506 rows × 14 columns</p>\n",
              "</div>"
            ],
            "text/plain": [
              "        CRIM    ZN  INDUS  CHAS    NOX     RM   AGE     DIS  RAD    TAX  \\\n",
              "0    0.00632  18.0   2.31   0.0  0.538  6.575  65.2  4.0900  1.0  296.0   \n",
              "1    0.02731   0.0   7.07   0.0  0.469  6.421  78.9  4.9671  2.0  242.0   \n",
              "2    0.02729   0.0   7.07   0.0  0.469  7.185  61.1  4.9671  2.0  242.0   \n",
              "3    0.03237   0.0   2.18   0.0  0.458  6.998  45.8  6.0622  3.0  222.0   \n",
              "4    0.06905   0.0   2.18   0.0  0.458  7.147  54.2  6.0622  3.0  222.0   \n",
              "..       ...   ...    ...   ...    ...    ...   ...     ...  ...    ...   \n",
              "501  0.06263   0.0  11.93   0.0  0.573  6.593  69.1  2.4786  1.0  273.0   \n",
              "502  0.04527   0.0  11.93   0.0  0.573  6.120  76.7  2.2875  1.0  273.0   \n",
              "503  0.06076   0.0  11.93   0.0  0.573  6.976  91.0  2.1675  1.0  273.0   \n",
              "504  0.10959   0.0  11.93   0.0  0.573  6.794  89.3  2.3889  1.0  273.0   \n",
              "505  0.04741   0.0  11.93   0.0  0.573  6.030  80.8  2.5050  1.0  273.0   \n",
              "\n",
              "     PTRATIO       B  LSTAT  PRICE  \n",
              "0       15.3  396.90   4.98   24.0  \n",
              "1       17.8  396.90   9.14   21.6  \n",
              "2       17.8  392.83   4.03   34.7  \n",
              "3       18.7  394.63   2.94   33.4  \n",
              "4       18.7  396.90   5.33   36.2  \n",
              "..       ...     ...    ...    ...  \n",
              "501     21.0  391.99   9.67   22.4  \n",
              "502     21.0  396.90   9.08   20.6  \n",
              "503     21.0  396.90   5.64   23.9  \n",
              "504     21.0  393.45   6.48   22.0  \n",
              "505     21.0  396.90   7.88   11.9  \n",
              "\n",
              "[506 rows x 14 columns]"
            ]
          },
          "metadata": {
            "tags": []
          },
          "execution_count": 74
        }
      ]
    },
    {
      "cell_type": "code",
      "metadata": {
        "id": "BX3OtP6F4qlV"
      },
      "source": [
        "# scaling\n",
        "scaler = StandardScaler()\n",
        "X = scaler.fit_transform(boston_feature) \n",
        "\n",
        "# train:test = 0.8:0.2\n",
        "x_train, x_test, y_train, y_test = train_test_split(X, boston_target,\n",
        "                                                   test_size = 0.2, random_state = 21)"
      ],
      "execution_count": null,
      "outputs": []
    },
    {
      "cell_type": "code",
      "metadata": {
        "id": "trDcl0434qlV",
        "outputId": "a4b23882-3e97-4325-9169-946d5116ee34"
      },
      "source": [
        "print(f'학습용 train의 길이는 {len(x_train)}, 학습용 test의 길이는 {len(y_train)}')\n",
        "print(f'평가용 train의 길이는 {len(x_test)}, 평가용 test의 길이는 {len(y_test)}')"
      ],
      "execution_count": null,
      "outputs": [
        {
          "output_type": "stream",
          "text": [
            "학습용 train의 길이는 404, 학습용 test의 길이는 404\n",
            "평가용 train의 길이는 102, 평가용 test의 길이는 102\n"
          ],
          "name": "stdout"
        }
      ]
    },
    {
      "cell_type": "code",
      "metadata": {
        "id": "mFRmGbns4qlV"
      },
      "source": [
        "# 회귀모델 평가지표 생성\n",
        "\n",
        "# MSE\n",
        "def mean_squared_error(y_true, y_pred): \n",
        "  y_true, y_pred = np.array(y_true), np.array(y_pred)\n",
        "  return np.mean((y_true - y_pred)**2)\n",
        "\n",
        "# RMSE\n",
        "def root_mean_squared_error(y_true, y_pred): \n",
        "  y_true, y_pred = np.array(y_true), np.array(y_pred)\n",
        "  return np.sqrt(np.mean((y_true - y_pred)**2))\n",
        "\n",
        "# MAE\n",
        "def mean_absolute_error(y_true, y_pred):\n",
        "  y_true, y_pred = np.array(y_true), np.array(y_pred)\n",
        "  return np.mean(np.abs((y_true - y_pred)))\n",
        "\n",
        "# MAPE\n",
        "def mean_absolute_percentage_error(y_true, y_pred): \n",
        "  y_true, y_pred = np.array(y_true), np.array(y_pred)\n",
        "  return np.mean(np.abs((y_true - y_pred) / y_true)) * 100"
      ],
      "execution_count": null,
      "outputs": []
    },
    {
      "cell_type": "code",
      "metadata": {
        "id": "HlSShYN44qlV",
        "outputId": "75979c2e-cc96-4df5-c8fa-fd01fb595d82"
      },
      "source": [
        "reg = LinearRegression() # 하이퍼 파라미터 튜닝은 생략한다.\n",
        "svr = LinearSVR()\n",
        "kmean = KMeans()\n",
        "\n",
        "models = [reg, svr, kmean] # 사용 모델 리스트\n",
        "model_names = ['Linear Regression', 'LinearSVR', 'KMeans'] # 사용 모델 이름\n",
        "evaluate = [mean_absolute_error,mean_squared_error,mean_absolute_percentage_error,root_mean_squared_error]#평가 지표 이름\n",
        "scores = {} # 점수 저장 목록 \n",
        "\n",
        "# 각 평가 지표별, 모델별 점수 출력\n",
        "for eval in evaluate: # 평가 지표 갯수만큼 반복\n",
        "  print(eval)\n",
        "  for ind, mod in enumerate(models): # enumerate -> List에서 index,value 총 2개를 출력해준다.(각각 ind,mod에 저장)\n",
        "    mod.fit(x_train, y_train)\n",
        "    y_pred = mod.predict(x_test)\n",
        "    score = eval(y_test, y_pred)  \n",
        "    scores[model_names[ind]] = score\n",
        "    if ind==2:\n",
        "      print(scores)"
      ],
      "execution_count": null,
      "outputs": [
        {
          "output_type": "stream",
          "text": [
            "<function mean_absolute_error at 0x0000000093D97948>\n",
            "{'Linear Regression': 3.66446242569901, 'LinearSVR': 3.274517711699858, 'KMeans': 18.062745098039215}\n",
            "<function mean_squared_error at 0x00000000E65DED38>\n",
            "{'Linear Regression': 26.825400573939326, 'LinearSVR': 26.675213966262035, 'KMeans': 486.3433333333333}\n",
            "<function mean_absolute_percentage_error at 0x0000000100961318>\n",
            "{'Linear Regression': 18.8684722584717, 'LinearSVR': 16.611692969220453, 'KMeans': 82.52905245551868}\n",
            "<function root_mean_squared_error at 0x00000000E65DEE58>\n",
            "{'Linear Regression': 5.179324335658014, 'LinearSVR': 5.163775354901735, 'KMeans': 21.846483092923943}\n"
          ],
          "name": "stdout"
        }
      ]
    }
  ]
}

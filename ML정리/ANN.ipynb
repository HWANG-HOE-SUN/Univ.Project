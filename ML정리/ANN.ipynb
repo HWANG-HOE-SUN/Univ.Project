{
 "cells": [
  {
   "cell_type": "markdown",
   "metadata": {},
   "source": [
    "### 인공 신경망 코드 실습"
   ]
  },
  {
   "cell_type": "markdown",
   "metadata": {},
   "source": [
    "+ 사용자 정의 함수 \n",
    "\n",
    "def 함수명(매개변수1,매개변수2):\n",
    "\n",
    "    함수 기능 코드\n",
    "    return 함수 반환 결과값\n",
    "  \n",
    "위와 같은 구조로, 파이썬에선 함수를 생성 및 자유롭게 호출해서 사용할 수 있다.\n",
    "\n",
    " "
   ]
  },
  {
   "cell_type": "code",
   "execution_count": 3,
   "metadata": {},
   "outputs": [
    {
     "name": "stdout",
     "output_type": "stream",
     "text": [
      "5\n"
     ]
    }
   ],
   "source": [
    "# 사용자 정의 함수 예시\n",
    "def plus(x1,x2):\n",
    "    sum = x1+x2\n",
    "    return sum\n",
    "print(plus(2,3))"
   ]
  },
  {
   "cell_type": "markdown",
   "metadata": {},
   "source": [
    "### 단층 퍼셉트론 구현"
   ]
  },
  {
   "cell_type": "code",
   "execution_count": 5,
   "metadata": {},
   "outputs": [],
   "source": [
    "import numpy as np # 라이브러리 호출\n",
    "def NAND(x1,x2): # Not AND 게이트 구현\n",
    "    x = np.array([x1,x2])       # 입력층\n",
    "    w = np.array([-0.5,-0.5])  # 가중치 배열\n",
    "    b = 0.7                    # 편향\n",
    "    tmp = np.sum(w*x) + b     # 계단 함수(wx+b>=0 이면 1 아니면 0)\n",
    "    if tmp>=0:\n",
    "        return 1\n",
    "    else :\n",
    "        return 0\n",
    "\n",
    "def OR(x1,x2): # OR 게이트 구현\n",
    "    x = np.array([x1,x2])\n",
    "    w = np.array([0.5,0.5])\n",
    "    b = -0.2\n",
    "    tmp = np.sum(w*x)+b\n",
    "    if tmp>=0 :\n",
    "        return 1\n",
    "    else :\n",
    "        return 0"
   ]
  },
  {
   "cell_type": "code",
   "execution_count": 20,
   "metadata": {},
   "outputs": [
    {
     "name": "stdout",
     "output_type": "stream",
     "text": [
      "1 1 0 1 \n",
      "\n",
      "1 1 1 0\n"
     ]
    }
   ],
   "source": [
    "print(NAND(0,1),NAND(1,0),NAND(1,1),NAND(0,0),\"\\n\") # \"\\n\"은 한줄 띄어쓰는 기능\n",
    "print(OR(0,1),OR(1,0),OR(1,1),OR(0,0))            "
   ]
  },
  {
   "cell_type": "markdown",
   "metadata": {},
   "source": [
    "### 다층 퍼셉트론 (XOR게이트)"
   ]
  },
  {
   "cell_type": "code",
   "execution_count": 23,
   "metadata": {},
   "outputs": [],
   "source": [
    "def AND(x1,x2):\n",
    "    x = np.array([x1,x2])\n",
    "    w = np.array([0.5,0.5])\n",
    "    b = -1\n",
    "    tmp = np.sum(w*x) + b\n",
    "    if tmp>=0:\n",
    "        return 1\n",
    "    else:\n",
    "        return 0"
   ]
  },
  {
   "cell_type": "code",
   "execution_count": 25,
   "metadata": {},
   "outputs": [],
   "source": [
    "def XOR(x1,x2):\n",
    "    nand_perceptron = NAND(x1,x2) # 앞선 층인 NAND 퍼셉트론의 연산 결과\n",
    "    or_perceptron = OR(x1,x2)     # 앞선 층인 OR 퍼셉트론의 연산 결과\n",
    "    y = AND(nand_perceptron,or_perceptron) # 두 가지의 AND 연산 \n",
    "    return y # "
   ]
  },
  {
   "cell_type": "code",
   "execution_count": 26,
   "metadata": {},
   "outputs": [
    {
     "data": {
      "text/plain": [
       "(1, 1, 0, 0)"
      ]
     },
     "execution_count": 26,
     "metadata": {},
     "output_type": "execute_result"
    }
   ],
   "source": [
    "XOR(0,1),XOR(1,0),XOR(0,0),XOR(1,1)"
   ]
  },
  {
   "cell_type": "code",
   "execution_count": null,
   "metadata": {},
   "outputs": [],
   "source": []
  },
  {
   "cell_type": "code",
   "execution_count": null,
   "metadata": {},
   "outputs": [],
   "source": []
  },
  {
   "cell_type": "code",
   "execution_count": null,
   "metadata": {},
   "outputs": [],
   "source": []
  }
 ],
 "metadata": {
  "kernelspec": {
   "display_name": "Python 3",
   "language": "python",
   "name": "python3"
  },
  "language_info": {
   "codemirror_mode": {
    "name": "ipython",
    "version": 3
   },
   "file_extension": ".py",
   "mimetype": "text/x-python",
   "name": "python",
   "nbconvert_exporter": "python",
   "pygments_lexer": "ipython3",
   "version": "3.7.0"
  }
 },
 "nbformat": 4,
 "nbformat_minor": 2
}

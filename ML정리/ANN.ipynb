{
 "cells": [
  {
   "cell_type": "markdown",
   "metadata": {},
   "source": [
    "### 인공 신경망 코드 실습"
   ]
  },
  {
   "cell_type": "markdown",
   "metadata": {},
   "source": [
    "+ 사용자 정의 함수 \n",
    "\n",
    "def 함수명(매개변수1,매개변수2):\n",
    "\n",
    "    함수 기능 코드\n",
    "    return 함수 반환 결과값\n",
    "  \n",
    "위와 같은 구조로, 파이썬에선 함수를 생성 및 자유롭게 호출해서 사용할 수 있다.\n",
    "\n",
    " "
   ]
  },
  {
   "cell_type": "code",
   "execution_count": 1,
   "metadata": {},
   "outputs": [
    {
     "name": "stdout",
     "output_type": "stream",
     "text": [
      "5\n"
     ]
    }
   ],
   "source": [
    "# 사용자 정의 함수 예시\n",
    "def plus(x1,x2):\n",
    "    sum = x1+x2\n",
    "    return sum\n",
    "print(plus(2,3))"
   ]
  },
  {
   "cell_type": "markdown",
   "metadata": {},
   "source": [
    "### 단층 퍼셉트론 구현"
   ]
  },
  {
   "cell_type": "code",
   "execution_count": 2,
   "metadata": {},
   "outputs": [],
   "source": [
    "import numpy as np # 라이브러리 호출\n",
    "def NAND(x1,x2): # Not AND 게이트 구현\n",
    "    x = np.array([x1,x2])       # 입력층\n",
    "    w = np.array([-0.5,-0.5])  # 가중치 배열\n",
    "    b = 0.7                    # 편향\n",
    "    tmp = np.sum(w*x) + b     # 계단 함수(wx+b>=0 이면 1 아니면 0)\n",
    "    if tmp>=0:\n",
    "        return 1\n",
    "    else :\n",
    "        return 0\n",
    "\n",
    "def OR(x1,x2): # OR 게이트 구현\n",
    "    x = np.array([x1,x2])\n",
    "    w = np.array([0.5,0.5])\n",
    "    b = -0.2\n",
    "    tmp = np.sum(w*x)+b\n",
    "    if tmp>=0 :\n",
    "        return 1\n",
    "    else :\n",
    "        return 0"
   ]
  },
  {
   "cell_type": "code",
   "execution_count": 3,
   "metadata": {},
   "outputs": [
    {
     "name": "stdout",
     "output_type": "stream",
     "text": [
      "1 1 0 1 \n",
      "\n",
      "1 1 1 0\n"
     ]
    }
   ],
   "source": [
    "print(NAND(0,1),NAND(1,0),NAND(1,1),NAND(0,0),\"\\n\") # \"\\n\"은 한줄 띄어쓰는 기능\n",
    "print(OR(0,1),OR(1,0),OR(1,1),OR(0,0))            "
   ]
  },
  {
   "cell_type": "markdown",
   "metadata": {},
   "source": [
    "### 다층 퍼셉트론 (XOR게이트)"
   ]
  },
  {
   "cell_type": "code",
   "execution_count": 4,
   "metadata": {},
   "outputs": [],
   "source": [
    "def AND(x1,x2):\n",
    "    x = np.array([x1,x2])\n",
    "    w = np.array([0.5,0.5])\n",
    "    b = -1\n",
    "    tmp = np.sum(w*x) + b\n",
    "    if tmp>=0:\n",
    "        return 1\n",
    "    else:\n",
    "        return 0"
   ]
  },
  {
   "cell_type": "code",
   "execution_count": 5,
   "metadata": {},
   "outputs": [],
   "source": [
    "def XOR(x1,x2):\n",
    "    nand_perceptron = NAND(x1,x2) # 앞선 층인 NAND 퍼셉트론의 연산 결과\n",
    "    or_perceptron = OR(x1,x2)     # 앞선 층인 OR 퍼셉트론의 연산 결과\n",
    "    y = AND(nand_perceptron,or_perceptron) # 두 가지의 AND 연산 \n",
    "    return y # "
   ]
  },
  {
   "cell_type": "code",
   "execution_count": 6,
   "metadata": {},
   "outputs": [
    {
     "data": {
      "text/plain": [
       "(1, 1, 0, 0)"
      ]
     },
     "execution_count": 6,
     "metadata": {},
     "output_type": "execute_result"
    }
   ],
   "source": [
    "XOR(0,1),XOR(1,0),XOR(0,0),XOR(1,1)"
   ]
  },
  {
   "cell_type": "markdown",
   "metadata": {},
   "source": [
    "### 퍼셉트론 훈련 및 예측"
   ]
  },
  {
   "cell_type": "code",
   "execution_count": 7,
   "metadata": {},
   "outputs": [],
   "source": [
    "import numpy as np\n",
    "from sklearn.datasets import load_iris\n",
    "from sklearn.linear_model import Perceptron\n",
    "\n",
    "iris = load_iris()\n",
    "X = iris.data[:,[2,3]] # Petal_length, Petal_width\n",
    "y = (iris.target==0).astype(np.int) # .astype으로 데이터형을 numpy int로 바꾼다.\n",
    "\n",
    "per_clf = Perceptron(max_iter=100, random_state=42) # 퍼셉트론 분류기 생성\n",
    "per_clf.fit(X,y) # iris 데이터 전체 훈련\n",
    "\n",
    "y_pred = per_clf.predict([[2, 0.5]])"
   ]
  },
  {
   "cell_type": "code",
   "execution_count": 8,
   "metadata": {},
   "outputs": [
    {
     "data": {
      "text/plain": [
       "array([1])"
      ]
     },
     "execution_count": 8,
     "metadata": {},
     "output_type": "execute_result"
    }
   ],
   "source": [
    "y_pred # 꽃잎 길이와 너비 2, 0.5에 대하여 종(target)을 Setosa(Species==0은 True)로 예측했다."
   ]
  },
  {
   "cell_type": "code",
   "execution_count": 20,
   "metadata": {},
   "outputs": [
    {
     "name": "stdout",
     "output_type": "stream",
     "text": [
      "퍼셉트론 각 열들의(꽃잎 변수) 가중치 계수 :  [[-1.4 -2.2]]\n",
      "퍼셉트론 결정 경계의 절편 :  [4.]\n"
     ]
    }
   ],
   "source": [
    "print(\"퍼셉트론 각 열들의(꽃잎 변수) 가중치 계수 : \",per_clf.coef_)\n",
    "print(\"퍼셉트론 결정 경계의 절편 : \",per_clf.intercept_)"
   ]
  },
  {
   "cell_type": "markdown",
   "metadata": {},
   "source": [
    "####  Numpy meshgrid, linspace함수\n",
    "+ linspace(start, end, number) :\n",
    " start숫자 부터 end숫자까지 number의 수만큼 숫자를 등간격으로 형성한다. \n",
    "\n",
    "+ meshgrid(x1,x2) -> return y1, y2 :\n",
    " 직교 좌표계(grid space)를 만들기 위한 grid point들을 받아서 자동으로 해당 점들을 형성해준다."
   ]
  },
  {
   "cell_type": "code",
   "execution_count": 15,
   "metadata": {},
   "outputs": [],
   "source": [
    "# 결과 그래프를 위한 시각화 변수 정의\n",
    "\n",
    "a = -per_clf.coef_[0][0] / per_clf.coef_[0][1] # 결정 경계 \n",
    "b = -per_clf.intercept_ / per_clf.coef_[0][1]\n",
    "\n",
    "axes = [0, 5, 0, 2]\n",
    "\n",
    "# 직교 좌표계 만들기\n",
    "x0, x1 = np.meshgrid(\n",
    "        np.linspace(axes[0], axes[1], 500).reshape(-1, 1), # 0부터 5사이 등간격으로 500x1 배열\n",
    "        np.linspace(axes[2], axes[3], 200).reshape(-1, 1), # 0부터 2사이 등간격으로 200x1 배열\n",
    "    )\n",
    "\n",
    "X_new = np.c_[x0.ravel(), x1.ravel()] # ravel() : (m,n)데이터를 (n,1)형태로 평탄히 만든다(1줄)\n",
    "y_predict = per_clf.predict(X_new)\n",
    "zz = y_predict.reshape(x0.shape)"
   ]
  },
  {
   "cell_type": "code",
   "execution_count": 23,
   "metadata": {},
   "outputs": [
    {
     "data": {
      "image/png": "[encoded data removed]",
      "text/plain": [
       "<Figure size 720x288 with 1 Axes>"
      ]
     },
     "metadata": {
      "needs_background": "light"
     },
     "output_type": "display_data"
    }
   ],
   "source": [
    "# 퍼셉트론 분류 결과 시각화\n",
    "\n",
    "import matplotlib.pyplot as plt\n",
    "%matplotlib inline\n",
    "\n",
    "plt.figure(figsize=(10, 4)) # 그래프 크기 설정\n",
    "plt.plot(X[y==0, 0], X[y==0, 1], \"bs\", label=\"Not Iris-Setosa\") # \"bs\" -파란 사각형모양 \n",
    "plt.plot(X[y==1, 0], X[y==1, 1], \"yo\", label=\"Iris-Setosa\") # \"yo\" -노란 원모양\n",
    "\n",
    "plt.plot([axes[0], axes[1]], [a * axes[0] + b, a * axes[1] + b], \"k-\", linewidth=3) # 결정경계(직선) \"k-\"=검은색\n",
    "\n",
    "plt.contourf(x0, x1, zz, cmap='Blues') # contourf = 등고선을 그려줌. cmap = 사용할 컬러 팔레트(색깔 조합판)\n",
    "plt.xlabel(\"Petal_length\", fontsize=14) \n",
    "plt.ylabel(\"Petal_width\", fontsize=14)\n",
    "plt.legend(loc=\"lower right\", fontsize=14) # 그래프 범례 표시\n",
    "plt.axis(axes)\n",
    "\n",
    "plt.show()"
   ]
  },
  {
   "cell_type": "code",
   "execution_count": null,
   "metadata": {},
   "outputs": [],
   "source": []
  }
 ],
 "metadata": {
  "kernelspec": {
   "display_name": "Python 3",
   "language": "python",
   "name": "python3"
  },
  "language_info": {
   "codemirror_mode": {
    "name": "ipython",
    "version": 3
   },
   "file_extension": ".py",
   "mimetype": "text/x-python",
   "name": "python",
   "nbconvert_exporter": "python",
   "pygments_lexer": "ipython3",
   "version": "3.7.0"
  }
 },
 "nbformat": 4,
 "nbformat_minor": 2
}

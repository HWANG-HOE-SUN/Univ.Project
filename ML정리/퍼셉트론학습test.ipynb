{
  "nbformat": 4,
  "nbformat_minor": 0,
  "metadata": {
    "colab": {
      "name": "퍼셉트론학습test.ipynb",
      "provenance": [],
      "collapsed_sections": [],
      "authorship_tag": "ABX9TyO+4v38gs3DCyRgCTDfu7gs",
      "include_colab_link": true
    },
    "kernelspec": {
      "name": "python3",
      "display_name": "Python 3"
    }
  },
  "cells": [
    {
      "cell_type": "markdown",
      "metadata": {
        "id": "view-in-github",
        "colab_type": "text"
      },
      "source": [
        "<a href=\"https://colab.research.google.com/github/HWANG-HOE-SUN/Univ.Project/blob/main/ML%EC%A0%95%EB%A6%AC/%ED%8D%BC%EC%85%89%ED%8A%B8%EB%A1%A0%ED%95%99%EC%8A%B5test.ipynb\" target=\"_parent\"><img src=\"https://colab.research.google.com/assets/colab-badge.svg\" alt=\"Open In Colab\"/></a>"
      ]
    },
    {
      "cell_type": "code",
      "metadata": {
        "id": "vAN0S0w4IBiz"
      },
      "source": [
        "# 가중치의 업데이트로 AND, OR연산등을 잘 해낼 수 있는지 테스트 해보겠다.\r\n",
        "import numpy as np\r\n",
        "\r\n",
        "def sigmoid(x): # 활성화 함수로 시그모이드 함수 사용\r\n",
        "    return 1/(1+np.exp(-x))\r\n",
        "\r\n",
        "# AND연산 입력과 출력(정답값)\r\n",
        "x = np.array([[1,1], [1,0], [0,1], [0,0]]) # 입력\r\n",
        "y = np.array([[1],[0],[0],[0]]) # 정답"
      ],
      "execution_count": 1,
      "outputs": []
    },
    {
      "cell_type": "code",
      "metadata": {
        "colab": {
          "base_uri": "https://localhost:8080/"
        },
        "id": "3uchOySTICVk",
        "outputId": "cb469324-108c-44bb-f527-a48a61b64f70"
      },
      "source": [
        "import tensorflow as tf # 신경망 구축을 위한 핵심 라이브러리\r\n",
        "w = tf.random.normal([2],0,1) # 가중치 벡터값 2개를 0,1사이 정규분포의 난수로 생성\r\n",
        "b = tf.random.normal([1],0,1) # 편향 벡터 1개를 0,1사이 정규분포의 난수로 생성\r\n",
        "a = 0.1 # 학습률\r\n",
        "\r\n",
        "epochs = 1000 # 학습 횟수\r\n",
        "for i in range(epochs):\r\n",
        "    error_sum = 0\r\n",
        "    for j in range(len(x)): # len(x)=4 , x의 (행,열) 리스트 입력값 4개\r\n",
        "        output = sigmoid(np.sum(x[j]*w) + b) # 예측값 \r\n",
        "        error = y[j][0] - output # 실제값 - 예측값\r\n",
        "        w = w + x[j] * a * error # 에러를 줄이는 방향으로 가중치와 편향이 갱신된다.\r\n",
        "        b = b + a * error  \r\n",
        "        error_sum += error #  epochs동안, 매 입력값들에 대해 전체 error합 계산\r\n",
        "    if i % 100 == 99: # 횟수가 100번째가 될때마다 error 값 확인\r\n",
        "        print(i, error_sum)"
      ],
      "execution_count": 6,
      "outputs": [
        {
          "output_type": "stream",
          "text": [
            "99 [-0.1820455]\n",
            "199 [-0.11495656]\n",
            "299 [-0.08486492]\n",
            "399 [-0.06731097]\n",
            "499 [-0.05572404]\n",
            "599 [-0.04749233]\n",
            "699 [-0.04134389]\n",
            "799 [-0.03658053]\n",
            "899 [-0.03278498]\n",
            "999 [-0.02969078]\n"
          ],
          "name": "stdout"
        }
      ]
    },
    {
      "cell_type": "code",
      "metadata": {
        "colab": {
          "base_uri": "https://localhost:8080/"
        },
        "id": "opWmCvDrIEDL",
        "outputId": "f188db9e-c728-47fb-d34e-62f4a08f40fa"
      },
      "source": [
        "for i in range(len(x)): # 모든 x 입력값에 대하여 결과 출력\r\n",
        "  print('X:', x[i], 'Y:', y[i], 'Output(신경망 예측값):', sigmoid(np.sum(x[i]*w)+b))"
      ],
      "execution_count": 7,
      "outputs": [
        {
          "output_type": "stream",
          "text": [
            "X: [1 1] Y: [1] Output(신경망 예측값): [0.93074673]\n",
            "X: [1 0] Y: [0] Output(신경망 예측값): [0.0486847]\n",
            "X: [0 1] Y: [0] Output(신경망 예측값): [0.04897313]\n",
            "X: [0 0] Y: [0] Output(신경망 예측값): [0.00019605]\n"
          ],
          "name": "stdout"
        }
      ]
    }
  ]
}
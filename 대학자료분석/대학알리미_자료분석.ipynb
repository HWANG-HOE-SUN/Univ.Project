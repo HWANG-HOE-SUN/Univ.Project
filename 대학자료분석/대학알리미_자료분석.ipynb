{
  "nbformat": 4,
  "nbformat_minor": 0,
  "metadata": {
    "colab": {
      "name": "대학알리미_자료분석.ipynb",
      "provenance": [],
      "collapsed_sections": [],
      "authorship_tag": "ABX9TyNN7kFeffGMQEucRPAPDR3E",
      "include_colab_link": true
    },
    "kernelspec": {
      "name": "python3",
      "display_name": "Python 3"
    },
    "language_info": {
      "name": "python"
    }
  },
  "cells": [
    {
      "cell_type": "markdown",
      "metadata": {
        "id": "view-in-github",
        "colab_type": "text"
      },
      "source": [
        "<a href=\"https://colab.research.google.com/github/HWANG-HOE-SUN/Univ.Project/blob/main/%EB%8C%80%ED%95%99%EC%9E%90%EB%A3%8C%EB%B6%84%EC%84%9D/%EB%8C%80%ED%95%99%EC%95%8C%EB%A6%AC%EB%AF%B8_%EC%9E%90%EB%A3%8C%EB%B6%84%EC%84%9D.ipynb\" target=\"_parent\"><img src=\"https://colab.research.google.com/assets/colab-badge.svg\" alt=\"Open In Colab\"/></a>"
      ]
    },
    {
      "cell_type": "code",
      "source": [
        "!sudo apt-get install -y fonts-nanum\n",
        "!sudo fc-cache -fv\n",
        "!rm ~/.cache/matplotlib -rf"
      ],
      "metadata": {
        "colab": {
          "base_uri": "https://localhost:8080/"
        },
        "id": "J4glpz3zh1lc",
        "outputId": "b63db5e6-f860-4371-806c-0abc703db01f"
      },
      "execution_count": null,
      "outputs": [
        {
          "output_type": "stream",
          "name": "stdout",
          "text": [
            "Reading package lists... Done\n",
            "Building dependency tree       \n",
            "Reading state information... Done\n",
            "The following NEW packages will be installed:\n",
            "  fonts-nanum\n",
            "0 upgraded, 1 newly installed, 0 to remove and 37 not upgraded.\n",
            "Need to get 9,604 kB of archives.\n",
            "After this operation, 29.5 MB of additional disk space will be used.\n",
            "Get:1 http://archive.ubuntu.com/ubuntu bionic/universe amd64 fonts-nanum all 20170925-1 [9,604 kB]\n",
            "Fetched 9,604 kB in 1s (7,735 kB/s)\n",
            "debconf: unable to initialize frontend: Dialog\n",
            "debconf: (No usable dialog-like program is installed, so the dialog based frontend cannot be used. at /usr/share/perl5/Debconf/FrontEnd/Dialog.pm line 76, <> line 1.)\n",
            "debconf: falling back to frontend: Readline\n",
            "debconf: unable to initialize frontend: Readline\n",
            "debconf: (This frontend requires a controlling tty.)\n",
            "debconf: falling back to frontend: Teletype\n",
            "dpkg-preconfigure: unable to re-open stdin: \n",
            "Selecting previously unselected package fonts-nanum.\n",
            "(Reading database ... 155225 files and directories currently installed.)\n",
            "Preparing to unpack .../fonts-nanum_20170925-1_all.deb ...\n",
            "Unpacking fonts-nanum (20170925-1) ...\n",
            "Setting up fonts-nanum (20170925-1) ...\n",
            "Processing triggers for fontconfig (2.12.6-0ubuntu2) ...\n",
            "/usr/share/fonts: caching, new cache contents: 0 fonts, 1 dirs\n",
            "/usr/share/fonts/truetype: caching, new cache contents: 0 fonts, 3 dirs\n",
            "/usr/share/fonts/truetype/humor-sans: caching, new cache contents: 1 fonts, 0 dirs\n",
            "/usr/share/fonts/truetype/liberation: caching, new cache contents: 16 fonts, 0 dirs\n",
            "/usr/share/fonts/truetype/nanum: caching, new cache contents: 10 fonts, 0 dirs\n",
            "/usr/local/share/fonts: caching, new cache contents: 0 fonts, 0 dirs\n",
            "/root/.local/share/fonts: skipping, no such directory\n",
            "/root/.fonts: skipping, no such directory\n",
            "/var/cache/fontconfig: cleaning cache directory\n",
            "/root/.cache/fontconfig: not cleaning non-existent cache directory\n",
            "/root/.fontconfig: not cleaning non-existent cache directory\n",
            "fc-cache: succeeded\n"
          ]
        }
      ]
    },
    {
      "cell_type": "markdown",
      "source": [
        "### 계열별 학생수 "
      ],
      "metadata": {
        "id": "cxl9gJSMkmhE"
      }
    },
    {
      "cell_type": "code",
      "execution_count": null,
      "metadata": {
        "id": "jnV0zkgSczGO"
      },
      "outputs": [],
      "source": [
        "import pandas as pd\n",
        "\n",
        "학생수_2019 = pd.read_excel('/content/2019년_계열별 학생수.xlsx')\n",
        "학생수_2020 = pd.read_excel('/content/2020년_계열별 학생수.xlsx')\n",
        "학생수_2021 = pd.read_excel('/content/2021년_계열별 학생수.xlsx')"
      ]
    },
    {
      "cell_type": "code",
      "source": [
        "features = ['학과국문명',\n",
        "'학과영문명',            \n",
        "'학과수',\n",
        "'올해입학생정원',\n",
        "'총재학생_T',\n",
        "'총재학생_F',\n",
        "'Freshman_T',\n",
        "'Freshman_F',\n",
        "'Sophomore_T'\n",
        "'Sophomore_F'\n",
        "'Junior_T',\n",
        "'Junior_F',\n",
        "'Senior_T',\n",
        "'Senior_F',\t\n",
        "'Fifth Year Senior_T',\n",
        "'Fifth Year Senior_F',\n",
        "'Sixth Year Senior_T',\n",
        "'Sixth Year Senior_F',\n",
        "'Applicants_T',\n",
        "'Applicants_F',\t\t\n",
        "'Entrants_T',\n",
        "'Entrants_F',\n",
        "'Graduates_T',\n",
        "'Graduates_F',\t\t\t\t\n",
        "'Accredited Skills_T',\n",
        "'Accredited Skills_F']\t\n",
        "features"
      ],
      "metadata": {
        "colab": {
          "base_uri": "https://localhost:8080/"
        },
        "id": "yOxMc6cIeIxX",
        "outputId": "7db7941d-4eea-4105-e4f3-42f15715980a"
      },
      "execution_count": null,
      "outputs": [
        {
          "output_type": "execute_result",
          "data": {
            "text/plain": [
              "['학과국문명',\n",
              " '학과영문명',\n",
              " '학과수',\n",
              " '올해입학생정원',\n",
              " '총재학생_T',\n",
              " '총재학생_F',\n",
              " 'Freshman_T',\n",
              " 'Freshman_F',\n",
              " 'Sophomore_TSophomore_FJunior_T',\n",
              " 'Junior_F',\n",
              " 'Senior_T',\n",
              " 'Senior_F',\n",
              " 'Fifth Year Senior_T',\n",
              " 'Fifth Year Senior_F',\n",
              " 'Sixth Year Senior_T',\n",
              " 'Sixth Year Senior_F',\n",
              " 'Applicants_T',\n",
              " 'Applicants_F',\n",
              " 'Entrants_T',\n",
              " 'Entrants_F',\n",
              " 'Graduates_T',\n",
              " 'Graduates_F',\n",
              " 'Accredited Skills_T',\n",
              " 'Accredited Skills_F']"
            ]
          },
          "metadata": {},
          "execution_count": 2
        }
      ]
    },
    {
      "cell_type": "code",
      "source": [
        "df_2021 = 학생수_2021.iloc[83:137,:].dropna() # 공학계열 \n",
        "df_2021.drop(['Unnamed: 16','Unnamed: 17'],axis=1,inplace=True)\n",
        "df_2021.head(3)"
      ],
      "metadata": {
        "colab": {
          "base_uri": "https://localhost:8080/",
          "height": 502
        },
        "id": "eEcy4AAvc-8A",
        "outputId": "e5fc86f5-a87e-4065-b7d7-c5cba67f5a27"
      },
      "execution_count": null,
      "outputs": [
        {
          "output_type": "execute_result",
          "data": {
            "text/html": [
              "\n",
              "  <div id=\"df-4492c6d6-1f52-4b33-8d3b-32d248991371\">\n",
              "    <div class=\"colab-df-container\">\n",
              "      <div>\n",
              "<style scoped>\n",
              "    .dataframe tbody tr th:only-of-type {\n",
              "        vertical-align: middle;\n",
              "    }\n",
              "\n",
              "    .dataframe tbody tr th {\n",
              "        vertical-align: top;\n",
              "    }\n",
              "\n",
              "    .dataframe thead th {\n",
              "        text-align: right;\n",
              "    }\n",
              "</style>\n",
              "<table border=\"1\" class=\"dataframe\">\n",
              "  <thead>\n",
              "    <tr style=\"text-align: right;\">\n",
              "      <th></th>\n",
              "      <th>16-2. 계 열 별 학 생 수</th>\n",
              "      <th>Unnamed: 1</th>\n",
              "      <th>Unnamed: 2</th>\n",
              "      <th>Unnamed: 3</th>\n",
              "      <th>Unnamed: 4</th>\n",
              "      <th>Unnamed: 5</th>\n",
              "      <th>Unnamed: 6</th>\n",
              "      <th>Unnamed: 7</th>\n",
              "      <th>Unnamed: 8</th>\n",
              "      <th>Unnamed: 9</th>\n",
              "      <th>Unnamed: 10</th>\n",
              "      <th>Unnamed: 11</th>\n",
              "      <th>Unnamed: 12</th>\n",
              "      <th>Unnamed: 13</th>\n",
              "      <th>Unnamed: 14</th>\n",
              "      <th>Unnamed: 15</th>\n",
              "      <th>Unnamed: 18</th>\n",
              "      <th>Unnamed: 19</th>\n",
              "      <th>Unnamed: 20</th>\n",
              "      <th>Unnamed: 21</th>\n",
              "      <th>Unnamed: 22</th>\n",
              "      <th>Unnamed: 23</th>\n",
              "      <th>Unnamed: 24</th>\n",
              "      <th>Unnamed: 25</th>\n",
              "    </tr>\n",
              "  </thead>\n",
              "  <tbody>\n",
              "    <tr>\n",
              "      <th>83</th>\n",
              "      <td>&lt;공학계열&gt;</td>\n",
              "      <td>&lt;Engineering&gt;</td>\n",
              "      <td>3014</td>\n",
              "      <td>86755</td>\n",
              "      <td>567432</td>\n",
              "      <td>115544</td>\n",
              "      <td>129717</td>\n",
              "      <td>24787</td>\n",
              "      <td>174605</td>\n",
              "      <td>24811</td>\n",
              "      <td>128617</td>\n",
              "      <td>29344</td>\n",
              "      <td>130628</td>\n",
              "      <td>34869</td>\n",
              "      <td>3865</td>\n",
              "      <td>1733</td>\n",
              "      <td>688042</td>\n",
              "      <td>177006</td>\n",
              "      <td>93546</td>\n",
              "      <td>22956</td>\n",
              "      <td>85568</td>\n",
              "      <td>21783</td>\n",
              "      <td>6199</td>\n",
              "      <td>1573</td>\n",
              "    </tr>\n",
              "    <tr>\n",
              "      <th>85</th>\n",
              "      <td>[건축]</td>\n",
              "      <td>[Architecture]</td>\n",
              "      <td>358</td>\n",
              "      <td>7840</td>\n",
              "      <td>52389</td>\n",
              "      <td>15217</td>\n",
              "      <td>11059</td>\n",
              "      <td>2805</td>\n",
              "      <td>14431</td>\n",
              "      <td>2900</td>\n",
              "      <td>11540</td>\n",
              "      <td>3552</td>\n",
              "      <td>11494</td>\n",
              "      <td>4227</td>\n",
              "      <td>3865</td>\n",
              "      <td>1733</td>\n",
              "      <td>59630</td>\n",
              "      <td>18966</td>\n",
              "      <td>8226</td>\n",
              "      <td>2618</td>\n",
              "      <td>7471</td>\n",
              "      <td>2570</td>\n",
              "      <td>544</td>\n",
              "      <td>165</td>\n",
              "    </tr>\n",
              "    <tr>\n",
              "      <th>86</th>\n",
              "      <td>건축ㆍ설비공학</td>\n",
              "      <td>Architecture &amp; Equipment Engineering</td>\n",
              "      <td>138</td>\n",
              "      <td>2834</td>\n",
              "      <td>20430</td>\n",
              "      <td>4052</td>\n",
              "      <td>4381</td>\n",
              "      <td>819</td>\n",
              "      <td>6220</td>\n",
              "      <td>796</td>\n",
              "      <td>4537</td>\n",
              "      <td>1014</td>\n",
              "      <td>5116</td>\n",
              "      <td>1336</td>\n",
              "      <td>176</td>\n",
              "      <td>87</td>\n",
              "      <td>20157</td>\n",
              "      <td>4715</td>\n",
              "      <td>3120</td>\n",
              "      <td>778</td>\n",
              "      <td>3302</td>\n",
              "      <td>800</td>\n",
              "      <td>336</td>\n",
              "      <td>78</td>\n",
              "    </tr>\n",
              "  </tbody>\n",
              "</table>\n",
              "</div>\n",
              "      <button class=\"colab-df-convert\" onclick=\"convertToInteractive('df-4492c6d6-1f52-4b33-8d3b-32d248991371')\"\n",
              "              title=\"Convert this dataframe to an interactive table.\"\n",
              "              style=\"display:none;\">\n",
              "        \n",
              "  <svg xmlns=\"http://www.w3.org/2000/svg\" height=\"24px\"viewBox=\"0 0 24 24\"\n",
              "       width=\"24px\">\n",
              "    <path d=\"M0 0h24v24H0V0z\" fill=\"none\"/>\n",
              "    <path d=\"M18.56 5.44l.94 2.06.94-2.06 2.06-.94-2.06-.94-.94-2.06-.94 2.06-2.06.94zm-11 1L8.5 8.5l.94-2.06 2.06-.94-2.06-.94L8.5 2.5l-.94 2.06-2.06.94zm10 10l.94 2.06.94-2.06 2.06-.94-2.06-.94-.94-2.06-.94 2.06-2.06.94z\"/><path d=\"M17.41 7.96l-1.37-1.37c-.4-.4-.92-.59-1.43-.59-.52 0-1.04.2-1.43.59L10.3 9.45l-7.72 7.72c-.78.78-.78 2.05 0 2.83L4 21.41c.39.39.9.59 1.41.59.51 0 1.02-.2 1.41-.59l7.78-7.78 2.81-2.81c.8-.78.8-2.07 0-2.86zM5.41 20L4 18.59l7.72-7.72 1.47 1.35L5.41 20z\"/>\n",
              "  </svg>\n",
              "      </button>\n",
              "      \n",
              "  <style>\n",
              "    .colab-df-container {\n",
              "      display:flex;\n",
              "      flex-wrap:wrap;\n",
              "      gap: 12px;\n",
              "    }\n",
              "\n",
              "    .colab-df-convert {\n",
              "      background-color: #E8F0FE;\n",
              "      border: none;\n",
              "      border-radius: 50%;\n",
              "      cursor: pointer;\n",
              "      display: none;\n",
              "      fill: #1967D2;\n",
              "      height: 32px;\n",
              "      padding: 0 0 0 0;\n",
              "      width: 32px;\n",
              "    }\n",
              "\n",
              "    .colab-df-convert:hover {\n",
              "      background-color: #E2EBFA;\n",
              "      box-shadow: 0px 1px 2px rgba(60, 64, 67, 0.3), 0px 1px 3px 1px rgba(60, 64, 67, 0.15);\n",
              "      fill: #174EA6;\n",
              "    }\n",
              "\n",
              "    [theme=dark] .colab-df-convert {\n",
              "      background-color: #3B4455;\n",
              "      fill: #D2E3FC;\n",
              "    }\n",
              "\n",
              "    [theme=dark] .colab-df-convert:hover {\n",
              "      background-color: #434B5C;\n",
              "      box-shadow: 0px 1px 3px 1px rgba(0, 0, 0, 0.15);\n",
              "      filter: drop-shadow(0px 1px 2px rgba(0, 0, 0, 0.3));\n",
              "      fill: #FFFFFF;\n",
              "    }\n",
              "  </style>\n",
              "\n",
              "      <script>\n",
              "        const buttonEl =\n",
              "          document.querySelector('#df-4492c6d6-1f52-4b33-8d3b-32d248991371 button.colab-df-convert');\n",
              "        buttonEl.style.display =\n",
              "          google.colab.kernel.accessAllowed ? 'block' : 'none';\n",
              "\n",
              "        async function convertToInteractive(key) {\n",
              "          const element = document.querySelector('#df-4492c6d6-1f52-4b33-8d3b-32d248991371');\n",
              "          const dataTable =\n",
              "            await google.colab.kernel.invokeFunction('convertToInteractive',\n",
              "                                                     [key], {});\n",
              "          if (!dataTable) return;\n",
              "\n",
              "          const docLinkHtml = 'Like what you see? Visit the ' +\n",
              "            '<a target=\"_blank\" href=https://colab.research.google.com/notebooks/data_table.ipynb>data table notebook</a>'\n",
              "            + ' to learn more about interactive tables.';\n",
              "          element.innerHTML = '';\n",
              "          dataTable['output_type'] = 'display_data';\n",
              "          await google.colab.output.renderOutput(dataTable, element);\n",
              "          const docLink = document.createElement('div');\n",
              "          docLink.innerHTML = docLinkHtml;\n",
              "          element.appendChild(docLink);\n",
              "        }\n",
              "      </script>\n",
              "    </div>\n",
              "  </div>\n",
              "  "
            ],
            "text/plain": [
              "   16-2. 계 열 별 학 생 수  ... Unnamed: 25\n",
              "83            <공학계열>  ...        1573\n",
              "85              [건축]  ...         165\n",
              "86           건축ㆍ설비공학  ...          78\n",
              "\n",
              "[3 rows x 24 columns]"
            ]
          },
          "metadata": {},
          "execution_count": 3
        }
      ]
    },
    {
      "cell_type": "code",
      "source": [
        "len(df_2021.columns), len(features)"
      ],
      "metadata": {
        "colab": {
          "base_uri": "https://localhost:8080/"
        },
        "id": "eD5IAr9whyQz",
        "outputId": "a3c36db6-697d-48a2-9ada-b532f4b6c547"
      },
      "execution_count": null,
      "outputs": [
        {
          "output_type": "execute_result",
          "data": {
            "text/plain": [
              "(24, 24)"
            ]
          },
          "metadata": {},
          "execution_count": 4
        }
      ]
    },
    {
      "cell_type": "code",
      "source": [
        "학생수_2020.fillna(method='ffill').drop_duplicates().set_index('16-2. 계 열 별 학 생 수')\n",
        "#df_2021.drop(['Unnamed: 16','Unnamed: 17'],axis=1,inplace=True)\n",
        "#df_2021.head(3)"
      ],
      "metadata": {
        "id": "waO9UbAlk427",
        "colab": {
          "base_uri": "https://localhost:8080/",
          "height": 917
        },
        "outputId": "0098bd85-b548-4bf8-e2f5-96d5ee96ff14"
      },
      "execution_count": null,
      "outputs": [
        {
          "output_type": "execute_result",
          "data": {
            "text/html": [
              "\n",
              "  <div id=\"df-b13e39a7-d2a8-43ba-a3a0-2168a1ad4804\">\n",
              "    <div class=\"colab-df-container\">\n",
              "      <div>\n",
              "<style scoped>\n",
              "    .dataframe tbody tr th:only-of-type {\n",
              "        vertical-align: middle;\n",
              "    }\n",
              "\n",
              "    .dataframe tbody tr th {\n",
              "        vertical-align: top;\n",
              "    }\n",
              "\n",
              "    .dataframe thead th {\n",
              "        text-align: right;\n",
              "    }\n",
              "</style>\n",
              "<table border=\"1\" class=\"dataframe\">\n",
              "  <thead>\n",
              "    <tr style=\"text-align: right;\">\n",
              "      <th></th>\n",
              "      <th>Unnamed: 1</th>\n",
              "      <th>Unnamed: 2</th>\n",
              "      <th>Unnamed: 3</th>\n",
              "      <th>Unnamed: 4</th>\n",
              "      <th>Unnamed: 5</th>\n",
              "      <th>Unnamed: 6</th>\n",
              "      <th>Unnamed: 7</th>\n",
              "      <th>Unnamed: 8</th>\n",
              "      <th>Unnamed: 9</th>\n",
              "      <th>Unnamed: 10</th>\n",
              "      <th>Unnamed: 11</th>\n",
              "      <th>Unnamed: 12</th>\n",
              "      <th>Unnamed: 13</th>\n",
              "      <th>Unnamed: 14</th>\n",
              "      <th>Unnamed: 15</th>\n",
              "      <th>Unnamed: 16</th>\n",
              "      <th>Unnamed: 17</th>\n",
              "      <th>Unnamed: 18</th>\n",
              "      <th>Unnamed: 19</th>\n",
              "      <th>Unnamed: 20</th>\n",
              "      <th>Unnamed: 21</th>\n",
              "      <th>Unnamed: 22</th>\n",
              "      <th>Unnamed: 23</th>\n",
              "      <th>Unnamed: 24</th>\n",
              "      <th>Unnamed: 25</th>\n",
              "      <th>Unnamed: 26</th>\n",
              "    </tr>\n",
              "    <tr>\n",
              "      <th>16-2. 계 열 별 학 생 수</th>\n",
              "      <th></th>\n",
              "      <th></th>\n",
              "      <th></th>\n",
              "      <th></th>\n",
              "      <th></th>\n",
              "      <th></th>\n",
              "      <th></th>\n",
              "      <th></th>\n",
              "      <th></th>\n",
              "      <th></th>\n",
              "      <th></th>\n",
              "      <th></th>\n",
              "      <th></th>\n",
              "      <th></th>\n",
              "      <th></th>\n",
              "      <th></th>\n",
              "      <th></th>\n",
              "      <th></th>\n",
              "      <th></th>\n",
              "      <th></th>\n",
              "      <th></th>\n",
              "      <th></th>\n",
              "      <th></th>\n",
              "      <th></th>\n",
              "      <th></th>\n",
              "      <th></th>\n",
              "    </tr>\n",
              "  </thead>\n",
              "  <tbody>\n",
              "    <tr>\n",
              "      <th>Students by Academic Field</th>\n",
              "      <td>NaN</td>\n",
              "      <td>NaN</td>\n",
              "      <td>NaN</td>\n",
              "      <td>NaN</td>\n",
              "      <td>NaN</td>\n",
              "      <td>NaN</td>\n",
              "      <td>NaN</td>\n",
              "      <td>NaN</td>\n",
              "      <td>NaN</td>\n",
              "      <td>NaN</td>\n",
              "      <td>NaN</td>\n",
              "      <td>NaN</td>\n",
              "      <td>NaN</td>\n",
              "      <td>NaN</td>\n",
              "      <td>NaN</td>\n",
              "      <td>NaN</td>\n",
              "      <td>NaN</td>\n",
              "      <td>NaN</td>\n",
              "      <td>NaN</td>\n",
              "      <td>NaN</td>\n",
              "      <td>NaN</td>\n",
              "      <td>NaN</td>\n",
              "      <td>NaN</td>\n",
              "      <td>NaN</td>\n",
              "      <td>NaN</td>\n",
              "      <td>NaN</td>\n",
              "    </tr>\n",
              "    <tr>\n",
              "      <th>Students by Academic Field</th>\n",
              "      <td>NaN</td>\n",
              "      <td>NaN</td>\n",
              "      <td>2020학년도</td>\n",
              "      <td>재 적 학 생 수</td>\n",
              "      <td>NaN</td>\n",
              "      <td>NaN</td>\n",
              "      <td>NaN</td>\n",
              "      <td>NaN</td>\n",
              "      <td>NaN</td>\n",
              "      <td>NaN</td>\n",
              "      <td>NaN</td>\n",
              "      <td>NaN</td>\n",
              "      <td>NaN</td>\n",
              "      <td>NaN</td>\n",
              "      <td>NaN</td>\n",
              "      <td>NaN</td>\n",
              "      <td>NaN</td>\n",
              "      <td>입 학 상 황</td>\n",
              "      <td>NaN</td>\n",
              "      <td>NaN</td>\n",
              "      <td>NaN</td>\n",
              "      <td>NaN</td>\n",
              "      <td>NaN</td>\n",
              "      <td>NaN</td>\n",
              "      <td>NaN</td>\n",
              "      <td>NaN</td>\n",
              "    </tr>\n",
              "    <tr>\n",
              "      <th>Students by Academic Field</th>\n",
              "      <td>NaN</td>\n",
              "      <td>NaN</td>\n",
              "      <td>입학정원</td>\n",
              "      <td>Enrollments</td>\n",
              "      <td>NaN</td>\n",
              "      <td>NaN</td>\n",
              "      <td>NaN</td>\n",
              "      <td>NaN</td>\n",
              "      <td>NaN</td>\n",
              "      <td>NaN</td>\n",
              "      <td>NaN</td>\n",
              "      <td>NaN</td>\n",
              "      <td>NaN</td>\n",
              "      <td>NaN</td>\n",
              "      <td>NaN</td>\n",
              "      <td>NaN</td>\n",
              "      <td>NaN</td>\n",
              "      <td>Entrance</td>\n",
              "      <td>NaN</td>\n",
              "      <td>NaN</td>\n",
              "      <td>NaN</td>\n",
              "      <td>졸 업 자</td>\n",
              "      <td>NaN</td>\n",
              "      <td>국가기술</td>\n",
              "      <td>NaN</td>\n",
              "      <td>NaN</td>\n",
              "    </tr>\n",
              "    <tr>\n",
              "      <th>Students by Academic Field</th>\n",
              "      <td>NaN</td>\n",
              "      <td>NaN</td>\n",
              "      <td>입학정원</td>\n",
              "      <td>합 계</td>\n",
              "      <td>NaN</td>\n",
              "      <td>1 학 년</td>\n",
              "      <td>NaN</td>\n",
              "      <td>2 학 년</td>\n",
              "      <td>NaN</td>\n",
              "      <td>3 학 년</td>\n",
              "      <td>NaN</td>\n",
              "      <td>4 학 년</td>\n",
              "      <td>NaN</td>\n",
              "      <td>5 학 년</td>\n",
              "      <td>NaN</td>\n",
              "      <td>6 학 년</td>\n",
              "      <td>NaN</td>\n",
              "      <td>지 원 자</td>\n",
              "      <td>NaN</td>\n",
              "      <td>입 학 자</td>\n",
              "      <td>NaN</td>\n",
              "      <td>Graduates</td>\n",
              "      <td>NaN</td>\n",
              "      <td>자격취득자</td>\n",
              "      <td>NaN</td>\n",
              "      <td>NaN</td>\n",
              "    </tr>\n",
              "    <tr>\n",
              "      <th>구        분</th>\n",
              "      <td>NaN</td>\n",
              "      <td>학 과 수</td>\n",
              "      <td>No. of</td>\n",
              "      <td>Total</td>\n",
              "      <td>NaN</td>\n",
              "      <td>Freshman</td>\n",
              "      <td>NaN</td>\n",
              "      <td>Sophomore</td>\n",
              "      <td>NaN</td>\n",
              "      <td>Junior</td>\n",
              "      <td>NaN</td>\n",
              "      <td>Senior</td>\n",
              "      <td>NaN</td>\n",
              "      <td>Fifth Year Senior</td>\n",
              "      <td>NaN</td>\n",
              "      <td>Sixth Year Senior</td>\n",
              "      <td>NaN</td>\n",
              "      <td>Applicants</td>\n",
              "      <td>NaN</td>\n",
              "      <td>Entrants</td>\n",
              "      <td>NaN</td>\n",
              "      <td>Graduates</td>\n",
              "      <td>NaN</td>\n",
              "      <td>Accredited Skills</td>\n",
              "      <td>NaN</td>\n",
              "      <td>NaN</td>\n",
              "    </tr>\n",
              "    <tr>\n",
              "      <th>...</th>\n",
              "      <td>...</td>\n",
              "      <td>...</td>\n",
              "      <td>...</td>\n",
              "      <td>...</td>\n",
              "      <td>...</td>\n",
              "      <td>...</td>\n",
              "      <td>...</td>\n",
              "      <td>...</td>\n",
              "      <td>...</td>\n",
              "      <td>...</td>\n",
              "      <td>...</td>\n",
              "      <td>...</td>\n",
              "      <td>...</td>\n",
              "      <td>...</td>\n",
              "      <td>...</td>\n",
              "      <td>...</td>\n",
              "      <td>...</td>\n",
              "      <td>...</td>\n",
              "      <td>...</td>\n",
              "      <td>...</td>\n",
              "      <td>...</td>\n",
              "      <td>...</td>\n",
              "      <td>...</td>\n",
              "      <td>...</td>\n",
              "      <td>...</td>\n",
              "      <td>...</td>\n",
              "    </tr>\n",
              "    <tr>\n",
              "      <th>기악</th>\n",
              "      <td>Instrumental Music</td>\n",
              "      <td>66</td>\n",
              "      <td>1213</td>\n",
              "      <td>7383</td>\n",
              "      <td>5289</td>\n",
              "      <td>1745</td>\n",
              "      <td>1241</td>\n",
              "      <td>1766</td>\n",
              "      <td>1185</td>\n",
              "      <td>1819</td>\n",
              "      <td>1297</td>\n",
              "      <td>2053</td>\n",
              "      <td>1566</td>\n",
              "      <td>-</td>\n",
              "      <td>-</td>\n",
              "      <td>-</td>\n",
              "      <td>-</td>\n",
              "      <td>12677</td>\n",
              "      <td>9215</td>\n",
              "      <td>1478</td>\n",
              "      <td>1117</td>\n",
              "      <td>1614</td>\n",
              "      <td>1307</td>\n",
              "      <td>-</td>\n",
              "      <td>-</td>\n",
              "      <td>NaN</td>\n",
              "    </tr>\n",
              "    <tr>\n",
              "      <th>성악</th>\n",
              "      <td>Vocal Music</td>\n",
              "      <td>29</td>\n",
              "      <td>430</td>\n",
              "      <td>2870</td>\n",
              "      <td>1702</td>\n",
              "      <td>730</td>\n",
              "      <td>424</td>\n",
              "      <td>686</td>\n",
              "      <td>379</td>\n",
              "      <td>677</td>\n",
              "      <td>398</td>\n",
              "      <td>777</td>\n",
              "      <td>501</td>\n",
              "      <td>-</td>\n",
              "      <td>-</td>\n",
              "      <td>-</td>\n",
              "      <td>-</td>\n",
              "      <td>6976</td>\n",
              "      <td>4569</td>\n",
              "      <td>557</td>\n",
              "      <td>369</td>\n",
              "      <td>607</td>\n",
              "      <td>424</td>\n",
              "      <td>-</td>\n",
              "      <td>-</td>\n",
              "      <td>NaN</td>\n",
              "    </tr>\n",
              "    <tr>\n",
              "      <th>작곡</th>\n",
              "      <td>Composition</td>\n",
              "      <td>27</td>\n",
              "      <td>206</td>\n",
              "      <td>1703</td>\n",
              "      <td>1023</td>\n",
              "      <td>357</td>\n",
              "      <td>198</td>\n",
              "      <td>394</td>\n",
              "      <td>223</td>\n",
              "      <td>462</td>\n",
              "      <td>271</td>\n",
              "      <td>490</td>\n",
              "      <td>331</td>\n",
              "      <td>-</td>\n",
              "      <td>-</td>\n",
              "      <td>-</td>\n",
              "      <td>-</td>\n",
              "      <td>1705</td>\n",
              "      <td>1150</td>\n",
              "      <td>287</td>\n",
              "      <td>180</td>\n",
              "      <td>296</td>\n",
              "      <td>222</td>\n",
              "      <td>-</td>\n",
              "      <td>-</td>\n",
              "      <td>NaN</td>\n",
              "    </tr>\n",
              "    <tr>\n",
              "      <th>기타음악</th>\n",
              "      <td>Others</td>\n",
              "      <td>79</td>\n",
              "      <td>1428</td>\n",
              "      <td>7426</td>\n",
              "      <td>3558</td>\n",
              "      <td>1904</td>\n",
              "      <td>908</td>\n",
              "      <td>1885</td>\n",
              "      <td>831</td>\n",
              "      <td>1854</td>\n",
              "      <td>854</td>\n",
              "      <td>1783</td>\n",
              "      <td>965</td>\n",
              "      <td>-</td>\n",
              "      <td>-</td>\n",
              "      <td>-</td>\n",
              "      <td>-</td>\n",
              "      <td>27336</td>\n",
              "      <td>15235</td>\n",
              "      <td>1470</td>\n",
              "      <td>786</td>\n",
              "      <td>1218</td>\n",
              "      <td>747</td>\n",
              "      <td>2</td>\n",
              "      <td>2</td>\n",
              "      <td>NaN</td>\n",
              "    </tr>\n",
              "    <tr>\n",
              "      <th>주 : 재적학생수에 학사학위취득유예생은 제외됨.</th>\n",
              "      <td>Others</td>\n",
              "      <td>79</td>\n",
              "      <td>1428</td>\n",
              "      <td>7426</td>\n",
              "      <td>.</td>\n",
              "      <td>Note : The number of enrolled students exclude...</td>\n",
              "      <td>908</td>\n",
              "      <td>1885</td>\n",
              "      <td>831</td>\n",
              "      <td>1854</td>\n",
              "      <td>854</td>\n",
              "      <td>1783</td>\n",
              "      <td>965</td>\n",
              "      <td>-</td>\n",
              "      <td>-</td>\n",
              "      <td>-</td>\n",
              "      <td>-</td>\n",
              "      <td>27336</td>\n",
              "      <td>15235</td>\n",
              "      <td>1470</td>\n",
              "      <td>786</td>\n",
              "      <td>1218</td>\n",
              "      <td>747</td>\n",
              "      <td>2</td>\n",
              "      <td>2</td>\n",
              "      <td>NaN</td>\n",
              "    </tr>\n",
              "  </tbody>\n",
              "</table>\n",
              "<p>173 rows × 26 columns</p>\n",
              "</div>\n",
              "      <button class=\"colab-df-convert\" onclick=\"convertToInteractive('df-b13e39a7-d2a8-43ba-a3a0-2168a1ad4804')\"\n",
              "              title=\"Convert this dataframe to an interactive table.\"\n",
              "              style=\"display:none;\">\n",
              "        \n",
              "  <svg xmlns=\"http://www.w3.org/2000/svg\" height=\"24px\"viewBox=\"0 0 24 24\"\n",
              "       width=\"24px\">\n",
              "    <path d=\"M0 0h24v24H0V0z\" fill=\"none\"/>\n",
              "    <path d=\"M18.56 5.44l.94 2.06.94-2.06 2.06-.94-2.06-.94-.94-2.06-.94 2.06-2.06.94zm-11 1L8.5 8.5l.94-2.06 2.06-.94-2.06-.94L8.5 2.5l-.94 2.06-2.06.94zm10 10l.94 2.06.94-2.06 2.06-.94-2.06-.94-.94-2.06-.94 2.06-2.06.94z\"/><path d=\"M17.41 7.96l-1.37-1.37c-.4-.4-.92-.59-1.43-.59-.52 0-1.04.2-1.43.59L10.3 9.45l-7.72 7.72c-.78.78-.78 2.05 0 2.83L4 21.41c.39.39.9.59 1.41.59.51 0 1.02-.2 1.41-.59l7.78-7.78 2.81-2.81c.8-.78.8-2.07 0-2.86zM5.41 20L4 18.59l7.72-7.72 1.47 1.35L5.41 20z\"/>\n",
              "  </svg>\n",
              "      </button>\n",
              "      \n",
              "  <style>\n",
              "    .colab-df-container {\n",
              "      display:flex;\n",
              "      flex-wrap:wrap;\n",
              "      gap: 12px;\n",
              "    }\n",
              "\n",
              "    .colab-df-convert {\n",
              "      background-color: #E8F0FE;\n",
              "      border: none;\n",
              "      border-radius: 50%;\n",
              "      cursor: pointer;\n",
              "      display: none;\n",
              "      fill: #1967D2;\n",
              "      height: 32px;\n",
              "      padding: 0 0 0 0;\n",
              "      width: 32px;\n",
              "    }\n",
              "\n",
              "    .colab-df-convert:hover {\n",
              "      background-color: #E2EBFA;\n",
              "      box-shadow: 0px 1px 2px rgba(60, 64, 67, 0.3), 0px 1px 3px 1px rgba(60, 64, 67, 0.15);\n",
              "      fill: #174EA6;\n",
              "    }\n",
              "\n",
              "    [theme=dark] .colab-df-convert {\n",
              "      background-color: #3B4455;\n",
              "      fill: #D2E3FC;\n",
              "    }\n",
              "\n",
              "    [theme=dark] .colab-df-convert:hover {\n",
              "      background-color: #434B5C;\n",
              "      box-shadow: 0px 1px 3px 1px rgba(0, 0, 0, 0.15);\n",
              "      filter: drop-shadow(0px 1px 2px rgba(0, 0, 0, 0.3));\n",
              "      fill: #FFFFFF;\n",
              "    }\n",
              "  </style>\n",
              "\n",
              "      <script>\n",
              "        const buttonEl =\n",
              "          document.querySelector('#df-b13e39a7-d2a8-43ba-a3a0-2168a1ad4804 button.colab-df-convert');\n",
              "        buttonEl.style.display =\n",
              "          google.colab.kernel.accessAllowed ? 'block' : 'none';\n",
              "\n",
              "        async function convertToInteractive(key) {\n",
              "          const element = document.querySelector('#df-b13e39a7-d2a8-43ba-a3a0-2168a1ad4804');\n",
              "          const dataTable =\n",
              "            await google.colab.kernel.invokeFunction('convertToInteractive',\n",
              "                                                     [key], {});\n",
              "          if (!dataTable) return;\n",
              "\n",
              "          const docLinkHtml = 'Like what you see? Visit the ' +\n",
              "            '<a target=\"_blank\" href=https://colab.research.google.com/notebooks/data_table.ipynb>data table notebook</a>'\n",
              "            + ' to learn more about interactive tables.';\n",
              "          element.innerHTML = '';\n",
              "          dataTable['output_type'] = 'display_data';\n",
              "          await google.colab.output.renderOutput(dataTable, element);\n",
              "          const docLink = document.createElement('div');\n",
              "          docLink.innerHTML = docLinkHtml;\n",
              "          element.appendChild(docLink);\n",
              "        }\n",
              "      </script>\n",
              "    </div>\n",
              "  </div>\n",
              "  "
            ],
            "text/plain": [
              "                                       Unnamed: 1  ... Unnamed: 26\n",
              "16-2. 계 열 별 학 생 수                                  ...            \n",
              "Students by Academic Field                    NaN  ...         NaN\n",
              "Students by Academic Field                    NaN  ...         NaN\n",
              "Students by Academic Field                    NaN  ...         NaN\n",
              "Students by Academic Field                    NaN  ...         NaN\n",
              "구        분                                    NaN  ...         NaN\n",
              "...                                           ...  ...         ...\n",
              "   기악                          Instrumental Music  ...         NaN\n",
              "   성악                                 Vocal Music  ...         NaN\n",
              "   작곡                                 Composition  ...         NaN\n",
              "   기타음악                                    Others  ...         NaN\n",
              "주 : 재적학생수에 학사학위취득유예생은 제외됨.                 Others  ...         NaN\n",
              "\n",
              "[173 rows x 26 columns]"
            ]
          },
          "metadata": {},
          "execution_count": 5
        }
      ]
    },
    {
      "cell_type": "markdown",
      "source": [
        "### 전임교원 연구실적 "
      ],
      "metadata": {
        "id": "GwLm8OlxrdJh"
      }
    },
    {
      "cell_type": "code",
      "source": [
        "전교연구실적_2019 = pd.read_excel('/content/2019년_학과별_전임교원의 연구 실적.xlsx')\n",
        "전교연구실적_2020 = pd.read_excel('/content/2020년_학과별_전임교원의 연구 실적.xlsx')\n",
        "전교연구실적_2021 = pd.read_excel('/content/2021년_학과별_전임교원의 연구 실적.xlsx')"
      ],
      "metadata": {
        "id": "i3j7WC2nreA-"
      },
      "execution_count": null,
      "outputs": []
    },
    {
      "cell_type": "code",
      "source": [
        "a = ['고려대학교','공주대학교','금오공과대학교','남서울대학교',\n",
        "'명지대학교','부산대학교','서울과학기술대학교','서울대학교','순천향대학교',\n",
        "'연세대학교','울산대학교','인천대학교','전남대학교','전북대학교',\n",
        "'전주대학교','조선대학교','포항공과대학교','한국과학기술원','한국교통대학교',\n",
        "'한국기술교육대학교','한남대학교','한밭대학교','한양대학교','홍익대학교']"
      ],
      "metadata": {
        "id": "4dqryUVareGV"
      },
      "execution_count": null,
      "outputs": []
    },
    {
      "cell_type": "code",
      "source": [
        "for i in 전교연구실적_2019.학교.unique():\n",
        "  if i in a:\n",
        "    print(i)"
      ],
      "metadata": {
        "colab": {
          "base_uri": "https://localhost:8080/"
        },
        "id": "eLoFyPHOIqRt",
        "outputId": "f05dfa28-1572-40ca-804e-207baae4d24d"
      },
      "execution_count": null,
      "outputs": [
        {
          "output_type": "stream",
          "name": "stdout",
          "text": [
            "고려대학교\n",
            "공주대학교\n",
            "금오공과대학교\n",
            "남서울대학교\n",
            "명지대학교\n",
            "부산대학교\n",
            "서울과학기술대학교\n",
            "서울대학교\n",
            "순천향대학교\n",
            "연세대학교\n",
            "울산대학교\n",
            "인천대학교\n",
            "전남대학교\n",
            "전북대학교\n",
            "전주대학교\n",
            "조선대학교\n",
            "포항공과대학교\n",
            "한국과학기술원\n",
            "한국교통대학교\n",
            "한국기술교육대학교\n",
            "한남대학교\n",
            "한밭대학교\n",
            "한양대학교\n",
            "홍익대학교\n"
          ]
        }
      ]
    },
    {
      "cell_type": "code",
      "source": [
        "전교연구실적_2019.학교"
      ],
      "metadata": {
        "colab": {
          "base_uri": "https://localhost:8080/"
        },
        "id": "Gj9jsDbRM3JN",
        "outputId": "4860c46b-57d2-4677-a245-81f3aac27792"
      },
      "execution_count": null,
      "outputs": [
        {
          "output_type": "execute_result",
          "data": {
            "text/plain": [
              "0                            가천대학교\n",
              "1                            가천대학교\n",
              "2                            가천대학교\n",
              "3                            가천대학교\n",
              "4                            가천대학교\n",
              "                   ...            \n",
              "1875                 홍익대학교 건축도시대학원\n",
              "1876                 홍익대학교 건축도시대학원\n",
              "1877                 홍익대학교 건축도시대학원\n",
              "1878    홍익대학교 스마트도시 과학경영대학원 _제2캠퍼스\n",
              "1879    홍익대학교 스마트도시 과학경영대학원 _제2캠퍼스\n",
              "Name: 학교, Length: 1880, dtype: object"
            ]
          },
          "metadata": {},
          "execution_count": 17
        }
      ]
    },
    {
      "cell_type": "code",
      "source": [
        "pip install bokeh"
      ],
      "metadata": {
        "colab": {
          "base_uri": "https://localhost:8080/"
        },
        "id": "aoG2Ci_CT88b",
        "outputId": "5b7942e5-623e-4f20-fb3f-2a531f3ec089"
      },
      "execution_count": null,
      "outputs": [
        {
          "output_type": "stream",
          "name": "stdout",
          "text": [
            "Requirement already satisfied: bokeh in /usr/local/lib/python3.7/dist-packages (2.3.3)\n",
            "Requirement already satisfied: PyYAML>=3.10 in /usr/local/lib/python3.7/dist-packages (from bokeh) (3.13)\n",
            "Requirement already satisfied: tornado>=5.1 in /usr/local/lib/python3.7/dist-packages (from bokeh) (5.1.1)\n",
            "Requirement already satisfied: typing-extensions>=3.7.4 in /usr/local/lib/python3.7/dist-packages (from bokeh) (3.10.0.2)\n",
            "Requirement already satisfied: pillow>=7.1.0 in /usr/local/lib/python3.7/dist-packages (from bokeh) (7.1.2)\n",
            "Requirement already satisfied: packaging>=16.8 in /usr/local/lib/python3.7/dist-packages (from bokeh) (21.3)\n",
            "Requirement already satisfied: numpy>=1.11.3 in /usr/local/lib/python3.7/dist-packages (from bokeh) (1.19.5)\n",
            "Requirement already satisfied: python-dateutil>=2.1 in /usr/local/lib/python3.7/dist-packages (from bokeh) (2.8.2)\n",
            "Requirement already satisfied: Jinja2>=2.9 in /usr/local/lib/python3.7/dist-packages (from bokeh) (2.11.3)\n",
            "Requirement already satisfied: MarkupSafe>=0.23 in /usr/local/lib/python3.7/dist-packages (from Jinja2>=2.9->bokeh) (2.0.1)\n",
            "Requirement already satisfied: pyparsing!=3.0.5,>=2.0.2 in /usr/local/lib/python3.7/dist-packages (from packaging>=16.8->bokeh) (3.0.6)\n",
            "Requirement already satisfied: six>=1.5 in /usr/local/lib/python3.7/dist-packages (from python-dateutil>=2.1->bokeh) (1.15.0)\n"
          ]
        }
      ]
    },
    {
      "cell_type": "code",
      "source": [
        "from bokeh.plotting import figure,show"
      ],
      "metadata": {
        "id": "KTLjBZFeT_gY"
      },
      "execution_count": null,
      "outputs": []
    },
    {
      "cell_type": "code",
      "source": [
        "x = [1,2,3,4,5]\n",
        "y = [4,5,5,7,2]\n",
        "y1 = [6,7,2,4,5]\n",
        "y2 = [2,2,1,1,1]\n",
        "y3 = [4,5,5,7,2]"
      ],
      "metadata": {
        "id": "Mt9xOqQOUFhs"
      },
      "execution_count": null,
      "outputs": []
    },
    {
      "cell_type": "code",
      "source": [
        "%matplotlib inline"
      ],
      "metadata": {
        "id": "_865W68EU-1F"
      },
      "execution_count": null,
      "outputs": []
    },
    {
      "cell_type": "code",
      "source": [
        "from bokeh.io import output_notebook\n",
        "\n",
        "p = figure(\n",
        "    title = 'Plot Sizing Example',\n",
        "    plot_width = 700,\n",
        "    plot_height = 500,\n",
        "    x_axis_label = 'x',\n",
        "    y_axis_label = 'y'\n",
        ")\n",
        "\n",
        "p.line(x,y, legend_label = \"Temp. \", line_width=2)\n",
        "p.line(x,y1, legend_label = 'Temp. ', line_color='blue', line_width=2)\n",
        "p.circle(x, y3, legend_label='Objects', line_color= 'yellow',\n",
        "         fill_color='blue', size=12)\n",
        "p.vbar(x=x , top=y2, legend_label='Rate',\n",
        "       width=0.1, bottom=0, color='red') # 막대그래프 렌더링\n",
        "\n",
        "output_notebook()\n",
        "show(p)"
      ],
      "metadata": {
        "colab": {
          "base_uri": "https://localhost:8080/",
          "height": 516
        },
        "id": "eiy-udasUOjE",
        "outputId": "4c4d4375-40a3-40ff-a78b-73e077618495"
      },
      "execution_count": null,
      "outputs": [
        {
          "output_type": "display_data",
          "data": {
            "application/javascript": [
              "\n",
              "(function(root) {\n",
              "  function now() {\n",
              "    return new Date();\n",
              "  }\n",
              "\n",
              "  var force = true;\n",
              "\n",
              "  if (typeof root._bokeh_onload_callbacks === \"undefined\" || force === true) {\n",
              "    root._bokeh_onload_callbacks = [];\n",
              "    root._bokeh_is_loading = undefined;\n",
              "  }\n",
              "\n",
              "  var JS_MIME_TYPE = 'application/javascript';\n",
              "  var HTML_MIME_TYPE = 'text/html';\n",
              "  var EXEC_MIME_TYPE = 'application/vnd.bokehjs_exec.v0+json';\n",
              "  var CLASS_NAME = 'output_bokeh rendered_html';\n",
              "\n",
              "  /**\n",
              "   * Render data to the DOM node\n",
              "   */\n",
              "  function render(props, node) {\n",
              "    var script = document.createElement(\"script\");\n",
              "    node.appendChild(script);\n",
              "  }\n",
              "\n",
              "  /**\n",
              "   * Handle when an output is cleared or removed\n",
              "   */\n",
              "  function handleClearOutput(event, handle) {\n",
              "    var cell = handle.cell;\n",
              "\n",
              "    var id = cell.output_area._bokeh_element_id;\n",
              "    var server_id = cell.output_area._bokeh_server_id;\n",
              "    // Clean up Bokeh references\n",
              "    if (id != null && id in Bokeh.index) {\n",
              "      Bokeh.index[id].model.document.clear();\n",
              "      delete Bokeh.index[id];\n",
              "    }\n",
              "\n",
              "    if (server_id !== undefined) {\n",
              "      // Clean up Bokeh references\n",
              "      var cmd = \"from bokeh.io.state import curstate; print(curstate().uuid_to_server['\" + server_id + \"'].get_sessions()[0].document.roots[0]._id)\";\n",
              "      cell.notebook.kernel.execute(cmd, {\n",
              "        iopub: {\n",
              "          output: function(msg) {\n",
              "            var id = msg.content.text.trim();\n",
              "            if (id in Bokeh.index) {\n",
              "              Bokeh.index[id].model.document.clear();\n",
              "              delete Bokeh.index[id];\n",
              "            }\n",
              "          }\n",
              "        }\n",
              "      });\n",
              "      // Destroy server and session\n",
              "      var cmd = \"import bokeh.io.notebook as ion; ion.destroy_server('\" + server_id + \"')\";\n",
              "      cell.notebook.kernel.execute(cmd);\n",
              "    }\n",
              "  }\n",
              "\n",
              "  /**\n",
              "   * Handle when a new output is added\n",
              "   */\n",
              "  function handleAddOutput(event, handle) {\n",
              "    var output_area = handle.output_area;\n",
              "    var output = handle.output;\n",
              "\n",
              "    // limit handleAddOutput to display_data with EXEC_MIME_TYPE content only\n",
              "    if ((output.output_type != \"display_data\") || (!Object.prototype.hasOwnProperty.call(output.data, EXEC_MIME_TYPE))) {\n",
              "      return\n",
              "    }\n",
              "\n",
              "    var toinsert = output_area.element.find(\".\" + CLASS_NAME.split(' ')[0]);\n",
              "\n",
              "    if (output.metadata[EXEC_MIME_TYPE][\"id\"] !== undefined) {\n",
              "      toinsert[toinsert.length - 1].firstChild.textContent = output.data[JS_MIME_TYPE];\n",
              "      // store reference to embed id on output_area\n",
              "      output_area._bokeh_element_id = output.metadata[EXEC_MIME_TYPE][\"id\"];\n",
              "    }\n",
              "    if (output.metadata[EXEC_MIME_TYPE][\"server_id\"] !== undefined) {\n",
              "      var bk_div = document.createElement(\"div\");\n",
              "      bk_div.innerHTML = output.data[HTML_MIME_TYPE];\n",
              "      var script_attrs = bk_div.children[0].attributes;\n",
              "      for (var i = 0; i < script_attrs.length; i++) {\n",
              "        toinsert[toinsert.length - 1].firstChild.setAttribute(script_attrs[i].name, script_attrs[i].value);\n",
              "        toinsert[toinsert.length - 1].firstChild.textContent = bk_div.children[0].textContent\n",
              "      }\n",
              "      // store reference to server id on output_area\n",
              "      output_area._bokeh_server_id = output.metadata[EXEC_MIME_TYPE][\"server_id\"];\n",
              "    }\n",
              "  }\n",
              "\n",
              "  function register_renderer(events, OutputArea) {\n",
              "\n",
              "    function append_mime(data, metadata, element) {\n",
              "      // create a DOM node to render to\n",
              "      var toinsert = this.create_output_subarea(\n",
              "        metadata,\n",
              "        CLASS_NAME,\n",
              "        EXEC_MIME_TYPE\n",
              "      );\n",
              "      this.keyboard_manager.register_events(toinsert);\n",
              "      // Render to node\n",
              "      var props = {data: data, metadata: metadata[EXEC_MIME_TYPE]};\n",
              "      render(props, toinsert[toinsert.length - 1]);\n",
              "      element.append(toinsert);\n",
              "      return toinsert\n",
              "    }\n",
              "\n",
              "    /* Handle when an output is cleared or removed */\n",
              "    events.on('clear_output.CodeCell', handleClearOutput);\n",
              "    events.on('delete.Cell', handleClearOutput);\n",
              "\n",
              "    /* Handle when a new output is added */\n",
              "    events.on('output_added.OutputArea', handleAddOutput);\n",
              "\n",
              "    /**\n",
              "     * Register the mime type and append_mime function with output_area\n",
              "     */\n",
              "    OutputArea.prototype.register_mime_type(EXEC_MIME_TYPE, append_mime, {\n",
              "      /* Is output safe? */\n",
              "      safe: true,\n",
              "      /* Index of renderer in `output_area.display_order` */\n",
              "      index: 0\n",
              "    });\n",
              "  }\n",
              "\n",
              "  // register the mime type if in Jupyter Notebook environment and previously unregistered\n",
              "  if (root.Jupyter !== undefined) {\n",
              "    var events = require('base/js/events');\n",
              "    var OutputArea = require('notebook/js/outputarea').OutputArea;\n",
              "\n",
              "    if (OutputArea.prototype.mime_types().indexOf(EXEC_MIME_TYPE) == -1) {\n",
              "      register_renderer(events, OutputArea);\n",
              "    }\n",
              "  }\n",
              "\n",
              "  \n",
              "  if (typeof (root._bokeh_timeout) === \"undefined\" || force === true) {\n",
              "    root._bokeh_timeout = Date.now() + 5000;\n",
              "    root._bokeh_failed_load = false;\n",
              "  }\n",
              "\n",
              "  var NB_LOAD_WARNING = {'data': {'text/html':\n",
              "     \"<div style='background-color: #fdd'>\\n\"+\n",
              "     \"<p>\\n\"+\n",
              "     \"BokehJS does not appear to have successfully loaded. If loading BokehJS from CDN, this \\n\"+\n",
              "     \"may be due to a slow or bad network connection. Possible fixes:\\n\"+\n",
              "     \"</p>\\n\"+\n",
              "     \"<ul>\\n\"+\n",
              "     \"<li>re-rerun `output_notebook()` to attempt to load from CDN again, or</li>\\n\"+\n",
              "     \"<li>use INLINE resources instead, as so:</li>\\n\"+\n",
              "     \"</ul>\\n\"+\n",
              "     \"<code>\\n\"+\n",
              "     \"from bokeh.resources import INLINE\\n\"+\n",
              "     \"output_notebook(resources=INLINE)\\n\"+\n",
              "     \"</code>\\n\"+\n",
              "     \"</div>\"}};\n",
              "\n",
              "  function display_loaded() {\n",
              "    var el = document.getElementById(null);\n",
              "    if (el != null) {\n",
              "      el.textContent = \"BokehJS is loading...\";\n",
              "    }\n",
              "    if (root.Bokeh !== undefined) {\n",
              "      if (el != null) {\n",
              "        el.textContent = \"BokehJS \" + root.Bokeh.version + \" successfully loaded.\";\n",
              "      }\n",
              "    } else if (Date.now() < root._bokeh_timeout) {\n",
              "      setTimeout(display_loaded, 100)\n",
              "    }\n",
              "  }\n",
              "\n",
              "\n",
              "  function run_callbacks() {\n",
              "    try {\n",
              "      root._bokeh_onload_callbacks.forEach(function(callback) {\n",
              "        if (callback != null)\n",
              "          callback();\n",
              "      });\n",
              "    } finally {\n",
              "      delete root._bokeh_onload_callbacks\n",
              "    }\n",
              "    console.debug(\"Bokeh: all callbacks have finished\");\n",
              "  }\n",
              "\n",
              "  function load_libs(css_urls, js_urls, callback) {\n",
              "    if (css_urls == null) css_urls = [];\n",
              "    if (js_urls == null) js_urls = [];\n",
              "\n",
              "    root._bokeh_onload_callbacks.push(callback);\n",
              "    if (root._bokeh_is_loading > 0) {\n",
              "      console.debug(\"Bokeh: BokehJS is being loaded, scheduling callback at\", now());\n",
              "      return null;\n",
              "    }\n",
              "    if (js_urls == null || js_urls.length === 0) {\n",
              "      run_callbacks();\n",
              "      return null;\n",
              "    }\n",
              "    console.debug(\"Bokeh: BokehJS not loaded, scheduling load and callback at\", now());\n",
              "    root._bokeh_is_loading = css_urls.length + js_urls.length;\n",
              "\n",
              "    function on_load() {\n",
              "      root._bokeh_is_loading--;\n",
              "      if (root._bokeh_is_loading === 0) {\n",
              "        console.debug(\"Bokeh: all BokehJS libraries/stylesheets loaded\");\n",
              "        run_callbacks()\n",
              "      }\n",
              "    }\n",
              "\n",
              "    function on_error(url) {\n",
              "      console.error(\"failed to load \" + url);\n",
              "    }\n",
              "\n",
              "    for (let i = 0; i < css_urls.length; i++) {\n",
              "      const url = css_urls[i];\n",
              "      const element = document.createElement(\"link\");\n",
              "      element.onload = on_load;\n",
              "      element.onerror = on_error.bind(null, url);\n",
              "      element.rel = \"stylesheet\";\n",
              "      element.type = \"text/css\";\n",
              "      element.href = url;\n",
              "      console.debug(\"Bokeh: injecting link tag for BokehJS stylesheet: \", url);\n",
              "      document.body.appendChild(element);\n",
              "    }\n",
              "\n",
              "    const hashes = {\"https://cdn.bokeh.org/bokeh/release/bokeh-2.3.3.min.js\": \"dM3QQsP+wXdHg42wTqW85BjZQdLNNIXqlPw/BgKoExPmTG7ZLML4EGqLMfqHT6ON\", \"https://cdn.bokeh.org/bokeh/release/bokeh-tables-2.3.3.min.js\": \"8x57I4YuIfu8XyZfFo0XVr2WAT8EK4rh/uDe3wF7YuW2FNUSNEpJbsPaB1nJ2fz2\", \"https://cdn.bokeh.org/bokeh/release/bokeh-widgets-2.3.3.min.js\": \"3QTqdz9LyAm2i0sG5XTePsHec3UHWwVsrOL68SYRoAXsafvfAyqtQ+h440+qIBhS\"};\n",
              "\n",
              "    for (let i = 0; i < js_urls.length; i++) {\n",
              "      const url = js_urls[i];\n",
              "      const element = document.createElement('script');\n",
              "      element.onload = on_load;\n",
              "      element.onerror = on_error.bind(null, url);\n",
              "      element.async = false;\n",
              "      element.src = url;\n",
              "      if (url in hashes) {\n",
              "        element.crossOrigin = \"anonymous\";\n",
              "        element.integrity = \"sha384-\" + hashes[url];\n",
              "      }\n",
              "      console.debug(\"Bokeh: injecting script tag for BokehJS library: \", url);\n",
              "      document.head.appendChild(element);\n",
              "    }\n",
              "  };\n",
              "\n",
              "  function inject_raw_css(css) {\n",
              "    const element = document.createElement(\"style\");\n",
              "    element.appendChild(document.createTextNode(css));\n",
              "    document.body.appendChild(element);\n",
              "  }\n",
              "\n",
              "  \n",
              "  var js_urls = [\"https://cdn.bokeh.org/bokeh/release/bokeh-2.3.3.min.js\", \"https://cdn.bokeh.org/bokeh/release/bokeh-widgets-2.3.3.min.js\", \"https://cdn.bokeh.org/bokeh/release/bokeh-tables-2.3.3.min.js\"];\n",
              "  var css_urls = [];\n",
              "  \n",
              "\n",
              "  var inline_js = [\n",
              "    function(Bokeh) {\n",
              "      Bokeh.set_log_level(\"info\");\n",
              "    },\n",
              "    function(Bokeh) {\n",
              "    \n",
              "    \n",
              "    }\n",
              "  ];\n",
              "\n",
              "  function run_inline_js() {\n",
              "    \n",
              "    if (root.Bokeh !== undefined || force === true) {\n",
              "      \n",
              "    for (var i = 0; i < inline_js.length; i++) {\n",
              "      inline_js[i].call(root, root.Bokeh);\n",
              "    }\n",
              "    } else if (Date.now() < root._bokeh_timeout) {\n",
              "      setTimeout(run_inline_js, 100);\n",
              "    } else if (!root._bokeh_failed_load) {\n",
              "      console.log(\"Bokeh: BokehJS failed to load within specified timeout.\");\n",
              "      root._bokeh_failed_load = true;\n",
              "    } else if (force !== true) {\n",
              "      var cell = $(document.getElementById(null)).parents('.cell').data().cell;\n",
              "      cell.output_area.append_execute_result(NB_LOAD_WARNING)\n",
              "    }\n",
              "\n",
              "  }\n",
              "\n",
              "  if (root._bokeh_is_loading === 0) {\n",
              "    console.debug(\"Bokeh: BokehJS loaded, going straight to plotting\");\n",
              "    run_inline_js();\n",
              "  } else {\n",
              "    load_libs(css_urls, js_urls, function() {\n",
              "      console.debug(\"Bokeh: BokehJS plotting callback run at\", now());\n",
              "      run_inline_js();\n",
              "    });\n",
              "  }\n",
              "}(window));"
            ],
            "application/vnd.bokehjs_load.v0+json": "\n(function(root) {\n  function now() {\n    return new Date();\n  }\n\n  var force = true;\n\n  if (typeof root._bokeh_onload_callbacks === \"undefined\" || force === true) {\n    root._bokeh_onload_callbacks = [];\n    root._bokeh_is_loading = undefined;\n  }\n\n  \n\n  \n  if (typeof (root._bokeh_timeout) === \"undefined\" || force === true) {\n    root._bokeh_timeout = Date.now() + 5000;\n    root._bokeh_failed_load = false;\n  }\n\n  var NB_LOAD_WARNING = {'data': {'text/html':\n     \"<div style='background-color: #fdd'>\\n\"+\n     \"<p>\\n\"+\n     \"BokehJS does not appear to have successfully loaded. If loading BokehJS from CDN, this \\n\"+\n     \"may be due to a slow or bad network connection. Possible fixes:\\n\"+\n     \"</p>\\n\"+\n     \"<ul>\\n\"+\n     \"<li>re-rerun `output_notebook()` to attempt to load from CDN again, or</li>\\n\"+\n     \"<li>use INLINE resources instead, as so:</li>\\n\"+\n     \"</ul>\\n\"+\n     \"<code>\\n\"+\n     \"from bokeh.resources import INLINE\\n\"+\n     \"output_notebook(resources=INLINE)\\n\"+\n     \"</code>\\n\"+\n     \"</div>\"}};\n\n  function display_loaded() {\n    var el = document.getElementById(null);\n    if (el != null) {\n      el.textContent = \"BokehJS is loading...\";\n    }\n    if (root.Bokeh !== undefined) {\n      if (el != null) {\n        el.textContent = \"BokehJS \" + root.Bokeh.version + \" successfully loaded.\";\n      }\n    } else if (Date.now() < root._bokeh_timeout) {\n      setTimeout(display_loaded, 100)\n    }\n  }\n\n\n  function run_callbacks() {\n    try {\n      root._bokeh_onload_callbacks.forEach(function(callback) {\n        if (callback != null)\n          callback();\n      });\n    } finally {\n      delete root._bokeh_onload_callbacks\n    }\n    console.debug(\"Bokeh: all callbacks have finished\");\n  }\n\n  function load_libs(css_urls, js_urls, callback) {\n    if (css_urls == null) css_urls = [];\n    if (js_urls == null) js_urls = [];\n\n    root._bokeh_onload_callbacks.push(callback);\n    if (root._bokeh_is_loading > 0) {\n      console.debug(\"Bokeh: BokehJS is being loaded, scheduling callback at\", now());\n      return null;\n    }\n    if (js_urls == null || js_urls.length === 0) {\n      run_callbacks();\n      return null;\n    }\n    console.debug(\"Bokeh: BokehJS not loaded, scheduling load and callback at\", now());\n    root._bokeh_is_loading = css_urls.length + js_urls.length;\n\n    function on_load() {\n      root._bokeh_is_loading--;\n      if (root._bokeh_is_loading === 0) {\n        console.debug(\"Bokeh: all BokehJS libraries/stylesheets loaded\");\n        run_callbacks()\n      }\n    }\n\n    function on_error(url) {\n      console.error(\"failed to load \" + url);\n    }\n\n    for (let i = 0; i < css_urls.length; i++) {\n      const url = css_urls[i];\n      const element = document.createElement(\"link\");\n      element.onload = on_load;\n      element.onerror = on_error.bind(null, url);\n      element.rel = \"stylesheet\";\n      element.type = \"text/css\";\n      element.href = url;\n      console.debug(\"Bokeh: injecting link tag for BokehJS stylesheet: \", url);\n      document.body.appendChild(element);\n    }\n\n    const hashes = {\"https://cdn.bokeh.org/bokeh/release/bokeh-2.3.3.min.js\": \"dM3QQsP+wXdHg42wTqW85BjZQdLNNIXqlPw/BgKoExPmTG7ZLML4EGqLMfqHT6ON\", \"https://cdn.bokeh.org/bokeh/release/bokeh-tables-2.3.3.min.js\": \"8x57I4YuIfu8XyZfFo0XVr2WAT8EK4rh/uDe3wF7YuW2FNUSNEpJbsPaB1nJ2fz2\", \"https://cdn.bokeh.org/bokeh/release/bokeh-widgets-2.3.3.min.js\": \"3QTqdz9LyAm2i0sG5XTePsHec3UHWwVsrOL68SYRoAXsafvfAyqtQ+h440+qIBhS\"};\n\n    for (let i = 0; i < js_urls.length; i++) {\n      const url = js_urls[i];\n      const element = document.createElement('script');\n      element.onload = on_load;\n      element.onerror = on_error.bind(null, url);\n      element.async = false;\n      element.src = url;\n      if (url in hashes) {\n        element.crossOrigin = \"anonymous\";\n        element.integrity = \"sha384-\" + hashes[url];\n      }\n      console.debug(\"Bokeh: injecting script tag for BokehJS library: \", url);\n      document.head.appendChild(element);\n    }\n  };\n\n  function inject_raw_css(css) {\n    const element = document.createElement(\"style\");\n    element.appendChild(document.createTextNode(css));\n    document.body.appendChild(element);\n  }\n\n  \n  var js_urls = [\"https://cdn.bokeh.org/bokeh/release/bokeh-2.3.3.min.js\", \"https://cdn.bokeh.org/bokeh/release/bokeh-widgets-2.3.3.min.js\", \"https://cdn.bokeh.org/bokeh/release/bokeh-tables-2.3.3.min.js\"];\n  var css_urls = [];\n  \n\n  var inline_js = [\n    function(Bokeh) {\n      Bokeh.set_log_level(\"info\");\n    },\n    function(Bokeh) {\n    \n    \n    }\n  ];\n\n  function run_inline_js() {\n    \n    if (root.Bokeh !== undefined || force === true) {\n      \n    for (var i = 0; i < inline_js.length; i++) {\n      inline_js[i].call(root, root.Bokeh);\n    }\n    } else if (Date.now() < root._bokeh_timeout) {\n      setTimeout(run_inline_js, 100);\n    } else if (!root._bokeh_failed_load) {\n      console.log(\"Bokeh: BokehJS failed to load within specified timeout.\");\n      root._bokeh_failed_load = true;\n    } else if (force !== true) {\n      var cell = $(document.getElementById(null)).parents('.cell').data().cell;\n      cell.output_area.append_execute_result(NB_LOAD_WARNING)\n    }\n\n  }\n\n  if (root._bokeh_is_loading === 0) {\n    console.debug(\"Bokeh: BokehJS loaded, going straight to plotting\");\n    run_inline_js();\n  } else {\n    load_libs(css_urls, js_urls, function() {\n      console.debug(\"Bokeh: BokehJS plotting callback run at\", now());\n      run_inline_js();\n    });\n  }\n}(window));"
          },
          "metadata": {}
        },
        {
          "output_type": "display_data",
          "data": {
            "text/html": [
              "\n",
              "\n",
              "\n",
              "\n",
              "\n",
              "\n",
              "  <div class=\"bk-root\" id=\"1c3d7c02-5b74-455f-b9d3-7fa256190b82\" data-root-id=\"1797\"></div>\n"
            ]
          },
          "metadata": {}
        },
        {
          "output_type": "display_data",
          "data": {
            "application/javascript": [
              "(function(root) {\n",
              "  function embed_document(root) {\n",
              "    \n",
              "  var docs_json = {\"ef3ce0c8-fc39-4ca8-83da-4527d788df54\":{\"defs\":[],\"roots\":{\"references\":[{\"attributes\":{\"below\":[{\"id\":\"1808\"}],\"center\":[{\"id\":\"1811\"},{\"id\":\"1815\"},{\"id\":\"1845\"}],\"height\":500,\"left\":[{\"id\":\"1812\"}],\"renderers\":[{\"id\":\"1833\"},{\"id\":\"1850\"},{\"id\":\"1867\"},{\"id\":\"1887\"}],\"title\":{\"id\":\"1798\"},\"toolbar\":{\"id\":\"1823\"},\"width\":700,\"x_range\":{\"id\":\"1800\"},\"x_scale\":{\"id\":\"1804\"},\"y_range\":{\"id\":\"1802\"},\"y_scale\":{\"id\":\"1806\"}},\"id\":\"1797\",\"subtype\":\"Figure\",\"type\":\"Plot\"},{\"attributes\":{\"line_color\":\"blue\",\"line_width\":2,\"x\":{\"field\":\"x\"},\"y\":{\"field\":\"y\"}},\"id\":\"1848\",\"type\":\"Line\"},{\"attributes\":{\"source\":{\"id\":\"1830\"}},\"id\":\"1834\",\"type\":\"CDSView\"},{\"attributes\":{\"line_color\":\"#1f77b4\",\"line_width\":2,\"x\":{\"field\":\"x\"},\"y\":{\"field\":\"y\"}},\"id\":\"1831\",\"type\":\"Line\"},{\"attributes\":{\"data_source\":{\"id\":\"1847\"},\"glyph\":{\"id\":\"1848\"},\"hover_glyph\":null,\"muted_glyph\":null,\"nonselection_glyph\":{\"id\":\"1849\"},\"view\":{\"id\":\"1851\"}},\"id\":\"1850\",\"type\":\"GlyphRenderer\"},{\"attributes\":{\"label\":{\"value\":\"Objects\"},\"renderers\":[{\"id\":\"1867\"}]},\"id\":\"1883\",\"type\":\"LegendItem\"},{\"attributes\":{\"data\":{\"x\":[1,2,3,4,5],\"y\":[4,5,5,7,2]},\"selected\":{\"id\":\"1843\"},\"selection_policy\":{\"id\":\"1842\"}},\"id\":\"1830\",\"type\":\"ColumnDataSource\"},{\"attributes\":{\"axis_label\":\"x\",\"formatter\":{\"id\":\"1837\"},\"major_label_policy\":{\"id\":\"1836\"},\"ticker\":{\"id\":\"1809\"}},\"id\":\"1808\",\"type\":\"LinearAxis\"},{\"attributes\":{},\"id\":\"1902\",\"type\":\"UnionRenderers\"},{\"attributes\":{\"data_source\":{\"id\":\"1884\"},\"glyph\":{\"id\":\"1885\"},\"hover_glyph\":null,\"muted_glyph\":null,\"nonselection_glyph\":{\"id\":\"1886\"},\"view\":{\"id\":\"1888\"}},\"id\":\"1887\",\"type\":\"GlyphRenderer\"},{\"attributes\":{\"source\":{\"id\":\"1864\"}},\"id\":\"1868\",\"type\":\"CDSView\"},{\"attributes\":{},\"id\":\"1821\",\"type\":\"HelpTool\"},{\"attributes\":{\"data_source\":{\"id\":\"1864\"},\"glyph\":{\"id\":\"1865\"},\"hover_glyph\":null,\"muted_glyph\":null,\"nonselection_glyph\":{\"id\":\"1866\"},\"view\":{\"id\":\"1868\"}},\"id\":\"1867\",\"type\":\"GlyphRenderer\"},{\"attributes\":{},\"id\":\"1843\",\"type\":\"Selection\"},{\"attributes\":{},\"id\":\"1804\",\"type\":\"LinearScale\"},{\"attributes\":{\"active_multi\":null,\"tools\":[{\"id\":\"1816\"},{\"id\":\"1817\"},{\"id\":\"1818\"},{\"id\":\"1819\"},{\"id\":\"1820\"},{\"id\":\"1821\"}]},\"id\":\"1823\",\"type\":\"Toolbar\"},{\"attributes\":{\"fill_alpha\":{\"value\":0.1},\"fill_color\":{\"value\":\"red\"},\"line_alpha\":{\"value\":0.1},\"line_color\":{\"value\":\"red\"},\"top\":{\"field\":\"top\"},\"width\":{\"value\":0.1},\"x\":{\"field\":\"x\"}},\"id\":\"1886\",\"type\":\"VBar\"},{\"attributes\":{},\"id\":\"1819\",\"type\":\"SaveTool\"},{\"attributes\":{\"items\":[{\"id\":\"1846\"},{\"id\":\"1883\"},{\"id\":\"1905\"}]},\"id\":\"1845\",\"type\":\"Legend\"},{\"attributes\":{},\"id\":\"1816\",\"type\":\"PanTool\"},{\"attributes\":{},\"id\":\"1862\",\"type\":\"Selection\"},{\"attributes\":{\"axis\":{\"id\":\"1808\"},\"ticker\":null},\"id\":\"1811\",\"type\":\"Grid\"},{\"attributes\":{\"line_alpha\":0.1,\"line_color\":\"#1f77b4\",\"line_width\":2,\"x\":{\"field\":\"x\"},\"y\":{\"field\":\"y\"}},\"id\":\"1832\",\"type\":\"Line\"},{\"attributes\":{},\"id\":\"1842\",\"type\":\"UnionRenderers\"},{\"attributes\":{},\"id\":\"1813\",\"type\":\"BasicTicker\"},{\"attributes\":{\"fill_color\":{\"value\":\"red\"},\"line_color\":{\"value\":\"red\"},\"top\":{\"field\":\"top\"},\"width\":{\"value\":0.1},\"x\":{\"field\":\"x\"}},\"id\":\"1885\",\"type\":\"VBar\"},{\"attributes\":{},\"id\":\"1903\",\"type\":\"Selection\"},{\"attributes\":{\"fill_alpha\":{\"value\":0.1},\"fill_color\":{\"value\":\"blue\"},\"line_alpha\":{\"value\":0.1},\"line_color\":{\"value\":\"yellow\"},\"size\":{\"value\":12},\"x\":{\"field\":\"x\"},\"y\":{\"field\":\"y\"}},\"id\":\"1866\",\"type\":\"Circle\"},{\"attributes\":{\"data\":{\"top\":[2,2,1,1,1],\"x\":[1,2,3,4,5]},\"selected\":{\"id\":\"1903\"},\"selection_policy\":{\"id\":\"1902\"}},\"id\":\"1884\",\"type\":\"ColumnDataSource\"},{\"attributes\":{},\"id\":\"1861\",\"type\":\"UnionRenderers\"},{\"attributes\":{},\"id\":\"1817\",\"type\":\"WheelZoomTool\"},{\"attributes\":{},\"id\":\"1837\",\"type\":\"BasicTickFormatter\"},{\"attributes\":{\"label\":{\"value\":\"Temp. \"},\"renderers\":[{\"id\":\"1833\"},{\"id\":\"1850\"}]},\"id\":\"1846\",\"type\":\"LegendItem\"},{\"attributes\":{\"axis_label\":\"y\",\"formatter\":{\"id\":\"1840\"},\"major_label_policy\":{\"id\":\"1839\"},\"ticker\":{\"id\":\"1813\"}},\"id\":\"1812\",\"type\":\"LinearAxis\"},{\"attributes\":{\"source\":{\"id\":\"1884\"}},\"id\":\"1888\",\"type\":\"CDSView\"},{\"attributes\":{},\"id\":\"1820\",\"type\":\"ResetTool\"},{\"attributes\":{\"text\":\"Plot Sizing Example\"},\"id\":\"1798\",\"type\":\"Title\"},{\"attributes\":{\"source\":{\"id\":\"1847\"}},\"id\":\"1851\",\"type\":\"CDSView\"},{\"attributes\":{\"data\":{\"x\":[1,2,3,4,5],\"y\":[6,7,2,4,5]},\"selected\":{\"id\":\"1862\"},\"selection_policy\":{\"id\":\"1861\"}},\"id\":\"1847\",\"type\":\"ColumnDataSource\"},{\"attributes\":{\"axis\":{\"id\":\"1812\"},\"dimension\":1,\"ticker\":null},\"id\":\"1815\",\"type\":\"Grid\"},{\"attributes\":{\"overlay\":{\"id\":\"1822\"}},\"id\":\"1818\",\"type\":\"BoxZoomTool\"},{\"attributes\":{\"label\":{\"value\":\"Rate\"},\"renderers\":[{\"id\":\"1887\"}]},\"id\":\"1905\",\"type\":\"LegendItem\"},{\"attributes\":{},\"id\":\"1881\",\"type\":\"Selection\"},{\"attributes\":{\"data_source\":{\"id\":\"1830\"},\"glyph\":{\"id\":\"1831\"},\"hover_glyph\":null,\"muted_glyph\":null,\"nonselection_glyph\":{\"id\":\"1832\"},\"view\":{\"id\":\"1834\"}},\"id\":\"1833\",\"type\":\"GlyphRenderer\"},{\"attributes\":{\"data\":{\"x\":[1,2,3,4,5],\"y\":[4,5,5,7,2]},\"selected\":{\"id\":\"1881\"},\"selection_policy\":{\"id\":\"1880\"}},\"id\":\"1864\",\"type\":\"ColumnDataSource\"},{\"attributes\":{},\"id\":\"1809\",\"type\":\"BasicTicker\"},{\"attributes\":{},\"id\":\"1840\",\"type\":\"BasicTickFormatter\"},{\"attributes\":{},\"id\":\"1802\",\"type\":\"DataRange1d\"},{\"attributes\":{},\"id\":\"1836\",\"type\":\"AllLabels\"},{\"attributes\":{\"fill_color\":{\"value\":\"blue\"},\"line_color\":{\"value\":\"yellow\"},\"size\":{\"value\":12},\"x\":{\"field\":\"x\"},\"y\":{\"field\":\"y\"}},\"id\":\"1865\",\"type\":\"Circle\"},{\"attributes\":{},\"id\":\"1880\",\"type\":\"UnionRenderers\"},{\"attributes\":{},\"id\":\"1806\",\"type\":\"LinearScale\"},{\"attributes\":{},\"id\":\"1839\",\"type\":\"AllLabels\"},{\"attributes\":{\"line_alpha\":0.1,\"line_color\":\"blue\",\"line_width\":2,\"x\":{\"field\":\"x\"},\"y\":{\"field\":\"y\"}},\"id\":\"1849\",\"type\":\"Line\"},{\"attributes\":{\"bottom_units\":\"screen\",\"fill_alpha\":0.5,\"fill_color\":\"lightgrey\",\"left_units\":\"screen\",\"level\":\"overlay\",\"line_alpha\":1.0,\"line_color\":\"black\",\"line_dash\":[4,4],\"line_width\":2,\"right_units\":\"screen\",\"syncable\":false,\"top_units\":\"screen\"},\"id\":\"1822\",\"type\":\"BoxAnnotation\"},{\"attributes\":{},\"id\":\"1800\",\"type\":\"DataRange1d\"}],\"root_ids\":[\"1797\"]},\"title\":\"Bokeh Application\",\"version\":\"2.3.3\"}};\n",
              "  var render_items = [{\"docid\":\"ef3ce0c8-fc39-4ca8-83da-4527d788df54\",\"root_ids\":[\"1797\"],\"roots\":{\"1797\":\"1c3d7c02-5b74-455f-b9d3-7fa256190b82\"}}];\n",
              "  root.Bokeh.embed.embed_items_notebook(docs_json, render_items);\n",
              "\n",
              "  }\n",
              "  if (root.Bokeh !== undefined) {\n",
              "    embed_document(root);\n",
              "  } else {\n",
              "    var attempts = 0;\n",
              "    var timer = setInterval(function(root) {\n",
              "      if (root.Bokeh !== undefined) {\n",
              "        clearInterval(timer);\n",
              "        embed_document(root);\n",
              "      } else {\n",
              "        attempts++;\n",
              "        if (attempts > 100) {\n",
              "          clearInterval(timer);\n",
              "          console.log(\"Bokeh: ERROR: Unable to run BokehJS code because BokehJS library is missing\");\n",
              "        }\n",
              "      }\n",
              "    }, 10, root)\n",
              "  }\n",
              "})(window);"
            ],
            "application/vnd.bokehjs_exec.v0+json": ""
          },
          "metadata": {
            "application/vnd.bokehjs_exec.v0+json": {
              "id": "1797"
            }
          }
        }
      ]
    },
    {
      "cell_type": "code",
      "source": [
        "!pip install folium"
      ],
      "metadata": {
        "colab": {
          "base_uri": "https://localhost:8080/"
        },
        "id": "--Qb8akHZNi5",
        "outputId": "930a3397-3e6d-4439-d33b-ec4fc2082d5d"
      },
      "execution_count": null,
      "outputs": [
        {
          "output_type": "stream",
          "name": "stdout",
          "text": [
            "Requirement already satisfied: folium in /usr/local/lib/python3.7/dist-packages (0.8.3)\n",
            "Requirement already satisfied: six in /usr/local/lib/python3.7/dist-packages (from folium) (1.15.0)\n",
            "Requirement already satisfied: numpy in /usr/local/lib/python3.7/dist-packages (from folium) (1.19.5)\n",
            "Requirement already satisfied: jinja2 in /usr/local/lib/python3.7/dist-packages (from folium) (2.11.3)\n",
            "Requirement already satisfied: requests in /usr/local/lib/python3.7/dist-packages (from folium) (2.23.0)\n",
            "Requirement already satisfied: branca>=0.3.0 in /usr/local/lib/python3.7/dist-packages (from folium) (0.4.2)\n",
            "Requirement already satisfied: MarkupSafe>=0.23 in /usr/local/lib/python3.7/dist-packages (from jinja2->folium) (2.0.1)\n",
            "Requirement already satisfied: idna<3,>=2.5 in /usr/local/lib/python3.7/dist-packages (from requests->folium) (2.10)\n",
            "Requirement already satisfied: urllib3!=1.25.0,!=1.25.1,<1.26,>=1.21.1 in /usr/local/lib/python3.7/dist-packages (from requests->folium) (1.24.3)\n",
            "Requirement already satisfied: certifi>=2017.4.17 in /usr/local/lib/python3.7/dist-packages (from requests->folium) (2021.10.8)\n",
            "Requirement already satisfied: chardet<4,>=3.0.2 in /usr/local/lib/python3.7/dist-packages (from requests->folium) (3.0.4)\n"
          ]
        }
      ]
    },
    {
      "cell_type": "code",
      "source": [
        "import re\n",
        "p = re.compile(\"[0-9a-zA-Z]+년_[가-힣]+\\s[가-힣]+\")\n",
        "p"
      ],
      "metadata": {
        "colab": {
          "base_uri": "https://localhost:8080/"
        },
        "id": "rbxa0l1IZNeS",
        "outputId": "814d2844-f39f-4e74-baed-75ad41b8ff5f"
      },
      "execution_count": null,
      "outputs": [
        {
          "output_type": "execute_result",
          "data": {
            "text/plain": [
              "re.compile(r'[0-9a-zA-Z]+년_[가-힣]+\\s[가-힣]+', re.UNICODE)"
            ]
          },
          "metadata": {},
          "execution_count": 70
        }
      ]
    },
    {
      "cell_type": "code",
      "source": [
        "m = p.match('2019년_계열별 공대학생수.xlsx')\n",
        "if m:\n",
        "    print('Match found: ', m.group())\n",
        "    print()\n",
        "else:\n",
        "    print('No match')\n"
      ],
      "metadata": {
        "colab": {
          "base_uri": "https://localhost:8080/"
        },
        "id": "6JIsJnbC0ih-",
        "outputId": "11f230d3-fca5-46e7-db49-17f2c3f5c1b0"
      },
      "execution_count": null,
      "outputs": [
        {
          "output_type": "stream",
          "name": "stdout",
          "text": [
            "Match found:  2019년_계열별 공대학생수\n",
            "\n"
          ]
        }
      ]
    },
    {
      "cell_type": "markdown",
      "source": [
        "### 시각화 "
      ],
      "metadata": {
        "id": "4_4gG4PXh1BP"
      }
    },
    {
      "cell_type": "code",
      "source": [
        "pip install pywaffle"
      ],
      "metadata": {
        "colab": {
          "base_uri": "https://localhost:8080/"
        },
        "id": "tbiROyroS10O",
        "outputId": "711f71ca-ed36-437d-d511-dc1d653cfbd4"
      },
      "execution_count": null,
      "outputs": [
        {
          "output_type": "stream",
          "name": "stdout",
          "text": [
            "Collecting pywaffle\n",
            "  Downloading pywaffle-0.6.4-py2.py3-none-any.whl (565 kB)\n",
            "\u001b[K     |████████████████████████████████| 565 kB 5.1 MB/s \n",
            "\u001b[?25hRequirement already satisfied: matplotlib in /usr/local/lib/python3.7/dist-packages (from pywaffle) (3.2.2)\n",
            "Requirement already satisfied: cycler>=0.10 in /usr/local/lib/python3.7/dist-packages (from matplotlib->pywaffle) (0.11.0)\n",
            "Requirement already satisfied: python-dateutil>=2.1 in /usr/local/lib/python3.7/dist-packages (from matplotlib->pywaffle) (2.8.2)\n",
            "Requirement already satisfied: numpy>=1.11 in /usr/local/lib/python3.7/dist-packages (from matplotlib->pywaffle) (1.19.5)\n",
            "Requirement already satisfied: pyparsing!=2.0.4,!=2.1.2,!=2.1.6,>=2.0.1 in /usr/local/lib/python3.7/dist-packages (from matplotlib->pywaffle) (3.0.6)\n",
            "Requirement already satisfied: kiwisolver>=1.0.1 in /usr/local/lib/python3.7/dist-packages (from matplotlib->pywaffle) (1.3.2)\n",
            "Requirement already satisfied: six>=1.5 in /usr/local/lib/python3.7/dist-packages (from python-dateutil>=2.1->matplotlib->pywaffle) (1.15.0)\n",
            "Installing collected packages: pywaffle\n",
            "Successfully installed pywaffle-0.6.4\n"
          ]
        }
      ]
    },
    {
      "cell_type": "code",
      "source": [
        "import matplotlib.pyplot as plt\n",
        "from pywaffle import Waffle\n",
        "plt.rc('font', family='NanumBarunGothic')"
      ],
      "metadata": {
        "id": "g0aP3oMq1ag8"
      },
      "execution_count": null,
      "outputs": []
    },
    {
      "cell_type": "markdown",
      "source": [
        "## 학과별 취업현황"
      ],
      "metadata": {
        "id": "iLhdU6yqF2wR"
      }
    },
    {
      "cell_type": "markdown",
      "source": [
        "> 분석대상 : 24개대학의 5개 주요 학과(전,화,기,컴,산) 외에 나머지 기타 학과 포함 취업률 관련 분석"
      ],
      "metadata": {
        "id": "UYmPYpogzkYV"
      }
    },
    {
      "cell_type": "code",
      "source": [
        "import pandas as pd\n",
        "a = pd.read_excel('/content/2018년_학과별 졸업생의 취업 현황 (대학).xlsx',sheet_name='Sheet2')\n",
        "b = pd.read_excel('/content/2019년_학과별 졸업생의 취업 현황 (대학).xlsx',sheet_name='Sheet2')\n",
        "c = pd.read_excel('/content/2020년_학과별 졸업생의 취업 현황 (대학).xlsx',sheet_name='Sheet2')"
      ],
      "metadata": {
        "id": "uYy1jVpQF5pH"
      },
      "execution_count": 272,
      "outputs": []
    },
    {
      "cell_type": "code",
      "source": [
        "import matplotlib.pyplot as plt\n",
        "from pywaffle import Waffle\n",
        "plt.rc('font', family='NanumBarunGothic')"
      ],
      "metadata": {
        "id": "jfsyCY0G8GeV"
      },
      "execution_count": 52,
      "outputs": []
    },
    {
      "cell_type": "code",
      "source": [
        "# 2020년\n",
        "def make_waffle_chart(df,top_n=100,기준열='취업순위점수'):\n",
        "  temp = df.sort_values(by=기준열, ascending=False)\n",
        "  top_100_취업률 = temp.iloc[0:top_n][['학과(전공)','취업자(B)','취업률반올림','취업순위점수']]\n",
        "  \n",
        "  전자전기_취업률 = {'학과포함수':0, '취업자수':[], '취업률(반올림)':[], '취업순위점수':[]}\n",
        "  기계공학_취업률 = {'학과포함수':0, '취업자수':[], '취업률(반올림)':[], '취업순위점수':[]}\n",
        "  화학공학_취업률 = {'학과포함수':0, '취업자수':[], '취업률(반올림)':[], '취업순위점수':[]}\n",
        "  산업공학_취업률 = {'학과포함수':0, '취업자수':[], '취업률(반올림)':[], '취업순위점수':[]}\n",
        "  컴퓨터공학_취업률 = {'학과포함수':0, '취업자수':[], '취업률(반올림)':[], '취업순위점수':[]}\n",
        "  나머지학과_취업률 = {'학과포함수':0, '취업자수':[], '취업률(반올림)':[], '취업순위점수':[]}\n",
        "\n",
        "  for idx,i in enumerate(top_100_취업률.values):\n",
        "    if '기계' in top_100_취업률.iloc[idx]['학과(전공)']:\n",
        "      기계공학_취업률['학과포함수']+=1\n",
        "      기계공학_취업률['취업자수'].append(top_100_취업률.iloc[idx]['취업자(B)'])\n",
        "      기계공학_취업률['취업률(반올림)'].append(top_100_취업률.iloc[idx]['취업률반올림'])\n",
        "      기계공학_취업률['취업순위점수'].append(top_100_취업률.iloc[idx]['취업순위점수'])\n",
        "    elif ('전자' in top_100_취업률.iloc[idx]['학과(전공)'])or('전기' in top_100_취업률.iloc[idx]['학과(전공)']):\n",
        "      전자전기_취업률['학과포함수']+=1\n",
        "      전자전기_취업률['취업자수'].append(top_100_취업률.iloc[idx]['취업자(B)'])\n",
        "      전자전기_취업률['취업률(반올림)'].append(top_100_취업률.iloc[idx]['취업률반올림'])\n",
        "      전자전기_취업률['취업순위점수'].append(top_100_취업률.iloc[idx]['취업순위점수'])\n",
        "    elif '화학' in top_100_취업률.iloc[idx]['학과(전공)']:\n",
        "      화학공학_취업률['학과포함수']+=1\n",
        "      화학공학_취업률['취업자수'].append(top_100_취업률.iloc[idx]['취업자(B)'])\n",
        "      화학공학_취업률['취업률(반올림)'].append(top_100_취업률.iloc[idx]['취업률반올림'])\n",
        "      화학공학_취업률['취업순위점수'].append(top_100_취업률.iloc[idx]['취업순위점수'])\n",
        "    elif ('산업' in top_100_취업률.iloc[idx]['학과(전공)'])or('품질' in top_100_취업률.iloc[idx]['학과(전공)']):\n",
        "      산업공학_취업률['학과포함수']+=1\n",
        "      산업공학_취업률['취업자수'].append(top_100_취업률.iloc[idx]['취업자(B)'])\n",
        "      산업공학_취업률['취업률(반올림)'].append(top_100_취업률.iloc[idx]['취업률반올림'])\n",
        "      산업공학_취업률['취업순위점수'].append(top_100_취업률.iloc[idx]['취업순위점수'])\n",
        "    elif '컴퓨터' in top_100_취업률.iloc[idx]['학과(전공)']:\n",
        "      컴퓨터공학_취업률['학과포함수']+=1\n",
        "      컴퓨터공학_취업률['취업자수'].append(top_100_취업률.iloc[idx]['취업자(B)'])\n",
        "      컴퓨터공학_취업률['취업률(반올림)'].append(top_100_취업률.iloc[idx]['취업률반올림'])\n",
        "      컴퓨터공학_취업률['취업순위점수'].append(top_100_취업률.iloc[idx]['취업순위점수'])\n",
        "    else:\n",
        "      나머지학과_취업률['학과포함수']+=1\n",
        "      나머지학과_취업률['취업자수'].append(top_100_취업률.iloc[idx]['취업자(B)'])\n",
        "      나머지학과_취업률['취업률(반올림)'].append(top_100_취업률.iloc[idx]['취업률반올림'])\n",
        "      나머지학과_취업률['취업순위점수'].append(top_100_취업률.iloc[idx]['취업순위점수'])\n",
        "    \n",
        "  plt.rc('font', family='NanumBarunGothic')\n",
        "  data = {'전자전기공학과': 전자전기_취업률['학과포함수'], '컴퓨터공학': 컴퓨터공학_취업률['학과포함수'], '기계공학과': 기계공학_취업률['학과포함수'],\\\n",
        "          '산업공학과': 산업공학_취업률['학과포함수'] , '화학공학과': 화학공학_취업률['학과포함수'], '기타공대':나머지학과_취업률['학과포함수']}   \n",
        "  fig = plt.figure(\n",
        "    FigureClass=Waffle, \n",
        "    rows=10, \n",
        "    values=data, \n",
        "    colors=(\"#983D3D\", \"#232066\", \"#DCB732\",'#1d93bc', '#2dbbdd','#999999'), # '#999999' 회색\n",
        "    title={'label': '{0} 공대 취업 상위권 학과 점유율({1} 기준)'.format(df['기준연도'][0]+1,기준열), 'loc': 'left'},\n",
        "    labels=[\"{0} ({1}%)\".format(k, v) for k, v in data.items()],\n",
        "    legend={'loc': 'lower left', 'bbox_to_anchor': (0, -0.4), 'ncol': len(data), 'framealpha': 0}\n",
        "  )\n",
        "  fig.gca().set_facecolor('#EEEEEE')\n",
        "  fig.set_facecolor('#EEEEEE')\n",
        "  plt.savefig('{0} 공대 취업 상위권 학과 점유율({1} 기준).png'.format(df['기준연도'][0]+1,기준열))\n",
        "  plt.show()\n",
        "\n",
        "  return 전자전기_취업률, 기계공학_취업률, 화학공학_취업률, 산업공학_취업률, 컴퓨터공학_취업률, 나머지학과_취업률 "
      ],
      "metadata": {
        "id": "qz9pyQxo7kz-"
      },
      "execution_count": 392,
      "outputs": []
    },
    {
      "cell_type": "markdown",
      "source": [
        "> 2018년 (취업순위점수 기준)"
      ],
      "metadata": {
        "id": "ShAhqVlo17FV"
      }
    },
    {
      "cell_type": "code",
      "source": [
        "전자전기,기계공학,화학공학,산업공학,컴퓨터공학,나머지학과 = make_waffle_chart(a)"
      ],
      "metadata": {
        "id": "Rdn8VS-tF6P4",
        "colab": {
          "base_uri": "https://localhost:8080/",
          "height": 576
        },
        "outputId": "fc9c77a8-095d-4bae-a151-5b70a0a3606e"
      },
      "execution_count": 393,
      "outputs": [
        {
          "output_type": "display_data",
          "data": {
            "image/png": "[encoded data removed]",
            "text/plain": [
              "<Waffle size 1080x576 with 1 Axes>"
            ]
          },
          "metadata": {}
        }
      ]
    },
    {
      "cell_type": "code",
      "source": [
        "print('전자전기 : {0}\\n 기계공학 : {1}\\n 화학공학 : {2}\\n 산업공학 : {3}\\n 컴퓨터공학 : {4}\\n 기타공대 : {5}'.format(전자전기,기계공학,화학공학,산업공학,컴퓨터공학,나머지학과))"
      ],
      "metadata": {
        "colab": {
          "base_uri": "https://localhost:8080/"
        },
        "id": "fXdVffRRHnTg",
        "outputId": "d19b9f1a-2614-4d25-ad1c-9e42c315d209"
      },
      "execution_count": 395,
      "outputs": [
        {
          "output_type": "stream",
          "name": "stdout",
          "text": [
            "전자전기 : {'학과포함수': 18, '취업자수': [94, 99, 85, 81, 72, 25, 45, 41, 68, 60, 29, 127, 67, 22, 53, 36, 65, 58], '취업률(반올림)': [82, 80, 80, 80, 79, 96, 79, 79, 76, 76, 82, 72, 73, 85, 73, 74, 70, 70], '취업순위점수': [4.7905610934804645, 4.237689577784163, 4.141212539746382, 4.103840629300685, 3.7459456676562954, 3.1254564042646416, 3.1169053704787877, 2.998722369523705, 2.9980304308054904, 2.9069968756575633, 2.7324415469314487, 2.416547839410499, 2.402007174769461, 2.3406486646464257, 2.2672788084010222, 2.0840016497869027, 1.9860282891660102, 1.9435871773821587]}\n",
            " 기계공학 : {'학과포함수': 20, '취업자수': [83, 133, 63, 74, 57, 18, 102, 28, 21, 168, 38, 102, 63, 49, 61, 42, 15, 28, 11, 11], '취업률(반올림)': [82, 81, 78, 76, 77, 100, 74, 81, 91, 71, 75, 71, 71, 72, 70, 71, 94, 74, 100, 100], '취업순위점수': [4.667633209735569, 4.501175403142656, 3.3070622778550454, 3.0740284870112857, 3.0403400812874506, 2.824395280770356, 2.6914654356060606, 2.5189835437487016, 2.456652928558084, 2.3196500758764045, 2.281535740715191, 2.2647758257903057, 2.1395720855828833, 2.1059903210120483, 1.9645785444406243, 1.9245215146481587, 1.8539406005177579, 1.8507590248667127, 1.7797882974924129, 1.7797882974924129]}\n",
            " 화학공학 : {'학과포함수': 3, '취업자수': [30, 23, 29], '취업률(반올림)': [82, 77, 74], '취업순위점수': [2.782600714389518, 1.9161722904702296, 1.8833347138242358]}\n",
            " 산업공학 : {'학과포함수': 5, '취업자수': [42, 32, 46, 13, 22], '취업률(반올림)': [96, 82, 72, 100, 79], '취업순위점수': [5.138490656647693, 2.921126376052866, 2.0700407407688397, 2.039165276270088, 1.9845260066732733]}\n",
            " 컴퓨터공학 : {'학과포함수': 13, '취업자수': [75, 75, 45, 40, 26, 44, 53, 27, 51, 24, 40, 15, 62], '취업률(반올림)': [86, 85, 86, 78, 84, 75, 72, 76, 71, 77, 71, 94, 69], '취업순위점수': [5.758485508813955, 5.3478765784173925, 4.332172953490865, 2.7393134398036247, 2.67778279388384, 2.427696291056628, 2.153359272032768, 2.0330117595778248, 2.0274864295506982, 1.9658737006302542, 1.886596761981808, 1.8539406005177579, 1.8475789673262584]}\n",
            " 기타공대 : {'학과포함수': 41, '취업자수': [88, 37, 56, 52, 35, 36, 25, 23, 23, 37, 54, 25, 22, 36, 23, 34, 16, 31, 25, 30, 21, 41, 21, 18, 31, 19, 30, 41, 20, 24, 17, 33, 26, 25, 20, 33, 26, 32, 18, 15, 26], '취업률(반올림)': [88, 97, 83, 81, 83, 82, 93, 98, 96, 79, 76, 85, 93, 78, 86, 78, 100, 77, 80, 77, 85, 74, 83, 96, 76, 89, 76, 73, 83, 78, 92, 74, 76, 76, 81, 73, 75, 73, 83, 95, 74], '취업순위점수': [6.192235025786795, 4.652610219202142, 4.3372689591587745, 3.6011482495793055, 3.2692993203188423, 3.1761552631808696, 3.000420619713044, 2.8968120204162346, 2.8691078005347044, 2.8307245399489047, 2.795315017198589, 2.631902595006764, 2.6276697427946134, 2.598441506496104, 2.5303190835765736, 2.4985062531334346, 2.4580029232983276, 2.298782786721233, 2.2816120548724146, 2.25881827006062, 2.253650256772411, 2.213326194879782, 2.187906573943584, 2.1863112158125952, 2.1817571200965937, 2.161367876140194, 2.145726143689336, 2.1046338970630774, 2.0826932655004553, 2.018789503182451, 2.0047538050646025, 1.999252615844544, 1.9929186927884972, 1.9356589381011247, 1.9287115415201375, 1.9101457899434693, 1.8864011117218205, 1.8844208090888686, 1.8842158509615303, 1.8596868487730736, 1.7853637470063994]}\n"
          ]
        }
      ]
    },
    {
      "cell_type": "code",
      "source": [
        "import numpy as np\n",
        "\n",
        "print(\n",
        "np.mean(전자전기['취업률(반올림)']),'\\n',\n",
        "np.mean(기계공학['취업률(반올림)']),'\\n',\n",
        "np.mean(화학공학['취업률(반올림)']),'\\n',\n",
        "np.mean(산업공학['취업률(반올림)']),'\\n',\n",
        "np.mean(컴퓨터공학['취업률(반올림)']))\n",
        "print(\n",
        "np.mean(전자전기['취업자수']),'\\n',\n",
        "np.mean(기계공학['취업자수']),'\\n',\n",
        "np.mean(화학공학['취업자수']),'\\n',\n",
        "np.mean(산업공학['취업자수']),'\\n',\n",
        "np.mean(컴퓨터공학['취업자수']))"
      ],
      "metadata": {
        "colab": {
          "base_uri": "https://localhost:8080/"
        },
        "id": "O1KnU7cOPqDu",
        "outputId": "c1431c94-17ff-4dce-e43b-c4850e1fd9b3"
      },
      "execution_count": 396,
      "outputs": [
        {
          "output_type": "stream",
          "name": "stdout",
          "text": [
            "78.11111111111111 \n",
            " 80.45 \n",
            " 77.66666666666667 \n",
            " 85.8 \n",
            " 78.76923076923077\n",
            "62.611111111111114 \n",
            " 58.35 \n",
            " 27.333333333333332 \n",
            " 31.0 \n",
            " 44.38461538461539\n"
          ]
        }
      ]
    },
    {
      "cell_type": "markdown",
      "source": [
        "> 2019년 (취업순위점수 기준)"
      ],
      "metadata": {
        "id": "sPdjWtpZ2M5T"
      }
    },
    {
      "cell_type": "code",
      "source": [
        "전자전기,기계공학,화학공학,산업공학,컴퓨터공학,나머지학과 = make_waffle_chart(b)"
      ],
      "metadata": {
        "id": "hVEyvv_T2VJ4",
        "colab": {
          "base_uri": "https://localhost:8080/",
          "height": 576
        },
        "outputId": "7bc4e214-0e11-4fc8-a1ee-9cd01cb674bd"
      },
      "execution_count": 411,
      "outputs": [
        {
          "output_type": "display_data",
          "data": {
            "image/png": "[encoded data removed]",
            "text/plain": [
              "<Waffle size 1080x576 with 1 Axes>"
            ]
          },
          "metadata": {}
        }
      ]
    },
    {
      "cell_type": "code",
      "source": [
        "print('전자전기 : {0}\\n 기계공학 : {1}\\n 화학공학 : {2}\\n 산업공학 : {3}\\n 컴퓨터공학 : {4}\\n 기타공대 : {5}'.format(전자전기,기계공학,화학공학,산업공학,컴퓨터공학,나머지학과))"
      ],
      "metadata": {
        "colab": {
          "base_uri": "https://localhost:8080/"
        },
        "outputId": "4a376560-2bc0-4e86-a324-54fcc8608ad7",
        "id": "M84K0iVO2VJ5"
      },
      "execution_count": 398,
      "outputs": [
        {
          "output_type": "stream",
          "name": "stdout",
          "text": [
            "전자전기 : {'학과포함수': 16, '취업자수': [90, 106, 62, 33, 50, 43, 45, 24, 135, 52, 55, 83, 69, 43, 60, 11], '취업률(반올림)': [88, 84, 84, 88, 81, 82, 80, 89, 76, 78, 77, 76, 76, 77, 70, 100], '취업순위점수': [5.4165269878794335, 4.365254803056153, 3.9187587400945594, 3.3465786307339584, 3.064764765862269, 2.995972722766308, 2.815077029207905, 2.6411241841798807, 2.5584389136647685, 2.543192410309133, 2.4672036011385954, 2.4559370394206503, 2.410862023239417, 2.2862377367286766, 1.7875262986244778, 1.7853941285897916]}\n",
            " 기계공학 : {'학과포함수': 19, '취업자수': [57, 101, 126, 98, 32, 43, 28, 211, 69, 63, 61, 27, 104, 56, 85, 76, 16, 15, 131], '취업률(반올림)': [88, 85, 84, 83, 97, 84, 89, 78, 79, 79, 78, 83, 74, 75, 71, 71, 89, 94, 69], '취업순위점수': [4.745605025253597, 4.528070821977168, 4.449754253308129, 4.128601548624368, 3.7927300850734724, 3.360246673899389, 3.0034571217513935, 2.9325143398176143, 2.878897580217415, 2.8301617434884956, 2.6494477710613555, 2.4025733753634118, 2.2384848697184156, 2.2371725611659343, 1.9832241013861664, 1.966260382063452, 1.8439890823032714, 1.8336378157296591, 1.8042853131686725]}\n",
            " 화학공학 : {'학과포함수': 5, '취업자수': [57, 48, 33, 23, 54], '취업률(반올림)': [80, 80, 77, 80, 70], '취업순위점수': [3.053457462060905, 2.8902910939870905, 2.042474836965457, 1.9031985170836658, 1.7584690584482987]}\n",
            " 산업공학 : {'학과포함수': 8, '취업자수': [30, 29, 18, 43, 27, 30, 20, 32], '취업률(반올림)': [85, 82, 94, 75, 79, 77, 83, 75], '취업순위점수': [2.711856513988431, 2.3552042060828957, 2.184281779288519, 2.082626155760362, 1.9736287478421113, 1.9289300168721342, 1.9207685053004808, 1.851926937372051]}\n",
            " 컴퓨터공학 : {'학과포함수': 13, '취업자수': [80, 80, 42, 32, 30, 41, 75, 65, 32, 19, 22, 53, 38], '취업률(반올림)': [89, 86, 90, 84, 85, 80, 77, 75, 79, 89, 83, 72, 73], '취업순위점수': [5.723722401674968, 4.563722448979592, 4.325317983474143, 2.797889031521894, 2.711856513988431, 2.6641822518424623, 2.6145248261445, 2.301570180566648, 2.184640273853765, 2.1704380235074883, 2.069945294493349, 1.9175107098880821, 1.834028816628612]}\n",
            " 기타공대 : {'학과포함수': 39, '취업자수': [61, 63, 115, 29, 34, 45, 17, 17, 30, 16, 22, 28, 27, 15, 36, 21, 37, 28, 35, 26, 43, 20, 23, 25, 23, 23, 17, 45, 30, 26, 12, 45, 17, 18, 34, 23, 43, 24, 29], '취업률(반올림)': [88, 86, 83, 97, 85, 80, 100, 100, 83, 100, 93, 83, 83, 100, 79, 88, 78, 81, 78, 81, 75, 87, 82, 80, 81, 81, 89, 73, 77, 79, 100, 71, 86, 83, 74, 79, 71, 78, 75], '취업순위점수': [4.884248783428418, 4.317301454916134, 4.223418359830929, 3.393771626297578, 3.0042479787842877, 2.815077029207905, 2.761158977930227, 2.761158977930227, 2.5740826432582136, 2.5576312942193717, 2.5575493902982975, 2.4473361072867714, 2.4025733753634118, 2.388235168473327, 2.340331297435103, 2.271726542404701, 2.2561457671237024, 2.22357629801688, 2.176056050211648, 2.113681217721385, 2.082626155760362, 2.0712682005112812, 2.0168365533948185, 2.002683111621384, 1.9583704066977266, 1.9583704066977266, 1.9474858525319132, 1.9302820208270033, 1.9289300168721342, 1.9140574981426257, 1.8938756705392936, 1.7989236499368506, 1.7924666230618291, 1.7916480389187734, 1.786238395805476, 1.7858076056922905, 1.772909547858213, 1.766389201776323, 1.751395650457698]}\n"
          ]
        }
      ]
    },
    {
      "cell_type": "code",
      "source": [
        "import numpy as np\n",
        "\n",
        "print(\n",
        "np.mean(전자전기['취업률(반올림)']),'\\n',\n",
        "np.mean(기계공학['취업률(반올림)']),'\\n',\n",
        "np.mean(화학공학['취업률(반올림)']),'\\n',\n",
        "np.mean(산업공학['취업률(반올림)']),'\\n',\n",
        "np.mean(컴퓨터공학['취업률(반올림)']))\n",
        "print(\n",
        "np.mean(전자전기['취업자수']),'\\n',\n",
        "np.mean(기계공학['취업자수']),'\\n',\n",
        "np.mean(화학공학['취업자수']),'\\n',\n",
        "np.mean(산업공학['취업자수']),'\\n',\n",
        "np.mean(컴퓨터공학['취업자수']))"
      ],
      "metadata": {
        "colab": {
          "base_uri": "https://localhost:8080/"
        },
        "outputId": "56b4146d-8c05-400e-948b-3aef5adfe087",
        "id": "_bwbU_nl2VJ5"
      },
      "execution_count": 399,
      "outputs": [
        {
          "output_type": "stream",
          "name": "stdout",
          "text": [
            "81.625 \n",
            " 81.57894736842105 \n",
            " 77.4 \n",
            " 81.25 \n",
            " 81.6923076923077\n",
            "60.0625 \n",
            " 73.63157894736842 \n",
            " 43.0 \n",
            " 28.625 \n",
            " 46.84615384615385\n"
          ]
        }
      ]
    },
    {
      "cell_type": "markdown",
      "source": [
        "> 2020년 (취업순위점수 기준)"
      ],
      "metadata": {
        "id": "x30dhL2h2NgS"
      }
    },
    {
      "cell_type": "code",
      "source": [
        "전자전기,기계공학,화학공학,산업공학,컴퓨터공학,나머지학과 = make_waffle_chart(c)"
      ],
      "metadata": {
        "id": "mazp4CE_2VwL",
        "colab": {
          "base_uri": "https://localhost:8080/",
          "height": 576
        },
        "outputId": "e1d89551-6317-49aa-8e88-fffc71f7d096"
      },
      "execution_count": 400,
      "outputs": [
        {
          "output_type": "display_data",
          "data": {
            "image/png": "[encoded data removed]",
            "text/plain": [
              "<Waffle size 1080x576 with 1 Axes>"
            ]
          },
          "metadata": {}
        }
      ]
    },
    {
      "cell_type": "code",
      "source": [
        "print('전자전기 : {0}\\n 기계공학 : {1}\\n 화학공학 : {2}\\n 산업공학 : {3}\\n 컴퓨터공학 : {4}\\n 기타공대 : {5}'.format(전자전기,기계공학,화학공학,산업공학,컴퓨터공학,나머지학과))"
      ],
      "metadata": {
        "colab": {
          "base_uri": "https://localhost:8080/"
        },
        "outputId": "53779473-e611-4dbd-844f-95878f5578cc",
        "id": "VdLTYML52VwM"
      },
      "execution_count": 401,
      "outputs": [
        {
          "output_type": "stream",
          "name": "stdout",
          "text": [
            "전자전기 : {'학과포함수': 16, '취업자수': [105, 75, 44, 72, 115, 44, 37, 62, 36, 94, 15, 11, 11, 57, 14, 45], '취업률(반올림)': [87, 85, 85, 81, 77, 80, 77, 73, 73, 68, 88, 100, 100, 68, 88, 68], '취업순위점수': [6.688309829694948, 5.416707158873588, 4.302139577041414, 3.9637903362605535, 3.1503551983406792, 3.1321566939302627, 2.401652369846227, 2.3323914896230833, 1.977418451904362, 1.8773873073506122, 1.859570938407716, 1.8509792690784954, 1.8509792690784954, 1.787013002292792, 1.7639940188435461, 1.7129678056922615]}\n",
            " 기계공학 : {'학과포함수': 16, '취업자수': [118, 72, 99, 59, 200, 45, 26, 19, 18, 54, 106, 26, 13, 98, 38, 73], '취업률(반올림)': [88, 83, 80, 78, 75, 78, 84, 91, 95, 74, 72, 79, 100, 69, 72, 69], '취업순위점수': [7.510860562004723, 4.719995338629168, 3.847699629825489, 3.0193797197531995, 2.826110821673117, 2.7837222994783493, 2.6702384353367763, 2.425139709404439, 2.398523489932886, 2.3807640988363548, 2.359246185688712, 2.1398944750875266, 2.118261518373438, 1.9801704610270032, 1.9392138399910628, 1.9318022111498678]}\n",
            " 화학공학 : {'학과포함수': 3, '취업자수': [47, 36, 38], '취업률(반올림)': [87, 87, 71], '취업순위점수': [4.970392610833409, 3.9805932108997757, 1.8378433973479584]}\n",
            " 산업공학 : {'학과포함수': 10, '취업자수': [22, 18, 23, 29, 35, 38, 23, 11, 31, 32], '취업률(반올림)': [100, 100, 87, 78, 75, 74, 80, 100, 73, 72], '취업순위점수': [3.9914592524217944, 3.0432153957508414, 2.68302118432616, 2.190400822014115, 2.1283797512699247, 2.1174789444426048, 2.074707727402338, 1.8509792690784954, 1.8450404815266972, 1.7956405444147248]}\n",
            " 컴퓨터공학 : {'학과포함수': 13, '취업자수': [73, 47, 40, 30, 96, 23, 29, 25, 37, 60, 49, 13, 40], '취업률(반올림)': [82, 83, 84, 85, 76, 87, 77, 77, 72, 69, 69, 94, 70], '취업순위점수': [4.260446068239114, 4.038796097787971, 3.6731700533854093, 3.148078004243754, 2.8783281851086815, 2.68302118432616, 2.1141447322634077, 1.9261004096021914, 1.9187581916086347, 1.8916236218658244, 1.8178951116536957, 1.7749296655204752, 1.7725449922466148]}\n",
            " 기타공대 : {'학과포함수': 42, '취업자수': [67, 99, 25, 50, 42, 57, 33, 26, 44, 40, 43, 23, 26, 23, 48, 37, 28, 20, 15, 19, 18, 36, 18, 14, 30, 21, 32, 27, 37, 33, 18, 27, 34, 17, 12, 19, 31, 20, 13, 17, 16, 15], '취업률(반올림)': [87, 83, 100, 83, 85, 82, 88, 97, 81, 82, 81, 93, 86, 89, 78, 79, 81, 90, 100, 91, 96, 77, 92, 100, 78, 82, 76, 78, 74, 75, 85, 77, 74, 86, 100, 81, 73, 79, 94, 82, 83, 85], '취업순위점수': [5.868365385544147, 5.0755934653026955, 4.777751127503214, 4.139908077149778, 4.117127648400202, 3.980736658989723, 3.8280018398220665, 3.607594673633894, 3.3691162770063436, 3.325711689470472, 3.3199234972677596, 3.050603546968206, 2.914931234421892, 2.83083159574592, 2.818225464160221, 2.628453504771958, 2.5232201742655183, 2.5145210355317342, 2.4359767527179637, 2.425139709404439, 2.407166672279662, 2.3703562092778276, 2.331550104384134, 2.274537405351778, 2.2252353717876168, 2.1201686933246786, 2.1005490402168503, 2.099391309005275, 2.0931132314360084, 2.0585289493657157, 2.0396655537482524, 2.0292388675867414, 2.021020346724282, 1.9835807860262007, 1.9820794435590556, 1.8793182380598863, 1.8450404815266972, 1.797356385087361, 1.7749296655204752, 1.7729898516783762, 1.7619451561777242, 1.747672463513807]}\n"
          ]
        }
      ]
    },
    {
      "cell_type": "code",
      "source": [
        "import numpy as np\n",
        "\n",
        "print(\n",
        "np.mean(전자전기['취업률(반올림)']),'\\n',\n",
        "np.mean(기계공학['취업률(반올림)']),'\\n',\n",
        "np.mean(화학공학['취업률(반올림)']),'\\n',\n",
        "np.mean(산업공학['취업률(반올림)']),'\\n',\n",
        "np.mean(컴퓨터공학['취업률(반올림)']))\n",
        "print(\n",
        "np.mean(전자전기['취업자수']),'\\n',\n",
        "np.mean(기계공학['취업자수']),'\\n',\n",
        "np.mean(화학공학['취업자수']),'\\n',\n",
        "np.mean(산업공학['취업자수']),'\\n',\n",
        "np.mean(컴퓨터공학['취업자수']))"
      ],
      "metadata": {
        "colab": {
          "base_uri": "https://localhost:8080/"
        },
        "outputId": "8b786f29-02b1-4b03-8435-830fd9d3b1b8",
        "id": "H361rW_I2VwM"
      },
      "execution_count": 402,
      "outputs": [
        {
          "output_type": "stream",
          "name": "stdout",
          "text": [
            "81.125 \n",
            " 80.4375 \n",
            " 81.66666666666667 \n",
            " 83.9 \n",
            " 78.84615384615384\n",
            "52.3125 \n",
            " 66.5 \n",
            " 40.333333333333336 \n",
            " 26.2 \n",
            " 43.23076923076923\n"
          ]
        }
      ]
    },
    {
      "cell_type": "markdown",
      "source": [
        "#### 취업률 기준 top 100 "
      ],
      "metadata": {
        "id": "XiX8RZSRn9HY"
      }
    },
    {
      "cell_type": "code",
      "source": [
        "a_취업률 = a.sort_values(by='취업률반올림',ascending=False)\n",
        "b_취업률 = a.sort_values(by='취업률반올림',ascending=False)\n",
        "c_취업률 = c.sort_values(by='취업률반올림',ascending=False)"
      ],
      "metadata": {
        "id": "d-xWuOxNtpqA"
      },
      "execution_count": 403,
      "outputs": []
    },
    {
      "cell_type": "markdown",
      "source": [
        "> 2018년 (취업률 기준)"
      ],
      "metadata": {
        "id": "OPDXhekPxI4q"
      }
    },
    {
      "cell_type": "code",
      "source": [
        "전자전기_취업률,기계공학_취업률,화학공학_취업률,산업공학_취업률,컴퓨터공학_취업률,나머지학과_취업률 = make_waffle_chart(a,기준열='취업률반올림')"
      ],
      "metadata": {
        "id": "zRGFxAjWn_oG",
        "colab": {
          "base_uri": "https://localhost:8080/",
          "height": 576
        },
        "outputId": "0bf8fe50-0523-4d23-e33b-7d8712757468"
      },
      "execution_count": 404,
      "outputs": [
        {
          "output_type": "display_data",
          "data": {
            "image/png": "[encoded data removed]",
            "text/plain": [
              "<Waffle size 1080x576 with 1 Axes>"
            ]
          },
          "metadata": {}
        }
      ]
    },
    {
      "cell_type": "code",
      "source": [
        "print('전자전기 : {0}\\n 기계공학 : {1}\\n 화학공학 : {2}\\n 산업공학 : {3}\\n 컴퓨터공학 : {4}\\n 기타공대 : {5}'.format(전자전기_취업률,기계공학_취업률,화학공학_취업률,산업공학_취업률,컴퓨터공학_취업률,나머지학과_취업률))"
      ],
      "metadata": {
        "colab": {
          "base_uri": "https://localhost:8080/"
        },
        "id": "es7ZEuXhouc0",
        "outputId": "8276117a-0302-4547-fa31-14d652e48345"
      },
      "execution_count": 405,
      "outputs": [
        {
          "output_type": "stream",
          "name": "stdout",
          "text": [
            "전자전기 : {'학과포함수': 7, '취업자수': [1, 1, 25, 11, 9, 11, 22], '취업률(반올림)': [100, 100, 96, 92, 90, 88, 85], '취업순위점수': [1.0756747113941292, 1.0756747113941292, 3.1254564042646416, 1.4629909142821909, 1.310015363933167, 1.4180416369454805, 2.3406486646464257]}\n",
            " 기계공학 : {'학과포함수': 11, '취업자수': [11, 1, 2, 2, 3, 7, 1, 11, 18, 15, 21], '취업률(반올림)': [100, 100, 100, 100, 100, 100, 100, 100, 100, 94, 91], '취업순위점수': [1.7797882974924129, 1.0756747113941292, 1.130493599152285, 1.130493599152285, 1.1911999205430142, 1.4299958465394598, 1.0756747113941292, 1.7797882974924129, 2.824395280770356, 1.8539406005177579, 2.456652928558084]}\n",
            " 화학공학 : {'학과포함수': 2, '취업자수': [2, 0], '취업률(반올림)': [100, 100], '취업순위점수': [1.130493599152285, 0.9983361064891847]}\n",
            " 산업공학 : {'학과포함수': 13, '취업자수': [1, 1, 2, 2, 10, 13, 0, 0, 42, 8, 8, 5, 4], '취업률(반올림)': [100, 100, 100, 100, 100, 100, 100, 100, 96, 92, 91, 86, 86], '취업순위점수': [1.0756747113941292, 1.0756747113941292, 1.130493599152285, 1.130493599152285, 1.677995261516038, 2.039165276270088, 0.9983361064891847, 0.9983361064891847, 5.138490656647693, 1.2770797303084698, 1.2689768075129382, 1.0853988298696506, 1.0460746322588559]}\n",
            " 컴퓨터공학 : {'학과포함수': 8, '취업자수': [1, 1, 1, 1, 15, 45, 75, 14], '취업률(반올림)': [100, 100, 100, 100, 94, 86, 86, 86], '취업순위점수': [1.0756747113941292, 1.0756747113941292, 1.0756747113941292, 1.0756747113941292, 1.8539406005177579, 4.332172953490865, 5.758485508813955, 1.6389134577409905]}\n",
            " 기타공대 : {'학과포함수': 59, '취업자수': [1, 2, 1, 1, 16, 2, 2, 1, 2, 9, 3, 4, 8, 7, 7, 5, 1, 1, 1, 0, 0, 0, 0, 0, 0, 0, 1, 1, 6, 1, 1, 1, 1, 1, 1, 23, 37, 23, 18, 15, 12, 13, 25, 22, 17, 1, 8, 19, 6, 6, 12, 10, 11, 88, 6, 14, 6, 23, 25], '취업률(반올림)': [100, 100, 100, 100, 100, 100, 100, 100, 100, 100, 100, 100, 100, 100, 100, 100, 100, 100, 100, 100, 100, 100, 100, 100, 100, 100, 100, 100, 100, 100, 100, 100, 100, 100, 100, 98, 97, 96, 96, 95, 94, 93, 93, 93, 92, 91, 90, 89, 89, 89, 89, 89, 88, 88, 87, 86, 86, 86, 85], '취업순위점수': [1.0756747113941292, 1.130493599152285, 1.0756747113941292, 1.0756747113941292, 2.4580029232983276, 1.130493599152285, 1.130493599152285, 1.0756747113941292, 1.130493599152285, 1.583072123048538, 1.1911999205430142, 1.2407644673432474, 1.5120133994810332, 1.4299958465394598, 1.4299958465394598, 1.2964782215654433, 1.0756747113941292, 1.0756747113941292, 1.0756747113941292, 0.9983361064891847, 0.9983361064891847, 0.9983361064891847, 0.9983361064891847, 0.9983361064891847, 0.9983361064891847, 0.9983361064891847, 1.0756747113941292, 1.0756747113941292, 1.3584443484657445, 1.0756747113941292, 1.0756747113941292, 1.0756747113941292, 1.0756747113941292, 1.0756747113941292, 1.0756747113941292, 2.8968120204162346, 4.652610219202142, 2.8691078005347044, 2.1863112158125952, 1.8596868487730736, 1.5665459055077424, 1.647274390271512, 3.000420619713044, 2.6276697427946134, 2.0047538050646025, 0.9466866401298333, 1.2609760606340699, 2.161367876140194, 1.1479261810050507, 1.1479261810050507, 1.5113036205373338, 1.368084055565723, 1.4180416369454805, 6.192235025786795, 1.1306212512042764, 1.6389134577409905, 1.1284947509587655, 2.5303190835765736, 2.631902595006764]}\n"
          ]
        }
      ]
    },
    {
      "cell_type": "code",
      "source": [
        "import numpy as np\n",
        "\n",
        "print(\n",
        "np.mean(전자전기_취업률['취업률(반올림)']),'\\n',\n",
        "np.mean(기계공학_취업률['취업률(반올림)']),'\\n',\n",
        "np.mean(화학공학_취업률['취업률(반올림)']),'\\n',\n",
        "np.mean(산업공학_취업률['취업률(반올림)']),'\\n',\n",
        "np.mean(컴퓨터공학_취업률['취업률(반올림)']))\n",
        "print(\n",
        "np.mean(전자전기_취업률['취업자수']),'\\n',\n",
        "np.mean(기계공학_취업률['취업자수']),'\\n',\n",
        "np.mean(화학공학_취업률['취업자수']),'\\n',\n",
        "np.mean(산업공학_취업률['취업자수']),'\\n',\n",
        "np.mean(컴퓨터공학_취업률['취업자수']))"
      ],
      "metadata": {
        "colab": {
          "base_uri": "https://localhost:8080/"
        },
        "id": "Dtp7KY_moz1u",
        "outputId": "6e3c8a8a-92a8-4382-85bc-14760bdd00f0"
      },
      "execution_count": 65,
      "outputs": [
        {
          "output_type": "stream",
          "name": "stdout",
          "text": [
            "93.7 \n",
            " 98.63636363636364 \n",
            " 100.0 \n",
            " 95.91666666666667 \n",
            " 94.0\n",
            "11.5 \n",
            " 8.363636363636363 \n",
            " 1.0 \n",
            " 6.916666666666667 \n",
            " 19.125\n"
          ]
        }
      ]
    },
    {
      "cell_type": "markdown",
      "source": [
        "> 2019,2020년에 대해서도 반복"
      ],
      "metadata": {
        "id": "PmxNASdxwumA"
      }
    },
    {
      "cell_type": "code",
      "source": [
        "전자전기_취업률,기계공학_취업률,화학공학_취업률,산업공학_취업률,컴퓨터공학_취업률,나머지학과_취업률 = make_waffle_chart(b,기준열='취업률반올림')"
      ],
      "metadata": {
        "colab": {
          "base_uri": "https://localhost:8080/",
          "height": 576
        },
        "id": "TD876OYwCaj2",
        "outputId": "dee4fca5-87b0-4722-cda6-aca3016ce694"
      },
      "execution_count": 412,
      "outputs": [
        {
          "output_type": "display_data",
          "data": {
            "image/png": "[encoded data removed]",
            "text/plain": [
              "<Waffle size 1080x576 with 1 Axes>"
            ]
          },
          "metadata": {}
        }
      ]
    },
    {
      "cell_type": "code",
      "source": [
        "print('전자전기 : {0}\\n 기계공학 : {1}\\n 화학공학 : {2}\\n 산업공학 : {3}\\n 컴퓨터공학 : {4}\\n 기타공대 : {5}'.format(전자전기_취업률,기계공학_취업률,화학공학_취업률,산업공학_취업률,컴퓨터공학_취업률,나머지학과_취업률))"
      ],
      "metadata": {
        "colab": {
          "base_uri": "https://localhost:8080/"
        },
        "id": "55593Cg5Cd0m",
        "outputId": "852caec0-a656-4815-a4a2-6dfdd5987ef1"
      },
      "execution_count": 413,
      "outputs": [
        {
          "output_type": "stream",
          "name": "stdout",
          "text": [
            "전자전기 : {'학과포함수': 11, '취업자수': [2, 2, 2, 11, 7, 7, 5, 5, 4, 1, 24], '취업률(반올림)': [100, 100, 100, 100, 100, 100, 100, 100, 100, 100, 89], '취업순위점수': [1.1206412873856293, 1.1206412873856293, 1.1206412873856293, 1.7853941285897916, 1.421147557027684, 1.421147557027684, 1.2761752362342675, 1.2761752362342675, 1.218667948428697, 1.0666900717129344, 2.6411241841798807]}\n",
            " 기계공학 : {'학과포함수': 10, '취업자수': [9, 9, 0, 1, 1, 32, 15, 7, 28, 16], '취업률(반올림)': [100, 100, 100, 100, 100, 97, 94, 89, 89, 89], '취업순위점수': [1.5650735216925735, 1.5650735216925735, 0.9983579638752053, 1.0666900717129344, 1.0666900717129344, 3.7927300850734724, 1.8336378157296591, 1.1696282774816806, 3.0034571217513935, 1.8439890823032714]}\n",
            " 화학공학 : {'학과포함수': 5, '취업자수': [1, 6, 1, 1, 1], '취업률(반올림)': [100, 100, 100, 100, 100], '취업순위점수': [1.0666900717129344, 1.3462421572393, 1.0666900717129344, 1.0666900717129344, 1.0666900717129344]}\n",
            " 산업공학 : {'학과포함수': 6, '취업자수': [2, 3, 6, 5, 14, 18], '취업률(반올림)': [100, 100, 100, 100, 94, 94], '취업순위점수': [1.1206412873856293, 1.1705735968919044, 1.3462421572393, 1.2761752362342675, 1.72688324164368, 2.184281779288519]}\n",
            " 컴퓨터공학 : {'학과포함수': 5, '취업자수': [2, 1, 42, 80, 19], '취업률(반올림)': [100, 100, 90, 89, 89], '취업순위점수': [1.1206412873856293, 1.0666900717129344, 4.325317983474143, 5.723722401674968, 2.1704380235074883]}\n",
            " 기타공대 : {'학과포함수': 63, '취업자수': [1, 3, 3, 2, 2, 2, 1, 15, 1, 1, 1, 1, 4, 4, 10, 9, 12, 6, 4, 6, 5, 1, 1, 1, 1, 1, 0, 0, 1, 1, 16, 1, 0, 0, 1, 0, 1, 1, 1, 17, 1, 1, 1, 1, 1, 0, 17, 1, 1, 29, 14, 13, 13, 13, 22, 10, 7, 12, 9, 7, 7, 11, 1], '취업률(반올림)': [100, 100, 100, 100, 100, 100, 100, 100, 100, 100, 100, 100, 100, 100, 100, 100, 100, 100, 100, 100, 100, 100, 100, 100, 100, 100, 100, 100, 100, 100, 100, 100, 100, 100, 100, 100, 100, 100, 100, 100, 100, 100, 100, 100, 100, 100, 100, 100, 100, 97, 94, 94, 93, 93, 93, 92, 91, 90, 90, 90, 90, 89, 89], '취업순위점수': [1.0666900717129344, 1.1705735968919044, 1.1705735968919044, 1.1206412873856293, 1.1206412873856293, 1.1206412873856293, 1.0666900717129344, 2.388235168473327, 1.0666900717129344, 1.0666900717129344, 1.0666900717129344, 1.0666900717129344, 1.218667948428697, 1.218667948428697, 1.6748257561799822, 1.5650735216925735, 1.8938756705392936, 1.3462421572393, 1.218667948428697, 1.3462421572393, 1.2761752362342675, 1.0666900717129344, 1.0666900717129344, 1.0666900717129344, 1.0666900717129344, 1.0666900717129344, 0.9983579638752053, 0.9983579638752053, 1.0666900717129344, 1.0666900717129344, 2.5576312942193717, 1.0666900717129344, 0.9983579638752053, 0.9983579638752053, 1.0666900717129344, 0.9983579638752053, 1.0666900717129344, 1.0666900717129344, 1.0666900717129344, 2.761158977930227, 1.0666900717129344, 1.0666900717129344, 1.0666900717129344, 1.0666900717129344, 1.0666900717129344, 0.9983579638752053, 2.761158977930227, 1.0666900717129344, 1.0666900717129344, 3.393771626297578, 1.72688324164368, 1.6275425986253156, 1.6060466338882113, 1.6060466338882113, 2.5575493902982975, 1.3570736751651264, 1.1832862218111355, 1.4900689787519856, 1.278707422621934, 1.1809877899362033, 1.1809877899362033, 1.40564691624667, 0.9184463547164231]}\n"
          ]
        }
      ]
    },
    {
      "cell_type": "code",
      "source": [
        "전자전기_취업률,기계공학_취업률,화학공학_취업률,산업공학_취업률,컴퓨터공학_취업률,나머지학과_취업률 = make_waffle_chart(c,기준열='취업률반올림')"
      ],
      "metadata": {
        "id": "mJWtTGUswuOc",
        "colab": {
          "base_uri": "https://localhost:8080/",
          "height": 576
        },
        "outputId": "5b71ad58-341c-491d-a2e3-07f238432641"
      },
      "execution_count": 406,
      "outputs": [
        {
          "output_type": "display_data",
          "data": {
            "image/png": "[encoded data removed]",
            "text/plain": [
              "<Waffle size 1080x576 with 1 Axes>"
            ]
          },
          "metadata": {}
        }
      ]
    },
    {
      "cell_type": "code",
      "source": [
        "print('전자전기 : {0}\\n 기계공학 : {1}\\n 화학공학 : {2}\\n 산업공학 : {3}\\n 컴퓨터공학 : {4}\\n 기타공대 : {5}'.format(전자전기_취업률,기계공학_취업률,화학공학_취업률,산업공학_취업률,컴퓨터공학_취업률,나머지학과_취업률))"
      ],
      "metadata": {
        "colab": {
          "base_uri": "https://localhost:8080/"
        },
        "outputId": "67093221-9d45-4c23-d138-3ec615a86838",
        "id": "xIewaAlDw_8l"
      },
      "execution_count": 407,
      "outputs": [
        {
          "output_type": "stream",
          "name": "stdout",
          "text": [
            "전자전기 : {'학과포함수': 12, '취업자수': [2, 3, 1, 4, 11, 11, 14, 15, 105, 44, 75, 3], '취업률(반올림)': [100, 100, 100, 100, 100, 100, 88, 88, 87, 85, 85, 85], '취업순위점수': [1.1813812850316228, 1.231781406273601, 1.1258117507317222, 1.2939959937083543, 1.8509792690784954, 1.8509792690784954, 1.7639940188435461, 1.859570938407716, 6.688309829694948, 4.302139577041414, 5.416707158873588, 1.02721186775247]}\n",
            " 기계공학 : {'학과포함수': 9, '취업자수': [2, 13, 1, 18, 12, 19, 9, 118, 26], '취업률(반올림)': [100, 100, 100, 95, 93, 91, 90, 88, 84], '취업순위점수': [1.1813812850316228, 2.118261518373438, 1.1258117507317222, 2.398523489932886, 1.6699173762705528, 2.425139709404439, 1.3682882939694023, 7.510860562004723, 2.6702384353367763]}\n",
            " 화학공학 : {'학과포함수': 6, '취업자수': [2, 0, 1, 4, 47, 36], '취업률(반올림)': [100, 100, 100, 89, 87, 87], '취업순위점수': [1.1813812850316228, 1.0510058185850466, 1.1258117507317222, 1.1203723596021549, 4.970392610833409, 3.9805932108997757]}\n",
            " 산업공학 : {'학과포함수': 11, '취업자수': [6, 11, 18, 22, 1, 1, 23, 9, 11, 7, 5], '취업률(반올림)': [100, 100, 100, 100, 100, 100, 87, 87, 86, 86, 85], '취업순위점수': [1.399528918528245, 1.8509792690784954, 3.0432153957508414, 3.9914592524217944, 1.1258117507317222, 1.1258117507317222, 2.68302118432616, 1.3248679048609704, 1.4493695421651107, 1.202224590210972, 1.1012143253964297]}\n",
            " 컴퓨터공학 : {'학과포함수': 7, '취업자수': [3, 0, 13, 4, 23, 30, 40], '취업률(반올림)': [100, 100, 94, 91, 87, 85, 84], '취업순위점수': [1.231781406273601, 1.0510058185850466, 1.7749296655204752, 1.1375433918881979, 2.68302118432616, 3.148078004243754, 3.6731700533854093]}\n",
            " 기타공대 : {'학과포함수': 55, '취업자수': [1, 4, 2, 2, 3, 3, 15, 4, 14, 4, 6, 9, 2, 1, 0, 0, 25, 1, 1, 12, 1, 1, 1, 1, 1, 1, 26, 18, 13, 23, 12, 18, 10, 19, 10, 6, 4, 20, 23, 1, 12, 6, 4, 33, 67, 17, 26, 9, 13, 42, 15, 18, 13, 50, 3], '취업률(반올림)': [100, 100, 100, 100, 100, 100, 100, 100, 100, 100, 100, 100, 100, 100, 100, 100, 100, 100, 100, 100, 100, 100, 100, 100, 100, 100, 97, 96, 94, 93, 93, 92, 92, 91, 91, 91, 90, 90, 89, 89, 88, 88, 88, 88, 87, 86, 86, 86, 85, 85, 85, 85, 84, 83, 83], '취업순위점수': [1.1258117507317222, 1.2939959937083543, 1.1813812850316228, 1.1813812850316228, 1.231781406273601, 1.231781406273601, 2.4359767527179637, 1.2939959937083543, 2.274537405351778, 1.2939959937083543, 1.399528918528245, 1.6245088405361143, 1.1813812850316228, 1.1258117507317222, 1.0510058185850466, 1.0510058185850466, 4.777751127503214, 1.1258117507317222, 1.1258117507317222, 1.9820794435590556, 1.1258117507317222, 1.1258117507317222, 1.1258117507317222, 1.1258117507317222, 1.1258117507317222, 1.1258117507317222, 3.607594673633894, 2.407166672279662, 1.7749296655204752, 3.050603546968206, 1.6699173762705528, 2.331550104384134, 1.4762601325739169, 2.425139709404439, 1.4633245179222607, 1.2183034478886345, 1.126038147098563, 2.5145210355317342, 2.83083159574592, 0.9920551785849875, 1.582864154944806, 1.1879706305055582, 1.111055029177845, 3.8280018398220665, 5.868365385544147, 1.9835807860262007, 2.914931234421892, 1.306726172872698, 1.5778796720855912, 4.117127648400202, 1.747672463513807, 2.0396655537482524, 1.530870854677811, 4.139908077149778, 1.0025453648370017]}\n"
          ]
        }
      ]
    },
    {
      "cell_type": "code",
      "source": [
        "import numpy as np\n",
        "\n",
        "print(\n",
        "np.mean(전자전기_취업률['취업률(반올림)']),'\\n',\n",
        "np.mean(기계공학_취업률['취업률(반올림)']),'\\n',\n",
        "np.mean(화학공학_취업률['취업률(반올림)']),'\\n',\n",
        "np.mean(산업공학_취업률['취업률(반올림)']),'\\n',\n",
        "np.mean(컴퓨터공학_취업률['취업률(반올림)']))\n",
        "print(\n",
        "np.mean(전자전기_취업률['취업자수']),'\\n',\n",
        "np.mean(기계공학_취업률['취업자수']),'\\n',\n",
        "np.mean(화학공학_취업률['취업자수']),'\\n',\n",
        "np.mean(산업공학_취업률['취업자수']),'\\n',\n",
        "np.mean(컴퓨터공학_취업률['취업자수']))"
      ],
      "metadata": {
        "colab": {
          "base_uri": "https://localhost:8080/"
        },
        "id": "fNGHRRHazAlt",
        "outputId": "e2fcb0ac-71d6-409c-bc21-ac53804afd7e"
      },
      "execution_count": 68,
      "outputs": [
        {
          "output_type": "stream",
          "name": "stdout",
          "text": [
            "91.86666666666666 \n",
            " 93.44444444444444 \n",
            " 93.83333333333333 \n",
            " 93.1 \n",
            " 93.44444444444444\n",
            "27.4 \n",
            " 24.22222222222222 \n",
            " 15.0 \n",
            " 11.3 \n",
            " 14.11111111111111\n"
          ]
        }
      ]
    },
    {
      "cell_type": "code",
      "source": [
        "전자전기_취업률,기계공학_취업률,화학공학_취업률,산업공학_취업률,컴퓨터공학_취업률,나머지학과_취업률 = make_waffle_chart(c,기준열='취업률반올림')"
      ],
      "metadata": {
        "id": "Ja4IeGo8wuLy",
        "colab": {
          "base_uri": "https://localhost:8080/",
          "height": 576
        },
        "outputId": "23b370b8-aade-4487-d3cd-134440d6eb58"
      },
      "execution_count": 410,
      "outputs": [
        {
          "output_type": "display_data",
          "data": {
            "image/png": "[encoded data removed]",
            "text/plain": [
              "<Waffle size 1080x576 with 1 Axes>"
            ]
          },
          "metadata": {}
        }
      ]
    },
    {
      "cell_type": "code",
      "source": [
        "print('전자전기 : {0}\\n 기계공학 : {1}\\n 화학공학 : {2}\\n 산업공학 : {3}\\n 컴퓨터공학 : {4}\\n 기타공대 : {5}'.format(전자전기_취업률,기계공학_취업률,화학공학_취업률,산업공학_취업률,컴퓨터공학_취업률,나머지학과_취업률))"
      ],
      "metadata": {
        "colab": {
          "base_uri": "https://localhost:8080/"
        },
        "outputId": "a551812c-c0a3-4f77-de75-b644b268b349",
        "id": "VnR3Okkew_8f"
      },
      "execution_count": 409,
      "outputs": [
        {
          "output_type": "stream",
          "name": "stdout",
          "text": [
            "전자전기 : {'학과포함수': 12, '취업자수': [2, 3, 1, 4, 11, 11, 14, 15, 105, 44, 75, 3], '취업률(반올림)': [100, 100, 100, 100, 100, 100, 88, 88, 87, 85, 85, 85], '취업순위점수': [1.1813812850316228, 1.231781406273601, 1.1258117507317222, 1.2939959937083543, 1.8509792690784954, 1.8509792690784954, 1.7639940188435461, 1.859570938407716, 6.688309829694948, 4.302139577041414, 5.416707158873588, 1.02721186775247]}\n",
            " 기계공학 : {'학과포함수': 9, '취업자수': [2, 13, 1, 18, 12, 19, 9, 118, 26], '취업률(반올림)': [100, 100, 100, 95, 93, 91, 90, 88, 84], '취업순위점수': [1.1813812850316228, 2.118261518373438, 1.1258117507317222, 2.398523489932886, 1.6699173762705528, 2.425139709404439, 1.3682882939694023, 7.510860562004723, 2.6702384353367763]}\n",
            " 화학공학 : {'학과포함수': 6, '취업자수': [2, 0, 1, 4, 47, 36], '취업률(반올림)': [100, 100, 100, 89, 87, 87], '취업순위점수': [1.1813812850316228, 1.0510058185850466, 1.1258117507317222, 1.1203723596021549, 4.970392610833409, 3.9805932108997757]}\n",
            " 산업공학 : {'학과포함수': 11, '취업자수': [6, 11, 18, 22, 1, 1, 23, 9, 11, 7, 5], '취업률(반올림)': [100, 100, 100, 100, 100, 100, 87, 87, 86, 86, 85], '취업순위점수': [1.399528918528245, 1.8509792690784954, 3.0432153957508414, 3.9914592524217944, 1.1258117507317222, 1.1258117507317222, 2.68302118432616, 1.3248679048609704, 1.4493695421651107, 1.202224590210972, 1.1012143253964297]}\n",
            " 컴퓨터공학 : {'학과포함수': 7, '취업자수': [3, 0, 13, 4, 23, 30, 40], '취업률(반올림)': [100, 100, 94, 91, 87, 85, 84], '취업순위점수': [1.231781406273601, 1.0510058185850466, 1.7749296655204752, 1.1375433918881979, 2.68302118432616, 3.148078004243754, 3.6731700533854093]}\n",
            " 기타공대 : {'학과포함수': 55, '취업자수': [1, 4, 2, 2, 3, 3, 15, 4, 14, 4, 6, 9, 2, 1, 0, 0, 25, 1, 1, 12, 1, 1, 1, 1, 1, 1, 26, 18, 13, 23, 12, 18, 10, 19, 10, 6, 4, 20, 23, 1, 12, 6, 4, 33, 67, 17, 26, 9, 13, 42, 15, 18, 13, 50, 3], '취업률(반올림)': [100, 100, 100, 100, 100, 100, 100, 100, 100, 100, 100, 100, 100, 100, 100, 100, 100, 100, 100, 100, 100, 100, 100, 100, 100, 100, 97, 96, 94, 93, 93, 92, 92, 91, 91, 91, 90, 90, 89, 89, 88, 88, 88, 88, 87, 86, 86, 86, 85, 85, 85, 85, 84, 83, 83], '취업순위점수': [1.1258117507317222, 1.2939959937083543, 1.1813812850316228, 1.1813812850316228, 1.231781406273601, 1.231781406273601, 2.4359767527179637, 1.2939959937083543, 2.274537405351778, 1.2939959937083543, 1.399528918528245, 1.6245088405361143, 1.1813812850316228, 1.1258117507317222, 1.0510058185850466, 1.0510058185850466, 4.777751127503214, 1.1258117507317222, 1.1258117507317222, 1.9820794435590556, 1.1258117507317222, 1.1258117507317222, 1.1258117507317222, 1.1258117507317222, 1.1258117507317222, 1.1258117507317222, 3.607594673633894, 2.407166672279662, 1.7749296655204752, 3.050603546968206, 1.6699173762705528, 2.331550104384134, 1.4762601325739169, 2.425139709404439, 1.4633245179222607, 1.2183034478886345, 1.126038147098563, 2.5145210355317342, 2.83083159574592, 0.9920551785849875, 1.582864154944806, 1.1879706305055582, 1.111055029177845, 3.8280018398220665, 5.868365385544147, 1.9835807860262007, 2.914931234421892, 1.306726172872698, 1.5778796720855912, 4.117127648400202, 1.747672463513807, 2.0396655537482524, 1.530870854677811, 4.139908077149778, 1.0025453648370017]}\n"
          ]
        }
      ]
    },
    {
      "cell_type": "code",
      "source": [
        "import numpy as np\n",
        "\n",
        "print(\n",
        "np.mean(전자전기_취업률['취업률(반올림)']),'\\n',\n",
        "np.mean(기계공학_취업률['취업률(반올림)']),'\\n',\n",
        "np.mean(화학공학_취업률['취업률(반올림)']),'\\n',\n",
        "np.mean(산업공학_취업률['취업률(반올림)']),'\\n',\n",
        "np.mean(컴퓨터공학_취업률['취업률(반올림)']))\n",
        "print(\n",
        "np.mean(전자전기_취업률['취업자수']),'\\n',\n",
        "np.mean(기계공학_취업률['취업자수']),'\\n',\n",
        "np.mean(화학공학_취업률['취업자수']),'\\n',\n",
        "np.mean(산업공학_취업률['취업자수']),'\\n',\n",
        "np.mean(컴퓨터공학_취업률['취업자수']))"
      ],
      "metadata": {
        "colab": {
          "base_uri": "https://localhost:8080/"
        },
        "id": "QBhIALPmyzln",
        "outputId": "52ee42d0-aa7c-4be2-f858-e733203ea9ee"
      },
      "execution_count": 71,
      "outputs": [
        {
          "output_type": "stream",
          "name": "stdout",
          "text": [
            "91.86666666666666 \n",
            " 93.44444444444444 \n",
            " 93.83333333333333 \n",
            " 93.1 \n",
            " 93.44444444444444\n",
            "27.4 \n",
            " 24.22222222222222 \n",
            " 15.0 \n",
            " 11.3 \n",
            " 14.11111111111111\n"
          ]
        }
      ]
    },
    {
      "cell_type": "markdown",
      "source": [
        "### 대학 타입별 분석 ( 시각화 ) "
      ],
      "metadata": {
        "id": "EFpYkP4bPPyo"
      }
    },
    {
      "cell_type": "code",
      "source": [
        "a[a['설립구분']=='국립']['학교명'].unique()"
      ],
      "metadata": {
        "colab": {
          "base_uri": "https://localhost:8080/"
        },
        "id": "bwOtPnFrPQ2l",
        "outputId": "56ab385f-e51c-4666-aeea-037864acf851"
      },
      "execution_count": null,
      "outputs": [
        {
          "output_type": "execute_result",
          "data": {
            "text/plain": [
              "array(['공주대학교', '서울과학기술대학교(산업대)', '부산대학교', '전북대학교', '한밭대학교', '전남대학교',\n",
              "       '서울과학기술대학교', '금오공과대학교', '한밭대학교(산업대)', '전남대학교 _제2캠퍼스'], dtype=object)"
            ]
          },
          "metadata": {},
          "execution_count": 29
        }
      ]
    },
    {
      "cell_type": "code",
      "source": [
        "a[a['설립구분']=='사립']['학교명'].unique()"
      ],
      "metadata": {
        "colab": {
          "base_uri": "https://localhost:8080/"
        },
        "id": "jqcpjtMCPQ5Q",
        "outputId": "07f004ea-c099-40e0-96bc-c3386cf48a5d"
      },
      "execution_count": null,
      "outputs": [
        {
          "output_type": "execute_result",
          "data": {
            "text/plain": [
              "array(['한국기술교육대학교', '한양대학교', '연세대학교', '고려대학교', '고려대학교(세종) _분교',\n",
              "       '한양대학교(ERICA) _분교', '연세대학교(미래) _분교', '홍익대학교', '순천향대학교', '울산대학교',\n",
              "       '남서울대학교(산업대)', '명지대학교', '홍익대학교 _제2캠퍼스', '조선대학교', '한남대학교', '전주대학교',\n",
              "       '포항공과대학교', '남서울대학교'], dtype=object)"
            ]
          },
          "metadata": {},
          "execution_count": 30
        }
      ]
    },
    {
      "cell_type": "markdown",
      "source": [
        "> 국립 vs 사립 "
      ],
      "metadata": {
        "id": "5RtXXLEPPcJe"
      }
    },
    {
      "cell_type": "code",
      "source": [
        "사립_2018 = a[a['설립구분']=='사립']\n",
        "사립_2019 = b[b['설립구분']=='사립']\n",
        "사립_2020 = c[c['설립구분']=='사립']\n",
        "\n",
        "국립_2018 = a[a['설립구분']=='국립']\n",
        "국립_2019 = b[b['설립구분']=='국립']\n",
        "국립_2020 = c[c['설립구분']=='국립']"
      ],
      "metadata": {
        "id": "HLn66o6_PQ7S"
      },
      "execution_count": 72,
      "outputs": []
    },
    {
      "cell_type": "code",
      "source": [
        "print(사립_2018.학교명.unique()) # 사립학교 명단 \n",
        "print('\\n')\n",
        "print(국립_2018.학교명.unique()) # 국립학교 명단 "
      ],
      "metadata": {
        "colab": {
          "base_uri": "https://localhost:8080/"
        },
        "id": "eTMInMrpEsJ3",
        "outputId": "b6b8cb29-ca99-4038-980c-b6455fa1b189"
      },
      "execution_count": 90,
      "outputs": [
        {
          "output_type": "stream",
          "name": "stdout",
          "text": [
            "['한국기술교육대학교' '한양대학교' '연세대학교' '고려대학교' '고려대학교(세종) _분교' '한양대학교(ERICA) _분교'\n",
            " '연세대학교(미래) _분교' '홍익대학교' '순천향대학교' '울산대학교' '남서울대학교(산업대)' '명지대학교'\n",
            " '홍익대학교 _제2캠퍼스' '조선대학교' '한남대학교' '전주대학교' '포항공과대학교' '남서울대학교']\n",
            "\n",
            "\n",
            "['공주대학교' '서울과학기술대학교(산업대)' '부산대학교' '전북대학교' '한밭대학교' '전남대학교' '서울과학기술대학교'\n",
            " '금오공과대학교' '한밭대학교(산업대)' '전남대학교 _제2캠퍼스']\n"
          ]
        }
      ]
    },
    {
      "cell_type": "code",
      "source": [
        "def f(i):\n",
        "  if ('산업' in i) or ('품질' in i):\n",
        "    return '산업공학과'\n",
        "  elif '기계' in i:\n",
        "    return '기계공학과'\n",
        "  elif '화학' in i:\n",
        "    return '화학공학과'\n",
        "  elif '컴퓨터' in i:\n",
        "    return '컴퓨터공학과'\n",
        "  elif ('전자' in i) or ('전기' in i):\n",
        "    return '전자전기공학과'\n",
        "  elif ('건축' in i) or ('건설' in i):\n",
        "    return '건축공학과'\n",
        "  elif ('신소재' in i)or('재료' in i)or('세라믹' in i):\n",
        "    return '신소재공학과'\n",
        "  elif ('생명' in i) or ('바이오' in i):\n",
        "    return '생명공학과'\n",
        "  elif '환경' in i:\n",
        "    return '환경공학과'\n",
        "  else:\n",
        "    return i"
      ],
      "metadata": {
        "id": "CcRsTpF1hrPJ"
      },
      "execution_count": 165,
      "outputs": []
    },
    {
      "cell_type": "code",
      "source": [
        "import seaborn as sns"
      ],
      "metadata": {
        "id": "aOoEKt_9y0LV"
      },
      "execution_count": 231,
      "outputs": []
    },
    {
      "cell_type": "code",
      "source": [
        "a_copy.groupby('전공구분')['취업자(B)'].mean().index"
      ],
      "metadata": {
        "colab": {
          "base_uri": "https://localhost:8080/"
        },
        "id": "wIVPnwQs2vYw",
        "outputId": "4bc4be2d-347c-4b31-86de-fa46292fc7ee"
      },
      "execution_count": 248,
      "outputs": [
        {
          "output_type": "execute_result",
          "data": {
            "text/plain": [
              "Index(['Bio융합전공', 'GIS공학과', 'IT응용공학과', 'IT응용시스템공학과', 'IT정보공학과',\n",
              "       'IT정보공학부(소프트웨어공학전공)', '건축공학과', '게임디자인학과', '게임학과', '게임학부 게임소프트웨어전공(공학계)',\n",
              "       ...\n",
              "       '컴퓨터공학과', '탄소융합공학과', '토목공학과', '토목공학전공', '항공우주공학과', '항공우주공학전공',\n",
              "       '해양토목공학과', '헬스케어정보전공', '화학공학과', '환경공학과'],\n",
              "      dtype='object', name='전공구분', length=135)"
            ]
          },
          "metadata": {},
          "execution_count": 248
        }
      ]
    },
    {
      "cell_type": "code",
      "source": [
        "def f2(i):\n",
        "  if ('산업' in i) or ('품질' in i):\n",
        "    return '산업공학과'\n",
        "  elif '기계' in i:\n",
        "    return '기계공학과'\n",
        "  elif '화학' in i:\n",
        "    return '화학공학과'\n",
        "  elif '컴퓨터' in i:\n",
        "    return '컴퓨터공학과'\n",
        "  elif ('전자' in i) or ('전기' in i):\n",
        "    return '전자전기공학과'\n",
        "  elif ('건축' in i) or ('건설' in i):\n",
        "    return '건축공학과'\n",
        "  elif ('신소재' in i)or('재료' in i)or('세라믹' in i):\n",
        "    return '신소재공학과'\n",
        "  elif ('생명' in i) or ('바이오' in i):\n",
        "    return '생명공학과'\n",
        "  elif '환경' in i:\n",
        "    return '환경공학과'\n",
        "  else:\n",
        "    return '기타'"
      ],
      "metadata": {
        "id": "Kt_coWKU3Av0"
      },
      "execution_count": 295,
      "outputs": []
    },
    {
      "cell_type": "code",
      "source": [
        "def f3(i):\n",
        "  if ('산업' in i) or ('품질' in i):\n",
        "    return '산업공학과'\n",
        "  elif '기계' in i:\n",
        "    return '기계공학과'\n",
        "  elif '화학' in i:\n",
        "    return '화학공학과'\n",
        "  elif '컴퓨터' in i:\n",
        "    return '컴퓨터공학과'\n",
        "  elif ('전자' in i) or ('전기' in i):\n",
        "    return '전자전기공학과'\n",
        "  else:\n",
        "    return '기타'"
      ],
      "metadata": {
        "id": "YE4M77MX4wto"
      },
      "execution_count": 369,
      "outputs": []
    },
    {
      "cell_type": "code",
      "source": [
        "a_copy = a.copy()\n",
        "a_copy['전공구분'] = a_copy['학과(전공)'].apply(lambda x: f2(x))\n",
        "\n",
        "df1 = pd.DataFrame(a_copy.groupby(['전공구분','설립구분'])['취업자(B)'].mean().values.astype(int))\n",
        "df2 = pd.DataFrame(a_copy.groupby(['전공구분','설립구분'])['취업률반올림'].mean().values)\n",
        "df3 = pd.DataFrame(a_copy.groupby(['전공구분','설립구분'])['유취_계평균'].mean().values)\n",
        "idx1 = pd.DataFrame(a_copy.groupby(['전공구분','설립구분'])['취업자(B)'].mean().index.get_level_values(0)) # 전공구분\n",
        "idx2 = pd.DataFrame(a_copy.groupby(['전공구분','설립구분'])['취업자(B)'].mean().index.get_level_values(1)) # 설립구분\n",
        "\n",
        "a_copy = pd.concat([df1,df2,df3,idx1,idx2],axis=1,ignore_index=True)\n",
        "a_copy.rename(columns={0:'취업자(B)',1:'취업률반올림',2:'유취_계평균',3:'전공구분',4:'설립구분'},inplace=True)\n",
        "a_copy.head()"
      ],
      "metadata": {
        "colab": {
          "base_uri": "https://localhost:8080/",
          "height": 206
        },
        "id": "D5lwETmzzSQR",
        "outputId": "13004c28-8dc8-4d31-8078-f5f958c8d671"
      },
      "execution_count": 414,
      "outputs": [
        {
          "output_type": "execute_result",
          "data": {
            "text/html": [
              "\n",
              "  <div id=\"df-81c40869-f3f5-4da3-92c6-f7c8d0edef5a\">\n",
              "    <div class=\"colab-df-container\">\n",
              "      <div>\n",
              "<style scoped>\n",
              "    .dataframe tbody tr th:only-of-type {\n",
              "        vertical-align: middle;\n",
              "    }\n",
              "\n",
              "    .dataframe tbody tr th {\n",
              "        vertical-align: top;\n",
              "    }\n",
              "\n",
              "    .dataframe thead th {\n",
              "        text-align: right;\n",
              "    }\n",
              "</style>\n",
              "<table border=\"1\" class=\"dataframe\">\n",
              "  <thead>\n",
              "    <tr style=\"text-align: right;\">\n",
              "      <th></th>\n",
              "      <th>취업자(B)</th>\n",
              "      <th>취업률반올림</th>\n",
              "      <th>유취_계평균</th>\n",
              "      <th>전공구분</th>\n",
              "      <th>설립구분</th>\n",
              "    </tr>\n",
              "  </thead>\n",
              "  <tbody>\n",
              "    <tr>\n",
              "      <th>0</th>\n",
              "      <td>9</td>\n",
              "      <td>69.950000</td>\n",
              "      <td>82.78500</td>\n",
              "      <td>건축공학과</td>\n",
              "      <td>국립</td>\n",
              "    </tr>\n",
              "    <tr>\n",
              "      <th>1</th>\n",
              "      <td>14</td>\n",
              "      <td>80.375000</td>\n",
              "      <td>80.30625</td>\n",
              "      <td>건축공학과</td>\n",
              "      <td>국립대법인</td>\n",
              "    </tr>\n",
              "    <tr>\n",
              "      <th>2</th>\n",
              "      <td>16</td>\n",
              "      <td>76.261905</td>\n",
              "      <td>87.06369</td>\n",
              "      <td>건축공학과</td>\n",
              "      <td>사립</td>\n",
              "    </tr>\n",
              "    <tr>\n",
              "      <th>3</th>\n",
              "      <td>0</td>\n",
              "      <td>25.000000</td>\n",
              "      <td>0.00000</td>\n",
              "      <td>건축공학과</td>\n",
              "      <td>특별법법인</td>\n",
              "    </tr>\n",
              "    <tr>\n",
              "      <th>4</th>\n",
              "      <td>23</td>\n",
              "      <td>68.466667</td>\n",
              "      <td>81.65000</td>\n",
              "      <td>기계공학과</td>\n",
              "      <td>국립</td>\n",
              "    </tr>\n",
              "  </tbody>\n",
              "</table>\n",
              "</div>\n",
              "      <button class=\"colab-df-convert\" onclick=\"convertToInteractive('df-81c40869-f3f5-4da3-92c6-f7c8d0edef5a')\"\n",
              "              title=\"Convert this dataframe to an interactive table.\"\n",
              "              style=\"display:none;\">\n",
              "        \n",
              "  <svg xmlns=\"http://www.w3.org/2000/svg\" height=\"24px\"viewBox=\"0 0 24 24\"\n",
              "       width=\"24px\">\n",
              "    <path d=\"M0 0h24v24H0V0z\" fill=\"none\"/>\n",
              "    <path d=\"M18.56 5.44l.94 2.06.94-2.06 2.06-.94-2.06-.94-.94-2.06-.94 2.06-2.06.94zm-11 1L8.5 8.5l.94-2.06 2.06-.94-2.06-.94L8.5 2.5l-.94 2.06-2.06.94zm10 10l.94 2.06.94-2.06 2.06-.94-2.06-.94-.94-2.06-.94 2.06-2.06.94z\"/><path d=\"M17.41 7.96l-1.37-1.37c-.4-.4-.92-.59-1.43-.59-.52 0-1.04.2-1.43.59L10.3 9.45l-7.72 7.72c-.78.78-.78 2.05 0 2.83L4 21.41c.39.39.9.59 1.41.59.51 0 1.02-.2 1.41-.59l7.78-7.78 2.81-2.81c.8-.78.8-2.07 0-2.86zM5.41 20L4 18.59l7.72-7.72 1.47 1.35L5.41 20z\"/>\n",
              "  </svg>\n",
              "      </button>\n",
              "      \n",
              "  <style>\n",
              "    .colab-df-container {\n",
              "      display:flex;\n",
              "      flex-wrap:wrap;\n",
              "      gap: 12px;\n",
              "    }\n",
              "\n",
              "    .colab-df-convert {\n",
              "      background-color: #E8F0FE;\n",
              "      border: none;\n",
              "      border-radius: 50%;\n",
              "      cursor: pointer;\n",
              "      display: none;\n",
              "      fill: #1967D2;\n",
              "      height: 32px;\n",
              "      padding: 0 0 0 0;\n",
              "      width: 32px;\n",
              "    }\n",
              "\n",
              "    .colab-df-convert:hover {\n",
              "      background-color: #E2EBFA;\n",
              "      box-shadow: 0px 1px 2px rgba(60, 64, 67, 0.3), 0px 1px 3px 1px rgba(60, 64, 67, 0.15);\n",
              "      fill: #174EA6;\n",
              "    }\n",
              "\n",
              "    [theme=dark] .colab-df-convert {\n",
              "      background-color: #3B4455;\n",
              "      fill: #D2E3FC;\n",
              "    }\n",
              "\n",
              "    [theme=dark] .colab-df-convert:hover {\n",
              "      background-color: #434B5C;\n",
              "      box-shadow: 0px 1px 3px 1px rgba(0, 0, 0, 0.15);\n",
              "      filter: drop-shadow(0px 1px 2px rgba(0, 0, 0, 0.3));\n",
              "      fill: #FFFFFF;\n",
              "    }\n",
              "  </style>\n",
              "\n",
              "      <script>\n",
              "        const buttonEl =\n",
              "          document.querySelector('#df-81c40869-f3f5-4da3-92c6-f7c8d0edef5a button.colab-df-convert');\n",
              "        buttonEl.style.display =\n",
              "          google.colab.kernel.accessAllowed ? 'block' : 'none';\n",
              "\n",
              "        async function convertToInteractive(key) {\n",
              "          const element = document.querySelector('#df-81c40869-f3f5-4da3-92c6-f7c8d0edef5a');\n",
              "          const dataTable =\n",
              "            await google.colab.kernel.invokeFunction('convertToInteractive',\n",
              "                                                     [key], {});\n",
              "          if (!dataTable) return;\n",
              "\n",
              "          const docLinkHtml = 'Like what you see? Visit the ' +\n",
              "            '<a target=\"_blank\" href=https://colab.research.google.com/notebooks/data_table.ipynb>data table notebook</a>'\n",
              "            + ' to learn more about interactive tables.';\n",
              "          element.innerHTML = '';\n",
              "          dataTable['output_type'] = 'display_data';\n",
              "          await google.colab.output.renderOutput(dataTable, element);\n",
              "          const docLink = document.createElement('div');\n",
              "          docLink.innerHTML = docLinkHtml;\n",
              "          element.appendChild(docLink);\n",
              "        }\n",
              "      </script>\n",
              "    </div>\n",
              "  </div>\n",
              "  "
            ],
            "text/plain": [
              "   취업자(B)     취업률반올림    유취_계평균   전공구분   설립구분\n",
              "0       9  69.950000  82.78500  건축공학과     국립\n",
              "1      14  80.375000  80.30625  건축공학과  국립대법인\n",
              "2      16  76.261905  87.06369  건축공학과     사립\n",
              "3       0  25.000000   0.00000  건축공학과  특별법법인\n",
              "4      23  68.466667  81.65000  기계공학과     국립"
            ]
          },
          "metadata": {},
          "execution_count": 414
        }
      ]
    },
    {
      "cell_type": "code",
      "source": [
        "ax = sns.relplot(x=\"유취_계평균\", y=\"취업률반올림\", hue='전공구분',\n",
        "            style ='설립구분', size='취업자(B)', data=a_copy,\n",
        "            sizes=(35, 120), col='설립구분')\n",
        "ax.set_axis_labels(\"평균 유지취업률\", \"평균 취업률\")\n",
        "plt.savefig('대학 유형별 공대 취업률 지표.png')"
      ],
      "metadata": {
        "colab": {
          "base_uri": "https://localhost:8080/",
          "height": 475
        },
        "id": "pMKJxGzjyqLt",
        "outputId": "c4d74547-b2af-444a-e228-07d3e5bb6b9f"
      },
      "execution_count": 424,
      "outputs": [
        {
          "output_type": "display_data",
          "data": {
            "text/plain": [
              "<Figure size 1440x864 with 0 Axes>"
            ]
          },
          "metadata": {}
        },
        {
          "output_type": "display_data",
          "data": {
            "image/png": "[encoded data removed]",
            "text/plain": [
              "<Figure size 1554.85x360 with 4 Axes>"
            ]
          },
          "metadata": {}
        }
      ]
    },
    {
      "cell_type": "code",
      "source": [
        "a_copy = a.copy()\n",
        "a_copy['전공구분'] = a_copy['학과(전공)'].apply(lambda x: f3(x))\n",
        "\n",
        "df1 = pd.DataFrame(a_copy.groupby(['전공구분','설립구분'])['취업자(B)'].mean().values.astype(int))\n",
        "df2 = pd.DataFrame(a_copy.groupby(['전공구분','설립구분'])['취업률반올림'].mean().values)\n",
        "df3 = pd.DataFrame(a_copy.groupby(['전공구분','설립구분'])['유취_계평균'].mean().values)\n",
        "idx1 = pd.DataFrame(a_copy.groupby(['전공구분','설립구분'])['취업자(B)'].mean().index.get_level_values(0)) # 전공구분\n",
        "idx2 = pd.DataFrame(a_copy.groupby(['전공구분','설립구분'])['취업자(B)'].mean().index.get_level_values(1)) # 설립구분\n",
        "\n",
        "a_copy = pd.concat([df1,df2,df3,idx1,idx2],axis=1,ignore_index=True)\n",
        "a_copy.rename(columns={0:'취업자(B)',1:'취업률반올림',2:'유취_계평균',3:'전공구분',4:'설립구분'},inplace=True)\n",
        "\n",
        "ax = sns.relplot(x=\"유취_계평균\", y=\"취업률반올림\", hue='전공구분',\n",
        "            style ='설립구분', size='취업자(B)', data=a_copy,\n",
        "            sizes=(35, 120), col='설립구분')\n",
        "ax.set_axis_labels(\"평균 유지취업률\", \"평균 취업률\")\n",
        "plt.savefig('대학 유형별 공대 취업률 지표(주요학과).png')"
      ],
      "metadata": {
        "colab": {
          "base_uri": "https://localhost:8080/",
          "height": 384
        },
        "id": "t78ut36788rn",
        "outputId": "558ec1b3-efc1-40f9-87eb-e603910487a3"
      },
      "execution_count": 425,
      "outputs": [
        {
          "output_type": "display_data",
          "data": {
            "image/png": "[encoded data removed]",
            "text/plain": [
              "<Figure size 1554.85x360 with 4 Axes>"
            ]
          },
          "metadata": {}
        }
      ]
    },
    {
      "cell_type": "code",
      "source": [
        "사립_2018_copy = 사립_2018[사립_2018['취업자(B)']>=10].copy() \n",
        "사립_2018_copy['학과구분'] = 사립_2018_copy['학과(전공)'].apply(lambda x: f(x))\n",
        "ratio = 사립_2018_copy['학과구분'].value_counts().values\n",
        "labels = 사립_2018_copy['학과구분'].value_counts().index\n",
        "\n",
        "plt.figure(figsize=(18,25))\n",
        "plt.pie(ratio, labels=labels, autopct='%.1f%%')\n",
        "plt.show()\n",
        "#plt.savefig('2018 사립대 점유율({1} 기준).png'.format(df['기준연도'][0]+1,기준열))"
      ],
      "metadata": {
        "colab": {
          "base_uri": "https://localhost:8080/",
          "height": 1000
        },
        "id": "Gx5SizX2izpx",
        "outputId": "e98d768a-f223-4274-fac7-92edb80e80e7"
      },
      "execution_count": 174,
      "outputs": [
        {
          "output_type": "display_data",
          "data": {
            "image/png": "[encoded data removed]",
            "text/plain": [
              "<Figure size 1296x1800 with 1 Axes>"
            ]
          },
          "metadata": {}
        }
      ]
    },
    {
      "cell_type": "code",
      "source": [
        "사립_2018_copy.sort_values(by=['취업률반올림','유취_계평균'],ascending=False)"
      ],
      "metadata": {
        "colab": {
          "base_uri": "https://localhost:8080/",
          "height": 1000
        },
        "id": "FL2yLlOAwydz",
        "outputId": "da139c1e-5df0-455f-f6e9-9caf6ac4f577"
      },
      "execution_count": 179,
      "outputs": [
        {
          "output_type": "execute_result",
          "data": {
            "text/html": [
              "\n",
              "  <div id=\"df-e790ffa0-23a0-4e8a-9ec8-b1f5d64c0a4b\">\n",
              "    <div class=\"colab-df-container\">\n",
              "      <div>\n",
              "<style scoped>\n",
              "    .dataframe tbody tr th:only-of-type {\n",
              "        vertical-align: middle;\n",
              "    }\n",
              "\n",
              "    .dataframe tbody tr th {\n",
              "        vertical-align: top;\n",
              "    }\n",
              "\n",
              "    .dataframe thead th {\n",
              "        text-align: right;\n",
              "    }\n",
              "</style>\n",
              "<table border=\"1\" class=\"dataframe\">\n",
              "  <thead>\n",
              "    <tr style=\"text-align: right;\">\n",
              "      <th></th>\n",
              "      <th>기준연도</th>\n",
              "      <th>학교종류</th>\n",
              "      <th>설립구분</th>\n",
              "      <th>지역</th>\n",
              "      <th>상태</th>\n",
              "      <th>학교명</th>\n",
              "      <th>단과대학</th>\n",
              "      <th>학과(전공)</th>\n",
              "      <th>구분</th>\n",
              "      <th>학과특성</th>\n",
              "      <th>졸업자(A)</th>\n",
              "      <th>a</th>\n",
              "      <th>취업자(B)</th>\n",
              "      <th>b</th>\n",
              "      <th>c</th>\n",
              "      <th>d</th>\n",
              "      <th>e</th>\n",
              "      <th>f</th>\n",
              "      <th>g</th>\n",
              "      <th>h</th>\n",
              "      <th>i</th>\n",
              "      <th>j</th>\n",
              "      <th>k</th>\n",
              "      <th>l</th>\n",
              "      <th>진학자(C)</th>\n",
              "      <th>m</th>\n",
              "      <th>입대자(D)</th>\n",
              "      <th>취업불가능자(E)</th>\n",
              "      <th>n</th>\n",
              "      <th>외국인유학생(F)</th>\n",
              "      <th>o</th>\n",
              "      <th>건강보험\\n직장가입\\n제외대상\\n(G)</th>\n",
              "      <th>p</th>\n",
              "      <th>기타</th>\n",
              "      <th>q</th>\n",
              "      <th>미상</th>\n",
              "      <th>r</th>\n",
              "      <th>취업률(%)\\n[B/{A-(C+D+E+F+G)x100</th>\n",
              "      <th>입학\\n당시\\n기취업자</th>\n",
              "      <th>s</th>\n",
              "      <th>교내\\n취업</th>\n",
              "      <th>t</th>\n",
              "      <th>유지\\n취업률\\n(수시)</th>\n",
              "      <th>u</th>\n",
              "      <th>v</th>\n",
              "      <th>w</th>\n",
              "      <th>x</th>\n",
              "      <th>y</th>\n",
              "      <th>z</th>\n",
              "      <th>1</th>\n",
              "      <th>2</th>\n",
              "      <th>3</th>\n",
              "      <th>4</th>\n",
              "      <th>5</th>\n",
              "      <th>유취_계평균</th>\n",
              "      <th>유취_남평균</th>\n",
              "      <th>유취_여평균</th>\n",
              "      <th>취업률순위</th>\n",
              "      <th>취업자수순위</th>\n",
              "      <th>취업률반올림</th>\n",
              "      <th>취업순위점수</th>\n",
              "      <th>학과구분</th>\n",
              "    </tr>\n",
              "  </thead>\n",
              "  <tbody>\n",
              "    <tr>\n",
              "      <th>43</th>\n",
              "      <td>2017</td>\n",
              "      <td>대학교</td>\n",
              "      <td>사립</td>\n",
              "      <td>울산</td>\n",
              "      <td>기존</td>\n",
              "      <td>울산대학교</td>\n",
              "      <td>디자인ㆍ건축융합대학</td>\n",
              "      <td>건축학전공</td>\n",
              "      <td>주간</td>\n",
              "      <td>일반과정</td>\n",
              "      <td>18</td>\n",
              "      <td>12</td>\n",
              "      <td>16</td>\n",
              "      <td>11</td>\n",
              "      <td>0</td>\n",
              "      <td>0</td>\n",
              "      <td>0</td>\n",
              "      <td>0</td>\n",
              "      <td>0</td>\n",
              "      <td>0</td>\n",
              "      <td>0</td>\n",
              "      <td>0</td>\n",
              "      <td>1</td>\n",
              "      <td>0</td>\n",
              "      <td>1</td>\n",
              "      <td>1</td>\n",
              "      <td>0</td>\n",
              "      <td>0</td>\n",
              "      <td>0</td>\n",
              "      <td>0</td>\n",
              "      <td>0</td>\n",
              "      <td>0</td>\n",
              "      <td>0</td>\n",
              "      <td>0</td>\n",
              "      <td>0</td>\n",
              "      <td>0</td>\n",
              "      <td>0</td>\n",
              "      <td>100.0</td>\n",
              "      <td>0</td>\n",
              "      <td>0</td>\n",
              "      <td>0</td>\n",
              "      <td>0</td>\n",
              "      <td>96.3</td>\n",
              "      <td>93.8</td>\n",
              "      <td>100.0</td>\n",
              "      <td>96.3</td>\n",
              "      <td>93.8</td>\n",
              "      <td>100.0</td>\n",
              "      <td>92.6</td>\n",
              "      <td>93.8</td>\n",
              "      <td>90.9</td>\n",
              "      <td>92.6</td>\n",
              "      <td>93.8</td>\n",
              "      <td>90.9</td>\n",
              "      <td>94.450</td>\n",
              "      <td>93.800000</td>\n",
              "      <td>95.450</td>\n",
              "      <td>1</td>\n",
              "      <td>737</td>\n",
              "      <td>100</td>\n",
              "      <td>2.458003</td>\n",
              "      <td>건축공학과</td>\n",
              "    </tr>\n",
              "    <tr>\n",
              "      <th>107</th>\n",
              "      <td>2017</td>\n",
              "      <td>대학교</td>\n",
              "      <td>사립</td>\n",
              "      <td>강원</td>\n",
              "      <td>기존</td>\n",
              "      <td>연세대학교(미래) _분교</td>\n",
              "      <td>과학기술대학</td>\n",
              "      <td>산업공학전공</td>\n",
              "      <td>주간</td>\n",
              "      <td>계약학과</td>\n",
              "      <td>10</td>\n",
              "      <td>14</td>\n",
              "      <td>10</td>\n",
              "      <td>14</td>\n",
              "      <td>0</td>\n",
              "      <td>0</td>\n",
              "      <td>0</td>\n",
              "      <td>0</td>\n",
              "      <td>0</td>\n",
              "      <td>0</td>\n",
              "      <td>0</td>\n",
              "      <td>0</td>\n",
              "      <td>0</td>\n",
              "      <td>0</td>\n",
              "      <td>0</td>\n",
              "      <td>0</td>\n",
              "      <td>0</td>\n",
              "      <td>0</td>\n",
              "      <td>0</td>\n",
              "      <td>0</td>\n",
              "      <td>0</td>\n",
              "      <td>0</td>\n",
              "      <td>0</td>\n",
              "      <td>0</td>\n",
              "      <td>0</td>\n",
              "      <td>0</td>\n",
              "      <td>0</td>\n",
              "      <td>100.0</td>\n",
              "      <td>10</td>\n",
              "      <td>14</td>\n",
              "      <td>0</td>\n",
              "      <td>0</td>\n",
              "      <td>95.8</td>\n",
              "      <td>90.0</td>\n",
              "      <td>100.0</td>\n",
              "      <td>91.7</td>\n",
              "      <td>90.0</td>\n",
              "      <td>92.9</td>\n",
              "      <td>91.7</td>\n",
              "      <td>90.0</td>\n",
              "      <td>92.9</td>\n",
              "      <td>91.7</td>\n",
              "      <td>90.0</td>\n",
              "      <td>92.9</td>\n",
              "      <td>92.725</td>\n",
              "      <td>90.000000</td>\n",
              "      <td>94.675</td>\n",
              "      <td>1</td>\n",
              "      <td>1081</td>\n",
              "      <td>100</td>\n",
              "      <td>1.677995</td>\n",
              "      <td>산업공학과</td>\n",
              "    </tr>\n",
              "    <tr>\n",
              "      <th>70</th>\n",
              "      <td>2017</td>\n",
              "      <td>대학교</td>\n",
              "      <td>사립</td>\n",
              "      <td>충남</td>\n",
              "      <td>기존</td>\n",
              "      <td>순천향대학교</td>\n",
              "      <td>산학평생대학</td>\n",
              "      <td>신뢰성품질공학과</td>\n",
              "      <td>주간</td>\n",
              "      <td>계약학과</td>\n",
              "      <td>14</td>\n",
              "      <td>0</td>\n",
              "      <td>13</td>\n",
              "      <td>0</td>\n",
              "      <td>0</td>\n",
              "      <td>0</td>\n",
              "      <td>0</td>\n",
              "      <td>0</td>\n",
              "      <td>0</td>\n",
              "      <td>0</td>\n",
              "      <td>1</td>\n",
              "      <td>0</td>\n",
              "      <td>0</td>\n",
              "      <td>0</td>\n",
              "      <td>0</td>\n",
              "      <td>0</td>\n",
              "      <td>0</td>\n",
              "      <td>0</td>\n",
              "      <td>0</td>\n",
              "      <td>0</td>\n",
              "      <td>0</td>\n",
              "      <td>0</td>\n",
              "      <td>0</td>\n",
              "      <td>0</td>\n",
              "      <td>0</td>\n",
              "      <td>0</td>\n",
              "      <td>0</td>\n",
              "      <td>100.0</td>\n",
              "      <td>13</td>\n",
              "      <td>0</td>\n",
              "      <td>0</td>\n",
              "      <td>0</td>\n",
              "      <td>100.0</td>\n",
              "      <td>100.0</td>\n",
              "      <td>0.0</td>\n",
              "      <td>84.6</td>\n",
              "      <td>84.6</td>\n",
              "      <td>0.0</td>\n",
              "      <td>76.9</td>\n",
              "      <td>76.9</td>\n",
              "      <td>0.0</td>\n",
              "      <td>76.9</td>\n",
              "      <td>76.9</td>\n",
              "      <td>0.0</td>\n",
              "      <td>84.600</td>\n",
              "      <td>84.600000</td>\n",
              "      <td>0.000</td>\n",
              "      <td>1</td>\n",
              "      <td>889</td>\n",
              "      <td>100</td>\n",
              "      <td>2.039165</td>\n",
              "      <td>산업공학과</td>\n",
              "    </tr>\n",
              "    <tr>\n",
              "      <th>27</th>\n",
              "      <td>2017</td>\n",
              "      <td>대학교</td>\n",
              "      <td>사립</td>\n",
              "      <td>서울</td>\n",
              "      <td>기존</td>\n",
              "      <td>한양대학교</td>\n",
              "      <td>공과대학</td>\n",
              "      <td>정보시스템학과</td>\n",
              "      <td>주간</td>\n",
              "      <td>일반과정</td>\n",
              "      <td>32</td>\n",
              "      <td>18</td>\n",
              "      <td>23</td>\n",
              "      <td>13</td>\n",
              "      <td>0</td>\n",
              "      <td>0</td>\n",
              "      <td>0</td>\n",
              "      <td>0</td>\n",
              "      <td>0</td>\n",
              "      <td>0</td>\n",
              "      <td>0</td>\n",
              "      <td>0</td>\n",
              "      <td>0</td>\n",
              "      <td>3</td>\n",
              "      <td>3</td>\n",
              "      <td>2</td>\n",
              "      <td>0</td>\n",
              "      <td>0</td>\n",
              "      <td>0</td>\n",
              "      <td>5</td>\n",
              "      <td>0</td>\n",
              "      <td>0</td>\n",
              "      <td>0</td>\n",
              "      <td>1</td>\n",
              "      <td>0</td>\n",
              "      <td>0</td>\n",
              "      <td>0</td>\n",
              "      <td>97.5</td>\n",
              "      <td>0</td>\n",
              "      <td>0</td>\n",
              "      <td>0</td>\n",
              "      <td>0</td>\n",
              "      <td>100.0</td>\n",
              "      <td>100.0</td>\n",
              "      <td>100.0</td>\n",
              "      <td>100.0</td>\n",
              "      <td>100.0</td>\n",
              "      <td>100.0</td>\n",
              "      <td>97.2</td>\n",
              "      <td>100.0</td>\n",
              "      <td>92.3</td>\n",
              "      <td>97.2</td>\n",
              "      <td>100.0</td>\n",
              "      <td>92.3</td>\n",
              "      <td>98.600</td>\n",
              "      <td>100.000000</td>\n",
              "      <td>96.150</td>\n",
              "      <td>61</td>\n",
              "      <td>443</td>\n",
              "      <td>98</td>\n",
              "      <td>2.896812</td>\n",
              "      <td>정보시스템학과</td>\n",
              "    </tr>\n",
              "    <tr>\n",
              "      <th>6</th>\n",
              "      <td>2017</td>\n",
              "      <td>대학교</td>\n",
              "      <td>사립</td>\n",
              "      <td>충남</td>\n",
              "      <td>기존</td>\n",
              "      <td>한국기술교육대학교</td>\n",
              "      <td>일학습병행대학</td>\n",
              "      <td>메카IT융합공학과</td>\n",
              "      <td>주간</td>\n",
              "      <td>계약학과</td>\n",
              "      <td>38</td>\n",
              "      <td>0</td>\n",
              "      <td>37</td>\n",
              "      <td>0</td>\n",
              "      <td>0</td>\n",
              "      <td>0</td>\n",
              "      <td>0</td>\n",
              "      <td>0</td>\n",
              "      <td>0</td>\n",
              "      <td>0</td>\n",
              "      <td>0</td>\n",
              "      <td>0</td>\n",
              "      <td>0</td>\n",
              "      <td>0</td>\n",
              "      <td>0</td>\n",
              "      <td>0</td>\n",
              "      <td>0</td>\n",
              "      <td>0</td>\n",
              "      <td>0</td>\n",
              "      <td>0</td>\n",
              "      <td>0</td>\n",
              "      <td>0</td>\n",
              "      <td>0</td>\n",
              "      <td>1</td>\n",
              "      <td>0</td>\n",
              "      <td>0</td>\n",
              "      <td>0</td>\n",
              "      <td>97.4</td>\n",
              "      <td>37</td>\n",
              "      <td>0</td>\n",
              "      <td>0</td>\n",
              "      <td>0</td>\n",
              "      <td>100.0</td>\n",
              "      <td>100.0</td>\n",
              "      <td>0.0</td>\n",
              "      <td>100.0</td>\n",
              "      <td>100.0</td>\n",
              "      <td>0.0</td>\n",
              "      <td>97.3</td>\n",
              "      <td>97.3</td>\n",
              "      <td>0.0</td>\n",
              "      <td>97.3</td>\n",
              "      <td>97.3</td>\n",
              "      <td>0.0</td>\n",
              "      <td>98.650</td>\n",
              "      <td>98.200000</td>\n",
              "      <td>0.000</td>\n",
              "      <td>62</td>\n",
              "      <td>203</td>\n",
              "      <td>97</td>\n",
              "      <td>4.652610</td>\n",
              "      <td>메카IT융합공학과</td>\n",
              "    </tr>\n",
              "    <tr>\n",
              "      <th>...</th>\n",
              "      <td>...</td>\n",
              "      <td>...</td>\n",
              "      <td>...</td>\n",
              "      <td>...</td>\n",
              "      <td>...</td>\n",
              "      <td>...</td>\n",
              "      <td>...</td>\n",
              "      <td>...</td>\n",
              "      <td>...</td>\n",
              "      <td>...</td>\n",
              "      <td>...</td>\n",
              "      <td>...</td>\n",
              "      <td>...</td>\n",
              "      <td>...</td>\n",
              "      <td>...</td>\n",
              "      <td>...</td>\n",
              "      <td>...</td>\n",
              "      <td>...</td>\n",
              "      <td>...</td>\n",
              "      <td>...</td>\n",
              "      <td>...</td>\n",
              "      <td>...</td>\n",
              "      <td>...</td>\n",
              "      <td>...</td>\n",
              "      <td>...</td>\n",
              "      <td>...</td>\n",
              "      <td>...</td>\n",
              "      <td>...</td>\n",
              "      <td>...</td>\n",
              "      <td>...</td>\n",
              "      <td>...</td>\n",
              "      <td>...</td>\n",
              "      <td>...</td>\n",
              "      <td>...</td>\n",
              "      <td>...</td>\n",
              "      <td>...</td>\n",
              "      <td>...</td>\n",
              "      <td>...</td>\n",
              "      <td>...</td>\n",
              "      <td>...</td>\n",
              "      <td>...</td>\n",
              "      <td>...</td>\n",
              "      <td>...</td>\n",
              "      <td>...</td>\n",
              "      <td>...</td>\n",
              "      <td>...</td>\n",
              "      <td>...</td>\n",
              "      <td>...</td>\n",
              "      <td>...</td>\n",
              "      <td>...</td>\n",
              "      <td>...</td>\n",
              "      <td>...</td>\n",
              "      <td>...</td>\n",
              "      <td>...</td>\n",
              "      <td>...</td>\n",
              "      <td>...</td>\n",
              "      <td>...</td>\n",
              "      <td>...</td>\n",
              "      <td>...</td>\n",
              "      <td>...</td>\n",
              "      <td>...</td>\n",
              "      <td>...</td>\n",
              "    </tr>\n",
              "    <tr>\n",
              "      <th>493</th>\n",
              "      <td>2017</td>\n",
              "      <td>대학교</td>\n",
              "      <td>사립</td>\n",
              "      <td>광주</td>\n",
              "      <td>기존</td>\n",
              "      <td>조선대학교</td>\n",
              "      <td>공과대학</td>\n",
              "      <td>금속재료공학과</td>\n",
              "      <td>주간</td>\n",
              "      <td>일반과정</td>\n",
              "      <td>27</td>\n",
              "      <td>8</td>\n",
              "      <td>11</td>\n",
              "      <td>2</td>\n",
              "      <td>0</td>\n",
              "      <td>0</td>\n",
              "      <td>0</td>\n",
              "      <td>0</td>\n",
              "      <td>0</td>\n",
              "      <td>0</td>\n",
              "      <td>0</td>\n",
              "      <td>0</td>\n",
              "      <td>0</td>\n",
              "      <td>0</td>\n",
              "      <td>5</td>\n",
              "      <td>2</td>\n",
              "      <td>0</td>\n",
              "      <td>0</td>\n",
              "      <td>0</td>\n",
              "      <td>0</td>\n",
              "      <td>0</td>\n",
              "      <td>1</td>\n",
              "      <td>0</td>\n",
              "      <td>7</td>\n",
              "      <td>4</td>\n",
              "      <td>3</td>\n",
              "      <td>0</td>\n",
              "      <td>48.1</td>\n",
              "      <td>0</td>\n",
              "      <td>0</td>\n",
              "      <td>2</td>\n",
              "      <td>0</td>\n",
              "      <td>84.6</td>\n",
              "      <td>90.9</td>\n",
              "      <td>50.0</td>\n",
              "      <td>84.6</td>\n",
              "      <td>90.9</td>\n",
              "      <td>50.0</td>\n",
              "      <td>76.9</td>\n",
              "      <td>81.8</td>\n",
              "      <td>50.0</td>\n",
              "      <td>69.2</td>\n",
              "      <td>72.7</td>\n",
              "      <td>50.0</td>\n",
              "      <td>78.825</td>\n",
              "      <td>81.800000</td>\n",
              "      <td>50.000</td>\n",
              "      <td>546</td>\n",
              "      <td>1019</td>\n",
              "      <td>48</td>\n",
              "      <td>0.680181</td>\n",
              "      <td>신소재공학과</td>\n",
              "    </tr>\n",
              "    <tr>\n",
              "      <th>500</th>\n",
              "      <td>2017</td>\n",
              "      <td>대학교</td>\n",
              "      <td>사립</td>\n",
              "      <td>광주</td>\n",
              "      <td>기존</td>\n",
              "      <td>조선대학교</td>\n",
              "      <td>공과대학</td>\n",
              "      <td>항공우주공학과</td>\n",
              "      <td>주간</td>\n",
              "      <td>일반과정</td>\n",
              "      <td>27</td>\n",
              "      <td>6</td>\n",
              "      <td>11</td>\n",
              "      <td>2</td>\n",
              "      <td>0</td>\n",
              "      <td>0</td>\n",
              "      <td>0</td>\n",
              "      <td>0</td>\n",
              "      <td>0</td>\n",
              "      <td>0</td>\n",
              "      <td>1</td>\n",
              "      <td>0</td>\n",
              "      <td>0</td>\n",
              "      <td>0</td>\n",
              "      <td>3</td>\n",
              "      <td>0</td>\n",
              "      <td>0</td>\n",
              "      <td>0</td>\n",
              "      <td>0</td>\n",
              "      <td>0</td>\n",
              "      <td>0</td>\n",
              "      <td>0</td>\n",
              "      <td>0</td>\n",
              "      <td>8</td>\n",
              "      <td>3</td>\n",
              "      <td>4</td>\n",
              "      <td>1</td>\n",
              "      <td>46.7</td>\n",
              "      <td>0</td>\n",
              "      <td>0</td>\n",
              "      <td>0</td>\n",
              "      <td>0</td>\n",
              "      <td>92.3</td>\n",
              "      <td>90.9</td>\n",
              "      <td>100.0</td>\n",
              "      <td>92.3</td>\n",
              "      <td>90.9</td>\n",
              "      <td>100.0</td>\n",
              "      <td>92.3</td>\n",
              "      <td>90.9</td>\n",
              "      <td>100.0</td>\n",
              "      <td>76.9</td>\n",
              "      <td>72.7</td>\n",
              "      <td>100.0</td>\n",
              "      <td>88.450</td>\n",
              "      <td>84.833333</td>\n",
              "      <td>100.000</td>\n",
              "      <td>549</td>\n",
              "      <td>1019</td>\n",
              "      <td>47</td>\n",
              "      <td>0.677875</td>\n",
              "      <td>항공우주공학과</td>\n",
              "    </tr>\n",
              "    <tr>\n",
              "      <th>425</th>\n",
              "      <td>2017</td>\n",
              "      <td>대학교</td>\n",
              "      <td>사립</td>\n",
              "      <td>강원</td>\n",
              "      <td>기존</td>\n",
              "      <td>연세대학교(미래) _분교</td>\n",
              "      <td>과학기술대학</td>\n",
              "      <td>컴퓨터공학전공</td>\n",
              "      <td>주간</td>\n",
              "      <td>일반과정</td>\n",
              "      <td>47</td>\n",
              "      <td>13</td>\n",
              "      <td>20</td>\n",
              "      <td>4</td>\n",
              "      <td>0</td>\n",
              "      <td>0</td>\n",
              "      <td>0</td>\n",
              "      <td>0</td>\n",
              "      <td>0</td>\n",
              "      <td>0</td>\n",
              "      <td>1</td>\n",
              "      <td>0</td>\n",
              "      <td>1</td>\n",
              "      <td>0</td>\n",
              "      <td>4</td>\n",
              "      <td>0</td>\n",
              "      <td>0</td>\n",
              "      <td>0</td>\n",
              "      <td>0</td>\n",
              "      <td>0</td>\n",
              "      <td>0</td>\n",
              "      <td>1</td>\n",
              "      <td>0</td>\n",
              "      <td>20</td>\n",
              "      <td>9</td>\n",
              "      <td>0</td>\n",
              "      <td>0</td>\n",
              "      <td>47.3</td>\n",
              "      <td>2</td>\n",
              "      <td>0</td>\n",
              "      <td>0</td>\n",
              "      <td>0</td>\n",
              "      <td>100.0</td>\n",
              "      <td>100.0</td>\n",
              "      <td>100.0</td>\n",
              "      <td>91.7</td>\n",
              "      <td>90.0</td>\n",
              "      <td>100.0</td>\n",
              "      <td>79.2</td>\n",
              "      <td>80.0</td>\n",
              "      <td>75.0</td>\n",
              "      <td>79.2</td>\n",
              "      <td>80.0</td>\n",
              "      <td>75.0</td>\n",
              "      <td>87.525</td>\n",
              "      <td>86.666667</td>\n",
              "      <td>87.500</td>\n",
              "      <td>549</td>\n",
              "      <td>549</td>\n",
              "      <td>47</td>\n",
              "      <td>0.821818</td>\n",
              "      <td>컴퓨터공학과</td>\n",
              "    </tr>\n",
              "    <tr>\n",
              "      <th>424</th>\n",
              "      <td>2017</td>\n",
              "      <td>대학교</td>\n",
              "      <td>사립</td>\n",
              "      <td>광주</td>\n",
              "      <td>기존</td>\n",
              "      <td>조선대학교</td>\n",
              "      <td>전자정보공과대학</td>\n",
              "      <td>제어계측로봇공학과</td>\n",
              "      <td>주간</td>\n",
              "      <td>일반과정</td>\n",
              "      <td>60</td>\n",
              "      <td>11</td>\n",
              "      <td>21</td>\n",
              "      <td>5</td>\n",
              "      <td>0</td>\n",
              "      <td>0</td>\n",
              "      <td>0</td>\n",
              "      <td>0</td>\n",
              "      <td>0</td>\n",
              "      <td>0</td>\n",
              "      <td>1</td>\n",
              "      <td>0</td>\n",
              "      <td>1</td>\n",
              "      <td>0</td>\n",
              "      <td>8</td>\n",
              "      <td>0</td>\n",
              "      <td>0</td>\n",
              "      <td>0</td>\n",
              "      <td>0</td>\n",
              "      <td>0</td>\n",
              "      <td>0</td>\n",
              "      <td>1</td>\n",
              "      <td>0</td>\n",
              "      <td>19</td>\n",
              "      <td>6</td>\n",
              "      <td>9</td>\n",
              "      <td>0</td>\n",
              "      <td>45.2</td>\n",
              "      <td>0</td>\n",
              "      <td>0</td>\n",
              "      <td>1</td>\n",
              "      <td>1</td>\n",
              "      <td>84.6</td>\n",
              "      <td>81.0</td>\n",
              "      <td>100.0</td>\n",
              "      <td>84.6</td>\n",
              "      <td>81.0</td>\n",
              "      <td>100.0</td>\n",
              "      <td>76.9</td>\n",
              "      <td>76.2</td>\n",
              "      <td>80.0</td>\n",
              "      <td>76.9</td>\n",
              "      <td>76.2</td>\n",
              "      <td>80.0</td>\n",
              "      <td>80.750</td>\n",
              "      <td>77.800000</td>\n",
              "      <td>90.000</td>\n",
              "      <td>562</td>\n",
              "      <td>507</td>\n",
              "      <td>45</td>\n",
              "      <td>0.822780</td>\n",
              "      <td>제어계측로봇공학과</td>\n",
              "    </tr>\n",
              "    <tr>\n",
              "      <th>491</th>\n",
              "      <td>2017</td>\n",
              "      <td>대학교</td>\n",
              "      <td>사립</td>\n",
              "      <td>울산</td>\n",
              "      <td>기존</td>\n",
              "      <td>울산대학교</td>\n",
              "      <td>공과대학</td>\n",
              "      <td>항공우주공학전공</td>\n",
              "      <td>주간</td>\n",
              "      <td>일반과정</td>\n",
              "      <td>29</td>\n",
              "      <td>3</td>\n",
              "      <td>12</td>\n",
              "      <td>2</td>\n",
              "      <td>0</td>\n",
              "      <td>0</td>\n",
              "      <td>0</td>\n",
              "      <td>0</td>\n",
              "      <td>0</td>\n",
              "      <td>0</td>\n",
              "      <td>0</td>\n",
              "      <td>0</td>\n",
              "      <td>0</td>\n",
              "      <td>0</td>\n",
              "      <td>0</td>\n",
              "      <td>0</td>\n",
              "      <td>0</td>\n",
              "      <td>0</td>\n",
              "      <td>0</td>\n",
              "      <td>0</td>\n",
              "      <td>0</td>\n",
              "      <td>0</td>\n",
              "      <td>0</td>\n",
              "      <td>17</td>\n",
              "      <td>1</td>\n",
              "      <td>0</td>\n",
              "      <td>0</td>\n",
              "      <td>43.8</td>\n",
              "      <td>0</td>\n",
              "      <td>0</td>\n",
              "      <td>0</td>\n",
              "      <td>0</td>\n",
              "      <td>78.6</td>\n",
              "      <td>75.0</td>\n",
              "      <td>100.0</td>\n",
              "      <td>64.3</td>\n",
              "      <td>66.7</td>\n",
              "      <td>50.0</td>\n",
              "      <td>64.3</td>\n",
              "      <td>66.7</td>\n",
              "      <td>50.0</td>\n",
              "      <td>64.3</td>\n",
              "      <td>66.7</td>\n",
              "      <td>50.0</td>\n",
              "      <td>67.875</td>\n",
              "      <td>69.466667</td>\n",
              "      <td>62.500</td>\n",
              "      <td>563</td>\n",
              "      <td>955</td>\n",
              "      <td>44</td>\n",
              "      <td>0.683365</td>\n",
              "      <td>항공우주공학전공</td>\n",
              "    </tr>\n",
              "  </tbody>\n",
              "</table>\n",
              "<p>173 rows × 62 columns</p>\n",
              "</div>\n",
              "      <button class=\"colab-df-convert\" onclick=\"convertToInteractive('df-e790ffa0-23a0-4e8a-9ec8-b1f5d64c0a4b')\"\n",
              "              title=\"Convert this dataframe to an interactive table.\"\n",
              "              style=\"display:none;\">\n",
              "        \n",
              "  <svg xmlns=\"http://www.w3.org/2000/svg\" height=\"24px\"viewBox=\"0 0 24 24\"\n",
              "       width=\"24px\">\n",
              "    <path d=\"M0 0h24v24H0V0z\" fill=\"none\"/>\n",
              "    <path d=\"M18.56 5.44l.94 2.06.94-2.06 2.06-.94-2.06-.94-.94-2.06-.94 2.06-2.06.94zm-11 1L8.5 8.5l.94-2.06 2.06-.94-2.06-.94L8.5 2.5l-.94 2.06-2.06.94zm10 10l.94 2.06.94-2.06 2.06-.94-2.06-.94-.94-2.06-.94 2.06-2.06.94z\"/><path d=\"M17.41 7.96l-1.37-1.37c-.4-.4-.92-.59-1.43-.59-.52 0-1.04.2-1.43.59L10.3 9.45l-7.72 7.72c-.78.78-.78 2.05 0 2.83L4 21.41c.39.39.9.59 1.41.59.51 0 1.02-.2 1.41-.59l7.78-7.78 2.81-2.81c.8-.78.8-2.07 0-2.86zM5.41 20L4 18.59l7.72-7.72 1.47 1.35L5.41 20z\"/>\n",
              "  </svg>\n",
              "      </button>\n",
              "      \n",
              "  <style>\n",
              "    .colab-df-container {\n",
              "      display:flex;\n",
              "      flex-wrap:wrap;\n",
              "      gap: 12px;\n",
              "    }\n",
              "\n",
              "    .colab-df-convert {\n",
              "      background-color: #E8F0FE;\n",
              "      border: none;\n",
              "      border-radius: 50%;\n",
              "      cursor: pointer;\n",
              "      display: none;\n",
              "      fill: #1967D2;\n",
              "      height: 32px;\n",
              "      padding: 0 0 0 0;\n",
              "      width: 32px;\n",
              "    }\n",
              "\n",
              "    .colab-df-convert:hover {\n",
              "      background-color: #E2EBFA;\n",
              "      box-shadow: 0px 1px 2px rgba(60, 64, 67, 0.3), 0px 1px 3px 1px rgba(60, 64, 67, 0.15);\n",
              "      fill: #174EA6;\n",
              "    }\n",
              "\n",
              "    [theme=dark] .colab-df-convert {\n",
              "      background-color: #3B4455;\n",
              "      fill: #D2E3FC;\n",
              "    }\n",
              "\n",
              "    [theme=dark] .colab-df-convert:hover {\n",
              "      background-color: #434B5C;\n",
              "      box-shadow: 0px 1px 3px 1px rgba(0, 0, 0, 0.15);\n",
              "      filter: drop-shadow(0px 1px 2px rgba(0, 0, 0, 0.3));\n",
              "      fill: #FFFFFF;\n",
              "    }\n",
              "  </style>\n",
              "\n",
              "      <script>\n",
              "        const buttonEl =\n",
              "          document.querySelector('#df-e790ffa0-23a0-4e8a-9ec8-b1f5d64c0a4b button.colab-df-convert');\n",
              "        buttonEl.style.display =\n",
              "          google.colab.kernel.accessAllowed ? 'block' : 'none';\n",
              "\n",
              "        async function convertToInteractive(key) {\n",
              "          const element = document.querySelector('#df-e790ffa0-23a0-4e8a-9ec8-b1f5d64c0a4b');\n",
              "          const dataTable =\n",
              "            await google.colab.kernel.invokeFunction('convertToInteractive',\n",
              "                                                     [key], {});\n",
              "          if (!dataTable) return;\n",
              "\n",
              "          const docLinkHtml = 'Like what you see? Visit the ' +\n",
              "            '<a target=\"_blank\" href=https://colab.research.google.com/notebooks/data_table.ipynb>data table notebook</a>'\n",
              "            + ' to learn more about interactive tables.';\n",
              "          element.innerHTML = '';\n",
              "          dataTable['output_type'] = 'display_data';\n",
              "          await google.colab.output.renderOutput(dataTable, element);\n",
              "          const docLink = document.createElement('div');\n",
              "          docLink.innerHTML = docLinkHtml;\n",
              "          element.appendChild(docLink);\n",
              "        }\n",
              "      </script>\n",
              "    </div>\n",
              "  </div>\n",
              "  "
            ],
            "text/plain": [
              "     기준연도 학교종류 설립구분  지역  상태  ... 취업률순위 취업자수순위 취업률반올림    취업순위점수       학과구분\n",
              "43   2017  대학교   사립  울산  기존  ...     1    737    100  2.458003      건축공학과\n",
              "107  2017  대학교   사립  강원  기존  ...     1   1081    100  1.677995      산업공학과\n",
              "70   2017  대학교   사립  충남  기존  ...     1    889    100  2.039165      산업공학과\n",
              "27   2017  대학교   사립  서울  기존  ...    61    443     98  2.896812    정보시스템학과\n",
              "6    2017  대학교   사립  충남  기존  ...    62    203     97  4.652610  메카IT융합공학과\n",
              "..    ...  ...  ...  ..  ..  ...   ...    ...    ...       ...        ...\n",
              "493  2017  대학교   사립  광주  기존  ...   546   1019     48  0.680181     신소재공학과\n",
              "500  2017  대학교   사립  광주  기존  ...   549   1019     47  0.677875    항공우주공학과\n",
              "425  2017  대학교   사립  강원  기존  ...   549    549     47  0.821818     컴퓨터공학과\n",
              "424  2017  대학교   사립  광주  기존  ...   562    507     45  0.822780  제어계측로봇공학과\n",
              "491  2017  대학교   사립  울산  기존  ...   563    955     44  0.683365   항공우주공학전공\n",
              "\n",
              "[173 rows x 62 columns]"
            ]
          },
          "metadata": {},
          "execution_count": 179
        }
      ]
    },
    {
      "cell_type": "code",
      "source": [
        "import matplotlib.pyplot as plt\n",
        "\n",
        "x = np.arange(10)\n",
        "values = 사립_2018_copy.sort_values(by=['취업률반올림','유취_계평균'],ascending=False).iloc[0:10]['취업률반올림']\n",
        "majors = 사립_2018_copy.sort_values(by=['취업률반올림','유취_계평균'],ascending=False).iloc[0:10]['학과(전공)']\n",
        "\n",
        "plt.figure(figsize=(20,8))\n",
        "plt.bar(x, values)\n",
        "plt.xticks(x, majors)"
      ],
      "metadata": {
        "colab": {
          "base_uri": "https://localhost:8080/",
          "height": 926
        },
        "id": "SFgY30rhHK5U",
        "outputId": "7788ad21-4d39-4462-daab-5864399db780"
      },
      "execution_count": 177,
      "outputs": [
        {
          "output_type": "execute_result",
          "data": {
            "text/plain": [
              "([<matplotlib.axis.XTick at 0x7ff6a4339350>,\n",
              "  <matplotlib.axis.XTick at 0x7ff6a4339d50>,\n",
              "  <matplotlib.axis.XTick at 0x7ff6a136fe50>,\n",
              "  <matplotlib.axis.XTick at 0x7ff6a2e03550>,\n",
              "  <matplotlib.axis.XTick at 0x7ff6a2e03290>,\n",
              "  <matplotlib.axis.XTick at 0x7ff6a435ad50>,\n",
              "  <matplotlib.axis.XTick at 0x7ff6a435ad10>,\n",
              "  <matplotlib.axis.XTick at 0x7ff6a132f450>,\n",
              "  <matplotlib.axis.XTick at 0x7ff6a435a410>,\n",
              "  <matplotlib.axis.XTick at 0x7ff6a132f510>],\n",
              " [Text(0, 0, '건축학전공'),\n",
              "  Text(0, 0, '산업공학전공'),\n",
              "  Text(0, 0, '신뢰성품질공학과'),\n",
              "  Text(0, 0, '정보시스템학과'),\n",
              "  Text(0, 0, '메카IT융합공학과'),\n",
              "  Text(0, 0, '컴퓨터・통신공학부'),\n",
              "  Text(0, 0, '건축학부 건축학전공(5년제)'),\n",
              "  Text(0, 0, '사이버국방학과'),\n",
              "  Text(0, 0, '유기나노공학과'),\n",
              "  Text(0, 0, '건축공학전공')])"
            ]
          },
          "metadata": {},
          "execution_count": 177
        },
        {
          "output_type": "stream",
          "name": "stderr",
          "text": [
            "/usr/local/lib/python3.7/dist-packages/matplotlib/backends/backend_agg.py:214: RuntimeWarning: Glyph 12539 missing from current font.\n",
            "  font.set_text(s, 0.0, flags=flags)\n",
            "/usr/local/lib/python3.7/dist-packages/matplotlib/backends/backend_agg.py:183: RuntimeWarning: Glyph 12539 missing from current font.\n",
            "  font.set_text(s, 0, flags=flags)\n"
          ]
        },
        {
          "output_type": "display_data",
          "data": {
            "image/png": "[encoded data removed]",
            "text/plain": [
              "<Figure size 1440x576 with 1 Axes>"
            ]
          },
          "metadata": {
            "needs_background": "light"
          }
        }
      ]
    },
    {
      "cell_type": "code",
      "source": [
        "산공 = []\n",
        "전전 = []\n",
        "화학 = []\n",
        "컴퓨터 = []\n",
        "기계 = []\n",
        "for i in 사립_2018['학과(전공)'].unique():\n",
        "  if '산업' in i:\n",
        "    산공.append(i)\n",
        "  elif '품질' in i:\n",
        "    산공.append(i)\n",
        "\n",
        "  if '기계' in i:\n",
        "    기계.append(i)\n",
        "\n",
        "  if '화학' in i:\n",
        "    화학.append(i)\n",
        "\n",
        "  if '컴퓨터' in i:\n",
        "    컴퓨터.append(i)\n",
        "\n",
        "  if '전자' in i:\n",
        "    전전.append(i)\n",
        "  elif '전기' in i:\n",
        "    전전.append(i)"
      ],
      "metadata": {
        "id": "LXQ7LlgFPQ_a"
      },
      "execution_count": 113,
      "outputs": []
    },
    {
      "cell_type": "code",
      "source": [
        "산공"
      ],
      "metadata": {
        "id": "yON451cFPRBT",
        "colab": {
          "base_uri": "https://localhost:8080/"
        },
        "outputId": "d3eb9de4-69a4-4115-d477-8398ab0cff2f"
      },
      "execution_count": 114,
      "outputs": [
        {
          "output_type": "execute_result",
          "data": {
            "text/plain": [
              "['산업공학과',\n",
              " '산업경영공학과',\n",
              " '신뢰성품질공학과',\n",
              " '산업공학전공',\n",
              " '정보산업공학전공',\n",
              " '정보·컴퓨터공학부 산업공학전공',\n",
              " '산업경영공학부',\n",
              " '자동차산업공학과',\n",
              " '산업경영공학전공',\n",
              " '산업시스템정보공학과']"
            ]
          },
          "metadata": {},
          "execution_count": 114
        }
      ]
    },
    {
      "cell_type": "code",
      "source": [
        ""
      ],
      "metadata": {
        "id": "2ivwRMJQPRDG"
      },
      "execution_count": null,
      "outputs": []
    }
  ]
}
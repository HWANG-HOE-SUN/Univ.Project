{
  "nbformat": 4,
  "nbformat_minor": 0,
  "metadata": {
    "colab": {
      "name": "신경망실습-1.ipynb",
      "provenance": [],
      "collapsed_sections": [],
      "authorship_tag": "ABX9TyMQDckc4ogmrrgaGnmoSxNQ",
      "include_colab_link": true
    },
    "kernelspec": {
      "name": "python3",
      "display_name": "Python 3"
    }
  },
  "cells": [
    {
      "cell_type": "markdown",
      "metadata": {
        "id": "view-in-github",
        "colab_type": "text"
      },
      "source": [
        "<a href=\"https://colab.research.google.com/github/HWANG-HOE-SUN/Univ.Project/blob/main/%EC%8B%A0%EA%B2%BD%EB%A7%9D%EC%8B%A4%EC%8A%B5_1.ipynb\" target=\"_parent\"><img src=\"https://colab.research.google.com/assets/colab-badge.svg\" alt=\"Open In Colab\"/></a>"
      ]
    },
    {
      "cell_type": "code",
      "metadata": {
        "id": "TJR3Xh46QA9Q"
      },
      "source": [
        "# 기본 데이터 정리 및 처리\r\n",
        "import numpy as np\r\n",
        "import pandas as pd\r\n",
        "\r\n",
        "# 시각화\r\n",
        "import matplotlib.pyplot as plt\r\n",
        "%matplotlib inline\r\n",
        "plt.style.use('seaborn-whitegrid')\r\n",
        "import missingno\r\n",
        "\r\n",
        "# 전처리 및 머신 러닝 알고리즘\r\n",
        "from sklearn.preprocessing import LabelEncoder, OneHotEncoder\r\n",
        "from sklearn.preprocessing import StandardScaler\r\n",
        "from sklearn.preprocessing import MinMaxScaler\r\n",
        "from sklearn.neighbors import KNeighborsClassifier\r\n",
        "from sklearn.linear_model import LogisticRegression\r\n",
        "from sklearn.ensemble import RandomForestClassifier\r\n",
        "from sklearn.svm import SVC\r\n",
        "from xgboost import XGBClassifier\r\n",
        "from sklearn.ensemble import GradientBoostingClassifier\r\n",
        "from sklearn.ensemble import AdaBoostClassifier\r\n",
        "from sklearn.gaussian_process import GaussianProcessClassifier\r\n",
        "from sklearn.naive_bayes import GaussianNB\r\n",
        "from sklearn.ensemble import BaggingClassifier\r\n",
        "from sklearn.ensemble import VotingClassifier\r\n",
        "\r\n",
        "# 모델 튜닝 및 평가\r\n",
        "from sklearn.model_selection import cross_val_score\r\n",
        "from sklearn.model_selection import GridSearchCV\r\n",
        "from sklearn.model_selection import cross_val_predict\r\n",
        "from sklearn.metrics import mean_squared_error\r\n",
        "from sklearn import model_selection"
      ],
      "execution_count": 1,
      "outputs": []
    },
    {
      "cell_type": "code",
      "metadata": {
        "id": "DU-cVQE6P9MR"
      },
      "source": [
        "# 경고 제거(판다스 error 메시지 무시)\r\n",
        "import sys\r\n",
        "import warnings\r\n",
        "\r\n",
        "warnings.filterwarnings('ignore')"
      ],
      "execution_count": 2,
      "outputs": []
    },
    {
      "cell_type": "code",
      "metadata": {
        "colab": {
          "resources": {
            "http://localhost:8080/nbextensions/google.colab/files.js": {
              "data": "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",
              "ok": true,
              "headers": [
                [
                  "content-type",
                  "application/javascript"
                ]
              ],
              "status": 200,
              "status_text": ""
            }
          },
          "base_uri": "https://localhost:8080/",
          "height": 75
        },
        "id": "ntranc8OP7g4",
        "outputId": "52e76403-dedc-4c69-f122-da438951f229"
      },
      "source": [
        "from google.colab import files\r\n",
        "uploaded =files.upload()"
      ],
      "execution_count": 3,
      "outputs": [
        {
          "output_type": "display_data",
          "data": {
            "text/html": [
              "\n",
              "     <input type=\"file\" id=\"files-159c38eb-607b-443a-b404-0b1adde58eb5\" name=\"files[]\" multiple disabled\n",
              "        style=\"border:none\" />\n",
              "     <output id=\"result-159c38eb-607b-443a-b404-0b1adde58eb5\">\n",
              "      Upload widget is only available when the cell has been executed in the\n",
              "      current browser session. Please rerun this cell to enable.\n",
              "      </output>\n",
              "      <script src=\"/nbextensions/google.colab/files.js\"></script> "
            ],
            "text/plain": [
              "<IPython.core.display.HTML object>"
            ]
          },
          "metadata": {
            "tags": []
          }
        },
        {
          "output_type": "stream",
          "text": [
            "Saving file.txt to file.txt\n"
          ],
          "name": "stdout"
        }
      ]
    },
    {
      "cell_type": "code",
      "metadata": {
        "id": "ynj2Qcl_UfVQ"
      },
      "source": [
        "file = pd.read_csv('file.txt',delimiter=',',usecols=[1], engine='python') #쉼표로 분리되어 저장되어있는 raw데이터 text파일"
      ],
      "execution_count": 4,
      "outputs": []
    },
    {
      "cell_type": "code",
      "metadata": {
        "id": "u4yhgShtV92R",
        "colab": {
          "base_uri": "https://localhost:8080/",
          "height": 391
        },
        "outputId": "798477aa-041d-470b-de9a-db2f0a354dce"
      },
      "source": [
        "file"
      ],
      "execution_count": 5,
      "outputs": [
        {
          "output_type": "execute_result",
          "data": {
            "text/html": [
              "<div>\n",
              "<style scoped>\n",
              "    .dataframe tbody tr th:only-of-type {\n",
              "        vertical-align: middle;\n",
              "    }\n",
              "\n",
              "    .dataframe tbody tr th {\n",
              "        vertical-align: top;\n",
              "    }\n",
              "\n",
              "    .dataframe thead th {\n",
              "        text-align: right;\n",
              "    }\n",
              "</style>\n",
              "<table border=\"1\" class=\"dataframe\">\n",
              "  <thead>\n",
              "    <tr style=\"text-align: right;\">\n",
              "      <th></th>\n",
              "      <th>Passengers</th>\n",
              "    </tr>\n",
              "  </thead>\n",
              "  <tbody>\n",
              "    <tr>\n",
              "      <th>0</th>\n",
              "      <td>112</td>\n",
              "    </tr>\n",
              "    <tr>\n",
              "      <th>1</th>\n",
              "      <td>118</td>\n",
              "    </tr>\n",
              "    <tr>\n",
              "      <th>2</th>\n",
              "      <td>132</td>\n",
              "    </tr>\n",
              "    <tr>\n",
              "      <th>3</th>\n",
              "      <td>129</td>\n",
              "    </tr>\n",
              "    <tr>\n",
              "      <th>4</th>\n",
              "      <td>121</td>\n",
              "    </tr>\n",
              "    <tr>\n",
              "      <th>...</th>\n",
              "      <td>...</td>\n",
              "    </tr>\n",
              "    <tr>\n",
              "      <th>139</th>\n",
              "      <td>606</td>\n",
              "    </tr>\n",
              "    <tr>\n",
              "      <th>140</th>\n",
              "      <td>508</td>\n",
              "    </tr>\n",
              "    <tr>\n",
              "      <th>141</th>\n",
              "      <td>461</td>\n",
              "    </tr>\n",
              "    <tr>\n",
              "      <th>142</th>\n",
              "      <td>390</td>\n",
              "    </tr>\n",
              "    <tr>\n",
              "      <th>143</th>\n",
              "      <td>432</td>\n",
              "    </tr>\n",
              "  </tbody>\n",
              "</table>\n",
              "<p>144 rows × 1 columns</p>\n",
              "</div>"
            ],
            "text/plain": [
              "     Passengers\n",
              "0           112\n",
              "1           118\n",
              "2           132\n",
              "3           129\n",
              "4           121\n",
              "..          ...\n",
              "139         606\n",
              "140         508\n",
              "141         461\n",
              "142         390\n",
              "143         432\n",
              "\n",
              "[144 rows x 1 columns]"
            ]
          },
          "metadata": {
            "tags": []
          },
          "execution_count": 5
        }
      ]
    },
    {
      "cell_type": "code",
      "metadata": {
        "id": "U6dqIjBkRqAB",
        "colab": {
          "base_uri": "https://localhost:8080/"
        },
        "outputId": "b81dbe84-68c0-4f5b-f08c-2417f9495a02"
      },
      "source": [
        "print(file.info())"
      ],
      "execution_count": 6,
      "outputs": [
        {
          "output_type": "stream",
          "text": [
            "<class 'pandas.core.frame.DataFrame'>\n",
            "RangeIndex: 144 entries, 0 to 143\n",
            "Data columns (total 1 columns):\n",
            " #   Column      Non-Null Count  Dtype\n",
            "---  ------      --------------  -----\n",
            " 0   Passengers  144 non-null    int64\n",
            "dtypes: int64(1)\n",
            "memory usage: 1.2 KB\n",
            "None\n"
          ],
          "name": "stdout"
        }
      ]
    },
    {
      "cell_type": "code",
      "metadata": {
        "id": "OfawTFsHQPmp",
        "colab": {
          "base_uri": "https://localhost:8080/",
          "height": 262
        },
        "outputId": "b976c8bd-fc36-4049-a2c8-74a531fd2e4a"
      },
      "source": [
        "plt.plot(file)\r\n",
        "plt.show()"
      ],
      "execution_count": 7,
      "outputs": [
        {
          "output_type": "display_data",
          "data": {
            "image/png": "[encoded data removed]",
            "text/plain": [
              "<Figure size 432x288 with 1 Axes>"
            ]
          },
          "metadata": {
            "tags": [],
            "needs_background": "light"
          }
        }
      ]
    },
    {
      "cell_type": "code",
      "metadata": {
        "id": "rVqKVSoKSSIW"
      },
      "source": [
        "dataset = file.values\r\n",
        "dataset = file.astype('float32')"
      ],
      "execution_count": 8,
      "outputs": []
    },
    {
      "cell_type": "code",
      "metadata": {
        "id": "mKRO0Q8JT_cy"
      },
      "source": [
        "scaler = MinMaxScaler(feature_range=(0,1))\r\n",
        "dataset = scaler.fit_transform(dataset)"
      ],
      "execution_count": 9,
      "outputs": []
    },
    {
      "cell_type": "code",
      "metadata": {
        "id": "581f9pbcUGPa",
        "colab": {
          "base_uri": "https://localhost:8080/"
        },
        "outputId": "3c14ca6f-4faf-44bc-ea66-bff3bfb9f047"
      },
      "source": [
        "from sklearn.model_selection import train_test_split\r\n",
        "\r\n",
        "train,test =  train_test_split(dataset,test_size=0.33,shuffle=False,random_state=111) #시계열 데이터이므로 shuffle(무작위)해서 나누지 않음\r\n",
        "print(len(train),len(test))"
      ],
      "execution_count": 10,
      "outputs": [
        {
          "output_type": "stream",
          "text": [
            "96 48\n"
          ],
          "name": "stdout"
        }
      ]
    },
    {
      "cell_type": "code",
      "metadata": {
        "id": "fCsr-P6zU5vP",
        "colab": {
          "base_uri": "https://localhost:8080/"
        },
        "outputId": "7b53be28-888c-49f2-dcdb-b32bb66c60c2"
      },
      "source": [
        "def create_dataset(dataset, look_back=1): \r\n",
        "  dataX , dataY = [], []\r\n",
        "  for i in range(len(dataset)-look_back-1):\r\n",
        "    a = dataset[i:(i+look_back),0]\r\n",
        "    dataX.append(a)\r\n",
        "    dataY.append(dataset[i+look_back, 0])\r\n",
        "  return np.array(dataX), np.array(dataY)\r\n",
        "\r\n",
        "#예시자료\r\n",
        "hallo = np.array([1,2,3,4,5])\r\n",
        "print(\"look_back=1일때 : \\n\",create_dataset(hallo.reshape(hallo.shape[0],-1),1))\r\n",
        "print(\"look_back=2일때 : \\n\",create_dataset(hallo.reshape(hallo.shape[0],-1),2))"
      ],
      "execution_count": 11,
      "outputs": [
        {
          "output_type": "stream",
          "text": [
            "look_back=1일때 : \n",
            " (array([[1],\n",
            "       [2],\n",
            "       [3]]), array([2, 3, 4]))\n",
            "look_back=2일때 : \n",
            " (array([[1, 2],\n",
            "       [2, 3]]), array([3, 4]))\n"
          ],
          "name": "stdout"
        }
      ]
    },
    {
      "cell_type": "code",
      "metadata": {
        "id": "FI3eJGdTVvoQ"
      },
      "source": [
        "look_back = 1 # 보고자하는 시계열 기간단위\r\n",
        "trainX, trainY = create_dataset(train, look_back)\r\n",
        "testX, testY = create_dataset(test,look_back)"
      ],
      "execution_count": 12,
      "outputs": []
    },
    {
      "cell_type": "code",
      "metadata": {
        "id": "rezivz93wEEl"
      },
      "source": [
        "# reshape input to be [Samples, time steps, features] > 이래야 fit과정에서 오류가 안난다.\r\n",
        "trainX = np.reshape(trainX, (trainX.shape[0],1,trainX.shape[1]))\r\n",
        "testX = np.reshape(testX, (testX.shape[0],1, testX.shape[1]))"
      ],
      "execution_count": 13,
      "outputs": []
    },
    {
      "cell_type": "code",
      "metadata": {
        "id": "GrrP37TRadly"
      },
      "source": [
        "# LSTM 적용\r\n",
        "# 딥러닝 알고리즘\r\n",
        "from tensorflow import keras\r\n",
        "from keras.models import Sequential\r\n",
        "from keras.layers import Dense\r\n",
        "from keras.layers import LSTM"
      ],
      "execution_count": 14,
      "outputs": []
    },
    {
      "cell_type": "code",
      "metadata": {
        "id": "rya2UEQdasbj",
        "colab": {
          "base_uri": "https://localhost:8080/"
        },
        "outputId": "872fe6d1-0ec7-40c7-8da9-2c760396fd56"
      },
      "source": [
        "model = Sequential()\r\n",
        "model.add(LSTM(4,input_shape=(1,look_back)))\r\n",
        "model.add(Dense(1))\r\n",
        "model.compile(loss='mean_squared_error',optimizer='Adam')\r\n",
        "model.fit(trainX, trainY, epochs=150, batch_size=1, verbose=2)"
      ],
      "execution_count": 15,
      "outputs": [
        {
          "output_type": "stream",
          "text": [
            "Epoch 1/150\n",
            "94/94 - 2s - loss: 0.0505\n",
            "Epoch 2/150\n",
            "94/94 - 0s - loss: 0.0246\n",
            "Epoch 3/150\n",
            "94/94 - 0s - loss: 0.0174\n",
            "Epoch 4/150\n",
            "94/94 - 0s - loss: 0.0158\n",
            "Epoch 5/150\n",
            "94/94 - 0s - loss: 0.0148\n",
            "Epoch 6/150\n",
            "94/94 - 0s - loss: 0.0139\n",
            "Epoch 7/150\n",
            "94/94 - 0s - loss: 0.0127\n",
            "Epoch 8/150\n",
            "94/94 - 0s - loss: 0.0119\n",
            "Epoch 9/150\n",
            "94/94 - 0s - loss: 0.0108\n",
            "Epoch 10/150\n",
            "94/94 - 0s - loss: 0.0099\n",
            "Epoch 11/150\n",
            "94/94 - 0s - loss: 0.0091\n",
            "Epoch 12/150\n",
            "94/94 - 0s - loss: 0.0081\n",
            "Epoch 13/150\n",
            "94/94 - 0s - loss: 0.0072\n",
            "Epoch 14/150\n",
            "94/94 - 0s - loss: 0.0064\n",
            "Epoch 15/150\n",
            "94/94 - 0s - loss: 0.0057\n",
            "Epoch 16/150\n",
            "94/94 - 0s - loss: 0.0049\n",
            "Epoch 17/150\n",
            "94/94 - 0s - loss: 0.0044\n",
            "Epoch 18/150\n",
            "94/94 - 0s - loss: 0.0038\n",
            "Epoch 19/150\n",
            "94/94 - 0s - loss: 0.0034\n",
            "Epoch 20/150\n",
            "94/94 - 0s - loss: 0.0031\n",
            "Epoch 21/150\n",
            "94/94 - 0s - loss: 0.0027\n",
            "Epoch 22/150\n",
            "94/94 - 0s - loss: 0.0026\n",
            "Epoch 23/150\n",
            "94/94 - 0s - loss: 0.0026\n",
            "Epoch 24/150\n",
            "94/94 - 0s - loss: 0.0023\n",
            "Epoch 25/150\n",
            "94/94 - 0s - loss: 0.0023\n",
            "Epoch 26/150\n",
            "94/94 - 0s - loss: 0.0022\n",
            "Epoch 27/150\n",
            "94/94 - 0s - loss: 0.0022\n",
            "Epoch 28/150\n",
            "94/94 - 0s - loss: 0.0022\n",
            "Epoch 29/150\n",
            "94/94 - 0s - loss: 0.0022\n",
            "Epoch 30/150\n",
            "94/94 - 0s - loss: 0.0022\n",
            "Epoch 31/150\n",
            "94/94 - 0s - loss: 0.0022\n",
            "Epoch 32/150\n",
            "94/94 - 0s - loss: 0.0021\n",
            "Epoch 33/150\n",
            "94/94 - 0s - loss: 0.0021\n",
            "Epoch 34/150\n",
            "94/94 - 0s - loss: 0.0021\n",
            "Epoch 35/150\n",
            "94/94 - 0s - loss: 0.0021\n",
            "Epoch 36/150\n",
            "94/94 - 0s - loss: 0.0022\n",
            "Epoch 37/150\n",
            "94/94 - 0s - loss: 0.0021\n",
            "Epoch 38/150\n",
            "94/94 - 0s - loss: 0.0022\n",
            "Epoch 39/150\n",
            "94/94 - 0s - loss: 0.0021\n",
            "Epoch 40/150\n",
            "94/94 - 0s - loss: 0.0021\n",
            "Epoch 41/150\n",
            "94/94 - 0s - loss: 0.0021\n",
            "Epoch 42/150\n",
            "94/94 - 0s - loss: 0.0022\n",
            "Epoch 43/150\n",
            "94/94 - 0s - loss: 0.0021\n",
            "Epoch 44/150\n",
            "94/94 - 0s - loss: 0.0022\n",
            "Epoch 45/150\n",
            "94/94 - 0s - loss: 0.0022\n",
            "Epoch 46/150\n",
            "94/94 - 0s - loss: 0.0021\n",
            "Epoch 47/150\n",
            "94/94 - 0s - loss: 0.0022\n",
            "Epoch 48/150\n",
            "94/94 - 0s - loss: 0.0022\n",
            "Epoch 49/150\n",
            "94/94 - 0s - loss: 0.0021\n",
            "Epoch 50/150\n",
            "94/94 - 0s - loss: 0.0021\n",
            "Epoch 51/150\n",
            "94/94 - 0s - loss: 0.0021\n",
            "Epoch 52/150\n",
            "94/94 - 0s - loss: 0.0021\n",
            "Epoch 53/150\n",
            "94/94 - 0s - loss: 0.0021\n",
            "Epoch 54/150\n",
            "94/94 - 0s - loss: 0.0021\n",
            "Epoch 55/150\n",
            "94/94 - 0s - loss: 0.0021\n",
            "Epoch 56/150\n",
            "94/94 - 0s - loss: 0.0021\n",
            "Epoch 57/150\n",
            "94/94 - 0s - loss: 0.0021\n",
            "Epoch 58/150\n",
            "94/94 - 0s - loss: 0.0021\n",
            "Epoch 59/150\n",
            "94/94 - 0s - loss: 0.0021\n",
            "Epoch 60/150\n",
            "94/94 - 0s - loss: 0.0021\n",
            "Epoch 61/150\n",
            "94/94 - 0s - loss: 0.0021\n",
            "Epoch 62/150\n",
            "94/94 - 0s - loss: 0.0021\n",
            "Epoch 63/150\n",
            "94/94 - 0s - loss: 0.0021\n",
            "Epoch 64/150\n",
            "94/94 - 0s - loss: 0.0021\n",
            "Epoch 65/150\n",
            "94/94 - 0s - loss: 0.0021\n",
            "Epoch 66/150\n",
            "94/94 - 0s - loss: 0.0022\n",
            "Epoch 67/150\n",
            "94/94 - 0s - loss: 0.0021\n",
            "Epoch 68/150\n",
            "94/94 - 0s - loss: 0.0021\n",
            "Epoch 69/150\n",
            "94/94 - 0s - loss: 0.0021\n",
            "Epoch 70/150\n",
            "94/94 - 0s - loss: 0.0021\n",
            "Epoch 71/150\n",
            "94/94 - 0s - loss: 0.0021\n",
            "Epoch 72/150\n",
            "94/94 - 0s - loss: 0.0021\n",
            "Epoch 73/150\n",
            "94/94 - 0s - loss: 0.0022\n",
            "Epoch 74/150\n",
            "94/94 - 0s - loss: 0.0021\n",
            "Epoch 75/150\n",
            "94/94 - 0s - loss: 0.0021\n",
            "Epoch 76/150\n",
            "94/94 - 0s - loss: 0.0021\n",
            "Epoch 77/150\n",
            "94/94 - 0s - loss: 0.0021\n",
            "Epoch 78/150\n",
            "94/94 - 0s - loss: 0.0021\n",
            "Epoch 79/150\n",
            "94/94 - 0s - loss: 0.0022\n",
            "Epoch 80/150\n",
            "94/94 - 0s - loss: 0.0020\n",
            "Epoch 81/150\n",
            "94/94 - 0s - loss: 0.0021\n",
            "Epoch 82/150\n",
            "94/94 - 0s - loss: 0.0021\n",
            "Epoch 83/150\n",
            "94/94 - 0s - loss: 0.0020\n",
            "Epoch 84/150\n",
            "94/94 - 0s - loss: 0.0021\n",
            "Epoch 85/150\n",
            "94/94 - 0s - loss: 0.0021\n",
            "Epoch 86/150\n",
            "94/94 - 0s - loss: 0.0021\n",
            "Epoch 87/150\n",
            "94/94 - 0s - loss: 0.0021\n",
            "Epoch 88/150\n",
            "94/94 - 0s - loss: 0.0021\n",
            "Epoch 89/150\n",
            "94/94 - 0s - loss: 0.0021\n",
            "Epoch 90/150\n",
            "94/94 - 0s - loss: 0.0021\n",
            "Epoch 91/150\n",
            "94/94 - 0s - loss: 0.0021\n",
            "Epoch 92/150\n",
            "94/94 - 0s - loss: 0.0020\n",
            "Epoch 93/150\n",
            "94/94 - 0s - loss: 0.0021\n",
            "Epoch 94/150\n",
            "94/94 - 0s - loss: 0.0021\n",
            "Epoch 95/150\n",
            "94/94 - 0s - loss: 0.0020\n",
            "Epoch 96/150\n",
            "94/94 - 0s - loss: 0.0021\n",
            "Epoch 97/150\n",
            "94/94 - 0s - loss: 0.0021\n",
            "Epoch 98/150\n",
            "94/94 - 0s - loss: 0.0021\n",
            "Epoch 99/150\n",
            "94/94 - 0s - loss: 0.0021\n",
            "Epoch 100/150\n",
            "94/94 - 0s - loss: 0.0020\n",
            "Epoch 101/150\n",
            "94/94 - 0s - loss: 0.0021\n",
            "Epoch 102/150\n",
            "94/94 - 0s - loss: 0.0021\n",
            "Epoch 103/150\n",
            "94/94 - 0s - loss: 0.0021\n",
            "Epoch 104/150\n",
            "94/94 - 0s - loss: 0.0021\n",
            "Epoch 105/150\n",
            "94/94 - 0s - loss: 0.0020\n",
            "Epoch 106/150\n",
            "94/94 - 0s - loss: 0.0021\n",
            "Epoch 107/150\n",
            "94/94 - 0s - loss: 0.0021\n",
            "Epoch 108/150\n",
            "94/94 - 0s - loss: 0.0021\n",
            "Epoch 109/150\n",
            "94/94 - 0s - loss: 0.0021\n",
            "Epoch 110/150\n",
            "94/94 - 0s - loss: 0.0021\n",
            "Epoch 111/150\n",
            "94/94 - 0s - loss: 0.0021\n",
            "Epoch 112/150\n",
            "94/94 - 0s - loss: 0.0020\n",
            "Epoch 113/150\n",
            "94/94 - 0s - loss: 0.0021\n",
            "Epoch 114/150\n",
            "94/94 - 0s - loss: 0.0021\n",
            "Epoch 115/150\n",
            "94/94 - 0s - loss: 0.0020\n",
            "Epoch 116/150\n",
            "94/94 - 0s - loss: 0.0021\n",
            "Epoch 117/150\n",
            "94/94 - 0s - loss: 0.0020\n",
            "Epoch 118/150\n",
            "94/94 - 0s - loss: 0.0021\n",
            "Epoch 119/150\n",
            "94/94 - 0s - loss: 0.0020\n",
            "Epoch 120/150\n",
            "94/94 - 0s - loss: 0.0021\n",
            "Epoch 121/150\n",
            "94/94 - 0s - loss: 0.0020\n",
            "Epoch 122/150\n",
            "94/94 - 0s - loss: 0.0021\n",
            "Epoch 123/150\n",
            "94/94 - 0s - loss: 0.0021\n",
            "Epoch 124/150\n",
            "94/94 - 0s - loss: 0.0020\n",
            "Epoch 125/150\n",
            "94/94 - 0s - loss: 0.0021\n",
            "Epoch 126/150\n",
            "94/94 - 0s - loss: 0.0021\n",
            "Epoch 127/150\n",
            "94/94 - 0s - loss: 0.0020\n",
            "Epoch 128/150\n",
            "94/94 - 0s - loss: 0.0021\n",
            "Epoch 129/150\n",
            "94/94 - 0s - loss: 0.0021\n",
            "Epoch 130/150\n",
            "94/94 - 0s - loss: 0.0020\n",
            "Epoch 131/150\n",
            "94/94 - 0s - loss: 0.0021\n",
            "Epoch 132/150\n",
            "94/94 - 0s - loss: 0.0020\n",
            "Epoch 133/150\n",
            "94/94 - 0s - loss: 0.0021\n",
            "Epoch 134/150\n",
            "94/94 - 0s - loss: 0.0021\n",
            "Epoch 135/150\n",
            "94/94 - 0s - loss: 0.0021\n",
            "Epoch 136/150\n",
            "94/94 - 0s - loss: 0.0020\n",
            "Epoch 137/150\n",
            "94/94 - 0s - loss: 0.0021\n",
            "Epoch 138/150\n",
            "94/94 - 0s - loss: 0.0020\n",
            "Epoch 139/150\n",
            "94/94 - 0s - loss: 0.0021\n",
            "Epoch 140/150\n",
            "94/94 - 0s - loss: 0.0020\n",
            "Epoch 141/150\n",
            "94/94 - 0s - loss: 0.0021\n",
            "Epoch 142/150\n",
            "94/94 - 0s - loss: 0.0020\n",
            "Epoch 143/150\n",
            "94/94 - 0s - loss: 0.0020\n",
            "Epoch 144/150\n",
            "94/94 - 0s - loss: 0.0021\n",
            "Epoch 145/150\n",
            "94/94 - 0s - loss: 0.0020\n",
            "Epoch 146/150\n",
            "94/94 - 0s - loss: 0.0020\n",
            "Epoch 147/150\n",
            "94/94 - 0s - loss: 0.0021\n",
            "Epoch 148/150\n",
            "94/94 - 0s - loss: 0.0021\n",
            "Epoch 149/150\n",
            "94/94 - 0s - loss: 0.0020\n",
            "Epoch 150/150\n",
            "94/94 - 0s - loss: 0.0020\n"
          ],
          "name": "stdout"
        },
        {
          "output_type": "execute_result",
          "data": {
            "text/plain": [
              "<tensorflow.python.keras.callbacks.History at 0x7ff451d67208>"
            ]
          },
          "metadata": {
            "tags": []
          },
          "execution_count": 15
        }
      ]
    },
    {
      "cell_type": "code",
      "metadata": {
        "id": "pfbHbnJUb5d2",
        "colab": {
          "base_uri": "https://localhost:8080/"
        },
        "outputId": "70f8c9e7-20be-4b14-f73e-fb1399dd2bcb"
      },
      "source": [
        "import math\r\n",
        "# 예측하기\r\n",
        "trainPredict = model.predict(trainX)\r\n",
        "testPredict = model.predict(testX)\r\n",
        "# scaling전 원래값으로 inverse\r\n",
        "trainPredict = scaler.inverse_transform(trainPredict)\r\n",
        "trainY = scaler.inverse_transform([trainY])\r\n",
        "testPredict = scaler.inverse_transform(testPredict)\r\n",
        "testY = scaler.inverse_transform([testY])\r\n",
        "# 모델 성능 평가 지표\r\n",
        "trainScore = math.sqrt(mean_squared_error(trainY[0],trainPredict[:,0]))\r\n",
        "print(\"TrainScore : %.2f RMSE\" %(trainScore))\r\n",
        "testScore = math.sqrt(mean_squared_error(testY[0], testPredict[:,0]))\r\n",
        "print(\"TestScore : %.2f RMSE \" %(testScore))"
      ],
      "execution_count": 16,
      "outputs": [
        {
          "output_type": "stream",
          "text": [
            "TrainScore : 23.00 RMSE\n",
            "TestScore : 48.90 RMSE \n"
          ],
          "name": "stdout"
        }
      ]
    },
    {
      "cell_type": "code",
      "metadata": {
        "colab": {
          "base_uri": "https://localhost:8080/"
        },
        "id": "HgX9j7ALmrsY",
        "outputId": "3258bc52-3200-497e-fd8e-e6ab7dcadc47"
      },
      "source": [
        "print(\"TrainScore : %.2f RMSE \\n\"%(trainScore),\"TestScore : %.2f RMSE \\n\" %(testScore),\"Loss : %s\"%(model.loss))"
      ],
      "execution_count": 17,
      "outputs": [
        {
          "output_type": "stream",
          "text": [
            "TrainScore : 23.00 RMSE \n",
            " TestScore : 48.90 RMSE \n",
            " Loss : mean_squared_error\n"
          ],
          "name": "stdout"
        }
      ]
    },
    {
      "cell_type": "code",
      "metadata": {
        "colab": {
          "base_uri": "https://localhost:8080/"
        },
        "id": "0XbnWCHJlYlh",
        "outputId": "3261ef7c-4d4a-4f75-91dc-82e929d48c47"
      },
      "source": [
        "print(\"TrainScore : %.2f RMSE \\n\"%(trainScore),\"TestScore : %.2f RMSE \\n\" %(testScore),\"Loss : %s\"%(model.loss))"
      ],
      "execution_count": 18,
      "outputs": [
        {
          "output_type": "stream",
          "text": [
            "TrainScore : 23.00 RMSE \n",
            " TestScore : 48.90 RMSE \n",
            " Loss : mean_squared_error\n"
          ],
          "name": "stdout"
        }
      ]
    },
    {
      "cell_type": "code",
      "metadata": {
        "colab": {
          "base_uri": "https://localhost:8080/"
        },
        "id": "BD33V3dGnKIr",
        "outputId": "983e76e4-b3c9-4b04-f35c-60661dbc474b"
      },
      "source": [
        "print(\"TrainScore : %.2f RMSE \\n\"%(trainScore),\"TestScore : %.2f RMSE \\n\" %(testScore),\"Loss : %s\"%(model.loss))"
      ],
      "execution_count": 19,
      "outputs": [
        {
          "output_type": "stream",
          "text": [
            "TrainScore : 23.00 RMSE \n",
            " TestScore : 48.90 RMSE \n",
            " Loss : mean_squared_error\n"
          ],
          "name": "stdout"
        }
      ]
    },
    {
      "cell_type": "code",
      "metadata": {
        "colab": {
          "base_uri": "https://localhost:8080/"
        },
        "id": "II5vdCzJmzVV",
        "outputId": "0b1013d1-36ff-46f4-f56e-cec3fa5969bc"
      },
      "source": [
        "print(\"TrainScore : %.2f RMSE \\n\"%(trainScore),\"TestScore : %.2f RMSE \\n\" %(testScore),\"Loss : %s\"%(model.loss))"
      ],
      "execution_count": 20,
      "outputs": [
        {
          "output_type": "stream",
          "text": [
            "TrainScore : 23.00 RMSE \n",
            " TestScore : 48.90 RMSE \n",
            " Loss : mean_squared_error\n"
          ],
          "name": "stdout"
        }
      ]
    },
    {
      "cell_type": "code",
      "metadata": {
        "colab": {
          "base_uri": "https://localhost:8080/",
          "height": 262
        },
        "id": "YTD8WwhAitpi",
        "outputId": "39d34da7-389c-40ef-a661-48032cbcfdb9"
      },
      "source": [
        "# shift train predictions for plotting\r\n",
        "trainPredictPlot = np.empty_like(dataset)\r\n",
        "trainPredictPlot[:,:] = np.nan\r\n",
        "trainPredictPlot[look_back:len(trainPredict)+look_back, :] = trainPredict\r\n",
        "# shift test predictions for plotting\r\n",
        "testPredictPlot = np.empty_like(dataset)\r\n",
        "testPredictPlot[:,:] = np.nan\r\n",
        "testPredictPlot[len(trainPredict)+(look_back*2)+1:len(dataset)-1,:] = testPredict\r\n",
        "# plot baseline and predictions\r\n",
        "plt.plot(scaler.inverse_transform(dataset))\r\n",
        "plt.plot(trainPredictPlot)\r\n",
        "plt.plot(testPredictPlot)\r\n",
        "plt.show()"
      ],
      "execution_count": 21,
      "outputs": [
        {
          "output_type": "display_data",
          "data": {
            "image/png": "[encoded data removed]",
            "text/plain": [
              "<Figure size 432x288 with 1 Axes>"
            ]
          },
          "metadata": {
            "tags": [],
            "needs_background": "light"
          }
        }
      ]
    }
  ]
}
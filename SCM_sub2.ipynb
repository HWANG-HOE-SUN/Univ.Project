{
  "nbformat": 4,
  "nbformat_minor": 0,
  "metadata": {
    "colab": {
      "name": "SCM_sub2.ipynb",
      "provenance": [],
      "collapsed_sections": [],
      "toc_visible": true,
      "authorship_tag": "ABX9TyMF5h7XDFqIXkynpiraGLDG",
      "include_colab_link": true
    },
    "kernelspec": {
      "name": "python3",
      "display_name": "Python 3"
    }
  },
  "cells": [
    {
      "cell_type": "markdown",
      "metadata": {
        "id": "view-in-github",
        "colab_type": "text"
      },
      "source": [
        "<a href=\"https://colab.research.google.com/github/HWANG-HOE-SUN/Univ.project/blob/main/SCM_sub2.ipynb\" target=\"_parent\"><img src=\"https://colab.research.google.com/assets/colab-badge.svg\" alt=\"Open In Colab\"/></a>"
      ]
    },
    {
      "cell_type": "code",
      "metadata": {
        "id": "T4qoIc4SPmhl"
      },
      "source": [
        "import matplotlib.pyplot as plt\n",
        "import numpy as np\n",
        "import pandas as pd\n",
        "import datetime as dt\n",
        "import seaborn as sns\n",
        "from scipy import stats\n",
        "import math"
      ],
      "execution_count": 1,
      "outputs": []
    },
    {
      "cell_type": "code",
      "metadata": {
        "id": "0VMQGn6xPpyk"
      },
      "source": [
        "Data = pd.read_excel('과제2_수요예측_데이터.xlsx')"
      ],
      "execution_count": 2,
      "outputs": []
    },
    {
      "cell_type": "code",
      "metadata": {
        "id": "3r_-RrwaW7cw",
        "outputId": "ac45fba6-4950-4b47-f5ba-b1b05d0c2f98",
        "colab": {
          "base_uri": "https://localhost:8080/",
          "height": 233
        }
      },
      "source": [
        "Data['Date'].value_counts() #한날에 수요정보 여러개 있는건 뭐지? 창고다른건 여러개 있다쳐도."
      ],
      "execution_count": 3,
      "outputs": [
        {
          "output_type": "execute_result",
          "data": {
            "text/plain": [
              "2012-01-10    4\n",
              "2015-03-18    4\n",
              "2012-10-01    4\n",
              "2013-04-24    3\n",
              "2014-11-25    3\n",
              "             ..\n",
              "2014-01-21    1\n",
              "2013-09-19    1\n",
              "2014-09-09    1\n",
              "2014-08-12    1\n",
              "2012-12-03    1\n",
              "Name: Date, Length: 469, dtype: int64"
            ]
          },
          "metadata": {
            "tags": []
          },
          "execution_count": 3
        }
      ]
    },
    {
      "cell_type": "code",
      "metadata": {
        "id": "CDaXeqCvXCvj",
        "outputId": "49144480-5f25-406a-a3f0-1e2cd5f0045a",
        "colab": {
          "base_uri": "https://localhost:8080/",
          "height": 395
        }
      },
      "source": [
        "Data.describe(), Data.info()"
      ],
      "execution_count": 4,
      "outputs": [
        {
          "output_type": "stream",
          "text": [
            "<class 'pandas.core.frame.DataFrame'>\n",
            "RangeIndex: 597 entries, 0 to 596\n",
            "Data columns (total 5 columns):\n",
            " #   Column            Non-Null Count  Dtype         \n",
            "---  ------            --------------  -----         \n",
            " 0   Product_Code      597 non-null    object        \n",
            " 1   Warehouse         597 non-null    object        \n",
            " 2   Product_Category  597 non-null    object        \n",
            " 3   Date              597 non-null    datetime64[ns]\n",
            " 4   Order_Demand      597 non-null    int64         \n",
            "dtypes: datetime64[ns](1), int64(1), object(3)\n",
            "memory usage: 23.4+ KB\n"
          ],
          "name": "stdout"
        },
        {
          "output_type": "execute_result",
          "data": {
            "text/plain": [
              "(       Order_Demand\n",
              " count    597.000000\n",
              " mean     757.788945\n",
              " std     1026.458924\n",
              " min    -2300.000000\n",
              " 25%      200.000000\n",
              " 50%      300.000000\n",
              " 75%     1000.000000\n",
              " max     7000.000000, None)"
            ]
          },
          "metadata": {
            "tags": []
          },
          "execution_count": 4
        }
      ]
    },
    {
      "cell_type": "markdown",
      "metadata": {
        "id": "m5i1kWgGXbhj"
      },
      "source": [
        "#데이터 전처리"
      ]
    },
    {
      "cell_type": "code",
      "metadata": {
        "id": "ptVz8jNsXCtU",
        "outputId": "3311b8ea-9178-456f-e913-d9da0ef90c32",
        "colab": {
          "base_uri": "https://localhost:8080/",
          "height": 173
        }
      },
      "source": [
        "# 수요음수값 발견(train기간만)\n",
        "Data[Data['Order_Demand']<0] # 입력실수라 가정,+로하거나 빼거나 0으로 하거나.->성능으로 결정"
      ],
      "execution_count": 5,
      "outputs": [
        {
          "output_type": "execute_result",
          "data": {
            "text/html": [
              "<div>\n",
              "<style scoped>\n",
              "    .dataframe tbody tr th:only-of-type {\n",
              "        vertical-align: middle;\n",
              "    }\n",
              "\n",
              "    .dataframe tbody tr th {\n",
              "        vertical-align: top;\n",
              "    }\n",
              "\n",
              "    .dataframe thead th {\n",
              "        text-align: right;\n",
              "    }\n",
              "</style>\n",
              "<table border=\"1\" class=\"dataframe\">\n",
              "  <thead>\n",
              "    <tr style=\"text-align: right;\">\n",
              "      <th></th>\n",
              "      <th>Product_Code</th>\n",
              "      <th>Warehouse</th>\n",
              "      <th>Product_Category</th>\n",
              "      <th>Date</th>\n",
              "      <th>Order_Demand</th>\n",
              "    </tr>\n",
              "  </thead>\n",
              "  <tbody>\n",
              "    <tr>\n",
              "      <th>56</th>\n",
              "      <td>Product_0001</td>\n",
              "      <td>Whse_J</td>\n",
              "      <td>Category_005</td>\n",
              "      <td>2012-05-11</td>\n",
              "      <td>-100</td>\n",
              "    </tr>\n",
              "    <tr>\n",
              "      <th>109</th>\n",
              "      <td>Product_0001</td>\n",
              "      <td>Whse_A</td>\n",
              "      <td>Category_005</td>\n",
              "      <td>2012-10-12</td>\n",
              "      <td>-1000</td>\n",
              "    </tr>\n",
              "    <tr>\n",
              "      <th>156</th>\n",
              "      <td>Product_0001</td>\n",
              "      <td>Whse_J</td>\n",
              "      <td>Category_005</td>\n",
              "      <td>2013-02-27</td>\n",
              "      <td>-400</td>\n",
              "    </tr>\n",
              "    <tr>\n",
              "      <th>304</th>\n",
              "      <td>Product_0001</td>\n",
              "      <td>Whse_J</td>\n",
              "      <td>Category_005</td>\n",
              "      <td>2014-06-02</td>\n",
              "      <td>-2300</td>\n",
              "    </tr>\n",
              "  </tbody>\n",
              "</table>\n",
              "</div>"
            ],
            "text/plain": [
              "     Product_Code Warehouse Product_Category       Date  Order_Demand\n",
              "56   Product_0001    Whse_J     Category_005 2012-05-11          -100\n",
              "109  Product_0001    Whse_A     Category_005 2012-10-12         -1000\n",
              "156  Product_0001    Whse_J     Category_005 2013-02-27          -400\n",
              "304  Product_0001    Whse_J     Category_005 2014-06-02         -2300"
            ]
          },
          "metadata": {
            "tags": []
          },
          "execution_count": 5
        }
      ]
    },
    {
      "cell_type": "code",
      "metadata": {
        "id": "BhYFna47Xe0A"
      },
      "source": [
        "Data[\"Day\"]=Data[\"Date\"].dt.dayofweek # 요일\n",
        "Data['Month'] = Data['Date'].dt.month # 월\n",
        "Data['year'] = Data['Date'].dt.year # 년도"
      ],
      "execution_count": 6,
      "outputs": []
    },
    {
      "cell_type": "code",
      "metadata": {
        "id": "ESJ1fTQkKR9n"
      },
      "source": [
        "Data['year_month'] = pd.to_datetime(Data['Date']).dt.to_period('M') # 월별 집계를 위한 년-월 생성"
      ],
      "execution_count": 7,
      "outputs": []
    },
    {
      "cell_type": "code",
      "metadata": {
        "id": "NMIhx2m9LduK",
        "outputId": "fa05fc4f-4094-4bbe-83c3-32f89fe35c0c",
        "colab": {
          "base_uri": "https://localhost:8080/",
          "height": 609
        }
      },
      "source": [
        "Data"
      ],
      "execution_count": 8,
      "outputs": [
        {
          "output_type": "execute_result",
          "data": {
            "text/html": [
              "<div>\n",
              "<style scoped>\n",
              "    .dataframe tbody tr th:only-of-type {\n",
              "        vertical-align: middle;\n",
              "    }\n",
              "\n",
              "    .dataframe tbody tr th {\n",
              "        vertical-align: top;\n",
              "    }\n",
              "\n",
              "    .dataframe thead th {\n",
              "        text-align: right;\n",
              "    }\n",
              "</style>\n",
              "<table border=\"1\" class=\"dataframe\">\n",
              "  <thead>\n",
              "    <tr style=\"text-align: right;\">\n",
              "      <th></th>\n",
              "      <th>Product_Code</th>\n",
              "      <th>Warehouse</th>\n",
              "      <th>Product_Category</th>\n",
              "      <th>Date</th>\n",
              "      <th>Order_Demand</th>\n",
              "      <th>Day</th>\n",
              "      <th>Month</th>\n",
              "      <th>year</th>\n",
              "      <th>year_month</th>\n",
              "    </tr>\n",
              "  </thead>\n",
              "  <tbody>\n",
              "    <tr>\n",
              "      <th>0</th>\n",
              "      <td>Product_0001</td>\n",
              "      <td>Whse_J</td>\n",
              "      <td>Category_005</td>\n",
              "      <td>2011-12-16</td>\n",
              "      <td>200</td>\n",
              "      <td>4</td>\n",
              "      <td>12</td>\n",
              "      <td>2011</td>\n",
              "      <td>2011-12</td>\n",
              "    </tr>\n",
              "    <tr>\n",
              "      <th>1</th>\n",
              "      <td>Product_0001</td>\n",
              "      <td>Whse_J</td>\n",
              "      <td>Category_005</td>\n",
              "      <td>2011-12-20</td>\n",
              "      <td>100</td>\n",
              "      <td>1</td>\n",
              "      <td>12</td>\n",
              "      <td>2011</td>\n",
              "      <td>2011-12</td>\n",
              "    </tr>\n",
              "    <tr>\n",
              "      <th>2</th>\n",
              "      <td>Product_0001</td>\n",
              "      <td>Whse_A</td>\n",
              "      <td>Category_005</td>\n",
              "      <td>2012-01-03</td>\n",
              "      <td>200</td>\n",
              "      <td>1</td>\n",
              "      <td>1</td>\n",
              "      <td>2012</td>\n",
              "      <td>2012-01</td>\n",
              "    </tr>\n",
              "    <tr>\n",
              "      <th>3</th>\n",
              "      <td>Product_0001</td>\n",
              "      <td>Whse_A</td>\n",
              "      <td>Category_005</td>\n",
              "      <td>2012-01-03</td>\n",
              "      <td>800</td>\n",
              "      <td>1</td>\n",
              "      <td>1</td>\n",
              "      <td>2012</td>\n",
              "      <td>2012-01</td>\n",
              "    </tr>\n",
              "    <tr>\n",
              "      <th>4</th>\n",
              "      <td>Product_0001</td>\n",
              "      <td>Whse_A</td>\n",
              "      <td>Category_005</td>\n",
              "      <td>2012-01-04</td>\n",
              "      <td>200</td>\n",
              "      <td>2</td>\n",
              "      <td>1</td>\n",
              "      <td>2012</td>\n",
              "      <td>2012-01</td>\n",
              "    </tr>\n",
              "    <tr>\n",
              "      <th>...</th>\n",
              "      <td>...</td>\n",
              "      <td>...</td>\n",
              "      <td>...</td>\n",
              "      <td>...</td>\n",
              "      <td>...</td>\n",
              "      <td>...</td>\n",
              "      <td>...</td>\n",
              "      <td>...</td>\n",
              "      <td>...</td>\n",
              "    </tr>\n",
              "    <tr>\n",
              "      <th>592</th>\n",
              "      <td>Product_0001</td>\n",
              "      <td>Whse_J</td>\n",
              "      <td>Category_005</td>\n",
              "      <td>2016-12-14</td>\n",
              "      <td>200</td>\n",
              "      <td>2</td>\n",
              "      <td>12</td>\n",
              "      <td>2016</td>\n",
              "      <td>2016-12</td>\n",
              "    </tr>\n",
              "    <tr>\n",
              "      <th>593</th>\n",
              "      <td>Product_0001</td>\n",
              "      <td>Whse_A</td>\n",
              "      <td>Category_005</td>\n",
              "      <td>2016-12-15</td>\n",
              "      <td>200</td>\n",
              "      <td>3</td>\n",
              "      <td>12</td>\n",
              "      <td>2016</td>\n",
              "      <td>2016-12</td>\n",
              "    </tr>\n",
              "    <tr>\n",
              "      <th>594</th>\n",
              "      <td>Product_0001</td>\n",
              "      <td>Whse_J</td>\n",
              "      <td>Category_005</td>\n",
              "      <td>2016-12-19</td>\n",
              "      <td>500</td>\n",
              "      <td>0</td>\n",
              "      <td>12</td>\n",
              "      <td>2016</td>\n",
              "      <td>2016-12</td>\n",
              "    </tr>\n",
              "    <tr>\n",
              "      <th>595</th>\n",
              "      <td>Product_0001</td>\n",
              "      <td>Whse_J</td>\n",
              "      <td>Category_005</td>\n",
              "      <td>2016-12-22</td>\n",
              "      <td>300</td>\n",
              "      <td>3</td>\n",
              "      <td>12</td>\n",
              "      <td>2016</td>\n",
              "      <td>2016-12</td>\n",
              "    </tr>\n",
              "    <tr>\n",
              "      <th>596</th>\n",
              "      <td>Product_0001</td>\n",
              "      <td>Whse_J</td>\n",
              "      <td>Category_005</td>\n",
              "      <td>2016-12-26</td>\n",
              "      <td>300</td>\n",
              "      <td>0</td>\n",
              "      <td>12</td>\n",
              "      <td>2016</td>\n",
              "      <td>2016-12</td>\n",
              "    </tr>\n",
              "  </tbody>\n",
              "</table>\n",
              "<p>597 rows × 9 columns</p>\n",
              "</div>"
            ],
            "text/plain": [
              "     Product_Code Warehouse Product_Category  ... Month  year  year_month\n",
              "0    Product_0001    Whse_J     Category_005  ...    12  2011     2011-12\n",
              "1    Product_0001    Whse_J     Category_005  ...    12  2011     2011-12\n",
              "2    Product_0001    Whse_A     Category_005  ...     1  2012     2012-01\n",
              "3    Product_0001    Whse_A     Category_005  ...     1  2012     2012-01\n",
              "4    Product_0001    Whse_A     Category_005  ...     1  2012     2012-01\n",
              "..            ...       ...              ...  ...   ...   ...         ...\n",
              "592  Product_0001    Whse_J     Category_005  ...    12  2016     2016-12\n",
              "593  Product_0001    Whse_A     Category_005  ...    12  2016     2016-12\n",
              "594  Product_0001    Whse_J     Category_005  ...    12  2016     2016-12\n",
              "595  Product_0001    Whse_J     Category_005  ...    12  2016     2016-12\n",
              "596  Product_0001    Whse_J     Category_005  ...    12  2016     2016-12\n",
              "\n",
              "[597 rows x 9 columns]"
            ]
          },
          "metadata": {
            "tags": []
          },
          "execution_count": 8
        }
      ]
    },
    {
      "cell_type": "code",
      "metadata": {
        "id": "Z9Hi6gv0e3kJ",
        "outputId": "21f0fa3d-6385-49a9-ab16-e540caf05789",
        "colab": {
          "base_uri": "https://localhost:8080/",
          "height": 125
        }
      },
      "source": [
        "Data['Day'].value_counts() # 월~금 평일에만 장사한다.(수요발생)"
      ],
      "execution_count": 9,
      "outputs": [
        {
          "output_type": "execute_result",
          "data": {
            "text/plain": [
              "0    131\n",
              "3    119\n",
              "2    116\n",
              "1    116\n",
              "4    115\n",
              "Name: Day, dtype: int64"
            ]
          },
          "metadata": {
            "tags": []
          },
          "execution_count": 9
        }
      ]
    },
    {
      "cell_type": "code",
      "metadata": {
        "id": "Oa85iY0GuJLC",
        "outputId": "9c4e8552-2d91-4e71-aa76-f84a730604ec",
        "colab": {
          "base_uri": "https://localhost:8080/",
          "height": 467
        }
      },
      "source": [
        "Data.groupby('year_month')['Order_Demand'].mean(),Data.groupby('year_month')['Order_Demand'].count() # 2011년은 2개의 값만 존재."
      ],
      "execution_count": 10,
      "outputs": [
        {
          "output_type": "execute_result",
          "data": {
            "text/plain": [
              "(year_month\n",
              " 2011-12     150.000000\n",
              " 2012-01     646.666667\n",
              " 2012-02    1000.000000\n",
              " 2012-03    1084.615385\n",
              " 2012-04     471.428571\n",
              "               ...     \n",
              " 2016-08    1590.909091\n",
              " 2016-09     471.428571\n",
              " 2016-10     300.000000\n",
              " 2016-11     300.000000\n",
              " 2016-12     283.333333\n",
              " Freq: M, Name: Order_Demand, Length: 61, dtype: float64, year_month\n",
              " 2011-12     2\n",
              " 2012-01    15\n",
              " 2012-02    13\n",
              " 2012-03    13\n",
              " 2012-04     7\n",
              "            ..\n",
              " 2016-08    11\n",
              " 2016-09     7\n",
              " 2016-10     7\n",
              " 2016-11     2\n",
              " 2016-12     6\n",
              " Freq: M, Name: Order_Demand, Length: 61, dtype: int64)"
            ]
          },
          "metadata": {
            "tags": []
          },
          "execution_count": 10
        }
      ]
    },
    {
      "cell_type": "code",
      "metadata": {
        "id": "ByxF9U8FIchB"
      },
      "source": [
        "grouped_Data = Data.groupby('year_month')['Order_Demand']"
      ],
      "execution_count": 11,
      "outputs": []
    },
    {
      "cell_type": "code",
      "metadata": {
        "id": "JSWD5FhFPSGO",
        "outputId": "c01c3b4e-ae67-4952-9be8-f420f0df025c",
        "colab": {
          "base_uri": "https://localhost:8080/",
          "height": 450
        }
      },
      "source": [
        "grouped_Data.describe()"
      ],
      "execution_count": 12,
      "outputs": [
        {
          "output_type": "execute_result",
          "data": {
            "text/html": [
              "<div>\n",
              "<style scoped>\n",
              "    .dataframe tbody tr th:only-of-type {\n",
              "        vertical-align: middle;\n",
              "    }\n",
              "\n",
              "    .dataframe tbody tr th {\n",
              "        vertical-align: top;\n",
              "    }\n",
              "\n",
              "    .dataframe thead th {\n",
              "        text-align: right;\n",
              "    }\n",
              "</style>\n",
              "<table border=\"1\" class=\"dataframe\">\n",
              "  <thead>\n",
              "    <tr style=\"text-align: right;\">\n",
              "      <th></th>\n",
              "      <th>count</th>\n",
              "      <th>mean</th>\n",
              "      <th>std</th>\n",
              "      <th>min</th>\n",
              "      <th>25%</th>\n",
              "      <th>50%</th>\n",
              "      <th>75%</th>\n",
              "      <th>max</th>\n",
              "    </tr>\n",
              "    <tr>\n",
              "      <th>year_month</th>\n",
              "      <th></th>\n",
              "      <th></th>\n",
              "      <th></th>\n",
              "      <th></th>\n",
              "      <th></th>\n",
              "      <th></th>\n",
              "      <th></th>\n",
              "      <th></th>\n",
              "    </tr>\n",
              "  </thead>\n",
              "  <tbody>\n",
              "    <tr>\n",
              "      <th>2011-12</th>\n",
              "      <td>2.0</td>\n",
              "      <td>150.000000</td>\n",
              "      <td>70.710678</td>\n",
              "      <td>100.0</td>\n",
              "      <td>125.0</td>\n",
              "      <td>150.0</td>\n",
              "      <td>175.0</td>\n",
              "      <td>200.0</td>\n",
              "    </tr>\n",
              "    <tr>\n",
              "      <th>2012-01</th>\n",
              "      <td>15.0</td>\n",
              "      <td>646.666667</td>\n",
              "      <td>647.927098</td>\n",
              "      <td>100.0</td>\n",
              "      <td>200.0</td>\n",
              "      <td>200.0</td>\n",
              "      <td>900.0</td>\n",
              "      <td>2000.0</td>\n",
              "    </tr>\n",
              "    <tr>\n",
              "      <th>2012-02</th>\n",
              "      <td>13.0</td>\n",
              "      <td>1000.000000</td>\n",
              "      <td>1164.760347</td>\n",
              "      <td>100.0</td>\n",
              "      <td>200.0</td>\n",
              "      <td>500.0</td>\n",
              "      <td>1000.0</td>\n",
              "      <td>3000.0</td>\n",
              "    </tr>\n",
              "    <tr>\n",
              "      <th>2012-03</th>\n",
              "      <td>13.0</td>\n",
              "      <td>1084.615385</td>\n",
              "      <td>1340.302300</td>\n",
              "      <td>100.0</td>\n",
              "      <td>400.0</td>\n",
              "      <td>500.0</td>\n",
              "      <td>1000.0</td>\n",
              "      <td>5000.0</td>\n",
              "    </tr>\n",
              "    <tr>\n",
              "      <th>2012-04</th>\n",
              "      <td>7.0</td>\n",
              "      <td>471.428571</td>\n",
              "      <td>269.037084</td>\n",
              "      <td>100.0</td>\n",
              "      <td>400.0</td>\n",
              "      <td>400.0</td>\n",
              "      <td>500.0</td>\n",
              "      <td>1000.0</td>\n",
              "    </tr>\n",
              "    <tr>\n",
              "      <th>...</th>\n",
              "      <td>...</td>\n",
              "      <td>...</td>\n",
              "      <td>...</td>\n",
              "      <td>...</td>\n",
              "      <td>...</td>\n",
              "      <td>...</td>\n",
              "      <td>...</td>\n",
              "      <td>...</td>\n",
              "    </tr>\n",
              "    <tr>\n",
              "      <th>2016-08</th>\n",
              "      <td>11.0</td>\n",
              "      <td>1590.909091</td>\n",
              "      <td>1967.970805</td>\n",
              "      <td>100.0</td>\n",
              "      <td>300.0</td>\n",
              "      <td>500.0</td>\n",
              "      <td>2450.0</td>\n",
              "      <td>6100.0</td>\n",
              "    </tr>\n",
              "    <tr>\n",
              "      <th>2016-09</th>\n",
              "      <td>7.0</td>\n",
              "      <td>471.428571</td>\n",
              "      <td>372.890894</td>\n",
              "      <td>100.0</td>\n",
              "      <td>300.0</td>\n",
              "      <td>300.0</td>\n",
              "      <td>600.0</td>\n",
              "      <td>1100.0</td>\n",
              "    </tr>\n",
              "    <tr>\n",
              "      <th>2016-10</th>\n",
              "      <td>7.0</td>\n",
              "      <td>300.000000</td>\n",
              "      <td>191.485422</td>\n",
              "      <td>100.0</td>\n",
              "      <td>150.0</td>\n",
              "      <td>300.0</td>\n",
              "      <td>400.0</td>\n",
              "      <td>600.0</td>\n",
              "    </tr>\n",
              "    <tr>\n",
              "      <th>2016-11</th>\n",
              "      <td>2.0</td>\n",
              "      <td>300.000000</td>\n",
              "      <td>282.842712</td>\n",
              "      <td>100.0</td>\n",
              "      <td>200.0</td>\n",
              "      <td>300.0</td>\n",
              "      <td>400.0</td>\n",
              "      <td>500.0</td>\n",
              "    </tr>\n",
              "    <tr>\n",
              "      <th>2016-12</th>\n",
              "      <td>6.0</td>\n",
              "      <td>283.333333</td>\n",
              "      <td>116.904519</td>\n",
              "      <td>200.0</td>\n",
              "      <td>200.0</td>\n",
              "      <td>250.0</td>\n",
              "      <td>300.0</td>\n",
              "      <td>500.0</td>\n",
              "    </tr>\n",
              "  </tbody>\n",
              "</table>\n",
              "<p>61 rows × 8 columns</p>\n",
              "</div>"
            ],
            "text/plain": [
              "            count         mean          std  ...    50%     75%     max\n",
              "year_month                                   ...                       \n",
              "2011-12       2.0   150.000000    70.710678  ...  150.0   175.0   200.0\n",
              "2012-01      15.0   646.666667   647.927098  ...  200.0   900.0  2000.0\n",
              "2012-02      13.0  1000.000000  1164.760347  ...  500.0  1000.0  3000.0\n",
              "2012-03      13.0  1084.615385  1340.302300  ...  500.0  1000.0  5000.0\n",
              "2012-04       7.0   471.428571   269.037084  ...  400.0   500.0  1000.0\n",
              "...           ...          ...          ...  ...    ...     ...     ...\n",
              "2016-08      11.0  1590.909091  1967.970805  ...  500.0  2450.0  6100.0\n",
              "2016-09       7.0   471.428571   372.890894  ...  300.0   600.0  1100.0\n",
              "2016-10       7.0   300.000000   191.485422  ...  300.0   400.0   600.0\n",
              "2016-11       2.0   300.000000   282.842712  ...  300.0   400.0   500.0\n",
              "2016-12       6.0   283.333333   116.904519  ...  250.0   300.0   500.0\n",
              "\n",
              "[61 rows x 8 columns]"
            ]
          },
          "metadata": {
            "tags": []
          },
          "execution_count": 12
        }
      ]
    },
    {
      "cell_type": "code",
      "metadata": {
        "id": "FCNB33NKPWnc",
        "outputId": "392a8756-1da0-463b-a2db-05f26037099c",
        "colab": {
          "base_uri": "https://localhost:8080/",
          "height": 251
        }
      },
      "source": [
        "grouped_Data.sum()"
      ],
      "execution_count": 13,
      "outputs": [
        {
          "output_type": "execute_result",
          "data": {
            "text/plain": [
              "year_month\n",
              "2011-12      300\n",
              "2012-01     9700\n",
              "2012-02    13000\n",
              "2012-03    14100\n",
              "2012-04     3300\n",
              "           ...  \n",
              "2016-08    17500\n",
              "2016-09     3300\n",
              "2016-10     2100\n",
              "2016-11      600\n",
              "2016-12     1700\n",
              "Freq: M, Name: Order_Demand, Length: 61, dtype: int64"
            ]
          },
          "metadata": {
            "tags": []
          },
          "execution_count": 13
        }
      ]
    },
    {
      "cell_type": "code",
      "metadata": {
        "id": "vI0sjZU2QJW5"
      },
      "source": [
        "grouped_Data.sum().to_excel(\"handed_sub2.xlsx\") # 년월+수요정보만 있는 excel파일"
      ],
      "execution_count": 14,
      "outputs": []
    },
    {
      "cell_type": "code",
      "metadata": {
        "id": "wbEMumpamBOj"
      },
      "source": [
        "train, test = Data[Data['year']!=2016], Data[Data['year']==2016]"
      ],
      "execution_count": 19,
      "outputs": []
    },
    {
      "cell_type": "code",
      "metadata": {
        "id": "_LKoZK40-7YH"
      },
      "source": [
        "train_x,train_y = train.loc[:,train.columns!='Order_Demand'], train.loc[:,'Order_Demand']"
      ],
      "execution_count": 35,
      "outputs": []
    },
    {
      "cell_type": "code",
      "metadata": {
        "id": "jbOxkcoN_yEn"
      },
      "source": [
        "test_x, test_y = test.loc[:,train.columns!='Order_Demand'], test.loc[:,'Order_Demand']"
      ],
      "execution_count": 36,
      "outputs": []
    },
    {
      "cell_type": "code",
      "metadata": {
        "id": "8lYM3D9L_6C9",
        "outputId": "2db36bec-a6f9-47df-e4bb-7f0a8dd8b67e",
        "colab": {
          "base_uri": "https://localhost:8080/",
          "height": 419
        }
      },
      "source": [
        ""
      ],
      "execution_count": 37,
      "outputs": [
        {
          "output_type": "execute_result",
          "data": {
            "text/html": [
              "<div>\n",
              "<style scoped>\n",
              "    .dataframe tbody tr th:only-of-type {\n",
              "        vertical-align: middle;\n",
              "    }\n",
              "\n",
              "    .dataframe tbody tr th {\n",
              "        vertical-align: top;\n",
              "    }\n",
              "\n",
              "    .dataframe thead th {\n",
              "        text-align: right;\n",
              "    }\n",
              "</style>\n",
              "<table border=\"1\" class=\"dataframe\">\n",
              "  <thead>\n",
              "    <tr style=\"text-align: right;\">\n",
              "      <th></th>\n",
              "      <th>Product_Code</th>\n",
              "      <th>Warehouse</th>\n",
              "      <th>Product_Category</th>\n",
              "      <th>Date</th>\n",
              "      <th>Day</th>\n",
              "      <th>Month</th>\n",
              "      <th>year</th>\n",
              "      <th>year_month</th>\n",
              "    </tr>\n",
              "  </thead>\n",
              "  <tbody>\n",
              "    <tr>\n",
              "      <th>494</th>\n",
              "      <td>Product_0001</td>\n",
              "      <td>Whse_J</td>\n",
              "      <td>Category_005</td>\n",
              "      <td>2016-01-05</td>\n",
              "      <td>1</td>\n",
              "      <td>1</td>\n",
              "      <td>2016</td>\n",
              "      <td>2016-01</td>\n",
              "    </tr>\n",
              "    <tr>\n",
              "      <th>495</th>\n",
              "      <td>Product_0001</td>\n",
              "      <td>Whse_J</td>\n",
              "      <td>Category_005</td>\n",
              "      <td>2016-01-05</td>\n",
              "      <td>1</td>\n",
              "      <td>1</td>\n",
              "      <td>2016</td>\n",
              "      <td>2016-01</td>\n",
              "    </tr>\n",
              "    <tr>\n",
              "      <th>496</th>\n",
              "      <td>Product_0001</td>\n",
              "      <td>Whse_J</td>\n",
              "      <td>Category_005</td>\n",
              "      <td>2016-01-07</td>\n",
              "      <td>3</td>\n",
              "      <td>1</td>\n",
              "      <td>2016</td>\n",
              "      <td>2016-01</td>\n",
              "    </tr>\n",
              "    <tr>\n",
              "      <th>497</th>\n",
              "      <td>Product_0001</td>\n",
              "      <td>Whse_J</td>\n",
              "      <td>Category_005</td>\n",
              "      <td>2016-01-08</td>\n",
              "      <td>4</td>\n",
              "      <td>1</td>\n",
              "      <td>2016</td>\n",
              "      <td>2016-01</td>\n",
              "    </tr>\n",
              "    <tr>\n",
              "      <th>498</th>\n",
              "      <td>Product_0001</td>\n",
              "      <td>Whse_J</td>\n",
              "      <td>Category_005</td>\n",
              "      <td>2016-01-15</td>\n",
              "      <td>4</td>\n",
              "      <td>1</td>\n",
              "      <td>2016</td>\n",
              "      <td>2016-01</td>\n",
              "    </tr>\n",
              "    <tr>\n",
              "      <th>...</th>\n",
              "      <td>...</td>\n",
              "      <td>...</td>\n",
              "      <td>...</td>\n",
              "      <td>...</td>\n",
              "      <td>...</td>\n",
              "      <td>...</td>\n",
              "      <td>...</td>\n",
              "      <td>...</td>\n",
              "    </tr>\n",
              "    <tr>\n",
              "      <th>592</th>\n",
              "      <td>Product_0001</td>\n",
              "      <td>Whse_J</td>\n",
              "      <td>Category_005</td>\n",
              "      <td>2016-12-14</td>\n",
              "      <td>2</td>\n",
              "      <td>12</td>\n",
              "      <td>2016</td>\n",
              "      <td>2016-12</td>\n",
              "    </tr>\n",
              "    <tr>\n",
              "      <th>593</th>\n",
              "      <td>Product_0001</td>\n",
              "      <td>Whse_A</td>\n",
              "      <td>Category_005</td>\n",
              "      <td>2016-12-15</td>\n",
              "      <td>3</td>\n",
              "      <td>12</td>\n",
              "      <td>2016</td>\n",
              "      <td>2016-12</td>\n",
              "    </tr>\n",
              "    <tr>\n",
              "      <th>594</th>\n",
              "      <td>Product_0001</td>\n",
              "      <td>Whse_J</td>\n",
              "      <td>Category_005</td>\n",
              "      <td>2016-12-19</td>\n",
              "      <td>0</td>\n",
              "      <td>12</td>\n",
              "      <td>2016</td>\n",
              "      <td>2016-12</td>\n",
              "    </tr>\n",
              "    <tr>\n",
              "      <th>595</th>\n",
              "      <td>Product_0001</td>\n",
              "      <td>Whse_J</td>\n",
              "      <td>Category_005</td>\n",
              "      <td>2016-12-22</td>\n",
              "      <td>3</td>\n",
              "      <td>12</td>\n",
              "      <td>2016</td>\n",
              "      <td>2016-12</td>\n",
              "    </tr>\n",
              "    <tr>\n",
              "      <th>596</th>\n",
              "      <td>Product_0001</td>\n",
              "      <td>Whse_J</td>\n",
              "      <td>Category_005</td>\n",
              "      <td>2016-12-26</td>\n",
              "      <td>0</td>\n",
              "      <td>12</td>\n",
              "      <td>2016</td>\n",
              "      <td>2016-12</td>\n",
              "    </tr>\n",
              "  </tbody>\n",
              "</table>\n",
              "<p>103 rows × 8 columns</p>\n",
              "</div>"
            ],
            "text/plain": [
              "     Product_Code Warehouse Product_Category  ... Month  year  year_month\n",
              "494  Product_0001    Whse_J     Category_005  ...     1  2016     2016-01\n",
              "495  Product_0001    Whse_J     Category_005  ...     1  2016     2016-01\n",
              "496  Product_0001    Whse_J     Category_005  ...     1  2016     2016-01\n",
              "497  Product_0001    Whse_J     Category_005  ...     1  2016     2016-01\n",
              "498  Product_0001    Whse_J     Category_005  ...     1  2016     2016-01\n",
              "..            ...       ...              ...  ...   ...   ...         ...\n",
              "592  Product_0001    Whse_J     Category_005  ...    12  2016     2016-12\n",
              "593  Product_0001    Whse_A     Category_005  ...    12  2016     2016-12\n",
              "594  Product_0001    Whse_J     Category_005  ...    12  2016     2016-12\n",
              "595  Product_0001    Whse_J     Category_005  ...    12  2016     2016-12\n",
              "596  Product_0001    Whse_J     Category_005  ...    12  2016     2016-12\n",
              "\n",
              "[103 rows x 8 columns]"
            ]
          },
          "metadata": {
            "tags": []
          },
          "execution_count": 37
        }
      ]
    }
  ]
}
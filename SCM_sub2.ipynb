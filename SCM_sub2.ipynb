{
  "nbformat": 4,
  "nbformat_minor": 0,
  "metadata": {
    "colab": {
      "name": "SCM_sub2.ipynb",
      "provenance": [],
      "collapsed_sections": [],
      "toc_visible": true,
      "authorship_tag": "ABX9TyPBTBS//ABr3ww6I148JVam",
      "include_colab_link": true
    },
    "kernelspec": {
      "name": "python3",
      "display_name": "Python 3"
    }
  },
  "cells": [
    {
      "cell_type": "markdown",
      "metadata": {
        "id": "view-in-github",
        "colab_type": "text"
      },
      "source": [
        "<a href=\"https://colab.research.google.com/github/HWANG-HOE-SUN/Univ.project/blob/main/SCM_sub2.ipynb\" target=\"_parent\"><img src=\"https://colab.research.google.com/assets/colab-badge.svg\" alt=\"Open In Colab\"/></a>"
      ]
    },
    {
      "cell_type": "code",
      "metadata": {
        "id": "T4qoIc4SPmhl"
      },
      "source": [
        "import matplotlib.pyplot as plt\n",
        "import numpy as np\n",
        "import pandas as pd\n",
        "import datetime as dt\n",
        "import seaborn as sns\n",
        "from scipy import stats\n",
        "import math"
      ],
      "execution_count": 1,
      "outputs": []
    },
    {
      "cell_type": "code",
      "metadata": {
        "id": "0VMQGn6xPpyk"
      },
      "source": [
        "Data = pd.read_excel('과제2_수요예측_데이터.xlsx')"
      ],
      "execution_count": 2,
      "outputs": []
    },
    {
      "cell_type": "code",
      "metadata": {
        "id": "3r_-RrwaW7cw",
        "outputId": "aff15913-b95d-4849-e0fb-8aff70fbb571",
        "colab": {
          "base_uri": "https://localhost:8080/",
          "height": 230
        }
      },
      "source": [
        "Data['Date'].value_counts() #한날에 수요정보 여러개 있는건 뭐지? 창고다른건 여러개 있다쳐도."
      ],
      "execution_count": 3,
      "outputs": [
        {
          "output_type": "execute_result",
          "data": {
            "text/plain": [
              "2012-01-10    4\n",
              "2015-03-18    4\n",
              "2012-10-01    4\n",
              "2013-04-24    3\n",
              "2014-11-25    3\n",
              "             ..\n",
              "2014-01-21    1\n",
              "2013-09-19    1\n",
              "2014-09-09    1\n",
              "2014-08-12    1\n",
              "2012-12-03    1\n",
              "Name: Date, Length: 469, dtype: int64"
            ]
          },
          "metadata": {
            "tags": []
          },
          "execution_count": 3
        }
      ]
    },
    {
      "cell_type": "code",
      "metadata": {
        "id": "CDaXeqCvXCvj",
        "outputId": "45b4d444-3648-4b09-ab7e-a0949cef6344",
        "colab": {
          "base_uri": "https://localhost:8080/",
          "height": 390
        }
      },
      "source": [
        "Data.describe(), Data.info()"
      ],
      "execution_count": 4,
      "outputs": [
        {
          "output_type": "stream",
          "text": [
            "<class 'pandas.core.frame.DataFrame'>\n",
            "RangeIndex: 597 entries, 0 to 596\n",
            "Data columns (total 5 columns):\n",
            " #   Column            Non-Null Count  Dtype         \n",
            "---  ------            --------------  -----         \n",
            " 0   Product_Code      597 non-null    object        \n",
            " 1   Warehouse         597 non-null    object        \n",
            " 2   Product_Category  597 non-null    object        \n",
            " 3   Date              597 non-null    datetime64[ns]\n",
            " 4   Order_Demand      597 non-null    int64         \n",
            "dtypes: datetime64[ns](1), int64(1), object(3)\n",
            "memory usage: 23.4+ KB\n"
          ],
          "name": "stdout"
        },
        {
          "output_type": "execute_result",
          "data": {
            "text/plain": [
              "(       Order_Demand\n",
              " count    597.000000\n",
              " mean     770.519263\n",
              " std     1016.921545\n",
              " min        0.000000\n",
              " 25%      200.000000\n",
              " 50%      300.000000\n",
              " 75%     1000.000000\n",
              " max     7000.000000, None)"
            ]
          },
          "metadata": {
            "tags": []
          },
          "execution_count": 4
        }
      ]
    },
    {
      "cell_type": "markdown",
      "metadata": {
        "id": "m5i1kWgGXbhj"
      },
      "source": [
        "#데이터 전처리"
      ]
    },
    {
      "cell_type": "code",
      "metadata": {
        "id": "ptVz8jNsXCtU",
        "outputId": "88a10048-2451-42a7-ec07-c5cb673522a3",
        "colab": {
          "base_uri": "https://localhost:8080/",
          "height": 47
        }
      },
      "source": [
        "# 수요음수값 발견(train기간만)\n",
        "Data[Data['Order_Demand']<0] # 입력실수라 가정,+로하거나 빼거나 0으로 하거나.->성능으로 결정"
      ],
      "execution_count": 5,
      "outputs": [
        {
          "output_type": "execute_result",
          "data": {
            "text/html": [
              "<div>\n",
              "<style scoped>\n",
              "    .dataframe tbody tr th:only-of-type {\n",
              "        vertical-align: middle;\n",
              "    }\n",
              "\n",
              "    .dataframe tbody tr th {\n",
              "        vertical-align: top;\n",
              "    }\n",
              "\n",
              "    .dataframe thead th {\n",
              "        text-align: right;\n",
              "    }\n",
              "</style>\n",
              "<table border=\"1\" class=\"dataframe\">\n",
              "  <thead>\n",
              "    <tr style=\"text-align: right;\">\n",
              "      <th></th>\n",
              "      <th>Product_Code</th>\n",
              "      <th>Warehouse</th>\n",
              "      <th>Product_Category</th>\n",
              "      <th>Date</th>\n",
              "      <th>Order_Demand</th>\n",
              "    </tr>\n",
              "  </thead>\n",
              "  <tbody>\n",
              "  </tbody>\n",
              "</table>\n",
              "</div>"
            ],
            "text/plain": [
              "Empty DataFrame\n",
              "Columns: [Product_Code, Warehouse, Product_Category, Date, Order_Demand]\n",
              "Index: []"
            ]
          },
          "metadata": {
            "tags": []
          },
          "execution_count": 5
        }
      ]
    },
    {
      "cell_type": "code",
      "metadata": {
        "id": "BhYFna47Xe0A"
      },
      "source": [
        "Data[\"Day\"]=Data[\"Date\"].dt.dayofweek # 요일\n",
        "Data['Month'] = Data['Date'].dt.month # 월\n",
        "Data['year'] = Data['Date'].dt.year # 년도"
      ],
      "execution_count": 6,
      "outputs": []
    },
    {
      "cell_type": "code",
      "metadata": {
        "id": "ESJ1fTQkKR9n"
      },
      "source": [
        "Data['year_month'] = pd.to_datetime(Data['Date']).dt.to_period('M') # 월별 집계를 위한 년-월 생성"
      ],
      "execution_count": 7,
      "outputs": []
    },
    {
      "cell_type": "code",
      "metadata": {
        "id": "NMIhx2m9LduK",
        "outputId": "1496242d-d9af-408c-e8e2-e318af05306b",
        "colab": {
          "base_uri": "https://localhost:8080/",
          "height": 399
        }
      },
      "source": [
        "Data"
      ],
      "execution_count": 8,
      "outputs": [
        {
          "output_type": "execute_result",
          "data": {
            "text/html": [
              "<div>\n",
              "<style scoped>\n",
              "    .dataframe tbody tr th:only-of-type {\n",
              "        vertical-align: middle;\n",
              "    }\n",
              "\n",
              "    .dataframe tbody tr th {\n",
              "        vertical-align: top;\n",
              "    }\n",
              "\n",
              "    .dataframe thead th {\n",
              "        text-align: right;\n",
              "    }\n",
              "</style>\n",
              "<table border=\"1\" class=\"dataframe\">\n",
              "  <thead>\n",
              "    <tr style=\"text-align: right;\">\n",
              "      <th></th>\n",
              "      <th>Product_Code</th>\n",
              "      <th>Warehouse</th>\n",
              "      <th>Product_Category</th>\n",
              "      <th>Date</th>\n",
              "      <th>Order_Demand</th>\n",
              "      <th>Day</th>\n",
              "      <th>Month</th>\n",
              "      <th>year</th>\n",
              "      <th>year_month</th>\n",
              "    </tr>\n",
              "  </thead>\n",
              "  <tbody>\n",
              "    <tr>\n",
              "      <th>0</th>\n",
              "      <td>Product_0001</td>\n",
              "      <td>Whse_J</td>\n",
              "      <td>Category_005</td>\n",
              "      <td>2011-12-16</td>\n",
              "      <td>200</td>\n",
              "      <td>4</td>\n",
              "      <td>12</td>\n",
              "      <td>2011</td>\n",
              "      <td>2011-12</td>\n",
              "    </tr>\n",
              "    <tr>\n",
              "      <th>1</th>\n",
              "      <td>Product_0001</td>\n",
              "      <td>Whse_J</td>\n",
              "      <td>Category_005</td>\n",
              "      <td>2011-12-20</td>\n",
              "      <td>100</td>\n",
              "      <td>1</td>\n",
              "      <td>12</td>\n",
              "      <td>2011</td>\n",
              "      <td>2011-12</td>\n",
              "    </tr>\n",
              "    <tr>\n",
              "      <th>2</th>\n",
              "      <td>Product_0001</td>\n",
              "      <td>Whse_A</td>\n",
              "      <td>Category_005</td>\n",
              "      <td>2012-01-03</td>\n",
              "      <td>200</td>\n",
              "      <td>1</td>\n",
              "      <td>1</td>\n",
              "      <td>2012</td>\n",
              "      <td>2012-01</td>\n",
              "    </tr>\n",
              "    <tr>\n",
              "      <th>3</th>\n",
              "      <td>Product_0001</td>\n",
              "      <td>Whse_A</td>\n",
              "      <td>Category_005</td>\n",
              "      <td>2012-01-03</td>\n",
              "      <td>800</td>\n",
              "      <td>1</td>\n",
              "      <td>1</td>\n",
              "      <td>2012</td>\n",
              "      <td>2012-01</td>\n",
              "    </tr>\n",
              "    <tr>\n",
              "      <th>4</th>\n",
              "      <td>Product_0001</td>\n",
              "      <td>Whse_A</td>\n",
              "      <td>Category_005</td>\n",
              "      <td>2012-01-04</td>\n",
              "      <td>200</td>\n",
              "      <td>2</td>\n",
              "      <td>1</td>\n",
              "      <td>2012</td>\n",
              "      <td>2012-01</td>\n",
              "    </tr>\n",
              "    <tr>\n",
              "      <th>...</th>\n",
              "      <td>...</td>\n",
              "      <td>...</td>\n",
              "      <td>...</td>\n",
              "      <td>...</td>\n",
              "      <td>...</td>\n",
              "      <td>...</td>\n",
              "      <td>...</td>\n",
              "      <td>...</td>\n",
              "      <td>...</td>\n",
              "    </tr>\n",
              "    <tr>\n",
              "      <th>592</th>\n",
              "      <td>Product_0001</td>\n",
              "      <td>Whse_J</td>\n",
              "      <td>Category_005</td>\n",
              "      <td>2016-12-14</td>\n",
              "      <td>200</td>\n",
              "      <td>2</td>\n",
              "      <td>12</td>\n",
              "      <td>2016</td>\n",
              "      <td>2016-12</td>\n",
              "    </tr>\n",
              "    <tr>\n",
              "      <th>593</th>\n",
              "      <td>Product_0001</td>\n",
              "      <td>Whse_A</td>\n",
              "      <td>Category_005</td>\n",
              "      <td>2016-12-15</td>\n",
              "      <td>200</td>\n",
              "      <td>3</td>\n",
              "      <td>12</td>\n",
              "      <td>2016</td>\n",
              "      <td>2016-12</td>\n",
              "    </tr>\n",
              "    <tr>\n",
              "      <th>594</th>\n",
              "      <td>Product_0001</td>\n",
              "      <td>Whse_J</td>\n",
              "      <td>Category_005</td>\n",
              "      <td>2016-12-19</td>\n",
              "      <td>500</td>\n",
              "      <td>0</td>\n",
              "      <td>12</td>\n",
              "      <td>2016</td>\n",
              "      <td>2016-12</td>\n",
              "    </tr>\n",
              "    <tr>\n",
              "      <th>595</th>\n",
              "      <td>Product_0001</td>\n",
              "      <td>Whse_J</td>\n",
              "      <td>Category_005</td>\n",
              "      <td>2016-12-22</td>\n",
              "      <td>300</td>\n",
              "      <td>3</td>\n",
              "      <td>12</td>\n",
              "      <td>2016</td>\n",
              "      <td>2016-12</td>\n",
              "    </tr>\n",
              "    <tr>\n",
              "      <th>596</th>\n",
              "      <td>Product_0001</td>\n",
              "      <td>Whse_J</td>\n",
              "      <td>Category_005</td>\n",
              "      <td>2016-12-26</td>\n",
              "      <td>300</td>\n",
              "      <td>0</td>\n",
              "      <td>12</td>\n",
              "      <td>2016</td>\n",
              "      <td>2016-12</td>\n",
              "    </tr>\n",
              "  </tbody>\n",
              "</table>\n",
              "<p>597 rows × 9 columns</p>\n",
              "</div>"
            ],
            "text/plain": [
              "     Product_Code Warehouse Product_Category  ... Month  year  year_month\n",
              "0    Product_0001    Whse_J     Category_005  ...    12  2011     2011-12\n",
              "1    Product_0001    Whse_J     Category_005  ...    12  2011     2011-12\n",
              "2    Product_0001    Whse_A     Category_005  ...     1  2012     2012-01\n",
              "3    Product_0001    Whse_A     Category_005  ...     1  2012     2012-01\n",
              "4    Product_0001    Whse_A     Category_005  ...     1  2012     2012-01\n",
              "..            ...       ...              ...  ...   ...   ...         ...\n",
              "592  Product_0001    Whse_J     Category_005  ...    12  2016     2016-12\n",
              "593  Product_0001    Whse_A     Category_005  ...    12  2016     2016-12\n",
              "594  Product_0001    Whse_J     Category_005  ...    12  2016     2016-12\n",
              "595  Product_0001    Whse_J     Category_005  ...    12  2016     2016-12\n",
              "596  Product_0001    Whse_J     Category_005  ...    12  2016     2016-12\n",
              "\n",
              "[597 rows x 9 columns]"
            ]
          },
          "metadata": {
            "tags": []
          },
          "execution_count": 8
        }
      ]
    },
    {
      "cell_type": "code",
      "metadata": {
        "id": "Z9Hi6gv0e3kJ",
        "outputId": "51ec3954-4843-44c3-cce2-0a02f52de25f",
        "colab": {
          "base_uri": "https://localhost:8080/",
          "height": 124
        }
      },
      "source": [
        "Data['Day'].value_counts() # 월~금 평일에만 장사한다.(수요발생)"
      ],
      "execution_count": 9,
      "outputs": [
        {
          "output_type": "execute_result",
          "data": {
            "text/plain": [
              "0    131\n",
              "3    119\n",
              "2    116\n",
              "1    116\n",
              "4    115\n",
              "Name: Day, dtype: int64"
            ]
          },
          "metadata": {
            "tags": []
          },
          "execution_count": 9
        }
      ]
    },
    {
      "cell_type": "code",
      "metadata": {
        "id": "ZgiQoZCYRjlw",
        "outputId": "4162150a-29dd-4428-bff5-12d8c5b0a0cd",
        "colab": {
          "base_uri": "https://localhost:8080/",
          "height": 297
        }
      },
      "source": [
        "sns.boxplot(x=\"Month\",y=\"Order_Demand\",data=Data)"
      ],
      "execution_count": 40,
      "outputs": [
        {
          "output_type": "execute_result",
          "data": {
            "text/plain": [
              "<matplotlib.axes._subplots.AxesSubplot at 0x7f64780e67f0>"
            ]
          },
          "metadata": {
            "tags": []
          },
          "execution_count": 40
        },
        {
          "output_type": "display_data",
          "data": {
            "image/png": "[encoded data removed]",
            "text/plain": [
              "<Figure size 432x288 with 1 Axes>"
            ]
          },
          "metadata": {
            "tags": [],
            "needs_background": "light"
          }
        }
      ]
    },
    {
      "cell_type": "code",
      "metadata": {
        "id": "dKaNv-LAbHbP",
        "outputId": "4634f291-9171-4fd1-d4c0-8f07bf4a1485",
        "colab": {
          "base_uri": "https://localhost:8080/",
          "height": 297
        }
      },
      "source": [
        "sns.boxplot(x=\"Day\",y=\"Order_Demand\",data=Data)"
      ],
      "execution_count": 41,
      "outputs": [
        {
          "output_type": "execute_result",
          "data": {
            "text/plain": [
              "<matplotlib.axes._subplots.AxesSubplot at 0x7f6477dfe9b0>"
            ]
          },
          "metadata": {
            "tags": []
          },
          "execution_count": 41
        },
        {
          "output_type": "display_data",
          "data": {
            "image/png": "[encoded data removed]",
            "text/plain": [
              "<Figure size 432x288 with 1 Axes>"
            ]
          },
          "metadata": {
            "tags": [],
            "needs_background": "light"
          }
        }
      ]
    },
    {
      "cell_type": "code",
      "metadata": {
        "id": "Va1zw_7MSHH2",
        "outputId": "748850f9-9311-48d2-d282-72f17d9c977c",
        "colab": {
          "base_uri": "https://localhost:8080/",
          "height": 297
        }
      },
      "source": [
        "sns.boxplot(x=\"year\",y=\"Order_Demand\",data=Data)"
      ],
      "execution_count": 34,
      "outputs": [
        {
          "output_type": "execute_result",
          "data": {
            "text/plain": [
              "<matplotlib.axes._subplots.AxesSubplot at 0x7f647819ceb8>"
            ]
          },
          "metadata": {
            "tags": []
          },
          "execution_count": 34
        },
        {
          "output_type": "display_data",
          "data": {
            "image/png": "[encoded data removed]",
            "text/plain": [
              "<Figure size 432x288 with 1 Axes>"
            ]
          },
          "metadata": {
            "tags": [],
            "needs_background": "light"
          }
        }
      ]
    },
    {
      "cell_type": "code",
      "metadata": {
        "id": "Oa85iY0GuJLC",
        "outputId": "1c7144c0-7a60-4caa-feea-18d3a6655907",
        "colab": {
          "base_uri": "https://localhost:8080/",
          "height": 461
        }
      },
      "source": [
        "Data.groupby('year_month')['Order_Demand'].mean(),Data.groupby('year_month')['Order_Demand'].count() # 2011년은 2개의 값만 존재."
      ],
      "execution_count": 10,
      "outputs": [
        {
          "output_type": "execute_result",
          "data": {
            "text/plain": [
              "(year_month\n",
              " 2011-12     150.000000\n",
              " 2012-01     646.666667\n",
              " 2012-02    1000.000000\n",
              " 2012-03    1084.615385\n",
              " 2012-04     471.428571\n",
              "               ...     \n",
              " 2016-08    1590.909091\n",
              " 2016-09     471.428571\n",
              " 2016-10     300.000000\n",
              " 2016-11     300.000000\n",
              " 2016-12     283.333333\n",
              " Freq: M, Name: Order_Demand, Length: 61, dtype: float64, year_month\n",
              " 2011-12     2\n",
              " 2012-01    15\n",
              " 2012-02    13\n",
              " 2012-03    13\n",
              " 2012-04     7\n",
              "            ..\n",
              " 2016-08    11\n",
              " 2016-09     7\n",
              " 2016-10     7\n",
              " 2016-11     2\n",
              " 2016-12     6\n",
              " Freq: M, Name: Order_Demand, Length: 61, dtype: int64)"
            ]
          },
          "metadata": {
            "tags": []
          },
          "execution_count": 10
        }
      ]
    },
    {
      "cell_type": "markdown",
      "metadata": {
        "id": "wSEg1kXhQb8P"
      },
      "source": [
        "# 분석용 excel Data 생성 및 내보내기"
      ]
    },
    {
      "cell_type": "code",
      "metadata": {
        "id": "ByxF9U8FIchB"
      },
      "source": [
        "grouped_Data = Data.groupby('year_month')['Order_Demand'].sum()"
      ],
      "execution_count": 11,
      "outputs": []
    },
    {
      "cell_type": "code",
      "metadata": {
        "id": "JSWD5FhFPSGO",
        "outputId": "b21e2f6e-0fcb-421e-ed58-2717dd4d410a",
        "colab": {
          "base_uri": "https://localhost:8080/",
          "height": 177
        }
      },
      "source": [
        "grouped_Data.describe()"
      ],
      "execution_count": 12,
      "outputs": [
        {
          "output_type": "execute_result",
          "data": {
            "text/plain": [
              "count       61.000000\n",
              "mean      7540.983607\n",
              "std       3982.895808\n",
              "min        300.000000\n",
              "25%       5000.000000\n",
              "50%       6900.000000\n",
              "75%       9700.000000\n",
              "max      17500.000000\n",
              "Name: Order_Demand, dtype: float64"
            ]
          },
          "metadata": {
            "tags": []
          },
          "execution_count": 12
        }
      ]
    },
    {
      "cell_type": "code",
      "metadata": {
        "id": "FCNB33NKPWnc",
        "outputId": "72570b34-c449-4663-a148-5aadcb550bea",
        "colab": {
          "base_uri": "https://localhost:8080/",
          "height": 248
        }
      },
      "source": [
        "grouped_Data"
      ],
      "execution_count": 13,
      "outputs": [
        {
          "output_type": "execute_result",
          "data": {
            "text/plain": [
              "year_month\n",
              "2011-12      300\n",
              "2012-01     9700\n",
              "2012-02    13000\n",
              "2012-03    14100\n",
              "2012-04     3300\n",
              "           ...  \n",
              "2016-08    17500\n",
              "2016-09     3300\n",
              "2016-10     2100\n",
              "2016-11      600\n",
              "2016-12     1700\n",
              "Freq: M, Name: Order_Demand, Length: 61, dtype: int64"
            ]
          },
          "metadata": {
            "tags": []
          },
          "execution_count": 13
        }
      ]
    },
    {
      "cell_type": "code",
      "metadata": {
        "id": "vI0sjZU2QJW5"
      },
      "source": [
        "#grouped_Data.to_excel(\"handed_sub2.xlsx\") # 년월+수요정보만 있는 excel파일"
      ],
      "execution_count": 14,
      "outputs": []
    },
    {
      "cell_type": "code",
      "metadata": {
        "id": "wbEMumpamBOj"
      },
      "source": [
        "train, test = Data[Data['year']!=2016], Data[Data['year']==2016]"
      ],
      "execution_count": 15,
      "outputs": []
    },
    {
      "cell_type": "code",
      "metadata": {
        "id": "_LKoZK40-7YH"
      },
      "source": [
        "train_x,train_y = train.loc[:,train.columns!='Order_Demand'], train.loc[:,'Order_Demand']"
      ],
      "execution_count": 16,
      "outputs": []
    },
    {
      "cell_type": "code",
      "metadata": {
        "id": "jbOxkcoN_yEn"
      },
      "source": [
        "test_x, test_y = test.loc[:,train.columns!='Order_Demand'], test.loc[:,'Order_Demand']"
      ],
      "execution_count": 17,
      "outputs": []
    },
    {
      "cell_type": "code",
      "metadata": {
        "id": "8lYM3D9L_6C9",
        "outputId": "c7815e6f-ad03-49d2-fa02-7f1a42e0e96d",
        "colab": {
          "base_uri": "https://localhost:8080/",
          "height": 461
        }
      },
      "source": [
        "train_x, train_y"
      ],
      "execution_count": 27,
      "outputs": [
        {
          "output_type": "execute_result",
          "data": {
            "text/plain": [
              "(     Product_Code Warehouse Product_Category  ... Month  year  year_month\n",
              " 0    Product_0001    Whse_J     Category_005  ...    12  2011     2011-12\n",
              " 1    Product_0001    Whse_J     Category_005  ...    12  2011     2011-12\n",
              " 2    Product_0001    Whse_A     Category_005  ...     1  2012     2012-01\n",
              " 3    Product_0001    Whse_A     Category_005  ...     1  2012     2012-01\n",
              " 4    Product_0001    Whse_A     Category_005  ...     1  2012     2012-01\n",
              " ..            ...       ...              ...  ...   ...   ...         ...\n",
              " 489  Product_0001    Whse_J     Category_005  ...    12  2015     2015-12\n",
              " 490  Product_0001    Whse_J     Category_005  ...    12  2015     2015-12\n",
              " 491  Product_0001    Whse_A     Category_005  ...    12  2015     2015-12\n",
              " 492  Product_0001    Whse_J     Category_005  ...    12  2015     2015-12\n",
              " 493  Product_0001    Whse_J     Category_005  ...    12  2015     2015-12\n",
              " \n",
              " [494 rows x 8 columns], 0       200\n",
              " 1       100\n",
              " 2       200\n",
              " 3       800\n",
              " 4       200\n",
              "        ... \n",
              " 489     300\n",
              " 490     300\n",
              " 491    1000\n",
              " 492     500\n",
              " 493     100\n",
              " Name: Order_Demand, Length: 494, dtype: int64)"
            ]
          },
          "metadata": {
            "tags": []
          },
          "execution_count": 27
        }
      ]
    }
  ]
}
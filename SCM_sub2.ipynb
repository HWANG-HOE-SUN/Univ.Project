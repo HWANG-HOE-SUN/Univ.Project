{
  "nbformat": 4,
  "nbformat_minor": 0,
  "metadata": {
    "colab": {
      "name": "SCM_sub2.ipynb",
      "provenance": [],
      "collapsed_sections": [],
      "authorship_tag": "ABX9TyP8gcEf3yPv6tmNlxsp3hc+",
      "include_colab_link": true
    },
    "kernelspec": {
      "name": "python3",
      "display_name": "Python 3"
    }
  },
  "cells": [
    {
      "cell_type": "markdown",
      "metadata": {
        "id": "view-in-github",
        "colab_type": "text"
      },
      "source": [
        "<a href=\"https://colab.research.google.com/github/HWANG-HOE-SUN/Univ.project/blob/main/SCM_sub2.ipynb\" target=\"_parent\"><img src=\"https://colab.research.google.com/assets/colab-badge.svg\" alt=\"Open In Colab\"/></a>"
      ]
    },
    {
      "cell_type": "code",
      "metadata": {
        "id": "T4qoIc4SPmhl"
      },
      "source": [
        "import matplotlib.pyplot as plt\n",
        "import numpy as np\n",
        "import pandas as pd\n",
        "import datetime as dt\n",
        "import seaborn as sns\n",
        "from scipy import stats\n",
        "import math"
      ],
      "execution_count": 1,
      "outputs": []
    },
    {
      "cell_type": "code",
      "metadata": {
        "id": "0VMQGn6xPpyk"
      },
      "source": [
        "Data = pd.read_excel('시계열_수요예측_데이터_2.xlsx')"
      ],
      "execution_count": 5,
      "outputs": []
    },
    {
      "cell_type": "code",
      "metadata": {
        "id": "3r_-RrwaW7cw",
        "outputId": "50d20fd3-d5ae-4335-db18-cc0d897920c7",
        "colab": {
          "base_uri": "https://localhost:8080/",
          "height": 233
        }
      },
      "source": [
        "Data['Date'].value_counts() #한날에 수요정보 여러개 있는건 뭐지? 창고다른건 여러개 있다쳐도."
      ],
      "execution_count": 6,
      "outputs": [
        {
          "output_type": "execute_result",
          "data": {
            "text/plain": [
              "2012-01-10    4\n",
              "2015-03-18    4\n",
              "2012-10-01    4\n",
              "2013-04-24    3\n",
              "2014-11-25    3\n",
              "             ..\n",
              "2014-01-21    1\n",
              "2013-09-19    1\n",
              "2014-09-09    1\n",
              "2014-08-12    1\n",
              "2012-12-03    1\n",
              "Name: Date, Length: 469, dtype: int64"
            ]
          },
          "metadata": {
            "tags": []
          },
          "execution_count": 6
        }
      ]
    },
    {
      "cell_type": "code",
      "metadata": {
        "id": "CDaXeqCvXCvj",
        "outputId": "87204e2c-42f2-4c10-885a-807c88434cfb",
        "colab": {
          "base_uri": "https://localhost:8080/",
          "height": 395
        }
      },
      "source": [
        "Data.describe(), Data.info()"
      ],
      "execution_count": 7,
      "outputs": [
        {
          "output_type": "stream",
          "text": [
            "<class 'pandas.core.frame.DataFrame'>\n",
            "RangeIndex: 597 entries, 0 to 596\n",
            "Data columns (total 5 columns):\n",
            " #   Column            Non-Null Count  Dtype         \n",
            "---  ------            --------------  -----         \n",
            " 0   Product_Code      597 non-null    object        \n",
            " 1   Warehouse         597 non-null    object        \n",
            " 2   Product_Category  597 non-null    object        \n",
            " 3   Date              597 non-null    datetime64[ns]\n",
            " 4   Order_Demand      597 non-null    int64         \n",
            "dtypes: datetime64[ns](1), int64(1), object(3)\n",
            "memory usage: 23.4+ KB\n"
          ],
          "name": "stdout"
        },
        {
          "output_type": "execute_result",
          "data": {
            "text/plain": [
              "(       Order_Demand\n",
              " count    597.000000\n",
              " mean     770.519263\n",
              " std     1016.921545\n",
              " min        0.000000\n",
              " 25%      200.000000\n",
              " 50%      300.000000\n",
              " 75%     1000.000000\n",
              " max     7000.000000, None)"
            ]
          },
          "metadata": {
            "tags": []
          },
          "execution_count": 7
        }
      ]
    },
    {
      "cell_type": "markdown",
      "metadata": {
        "id": "m5i1kWgGXbhj"
      },
      "source": [
        "#데이터 전처리"
      ]
    },
    {
      "cell_type": "code",
      "metadata": {
        "id": "ptVz8jNsXCtU",
        "outputId": "c6fa684f-5200-4076-fe64-28265335def6",
        "colab": {
          "base_uri": "https://localhost:8080/",
          "height": 49
        }
      },
      "source": [
        "# 수요음수값 제거했음\n",
        "Data[Data['Order_Demand']<0] "
      ],
      "execution_count": 8,
      "outputs": [
        {
          "output_type": "execute_result",
          "data": {
            "text/html": [
              "<div>\n",
              "<style scoped>\n",
              "    .dataframe tbody tr th:only-of-type {\n",
              "        vertical-align: middle;\n",
              "    }\n",
              "\n",
              "    .dataframe tbody tr th {\n",
              "        vertical-align: top;\n",
              "    }\n",
              "\n",
              "    .dataframe thead th {\n",
              "        text-align: right;\n",
              "    }\n",
              "</style>\n",
              "<table border=\"1\" class=\"dataframe\">\n",
              "  <thead>\n",
              "    <tr style=\"text-align: right;\">\n",
              "      <th></th>\n",
              "      <th>Product_Code</th>\n",
              "      <th>Warehouse</th>\n",
              "      <th>Product_Category</th>\n",
              "      <th>Date</th>\n",
              "      <th>Order_Demand</th>\n",
              "    </tr>\n",
              "  </thead>\n",
              "  <tbody>\n",
              "  </tbody>\n",
              "</table>\n",
              "</div>"
            ],
            "text/plain": [
              "Empty DataFrame\n",
              "Columns: [Product_Code, Warehouse, Product_Category, Date, Order_Demand]\n",
              "Index: []"
            ]
          },
          "metadata": {
            "tags": []
          },
          "execution_count": 8
        }
      ]
    },
    {
      "cell_type": "code",
      "metadata": {
        "id": "BhYFna47Xe0A"
      },
      "source": [
        "Data[\"Day\"]=Data[\"Date\"].dt.dayofweek # 요일\n",
        "Data['Month'] = Data['Date'].dt.month # 월\n",
        "Data['year'] = Data['Date'].dt.year # 년도"
      ],
      "execution_count": 9,
      "outputs": []
    },
    {
      "cell_type": "code",
      "metadata": {
        "id": "ZkxuUc7iyadF",
        "outputId": "704a2197-5785-4473-f466-e1fc6cdd35a7",
        "colab": {
          "base_uri": "https://localhost:8080/",
          "height": 377
        }
      },
      "source": [
        "Data[\"Season\"] = \"\"\n",
        "\n",
        "for i in Data.index:\n",
        "  if 3 <= Data['Month'][i] <= 5:\n",
        "    Data['Season'][i] = 1\n",
        "  elif 6<= Data['Month'][i] <= 8:\n",
        "    Data['Season'][i] = 2\n",
        "  elif 9<= Data['Month'][i] <= 11:\n",
        "    Data['Season'][i] = 3\n",
        "  else:\n",
        "    Data[\"Season\"][i] = 4"
      ],
      "execution_count": 21,
      "outputs": [
        {
          "output_type": "stream",
          "text": [
            "/usr/local/lib/python3.6/dist-packages/ipykernel_launcher.py:11: SettingWithCopyWarning: \n",
            "A value is trying to be set on a copy of a slice from a DataFrame\n",
            "\n",
            "See the caveats in the documentation: https://pandas.pydata.org/pandas-docs/stable/user_guide/indexing.html#returning-a-view-versus-a-copy\n",
            "  # This is added back by InteractiveShellApp.init_path()\n",
            "/usr/local/lib/python3.6/dist-packages/ipykernel_launcher.py:5: SettingWithCopyWarning: \n",
            "A value is trying to be set on a copy of a slice from a DataFrame\n",
            "\n",
            "See the caveats in the documentation: https://pandas.pydata.org/pandas-docs/stable/user_guide/indexing.html#returning-a-view-versus-a-copy\n",
            "  \"\"\"\n",
            "/usr/local/lib/python3.6/dist-packages/ipykernel_launcher.py:7: SettingWithCopyWarning: \n",
            "A value is trying to be set on a copy of a slice from a DataFrame\n",
            "\n",
            "See the caveats in the documentation: https://pandas.pydata.org/pandas-docs/stable/user_guide/indexing.html#returning-a-view-versus-a-copy\n",
            "  import sys\n",
            "/usr/local/lib/python3.6/dist-packages/ipykernel_launcher.py:9: SettingWithCopyWarning: \n",
            "A value is trying to be set on a copy of a slice from a DataFrame\n",
            "\n",
            "See the caveats in the documentation: https://pandas.pydata.org/pandas-docs/stable/user_guide/indexing.html#returning-a-view-versus-a-copy\n",
            "  if __name__ == '__main__':\n"
          ],
          "name": "stderr"
        }
      ]
    },
    {
      "cell_type": "code",
      "metadata": {
        "id": "ESJ1fTQkKR9n"
      },
      "source": [
        "Data['year_month'] = pd.to_datetime(Data['Date']).dt.to_period('M') # 월별 집계를 위한 년-월 생성"
      ],
      "execution_count": 10,
      "outputs": []
    },
    {
      "cell_type": "code",
      "metadata": {
        "id": "NMIhx2m9LduK",
        "outputId": "768ce629-b65e-439b-d1c2-c626b085ea49",
        "colab": {
          "base_uri": "https://localhost:8080/",
          "height": 419
        }
      },
      "source": [
        "Data = Data[Data['year']!=2011] #2011년은 2값으로만 이루어져있어 대표성이 없고 유용하지 않다고 판단, 제거했음.\n",
        "Data"
      ],
      "execution_count": 11,
      "outputs": [
        {
          "output_type": "execute_result",
          "data": {
            "text/html": [
              "<div>\n",
              "<style scoped>\n",
              "    .dataframe tbody tr th:only-of-type {\n",
              "        vertical-align: middle;\n",
              "    }\n",
              "\n",
              "    .dataframe tbody tr th {\n",
              "        vertical-align: top;\n",
              "    }\n",
              "\n",
              "    .dataframe thead th {\n",
              "        text-align: right;\n",
              "    }\n",
              "</style>\n",
              "<table border=\"1\" class=\"dataframe\">\n",
              "  <thead>\n",
              "    <tr style=\"text-align: right;\">\n",
              "      <th></th>\n",
              "      <th>Product_Code</th>\n",
              "      <th>Warehouse</th>\n",
              "      <th>Product_Category</th>\n",
              "      <th>Date</th>\n",
              "      <th>Order_Demand</th>\n",
              "      <th>Day</th>\n",
              "      <th>Month</th>\n",
              "      <th>year</th>\n",
              "      <th>year_month</th>\n",
              "    </tr>\n",
              "  </thead>\n",
              "  <tbody>\n",
              "    <tr>\n",
              "      <th>2</th>\n",
              "      <td>Product_0001</td>\n",
              "      <td>Whse_A</td>\n",
              "      <td>Category_005</td>\n",
              "      <td>2012-01-03</td>\n",
              "      <td>200</td>\n",
              "      <td>1</td>\n",
              "      <td>1</td>\n",
              "      <td>2012</td>\n",
              "      <td>2012-01</td>\n",
              "    </tr>\n",
              "    <tr>\n",
              "      <th>3</th>\n",
              "      <td>Product_0001</td>\n",
              "      <td>Whse_A</td>\n",
              "      <td>Category_005</td>\n",
              "      <td>2012-01-03</td>\n",
              "      <td>800</td>\n",
              "      <td>1</td>\n",
              "      <td>1</td>\n",
              "      <td>2012</td>\n",
              "      <td>2012-01</td>\n",
              "    </tr>\n",
              "    <tr>\n",
              "      <th>4</th>\n",
              "      <td>Product_0001</td>\n",
              "      <td>Whse_A</td>\n",
              "      <td>Category_005</td>\n",
              "      <td>2012-01-04</td>\n",
              "      <td>200</td>\n",
              "      <td>2</td>\n",
              "      <td>1</td>\n",
              "      <td>2012</td>\n",
              "      <td>2012-01</td>\n",
              "    </tr>\n",
              "    <tr>\n",
              "      <th>5</th>\n",
              "      <td>Product_0001</td>\n",
              "      <td>Whse_J</td>\n",
              "      <td>Category_005</td>\n",
              "      <td>2012-01-05</td>\n",
              "      <td>100</td>\n",
              "      <td>3</td>\n",
              "      <td>1</td>\n",
              "      <td>2012</td>\n",
              "      <td>2012-01</td>\n",
              "    </tr>\n",
              "    <tr>\n",
              "      <th>6</th>\n",
              "      <td>Product_0001</td>\n",
              "      <td>Whse_A</td>\n",
              "      <td>Category_005</td>\n",
              "      <td>2012-01-09</td>\n",
              "      <td>2000</td>\n",
              "      <td>0</td>\n",
              "      <td>1</td>\n",
              "      <td>2012</td>\n",
              "      <td>2012-01</td>\n",
              "    </tr>\n",
              "    <tr>\n",
              "      <th>...</th>\n",
              "      <td>...</td>\n",
              "      <td>...</td>\n",
              "      <td>...</td>\n",
              "      <td>...</td>\n",
              "      <td>...</td>\n",
              "      <td>...</td>\n",
              "      <td>...</td>\n",
              "      <td>...</td>\n",
              "      <td>...</td>\n",
              "    </tr>\n",
              "    <tr>\n",
              "      <th>592</th>\n",
              "      <td>Product_0001</td>\n",
              "      <td>Whse_J</td>\n",
              "      <td>Category_005</td>\n",
              "      <td>2016-12-14</td>\n",
              "      <td>200</td>\n",
              "      <td>2</td>\n",
              "      <td>12</td>\n",
              "      <td>2016</td>\n",
              "      <td>2016-12</td>\n",
              "    </tr>\n",
              "    <tr>\n",
              "      <th>593</th>\n",
              "      <td>Product_0001</td>\n",
              "      <td>Whse_A</td>\n",
              "      <td>Category_005</td>\n",
              "      <td>2016-12-15</td>\n",
              "      <td>200</td>\n",
              "      <td>3</td>\n",
              "      <td>12</td>\n",
              "      <td>2016</td>\n",
              "      <td>2016-12</td>\n",
              "    </tr>\n",
              "    <tr>\n",
              "      <th>594</th>\n",
              "      <td>Product_0001</td>\n",
              "      <td>Whse_J</td>\n",
              "      <td>Category_005</td>\n",
              "      <td>2016-12-19</td>\n",
              "      <td>500</td>\n",
              "      <td>0</td>\n",
              "      <td>12</td>\n",
              "      <td>2016</td>\n",
              "      <td>2016-12</td>\n",
              "    </tr>\n",
              "    <tr>\n",
              "      <th>595</th>\n",
              "      <td>Product_0001</td>\n",
              "      <td>Whse_J</td>\n",
              "      <td>Category_005</td>\n",
              "      <td>2016-12-22</td>\n",
              "      <td>300</td>\n",
              "      <td>3</td>\n",
              "      <td>12</td>\n",
              "      <td>2016</td>\n",
              "      <td>2016-12</td>\n",
              "    </tr>\n",
              "    <tr>\n",
              "      <th>596</th>\n",
              "      <td>Product_0001</td>\n",
              "      <td>Whse_J</td>\n",
              "      <td>Category_005</td>\n",
              "      <td>2016-12-26</td>\n",
              "      <td>300</td>\n",
              "      <td>0</td>\n",
              "      <td>12</td>\n",
              "      <td>2016</td>\n",
              "      <td>2016-12</td>\n",
              "    </tr>\n",
              "  </tbody>\n",
              "</table>\n",
              "<p>595 rows × 9 columns</p>\n",
              "</div>"
            ],
            "text/plain": [
              "     Product_Code Warehouse Product_Category  ... Month  year  year_month\n",
              "2    Product_0001    Whse_A     Category_005  ...     1  2012     2012-01\n",
              "3    Product_0001    Whse_A     Category_005  ...     1  2012     2012-01\n",
              "4    Product_0001    Whse_A     Category_005  ...     1  2012     2012-01\n",
              "5    Product_0001    Whse_J     Category_005  ...     1  2012     2012-01\n",
              "6    Product_0001    Whse_A     Category_005  ...     1  2012     2012-01\n",
              "..            ...       ...              ...  ...   ...   ...         ...\n",
              "592  Product_0001    Whse_J     Category_005  ...    12  2016     2016-12\n",
              "593  Product_0001    Whse_A     Category_005  ...    12  2016     2016-12\n",
              "594  Product_0001    Whse_J     Category_005  ...    12  2016     2016-12\n",
              "595  Product_0001    Whse_J     Category_005  ...    12  2016     2016-12\n",
              "596  Product_0001    Whse_J     Category_005  ...    12  2016     2016-12\n",
              "\n",
              "[595 rows x 9 columns]"
            ]
          },
          "metadata": {
            "tags": []
          },
          "execution_count": 11
        }
      ]
    },
    {
      "cell_type": "code",
      "metadata": {
        "id": "Z9Hi6gv0e3kJ",
        "outputId": "a3473eee-c8d6-4358-a913-5bd18e3eeafc",
        "colab": {
          "base_uri": "https://localhost:8080/",
          "height": 125
        }
      },
      "source": [
        "Data['Day'].value_counts() # 월~금 평일에만 장사한다.(수요발생)"
      ],
      "execution_count": 22,
      "outputs": [
        {
          "output_type": "execute_result",
          "data": {
            "text/plain": [
              "0    131\n",
              "3    119\n",
              "2    116\n",
              "1    115\n",
              "4    114\n",
              "Name: Day, dtype: int64"
            ]
          },
          "metadata": {
            "tags": []
          },
          "execution_count": 22
        }
      ]
    },
    {
      "cell_type": "code",
      "metadata": {
        "id": "ZgiQoZCYRjlw",
        "outputId": "afc59362-3bea-4acb-b066-9773b31207dd",
        "colab": {
          "base_uri": "https://localhost:8080/",
          "height": 406
        }
      },
      "source": [
        "plt.figure(figsize=(10,6))\n",
        "plt.subplot(121)\n",
        "sns.boxplot(x=\"Month\",y=\"Order_Demand\",data=Data)\n",
        "plt.subplot(122)\n",
        "sns.barplot(x=\"Month\",y=\"Order_Demand\",data=Data)"
      ],
      "execution_count": 13,
      "outputs": [
        {
          "output_type": "execute_result",
          "data": {
            "text/plain": [
              "<matplotlib.axes._subplots.AxesSubplot at 0x7ff1f41425f8>"
            ]
          },
          "metadata": {
            "tags": []
          },
          "execution_count": 13
        },
        {
          "output_type": "display_data",
          "data": {
            "image/png": "[encoded data removed]",
            "text/plain": [
              "<Figure size 720x432 with 2 Axes>"
            ]
          },
          "metadata": {
            "tags": [],
            "needs_background": "light"
          }
        }
      ]
    },
    {
      "cell_type": "code",
      "metadata": {
        "id": "dKaNv-LAbHbP",
        "outputId": "48b1beb3-31d5-421b-d45e-253a51b4b33d",
        "colab": {
          "base_uri": "https://localhost:8080/",
          "height": 406
        }
      },
      "source": [
        "plt.figure(figsize=(10,6))\n",
        "plt.subplot(121)\n",
        "sns.boxplot(x=\"Day\",y=\"Order_Demand\",data=Data)\n",
        "plt.subplot(122)\n",
        "sns.barplot(x=\"Day\",y=\"Order_Demand\",data=Data)"
      ],
      "execution_count": 14,
      "outputs": [
        {
          "output_type": "execute_result",
          "data": {
            "text/plain": [
              "<matplotlib.axes._subplots.AxesSubplot at 0x7ff1f3aa09b0>"
            ]
          },
          "metadata": {
            "tags": []
          },
          "execution_count": 14
        },
        {
          "output_type": "display_data",
          "data": {
            "image/png": "[encoded data removed]",
            "text/plain": [
              "<Figure size 720x432 with 2 Axes>"
            ]
          },
          "metadata": {
            "tags": [],
            "needs_background": "light"
          }
        }
      ]
    },
    {
      "cell_type": "code",
      "metadata": {
        "id": "Va1zw_7MSHH2",
        "outputId": "edaf10fd-d706-4970-cf93-abf5a6bfd6e7",
        "colab": {
          "base_uri": "https://localhost:8080/",
          "height": 406
        }
      },
      "source": [
        "plt.figure(figsize=(10,6))\n",
        "plt.subplot(121)\n",
        "sns.boxplot(x=\"year\",y=\"Order_Demand\",data=Data)\n",
        "plt.subplot(122)\n",
        "sns.barplot(x=\"year\",y=\"Order_Demand\",data=Data)"
      ],
      "execution_count": 15,
      "outputs": [
        {
          "output_type": "execute_result",
          "data": {
            "text/plain": [
              "<matplotlib.axes._subplots.AxesSubplot at 0x7ff1f4057a58>"
            ]
          },
          "metadata": {
            "tags": []
          },
          "execution_count": 15
        },
        {
          "output_type": "display_data",
          "data": {
            "image/png": "[encoded data removed]",
            "text/plain": [
              "<Figure size 720x432 with 2 Axes>"
            ]
          },
          "metadata": {
            "tags": [],
            "needs_background": "light"
          }
        }
      ]
    },
    {
      "cell_type": "code",
      "metadata": {
        "id": "WCLIHOZUythx",
        "outputId": "4cf07487-6e8c-419d-a3d5-7eb4f7d7f3dc",
        "colab": {
          "base_uri": "https://localhost:8080/",
          "height": 406
        }
      },
      "source": [
        "plt.figure(figsize=(10,6))\n",
        "plt.subplot(121)\n",
        "sns.boxplot(x=\"Season\",y=\"Order_Demand\",data=Data)\n",
        "plt.subplot(122)\n",
        "sns.barplot(x=\"Season\",y=\"Order_Demand\",data=Data)"
      ],
      "execution_count": 23,
      "outputs": [
        {
          "output_type": "execute_result",
          "data": {
            "text/plain": [
              "<matplotlib.axes._subplots.AxesSubplot at 0x7ff1eba6e6a0>"
            ]
          },
          "metadata": {
            "tags": []
          },
          "execution_count": 23
        },
        {
          "output_type": "display_data",
          "data": {
            "image/png": "[encoded data removed]",
            "text/plain": [
              "<Figure size 720x432 with 2 Axes>"
            ]
          },
          "metadata": {
            "tags": [],
            "needs_background": "light"
          }
        }
      ]
    },
    {
      "cell_type": "code",
      "metadata": {
        "id": "teuhD-Vq7rEa",
        "outputId": "98e30f63-db12-4fde-8495-953b82e464f8",
        "colab": {
          "base_uri": "https://localhost:8080/",
          "height": 407
        }
      },
      "source": [
        "plt.figure(figsize=(10,6)) #창고 종류가 가장 차이가 큰 변수였음.\n",
        "plt.subplot(121)\n",
        "sns.boxplot(x=\"Warehouse\",y=\"Order_Demand\",data=Data)\n",
        "plt.subplot(122)\n",
        "sns.barplot(x=\"Warehouse\",y=\"Order_Demand\",data=Data)"
      ],
      "execution_count": 57,
      "outputs": [
        {
          "output_type": "execute_result",
          "data": {
            "text/plain": [
              "<matplotlib.axes._subplots.AxesSubplot at 0x7ff1e8afbc18>"
            ]
          },
          "metadata": {
            "tags": []
          },
          "execution_count": 57
        },
        {
          "output_type": "display_data",
          "data": {
            "image/png": "[encoded data removed]",
            "text/plain": [
              "<Figure size 720x432 with 2 Axes>"
            ]
          },
          "metadata": {
            "tags": [],
            "needs_background": "light"
          }
        }
      ]
    },
    {
      "cell_type": "code",
      "metadata": {
        "id": "Oa85iY0GuJLC",
        "outputId": "a5e76c2c-35b4-4aa8-9d8c-36fc9dbe73b2",
        "colab": {
          "base_uri": "https://localhost:8080/",
          "height": 1000
        }
      },
      "source": [
        "Data.groupby('year_month')['Order_Demand'].mean(),Data.groupby('year_month')['Order_Demand'].count()"
      ],
      "execution_count": 16,
      "outputs": [
        {
          "output_type": "execute_result",
          "data": {
            "text/plain": [
              "(year_month\n",
              " 2012-01     646.666667\n",
              " 2012-02    1000.000000\n",
              " 2012-03    1084.615385\n",
              " 2012-04     471.428571\n",
              " 2012-05     930.000000\n",
              " 2012-06     914.285714\n",
              " 2012-07    1010.000000\n",
              " 2012-08     664.285714\n",
              " 2012-09     744.444444\n",
              " 2012-10     850.000000\n",
              " 2012-11     672.727273\n",
              " 2012-12     600.000000\n",
              " 2013-01     985.714286\n",
              " 2013-02    1011.111111\n",
              " 2013-03    1100.000000\n",
              " 2013-04     700.000000\n",
              " 2013-05     422.222222\n",
              " 2013-06     970.000000\n",
              " 2013-07     750.000000\n",
              " 2013-08     880.000000\n",
              " 2013-09     644.444444\n",
              " 2013-10     950.000000\n",
              " 2013-11    1100.000000\n",
              " 2013-12     536.363636\n",
              " 2014-01     688.888889\n",
              " 2014-02     500.000000\n",
              " 2014-03     590.000000\n",
              " 2014-04     975.000000\n",
              " 2014-05     900.000000\n",
              " 2014-06    1100.000000\n",
              " 2014-07     561.111111\n",
              " 2014-08     721.428571\n",
              " 2014-09     635.714286\n",
              " 2014-10    1557.142857\n",
              " 2014-11     953.846154\n",
              " 2014-12     625.000000\n",
              " 2015-01     437.500000\n",
              " 2015-02     568.750000\n",
              " 2015-03     450.000000\n",
              " 2015-04     580.000000\n",
              " 2015-05     900.000000\n",
              " 2015-06     571.428571\n",
              " 2015-07     650.000000\n",
              " 2015-08    1425.000000\n",
              " 2015-09    1125.000000\n",
              " 2015-10     328.571429\n",
              " 2015-11     700.000000\n",
              " 2015-12     440.000000\n",
              " 2016-01     233.333333\n",
              " 2016-02     630.000000\n",
              " 2016-03     715.384615\n",
              " 2016-04     566.666667\n",
              " 2016-05    1408.333333\n",
              " 2016-06     441.666667\n",
              " 2016-07    1162.500000\n",
              " 2016-08    1590.909091\n",
              " 2016-09     471.428571\n",
              " 2016-10     300.000000\n",
              " 2016-11     300.000000\n",
              " 2016-12     283.333333\n",
              " Freq: M, Name: Order_Demand, dtype: float64, year_month\n",
              " 2012-01    15\n",
              " 2012-02    13\n",
              " 2012-03    13\n",
              " 2012-04     7\n",
              " 2012-05    10\n",
              " 2012-06     7\n",
              " 2012-07    10\n",
              " 2012-08    14\n",
              " 2012-09     9\n",
              " 2012-10    20\n",
              " 2012-11    11\n",
              " 2012-12    10\n",
              " 2013-01     7\n",
              " 2013-02     9\n",
              " 2013-03    11\n",
              " 2013-04    10\n",
              " 2013-05     9\n",
              " 2013-06    10\n",
              " 2013-07    12\n",
              " 2013-08     5\n",
              " 2013-09     9\n",
              " 2013-10    12\n",
              " 2013-11    12\n",
              " 2013-12    11\n",
              " 2014-01     9\n",
              " 2014-02    10\n",
              " 2014-03    10\n",
              " 2014-04     8\n",
              " 2014-05     7\n",
              " 2014-06    11\n",
              " 2014-07    18\n",
              " 2014-08    14\n",
              " 2014-09    14\n",
              " 2014-10     7\n",
              " 2014-11    13\n",
              " 2014-12     8\n",
              " 2015-01     8\n",
              " 2015-02    16\n",
              " 2015-03    16\n",
              " 2015-04    10\n",
              " 2015-05     6\n",
              " 2015-06     7\n",
              " 2015-07    10\n",
              " 2015-08     8\n",
              " 2015-09     8\n",
              " 2015-10     7\n",
              " 2015-11     6\n",
              " 2015-12     5\n",
              " 2016-01     9\n",
              " 2016-02    10\n",
              " 2016-03    13\n",
              " 2016-04     6\n",
              " 2016-05    12\n",
              " 2016-06    12\n",
              " 2016-07     8\n",
              " 2016-08    11\n",
              " 2016-09     7\n",
              " 2016-10     7\n",
              " 2016-11     2\n",
              " 2016-12     6\n",
              " Freq: M, Name: Order_Demand, dtype: int64)"
            ]
          },
          "metadata": {
            "tags": []
          },
          "execution_count": 16
        }
      ]
    },
    {
      "cell_type": "markdown",
      "metadata": {
        "id": "wSEg1kXhQb8P"
      },
      "source": [
        "# 분석용 excel Data 생성 및 내보내기"
      ]
    },
    {
      "cell_type": "code",
      "metadata": {
        "id": "ByxF9U8FIchB"
      },
      "source": [
        "grouped_Data = Data.groupby('year_month')['Order_Demand'].sum()"
      ],
      "execution_count": 28,
      "outputs": []
    },
    {
      "cell_type": "code",
      "metadata": {
        "id": "JSWD5FhFPSGO",
        "outputId": "27c35f44-8d86-4eef-8e56-113cb1d52322",
        "colab": {
          "base_uri": "https://localhost:8080/",
          "height": 179
        }
      },
      "source": [
        "grouped_Data.describe()"
      ],
      "execution_count": 29,
      "outputs": [
        {
          "output_type": "execute_result",
          "data": {
            "text/plain": [
              "count       60.000000\n",
              "mean      7661.666667\n",
              "std       3902.415231\n",
              "min        600.000000\n",
              "25%       5000.000000\n",
              "50%       6950.000000\n",
              "75%       9800.000000\n",
              "max      17500.000000\n",
              "Name: Order_Demand, dtype: float64"
            ]
          },
          "metadata": {
            "tags": []
          },
          "execution_count": 29
        }
      ]
    },
    {
      "cell_type": "code",
      "metadata": {
        "id": "FCNB33NKPWnc",
        "outputId": "f3e15bd9-7a4c-4e57-bf28-acb7dfcd5a0a",
        "colab": {
          "base_uri": "https://localhost:8080/",
          "height": 1000
        }
      },
      "source": [
        "grouped_Data"
      ],
      "execution_count": 30,
      "outputs": [
        {
          "output_type": "execute_result",
          "data": {
            "text/plain": [
              "year_month\n",
              "2012-01     9700\n",
              "2012-02    13000\n",
              "2012-03    14100\n",
              "2012-04     3300\n",
              "2012-05     9300\n",
              "2012-06     6400\n",
              "2012-07    10100\n",
              "2012-08     9300\n",
              "2012-09     6700\n",
              "2012-10    17000\n",
              "2012-11     7400\n",
              "2012-12     6000\n",
              "2013-01     6900\n",
              "2013-02     9100\n",
              "2013-03    12100\n",
              "2013-04     7000\n",
              "2013-05     3800\n",
              "2013-06     9700\n",
              "2013-07     9000\n",
              "2013-08     4400\n",
              "2013-09     5800\n",
              "2013-10    11400\n",
              "2013-11    13200\n",
              "2013-12     5900\n",
              "2014-01     6200\n",
              "2014-02     5000\n",
              "2014-03     5900\n",
              "2014-04     7800\n",
              "2014-05     6300\n",
              "2014-06    12100\n",
              "2014-07    10100\n",
              "2014-08    10100\n",
              "2014-09     8900\n",
              "2014-10    10900\n",
              "2014-11    12400\n",
              "2014-12     5000\n",
              "2015-01     3500\n",
              "2015-02     9100\n",
              "2015-03     7200\n",
              "2015-04     5800\n",
              "2015-05     5400\n",
              "2015-06     4000\n",
              "2015-07     6500\n",
              "2015-08    11400\n",
              "2015-09     9000\n",
              "2015-10     2300\n",
              "2015-11     4200\n",
              "2015-12     2200\n",
              "2016-01     2100\n",
              "2016-02     6300\n",
              "2016-03     9300\n",
              "2016-04     3400\n",
              "2016-05    16900\n",
              "2016-06     5300\n",
              "2016-07     9300\n",
              "2016-08    17500\n",
              "2016-09     3300\n",
              "2016-10     2100\n",
              "2016-11      600\n",
              "2016-12     1700\n",
              "Freq: M, Name: Order_Demand, dtype: int64"
            ]
          },
          "metadata": {
            "tags": []
          },
          "execution_count": 30
        }
      ]
    },
    {
      "cell_type": "code",
      "metadata": {
        "id": "vI0sjZU2QJW5"
      },
      "source": [
        "#grouped_Data.to_excel(\"handed_sub2.xlsx\") # 년월+수요정보만 있는 excel파일"
      ],
      "execution_count": null,
      "outputs": []
    },
    {
      "cell_type": "markdown",
      "metadata": {
        "id": "-mo3OoyQ-ICf"
      },
      "source": [
        "# 실험용 코드 미리 짜놓기(머신러닝 기법이 통할까?)"
      ]
    },
    {
      "cell_type": "code",
      "metadata": {
        "id": "wbEMumpamBOj"
      },
      "source": [
        "train, test = Data[Data['year']!=2016], Data[Data['year']==2016]"
      ],
      "execution_count": 31,
      "outputs": []
    },
    {
      "cell_type": "code",
      "metadata": {
        "id": "_LKoZK40-7YH"
      },
      "source": [
        "train_x,train_y = train.loc[:,train.columns!='Order_Demand'], train.loc[:,'Order_Demand']"
      ],
      "execution_count": 32,
      "outputs": []
    },
    {
      "cell_type": "code",
      "metadata": {
        "id": "jbOxkcoN_yEn"
      },
      "source": [
        "test_x, test_y = test.loc[:,train.columns!='Order_Demand'], test.loc[:,'Order_Demand']"
      ],
      "execution_count": 33,
      "outputs": []
    },
    {
      "cell_type": "code",
      "metadata": {
        "id": "8lYM3D9L_6C9",
        "outputId": "d7a1a1a8-1ab6-47a3-c08d-19b28e934940",
        "colab": {
          "base_uri": "https://localhost:8080/",
          "height": 467
        }
      },
      "source": [
        "train_x, train_y"
      ],
      "execution_count": 34,
      "outputs": [
        {
          "output_type": "execute_result",
          "data": {
            "text/plain": [
              "(     Product_Code Warehouse Product_Category  ...  year  year_month  Season\n",
              " 2    Product_0001    Whse_A     Category_005  ...  2012     2012-01       4\n",
              " 3    Product_0001    Whse_A     Category_005  ...  2012     2012-01       4\n",
              " 4    Product_0001    Whse_A     Category_005  ...  2012     2012-01       4\n",
              " 5    Product_0001    Whse_J     Category_005  ...  2012     2012-01       4\n",
              " 6    Product_0001    Whse_A     Category_005  ...  2012     2012-01       4\n",
              " ..            ...       ...              ...  ...   ...         ...     ...\n",
              " 489  Product_0001    Whse_J     Category_005  ...  2015     2015-12       4\n",
              " 490  Product_0001    Whse_J     Category_005  ...  2015     2015-12       4\n",
              " 491  Product_0001    Whse_A     Category_005  ...  2015     2015-12       4\n",
              " 492  Product_0001    Whse_J     Category_005  ...  2015     2015-12       4\n",
              " 493  Product_0001    Whse_J     Category_005  ...  2015     2015-12       4\n",
              " \n",
              " [492 rows x 9 columns], 2       200\n",
              " 3       800\n",
              " 4       200\n",
              " 5       100\n",
              " 6      2000\n",
              "        ... \n",
              " 489     300\n",
              " 490     300\n",
              " 491    1000\n",
              " 492     500\n",
              " 493     100\n",
              " Name: Order_Demand, Length: 492, dtype: int64)"
            ]
          },
          "metadata": {
            "tags": []
          },
          "execution_count": 34
        }
      ]
    },
    {
      "cell_type": "markdown",
      "metadata": {
        "id": "NusQrzcZ5mho"
      },
      "source": [
        "# train,test 전처리"
      ]
    },
    {
      "cell_type": "code",
      "metadata": {
        "id": "UPJFZeP85naD",
        "outputId": "63ebb12c-7593-46f7-9ef1-5dc9a619ba8c",
        "colab": {
          "base_uri": "https://localhost:8080/",
          "height": 253
        }
      },
      "source": [
        "# 어느 창고인가의 유무에 따라 1 또는 0의 이진변수로 전환\n",
        "train_x['Warehouse'] = np.where(train_x['Warehouse']=='Whse_A',1,0)\n",
        "\n",
        "test_x['Warehouse'] = np.where(test_x['Warehouse']=='Whse_J',1,0)"
      ],
      "execution_count": 55,
      "outputs": [
        {
          "output_type": "stream",
          "text": [
            "/usr/local/lib/python3.6/dist-packages/ipykernel_launcher.py:2: SettingWithCopyWarning: \n",
            "A value is trying to be set on a copy of a slice from a DataFrame.\n",
            "Try using .loc[row_indexer,col_indexer] = value instead\n",
            "\n",
            "See the caveats in the documentation: https://pandas.pydata.org/pandas-docs/stable/user_guide/indexing.html#returning-a-view-versus-a-copy\n",
            "  \n",
            "/usr/local/lib/python3.6/dist-packages/ipykernel_launcher.py:4: SettingWithCopyWarning: \n",
            "A value is trying to be set on a copy of a slice from a DataFrame.\n",
            "Try using .loc[row_indexer,col_indexer] = value instead\n",
            "\n",
            "See the caveats in the documentation: https://pandas.pydata.org/pandas-docs/stable/user_guide/indexing.html#returning-a-view-versus-a-copy\n",
            "  after removing the cwd from sys.path.\n"
          ],
          "name": "stderr"
        }
      ]
    },
    {
      "cell_type": "code",
      "metadata": {
        "id": "4AQ2Xi2r56Q4",
        "outputId": "3590d2d5-bcfa-4444-9193-ae0fd901ff79",
        "colab": {
          "base_uri": "https://localhost:8080/",
          "height": 419
        }
      },
      "source": [
        "train_x"
      ],
      "execution_count": 56,
      "outputs": [
        {
          "output_type": "execute_result",
          "data": {
            "text/html": [
              "<div>\n",
              "<style scoped>\n",
              "    .dataframe tbody tr th:only-of-type {\n",
              "        vertical-align: middle;\n",
              "    }\n",
              "\n",
              "    .dataframe tbody tr th {\n",
              "        vertical-align: top;\n",
              "    }\n",
              "\n",
              "    .dataframe thead th {\n",
              "        text-align: right;\n",
              "    }\n",
              "</style>\n",
              "<table border=\"1\" class=\"dataframe\">\n",
              "  <thead>\n",
              "    <tr style=\"text-align: right;\">\n",
              "      <th></th>\n",
              "      <th>Product_Code</th>\n",
              "      <th>Warehouse</th>\n",
              "      <th>Product_Category</th>\n",
              "      <th>Date</th>\n",
              "      <th>Day</th>\n",
              "      <th>Month</th>\n",
              "      <th>year</th>\n",
              "      <th>year_month</th>\n",
              "      <th>Season</th>\n",
              "    </tr>\n",
              "  </thead>\n",
              "  <tbody>\n",
              "    <tr>\n",
              "      <th>2</th>\n",
              "      <td>Product_0001</td>\n",
              "      <td>1</td>\n",
              "      <td>Category_005</td>\n",
              "      <td>2012-01-03</td>\n",
              "      <td>1</td>\n",
              "      <td>1</td>\n",
              "      <td>2012</td>\n",
              "      <td>2012-01</td>\n",
              "      <td>4</td>\n",
              "    </tr>\n",
              "    <tr>\n",
              "      <th>3</th>\n",
              "      <td>Product_0001</td>\n",
              "      <td>1</td>\n",
              "      <td>Category_005</td>\n",
              "      <td>2012-01-03</td>\n",
              "      <td>1</td>\n",
              "      <td>1</td>\n",
              "      <td>2012</td>\n",
              "      <td>2012-01</td>\n",
              "      <td>4</td>\n",
              "    </tr>\n",
              "    <tr>\n",
              "      <th>4</th>\n",
              "      <td>Product_0001</td>\n",
              "      <td>1</td>\n",
              "      <td>Category_005</td>\n",
              "      <td>2012-01-04</td>\n",
              "      <td>2</td>\n",
              "      <td>1</td>\n",
              "      <td>2012</td>\n",
              "      <td>2012-01</td>\n",
              "      <td>4</td>\n",
              "    </tr>\n",
              "    <tr>\n",
              "      <th>5</th>\n",
              "      <td>Product_0001</td>\n",
              "      <td>0</td>\n",
              "      <td>Category_005</td>\n",
              "      <td>2012-01-05</td>\n",
              "      <td>3</td>\n",
              "      <td>1</td>\n",
              "      <td>2012</td>\n",
              "      <td>2012-01</td>\n",
              "      <td>4</td>\n",
              "    </tr>\n",
              "    <tr>\n",
              "      <th>6</th>\n",
              "      <td>Product_0001</td>\n",
              "      <td>1</td>\n",
              "      <td>Category_005</td>\n",
              "      <td>2012-01-09</td>\n",
              "      <td>0</td>\n",
              "      <td>1</td>\n",
              "      <td>2012</td>\n",
              "      <td>2012-01</td>\n",
              "      <td>4</td>\n",
              "    </tr>\n",
              "    <tr>\n",
              "      <th>...</th>\n",
              "      <td>...</td>\n",
              "      <td>...</td>\n",
              "      <td>...</td>\n",
              "      <td>...</td>\n",
              "      <td>...</td>\n",
              "      <td>...</td>\n",
              "      <td>...</td>\n",
              "      <td>...</td>\n",
              "      <td>...</td>\n",
              "    </tr>\n",
              "    <tr>\n",
              "      <th>489</th>\n",
              "      <td>Product_0001</td>\n",
              "      <td>0</td>\n",
              "      <td>Category_005</td>\n",
              "      <td>2015-12-07</td>\n",
              "      <td>0</td>\n",
              "      <td>12</td>\n",
              "      <td>2015</td>\n",
              "      <td>2015-12</td>\n",
              "      <td>4</td>\n",
              "    </tr>\n",
              "    <tr>\n",
              "      <th>490</th>\n",
              "      <td>Product_0001</td>\n",
              "      <td>0</td>\n",
              "      <td>Category_005</td>\n",
              "      <td>2015-12-08</td>\n",
              "      <td>1</td>\n",
              "      <td>12</td>\n",
              "      <td>2015</td>\n",
              "      <td>2015-12</td>\n",
              "      <td>4</td>\n",
              "    </tr>\n",
              "    <tr>\n",
              "      <th>491</th>\n",
              "      <td>Product_0001</td>\n",
              "      <td>1</td>\n",
              "      <td>Category_005</td>\n",
              "      <td>2015-12-09</td>\n",
              "      <td>2</td>\n",
              "      <td>12</td>\n",
              "      <td>2015</td>\n",
              "      <td>2015-12</td>\n",
              "      <td>4</td>\n",
              "    </tr>\n",
              "    <tr>\n",
              "      <th>492</th>\n",
              "      <td>Product_0001</td>\n",
              "      <td>0</td>\n",
              "      <td>Category_005</td>\n",
              "      <td>2015-12-16</td>\n",
              "      <td>2</td>\n",
              "      <td>12</td>\n",
              "      <td>2015</td>\n",
              "      <td>2015-12</td>\n",
              "      <td>4</td>\n",
              "    </tr>\n",
              "    <tr>\n",
              "      <th>493</th>\n",
              "      <td>Product_0001</td>\n",
              "      <td>0</td>\n",
              "      <td>Category_005</td>\n",
              "      <td>2015-12-21</td>\n",
              "      <td>0</td>\n",
              "      <td>12</td>\n",
              "      <td>2015</td>\n",
              "      <td>2015-12</td>\n",
              "      <td>4</td>\n",
              "    </tr>\n",
              "  </tbody>\n",
              "</table>\n",
              "<p>492 rows × 9 columns</p>\n",
              "</div>"
            ],
            "text/plain": [
              "     Product_Code  Warehouse Product_Category  ...  year  year_month  Season\n",
              "2    Product_0001          1     Category_005  ...  2012     2012-01       4\n",
              "3    Product_0001          1     Category_005  ...  2012     2012-01       4\n",
              "4    Product_0001          1     Category_005  ...  2012     2012-01       4\n",
              "5    Product_0001          0     Category_005  ...  2012     2012-01       4\n",
              "6    Product_0001          1     Category_005  ...  2012     2012-01       4\n",
              "..            ...        ...              ...  ...   ...         ...     ...\n",
              "489  Product_0001          0     Category_005  ...  2015     2015-12       4\n",
              "490  Product_0001          0     Category_005  ...  2015     2015-12       4\n",
              "491  Product_0001          1     Category_005  ...  2015     2015-12       4\n",
              "492  Product_0001          0     Category_005  ...  2015     2015-12       4\n",
              "493  Product_0001          0     Category_005  ...  2015     2015-12       4\n",
              "\n",
              "[492 rows x 9 columns]"
            ]
          },
          "metadata": {
            "tags": []
          },
          "execution_count": 56
        }
      ]
    },
    {
      "cell_type": "code",
      "metadata": {
        "id": "YFgCnJjm78iZ"
      },
      "source": [
        "from sklearn.tree import DecisionTreeRegressor"
      ],
      "execution_count": 58,
      "outputs": []
    },
    {
      "cell_type": "code",
      "metadata": {
        "id": "7dXfuhZJ7-wY",
        "outputId": "74d8e911-7e9c-4771-e2a1-a2d92ac4fa85",
        "colab": {
          "base_uri": "https://localhost:8080/",
          "height": 125
        }
      },
      "source": [
        "model = DecisionTreeRegressor(max_depth=5)\n",
        "model"
      ],
      "execution_count": 59,
      "outputs": [
        {
          "output_type": "execute_result",
          "data": {
            "text/plain": [
              "DecisionTreeRegressor(ccp_alpha=0.0, criterion='mse', max_depth=5,\n",
              "                      max_features=None, max_leaf_nodes=None,\n",
              "                      min_impurity_decrease=0.0, min_impurity_split=None,\n",
              "                      min_samples_leaf=1, min_samples_split=2,\n",
              "                      min_weight_fraction_leaf=0.0, presort='deprecated',\n",
              "                      random_state=None, splitter='best')"
            ]
          },
          "metadata": {
            "tags": []
          },
          "execution_count": 59
        }
      ]
    },
    {
      "cell_type": "code",
      "metadata": {
        "id": "4lQJl1MK78kq"
      },
      "source": [
        "feature_names=['Warehouse','Day','Month','Season']\n",
        "label = 'Order_Demand'"
      ],
      "execution_count": 63,
      "outputs": []
    },
    {
      "cell_type": "code",
      "metadata": {
        "id": "8cMzREoN78gX"
      },
      "source": [
        "X_train = train_x[feature_names]\n",
        "X_test = test_x[feature_names]"
      ],
      "execution_count": 61,
      "outputs": []
    },
    {
      "cell_type": "code",
      "metadata": {
        "id": "Ja33nypQ9Jg6"
      },
      "source": [
        "y_train = train[label]\n",
        "y_test = test[label]"
      ],
      "execution_count": 64,
      "outputs": []
    },
    {
      "cell_type": "code",
      "metadata": {
        "id": "2D6Gt1v89RAc",
        "outputId": "e4abd23f-85e7-4cae-dca9-c24736b41dfc",
        "colab": {
          "base_uri": "https://localhost:8080/",
          "height": 125
        }
      },
      "source": [
        "model.fit(X_train,y_train) "
      ],
      "execution_count": 65,
      "outputs": [
        {
          "output_type": "execute_result",
          "data": {
            "text/plain": [
              "DecisionTreeRegressor(ccp_alpha=0.0, criterion='mse', max_depth=5,\n",
              "                      max_features=None, max_leaf_nodes=None,\n",
              "                      min_impurity_decrease=0.0, min_impurity_split=None,\n",
              "                      min_samples_leaf=1, min_samples_split=2,\n",
              "                      min_weight_fraction_leaf=0.0, presort='deprecated',\n",
              "                      random_state=None, splitter='best')"
            ]
          },
          "metadata": {
            "tags": []
          },
          "execution_count": 65
        }
      ]
    },
    {
      "cell_type": "code",
      "metadata": {
        "id": "Hg3q5I369Vp1"
      },
      "source": [
        "from sklearn.tree import export_graphviz\n",
        "import graphviz"
      ],
      "execution_count": 66,
      "outputs": []
    },
    {
      "cell_type": "code",
      "metadata": {
        "id": "wqZMBaB79Xaz"
      },
      "source": [
        "dot_tree=export_graphviz(model,feature_names=feature_names,out_file=None)"
      ],
      "execution_count": 67,
      "outputs": []
    },
    {
      "cell_type": "code",
      "metadata": {
        "id": "o2a2B7dd9eLW",
        "outputId": "54e8d3f0-47ae-4fd6-d262-952b4b5a0fa4",
        "colab": {
          "base_uri": "https://localhost:8080/",
          "height": 815
        }
      },
      "source": [
        "graphviz.Source(dot_tree)"
      ],
      "execution_count": 68,
      "outputs": [
        {
          "output_type": "execute_result",
          "data": {
            "text/plain": [
              "<graphviz.files.Source at 0x7ff1e3ca4a20>"
            ],
            "image/svg+xml": "<?xml version=\"1.0\" encoding=\"UTF-8\" standalone=\"no\"?>\n<!DOCTYPE svg PUBLIC \"-//W3C//DTD SVG 1.1//EN\"\n \"http://www.w3.org/Graphics/SVG/1.1/DTD/svg11.dtd\">\n<!-- Generated by graphviz version 2.40.1 (20161225.0304)\n -->\n<!-- Title: Tree Pages: 1 -->\n<svg width=\"3791pt\" height=\"581pt\"\n viewBox=\"0.00 0.00 3790.50 581.00\" xmlns=\"http://www.w3.org/2000/svg\" xmlns:xlink=\"http://www.w3.org/1999/xlink\">\n<g id=\"graph0\" class=\"graph\" transform=\"scale(1 1) rotate(0) translate(4 577)\">\n<title>Tree</title>\n<polygon fill=\"#ffffff\" stroke=\"transparent\" points=\"-4,4 -4,-577 3786.5,-577 3786.5,4 -4,4\"/>\n<!-- 0 -->\n<g id=\"node1\" class=\"node\">\n<title>0</title>\n<polygon fill=\"none\" stroke=\"#000000\" points=\"1750.5,-573 1624.5,-573 1624.5,-505 1750.5,-505 1750.5,-573\"/>\n<text text-anchor=\"middle\" x=\"1687.5\" y=\"-557.8\" font-family=\"Times,serif\" font-size=\"14.00\" fill=\"#000000\">Warehouse &lt;= 0.5</text>\n<text text-anchor=\"middle\" x=\"1687.5\" y=\"-542.8\" font-family=\"Times,serif\" font-size=\"14.00\" fill=\"#000000\">mse = 988845.058</text>\n<text text-anchor=\"middle\" x=\"1687.5\" y=\"-527.8\" font-family=\"Times,serif\" font-size=\"14.00\" fill=\"#000000\">samples = 492</text>\n<text text-anchor=\"middle\" x=\"1687.5\" y=\"-512.8\" font-family=\"Times,serif\" font-size=\"14.00\" fill=\"#000000\">value = 776.22</text>\n</g>\n<!-- 1 -->\n<g id=\"node2\" class=\"node\">\n<title>1</title>\n<polygon fill=\"none\" stroke=\"#000000\" points=\"1331,-469 1212,-469 1212,-401 1331,-401 1331,-469\"/>\n<text text-anchor=\"middle\" x=\"1271.5\" y=\"-453.8\" font-family=\"Times,serif\" font-size=\"14.00\" fill=\"#000000\">Season &lt;= 1.5</text>\n<text text-anchor=\"middle\" x=\"1271.5\" y=\"-438.8\" font-family=\"Times,serif\" font-size=\"14.00\" fill=\"#000000\">mse = 92139.804</text>\n<text text-anchor=\"middle\" x=\"1271.5\" y=\"-423.8\" font-family=\"Times,serif\" font-size=\"14.00\" fill=\"#000000\">samples = 297</text>\n<text text-anchor=\"middle\" x=\"1271.5\" y=\"-408.8\" font-family=\"Times,serif\" font-size=\"14.00\" fill=\"#000000\">value = 310.774</text>\n</g>\n<!-- 0&#45;&gt;1 -->\n<g id=\"edge1\" class=\"edge\">\n<title>0&#45;&gt;1</title>\n<path fill=\"none\" stroke=\"#000000\" d=\"M1624.3186,-523.2046C1548.0284,-504.1321 1420.1382,-472.1596 1341.0873,-452.3968\"/>\n<polygon fill=\"#000000\" stroke=\"#000000\" points=\"1341.7705,-448.96 1331.2202,-449.9301 1340.0727,-455.751 1341.7705,-448.96\"/>\n<text text-anchor=\"middle\" x=\"1344.0826\" y=\"-467.6674\" font-family=\"Times,serif\" font-size=\"14.00\" fill=\"#000000\">True</text>\n</g>\n<!-- 30 -->\n<g id=\"node31\" class=\"node\">\n<title>30</title>\n<polygon fill=\"none\" stroke=\"#000000\" points=\"2358.5,-469 2224.5,-469 2224.5,-401 2358.5,-401 2358.5,-469\"/>\n<text text-anchor=\"middle\" x=\"2291.5\" y=\"-453.8\" font-family=\"Times,serif\" font-size=\"14.00\" fill=\"#000000\">Day &lt;= 0.5</text>\n<text text-anchor=\"middle\" x=\"2291.5\" y=\"-438.8\" font-family=\"Times,serif\" font-size=\"14.00\" fill=\"#000000\">mse = 1522086.522</text>\n<text text-anchor=\"middle\" x=\"2291.5\" y=\"-423.8\" font-family=\"Times,serif\" font-size=\"14.00\" fill=\"#000000\">samples = 195</text>\n<text text-anchor=\"middle\" x=\"2291.5\" y=\"-408.8\" font-family=\"Times,serif\" font-size=\"14.00\" fill=\"#000000\">value = 1485.128</text>\n</g>\n<!-- 0&#45;&gt;30 -->\n<g id=\"edge30\" class=\"edge\">\n<title>0&#45;&gt;30</title>\n<path fill=\"none\" stroke=\"#000000\" d=\"M1750.7129,-528.1157C1862.2309,-508.9139 2093.5034,-469.0921 2214.2756,-448.2969\"/>\n<polygon fill=\"#000000\" stroke=\"#000000\" points=\"2214.9331,-451.7353 2224.1941,-446.5891 2213.7452,-444.8368 2214.9331,-451.7353\"/>\n<text text-anchor=\"middle\" x=\"2209.7725\" y=\"-463.3101\" font-family=\"Times,serif\" font-size=\"14.00\" fill=\"#000000\">False</text>\n</g>\n<!-- 2 -->\n<g id=\"node3\" class=\"node\">\n<title>2</title>\n<polygon fill=\"none\" stroke=\"#000000\" points=\"775,-365 656,-365 656,-297 775,-297 775,-365\"/>\n<text text-anchor=\"middle\" x=\"715.5\" y=\"-349.8\" font-family=\"Times,serif\" font-size=\"14.00\" fill=\"#000000\">Day &lt;= 3.5</text>\n<text text-anchor=\"middle\" x=\"715.5\" y=\"-334.8\" font-family=\"Times,serif\" font-size=\"14.00\" fill=\"#000000\">mse = 52227.435</text>\n<text text-anchor=\"middle\" x=\"715.5\" y=\"-319.8\" font-family=\"Times,serif\" font-size=\"14.00\" fill=\"#000000\">samples = 73</text>\n<text text-anchor=\"middle\" x=\"715.5\" y=\"-304.8\" font-family=\"Times,serif\" font-size=\"14.00\" fill=\"#000000\">value = 261.644</text>\n</g>\n<!-- 1&#45;&gt;2 -->\n<g id=\"edge2\" class=\"edge\">\n<title>1&#45;&gt;2</title>\n<path fill=\"none\" stroke=\"#000000\" d=\"M1211.9983,-423.8702C1108.4953,-404.5099 895.8313,-364.731 785.4469,-344.0836\"/>\n<polygon fill=\"#000000\" stroke=\"#000000\" points=\"785.8874,-340.6054 775.4143,-342.207 784.6003,-347.486 785.8874,-340.6054\"/>\n</g>\n<!-- 15 -->\n<g id=\"node16\" class=\"node\">\n<title>15</title>\n<polygon fill=\"none\" stroke=\"#000000\" points=\"1334.5,-365 1208.5,-365 1208.5,-297 1334.5,-297 1334.5,-365\"/>\n<text text-anchor=\"middle\" x=\"1271.5\" y=\"-349.8\" font-family=\"Times,serif\" font-size=\"14.00\" fill=\"#000000\">Month &lt;= 6.5</text>\n<text text-anchor=\"middle\" x=\"1271.5\" y=\"-334.8\" font-family=\"Times,serif\" font-size=\"14.00\" fill=\"#000000\">mse = 104103.954</text>\n<text text-anchor=\"middle\" x=\"1271.5\" y=\"-319.8\" font-family=\"Times,serif\" font-size=\"14.00\" fill=\"#000000\">samples = 224</text>\n<text text-anchor=\"middle\" x=\"1271.5\" y=\"-304.8\" font-family=\"Times,serif\" font-size=\"14.00\" fill=\"#000000\">value = 326.786</text>\n</g>\n<!-- 1&#45;&gt;15 -->\n<g id=\"edge15\" class=\"edge\">\n<title>1&#45;&gt;15</title>\n<path fill=\"none\" stroke=\"#000000\" d=\"M1271.5,-400.9465C1271.5,-392.776 1271.5,-383.9318 1271.5,-375.3697\"/>\n<polygon fill=\"#000000\" stroke=\"#000000\" points=\"1275.0001,-375.13 1271.5,-365.13 1268.0001,-375.13 1275.0001,-375.13\"/>\n</g>\n<!-- 3 -->\n<g id=\"node4\" class=\"node\">\n<title>3</title>\n<polygon fill=\"none\" stroke=\"#000000\" points=\"441.5,-261 329.5,-261 329.5,-193 441.5,-193 441.5,-261\"/>\n<text text-anchor=\"middle\" x=\"385.5\" y=\"-245.8\" font-family=\"Times,serif\" font-size=\"14.00\" fill=\"#000000\">Month &lt;= 3.5</text>\n<text text-anchor=\"middle\" x=\"385.5\" y=\"-230.8\" font-family=\"Times,serif\" font-size=\"14.00\" fill=\"#000000\">mse = 52616.59</text>\n<text text-anchor=\"middle\" x=\"385.5\" y=\"-215.8\" font-family=\"Times,serif\" font-size=\"14.00\" fill=\"#000000\">samples = 53</text>\n<text text-anchor=\"middle\" x=\"385.5\" y=\"-200.8\" font-family=\"Times,serif\" font-size=\"14.00\" fill=\"#000000\">value = 241.509</text>\n</g>\n<!-- 2&#45;&gt;3 -->\n<g id=\"edge3\" class=\"edge\">\n<title>2&#45;&gt;3</title>\n<path fill=\"none\" stroke=\"#000000\" d=\"M655.7395,-312.1664C598.0307,-293.9794 510.8445,-266.5025 451.2088,-247.7082\"/>\n<polygon fill=\"#000000\" stroke=\"#000000\" points=\"452.1047,-244.3209 441.515,-244.6532 450.0006,-250.9972 452.1047,-244.3209\"/>\n</g>\n<!-- 10 -->\n<g id=\"node11\" class=\"node\">\n<title>10</title>\n<polygon fill=\"none\" stroke=\"#000000\" points=\"767.5,-261 663.5,-261 663.5,-193 767.5,-193 767.5,-261\"/>\n<text text-anchor=\"middle\" x=\"715.5\" y=\"-245.8\" font-family=\"Times,serif\" font-size=\"14.00\" fill=\"#000000\">Month &lt;= 4.5</text>\n<text text-anchor=\"middle\" x=\"715.5\" y=\"-230.8\" font-family=\"Times,serif\" font-size=\"14.00\" fill=\"#000000\">mse = 47275.0</text>\n<text text-anchor=\"middle\" x=\"715.5\" y=\"-215.8\" font-family=\"Times,serif\" font-size=\"14.00\" fill=\"#000000\">samples = 20</text>\n<text text-anchor=\"middle\" x=\"715.5\" y=\"-200.8\" font-family=\"Times,serif\" font-size=\"14.00\" fill=\"#000000\">value = 315.0</text>\n</g>\n<!-- 2&#45;&gt;10 -->\n<g id=\"edge10\" class=\"edge\">\n<title>2&#45;&gt;10</title>\n<path fill=\"none\" stroke=\"#000000\" d=\"M715.5,-296.9465C715.5,-288.776 715.5,-279.9318 715.5,-271.3697\"/>\n<polygon fill=\"#000000\" stroke=\"#000000\" points=\"719.0001,-271.13 715.5,-261.13 712.0001,-271.13 719.0001,-271.13\"/>\n</g>\n<!-- 4 -->\n<g id=\"node5\" class=\"node\">\n<title>4</title>\n<polygon fill=\"none\" stroke=\"#000000\" points=\"249,-157 130,-157 130,-89 249,-89 249,-157\"/>\n<text text-anchor=\"middle\" x=\"189.5\" y=\"-141.8\" font-family=\"Times,serif\" font-size=\"14.00\" fill=\"#000000\">Day &lt;= 1.5</text>\n<text text-anchor=\"middle\" x=\"189.5\" y=\"-126.8\" font-family=\"Times,serif\" font-size=\"14.00\" fill=\"#000000\">mse = 65976.331</text>\n<text text-anchor=\"middle\" x=\"189.5\" y=\"-111.8\" font-family=\"Times,serif\" font-size=\"14.00\" fill=\"#000000\">samples = 26</text>\n<text text-anchor=\"middle\" x=\"189.5\" y=\"-96.8\" font-family=\"Times,serif\" font-size=\"14.00\" fill=\"#000000\">value = 269.231</text>\n</g>\n<!-- 3&#45;&gt;4 -->\n<g id=\"edge4\" class=\"edge\">\n<title>3&#45;&gt;4</title>\n<path fill=\"none\" stroke=\"#000000\" d=\"M329.3343,-197.1978C307.1644,-185.4342 281.4782,-171.8048 258.216,-159.4616\"/>\n<polygon fill=\"#000000\" stroke=\"#000000\" points=\"259.5684,-156.217 249.0943,-154.6215 256.2873,-162.4004 259.5684,-156.217\"/>\n</g>\n<!-- 7 -->\n<g id=\"node8\" class=\"node\">\n<title>7</title>\n<polygon fill=\"none\" stroke=\"#000000\" points=\"441.5,-157 329.5,-157 329.5,-89 441.5,-89 441.5,-157\"/>\n<text text-anchor=\"middle\" x=\"385.5\" y=\"-141.8\" font-family=\"Times,serif\" font-size=\"14.00\" fill=\"#000000\">Month &lt;= 4.5</text>\n<text text-anchor=\"middle\" x=\"385.5\" y=\"-126.8\" font-family=\"Times,serif\" font-size=\"14.00\" fill=\"#000000\">mse = 38299.04</text>\n<text text-anchor=\"middle\" x=\"385.5\" y=\"-111.8\" font-family=\"Times,serif\" font-size=\"14.00\" fill=\"#000000\">samples = 27</text>\n<text text-anchor=\"middle\" x=\"385.5\" y=\"-96.8\" font-family=\"Times,serif\" font-size=\"14.00\" fill=\"#000000\">value = 214.815</text>\n</g>\n<!-- 3&#45;&gt;7 -->\n<g id=\"edge7\" class=\"edge\">\n<title>3&#45;&gt;7</title>\n<path fill=\"none\" stroke=\"#000000\" d=\"M385.5,-192.9465C385.5,-184.776 385.5,-175.9318 385.5,-167.3697\"/>\n<polygon fill=\"#000000\" stroke=\"#000000\" points=\"389.0001,-167.13 385.5,-157.13 382.0001,-167.13 389.0001,-167.13\"/>\n</g>\n<!-- 5 -->\n<g id=\"node6\" class=\"node\">\n<title>5</title>\n<polygon fill=\"none\" stroke=\"#000000\" points=\"119,-53 0,-53 0,0 119,0 119,-53\"/>\n<text text-anchor=\"middle\" x=\"59.5\" y=\"-37.8\" font-family=\"Times,serif\" font-size=\"14.00\" fill=\"#000000\">mse = 96377.551</text>\n<text text-anchor=\"middle\" x=\"59.5\" y=\"-22.8\" font-family=\"Times,serif\" font-size=\"14.00\" fill=\"#000000\">samples = 14</text>\n<text text-anchor=\"middle\" x=\"59.5\" y=\"-7.8\" font-family=\"Times,serif\" font-size=\"14.00\" fill=\"#000000\">value = 307.143</text>\n</g>\n<!-- 4&#45;&gt;5 -->\n<g id=\"edge5\" class=\"edge\">\n<title>4&#45;&gt;5</title>\n<path fill=\"none\" stroke=\"#000000\" d=\"M143.6669,-88.9777C130.7143,-79.3629 116.6465,-68.9203 103.7867,-59.3743\"/>\n<polygon fill=\"#000000\" stroke=\"#000000\" points=\"105.6499,-56.3986 95.5342,-53.2485 101.4776,-62.0193 105.6499,-56.3986\"/>\n</g>\n<!-- 6 -->\n<g id=\"node7\" class=\"node\">\n<title>6</title>\n<polygon fill=\"none\" stroke=\"#000000\" points=\"241.5,-53 137.5,-53 137.5,0 241.5,0 241.5,-53\"/>\n<text text-anchor=\"middle\" x=\"189.5\" y=\"-37.8\" font-family=\"Times,serif\" font-size=\"14.00\" fill=\"#000000\">mse = 26875.0</text>\n<text text-anchor=\"middle\" x=\"189.5\" y=\"-22.8\" font-family=\"Times,serif\" font-size=\"14.00\" fill=\"#000000\">samples = 12</text>\n<text text-anchor=\"middle\" x=\"189.5\" y=\"-7.8\" font-family=\"Times,serif\" font-size=\"14.00\" fill=\"#000000\">value = 225.0</text>\n</g>\n<!-- 4&#45;&gt;6 -->\n<g id=\"edge6\" class=\"edge\">\n<title>4&#45;&gt;6</title>\n<path fill=\"none\" stroke=\"#000000\" d=\"M189.5,-88.9777C189.5,-80.7364 189.5,-71.887 189.5,-63.5153\"/>\n<polygon fill=\"#000000\" stroke=\"#000000\" points=\"193.0001,-63.2484 189.5,-53.2485 186.0001,-63.2485 193.0001,-63.2484\"/>\n</g>\n<!-- 8 -->\n<g id=\"node9\" class=\"node\">\n<title>8</title>\n<polygon fill=\"none\" stroke=\"#000000\" points=\"369.5,-53 259.5,-53 259.5,0 369.5,0 369.5,-53\"/>\n<text text-anchor=\"middle\" x=\"314.5\" y=\"-37.8\" font-family=\"Times,serif\" font-size=\"14.00\" fill=\"#000000\">mse = 11093.75</text>\n<text text-anchor=\"middle\" x=\"314.5\" y=\"-22.8\" font-family=\"Times,serif\" font-size=\"14.00\" fill=\"#000000\">samples = 16</text>\n<text text-anchor=\"middle\" x=\"314.5\" y=\"-7.8\" font-family=\"Times,serif\" font-size=\"14.00\" fill=\"#000000\">value = 162.5</text>\n</g>\n<!-- 7&#45;&gt;8 -->\n<g id=\"edge8\" class=\"edge\">\n<title>7&#45;&gt;8</title>\n<path fill=\"none\" stroke=\"#000000\" d=\"M360.4681,-88.9777C353.9329,-80.0954 346.878,-70.5067 340.3036,-61.5711\"/>\n<polygon fill=\"#000000\" stroke=\"#000000\" points=\"342.9257,-59.229 334.1802,-53.2485 337.2874,-63.3775 342.9257,-59.229\"/>\n</g>\n<!-- 9 -->\n<g id=\"node10\" class=\"node\">\n<title>9</title>\n<polygon fill=\"none\" stroke=\"#000000\" points=\"507,-53 388,-53 388,0 507,0 507,-53\"/>\n<text text-anchor=\"middle\" x=\"447.5\" y=\"-37.8\" font-family=\"Times,serif\" font-size=\"14.00\" fill=\"#000000\">mse = 68099.174</text>\n<text text-anchor=\"middle\" x=\"447.5\" y=\"-22.8\" font-family=\"Times,serif\" font-size=\"14.00\" fill=\"#000000\">samples = 11</text>\n<text text-anchor=\"middle\" x=\"447.5\" y=\"-7.8\" font-family=\"Times,serif\" font-size=\"14.00\" fill=\"#000000\">value = 290.909</text>\n</g>\n<!-- 7&#45;&gt;9 -->\n<g id=\"edge9\" class=\"edge\">\n<title>7&#45;&gt;9</title>\n<path fill=\"none\" stroke=\"#000000\" d=\"M407.3589,-88.9777C413.0068,-80.187 419.0993,-70.7044 424.7896,-61.8477\"/>\n<polygon fill=\"#000000\" stroke=\"#000000\" points=\"427.8537,-63.5536 430.3144,-53.2485 421.9644,-59.7698 427.8537,-63.5536\"/>\n</g>\n<!-- 11 -->\n<g id=\"node12\" class=\"node\">\n<title>11</title>\n<polygon fill=\"none\" stroke=\"#000000\" points=\"712,-157 593,-157 593,-89 712,-89 712,-157\"/>\n<text text-anchor=\"middle\" x=\"652.5\" y=\"-141.8\" font-family=\"Times,serif\" font-size=\"14.00\" fill=\"#000000\">Month &lt;= 3.5</text>\n<text text-anchor=\"middle\" x=\"652.5\" y=\"-126.8\" font-family=\"Times,serif\" font-size=\"14.00\" fill=\"#000000\">mse = 50222.222</text>\n<text text-anchor=\"middle\" x=\"652.5\" y=\"-111.8\" font-family=\"Times,serif\" font-size=\"14.00\" fill=\"#000000\">samples = 15</text>\n<text text-anchor=\"middle\" x=\"652.5\" y=\"-96.8\" font-family=\"Times,serif\" font-size=\"14.00\" fill=\"#000000\">value = 366.667</text>\n</g>\n<!-- 10&#45;&gt;11 -->\n<g id=\"edge11\" class=\"edge\">\n<title>10&#45;&gt;11</title>\n<path fill=\"none\" stroke=\"#000000\" d=\"M694.8714,-192.9465C689.6501,-184.3271 683.9745,-174.9579 678.5245,-165.9611\"/>\n<polygon fill=\"#000000\" stroke=\"#000000\" points=\"681.3497,-163.8697 673.1749,-157.13 675.3626,-167.4965 681.3497,-163.8697\"/>\n</g>\n<!-- 14 -->\n<g id=\"node15\" class=\"node\">\n<title>14</title>\n<polygon fill=\"none\" stroke=\"#000000\" points=\"827,-149.5 730,-149.5 730,-96.5 827,-96.5 827,-149.5\"/>\n<text text-anchor=\"middle\" x=\"778.5\" y=\"-134.3\" font-family=\"Times,serif\" font-size=\"14.00\" fill=\"#000000\">mse = 6400.0</text>\n<text text-anchor=\"middle\" x=\"778.5\" y=\"-119.3\" font-family=\"Times,serif\" font-size=\"14.00\" fill=\"#000000\">samples = 5</text>\n<text text-anchor=\"middle\" x=\"778.5\" y=\"-104.3\" font-family=\"Times,serif\" font-size=\"14.00\" fill=\"#000000\">value = 160.0</text>\n</g>\n<!-- 10&#45;&gt;14 -->\n<g id=\"edge14\" class=\"edge\">\n<title>10&#45;&gt;14</title>\n<path fill=\"none\" stroke=\"#000000\" d=\"M736.1286,-192.9465C742.8678,-181.8215 750.3637,-169.4473 757.1545,-158.237\"/>\n<polygon fill=\"#000000\" stroke=\"#000000\" points=\"760.2339,-159.9087 762.4216,-149.5422 754.2467,-156.2818 760.2339,-159.9087\"/>\n</g>\n<!-- 12 -->\n<g id=\"node13\" class=\"node\">\n<title>12</title>\n<polygon fill=\"none\" stroke=\"#000000\" points=\"644,-53 525,-53 525,0 644,0 644,-53\"/>\n<text text-anchor=\"middle\" x=\"584.5\" y=\"-37.8\" font-family=\"Times,serif\" font-size=\"14.00\" fill=\"#000000\">mse = 93333.333</text>\n<text text-anchor=\"middle\" x=\"584.5\" y=\"-22.8\" font-family=\"Times,serif\" font-size=\"14.00\" fill=\"#000000\">samples = 6</text>\n<text text-anchor=\"middle\" x=\"584.5\" y=\"-7.8\" font-family=\"Times,serif\" font-size=\"14.00\" fill=\"#000000\">value = 400.0</text>\n</g>\n<!-- 11&#45;&gt;12 -->\n<g id=\"edge12\" class=\"edge\">\n<title>11&#45;&gt;12</title>\n<path fill=\"none\" stroke=\"#000000\" d=\"M628.5257,-88.9777C622.2667,-80.0954 615.5099,-70.5067 609.2133,-61.5711\"/>\n<polygon fill=\"#000000\" stroke=\"#000000\" points=\"611.9699,-59.4068 603.3487,-53.2485 606.2479,-63.4389 611.9699,-59.4068\"/>\n</g>\n<!-- 13 -->\n<g id=\"node14\" class=\"node\">\n<title>13</title>\n<polygon fill=\"none\" stroke=\"#000000\" points=\"781,-53 662,-53 662,0 781,0 781,-53\"/>\n<text text-anchor=\"middle\" x=\"721.5\" y=\"-37.8\" font-family=\"Times,serif\" font-size=\"14.00\" fill=\"#000000\">mse = 20246.914</text>\n<text text-anchor=\"middle\" x=\"721.5\" y=\"-22.8\" font-family=\"Times,serif\" font-size=\"14.00\" fill=\"#000000\">samples = 9</text>\n<text text-anchor=\"middle\" x=\"721.5\" y=\"-7.8\" font-family=\"Times,serif\" font-size=\"14.00\" fill=\"#000000\">value = 344.444</text>\n</g>\n<!-- 11&#45;&gt;13 -->\n<g id=\"edge13\" class=\"edge\">\n<title>11&#45;&gt;13</title>\n<path fill=\"none\" stroke=\"#000000\" d=\"M676.8268,-88.9777C683.1779,-80.0954 690.034,-70.5067 696.4232,-61.5711\"/>\n<polygon fill=\"#000000\" stroke=\"#000000\" points=\"699.4048,-63.4187 702.3741,-53.2485 693.7107,-59.3472 699.4048,-63.4187\"/>\n</g>\n<!-- 16 -->\n<g id=\"node17\" class=\"node\">\n<title>16</title>\n<polygon fill=\"none\" stroke=\"#000000\" points=\"1265.5,-261 1139.5,-261 1139.5,-193 1265.5,-193 1265.5,-261\"/>\n<text text-anchor=\"middle\" x=\"1202.5\" y=\"-245.8\" font-family=\"Times,serif\" font-size=\"14.00\" fill=\"#000000\">Month &lt;= 4.0</text>\n<text text-anchor=\"middle\" x=\"1202.5\" y=\"-230.8\" font-family=\"Times,serif\" font-size=\"14.00\" fill=\"#000000\">mse = 192789.333</text>\n<text text-anchor=\"middle\" x=\"1202.5\" y=\"-215.8\" font-family=\"Times,serif\" font-size=\"14.00\" fill=\"#000000\">samples = 75</text>\n<text text-anchor=\"middle\" x=\"1202.5\" y=\"-200.8\" font-family=\"Times,serif\" font-size=\"14.00\" fill=\"#000000\">value = 388.0</text>\n</g>\n<!-- 15&#45;&gt;16 -->\n<g id=\"edge16\" class=\"edge\">\n<title>15&#45;&gt;16</title>\n<path fill=\"none\" stroke=\"#000000\" d=\"M1248.9068,-296.9465C1243.1286,-288.2373 1236.8425,-278.7626 1230.8166,-269.6801\"/>\n<polygon fill=\"#000000\" stroke=\"#000000\" points=\"1233.589,-267.5278 1225.1439,-261.13 1227.756,-271.3978 1233.589,-267.5278\"/>\n</g>\n<!-- 23 -->\n<g id=\"node24\" class=\"node\">\n<title>23</title>\n<polygon fill=\"none\" stroke=\"#000000\" points=\"1531.5,-261 1419.5,-261 1419.5,-193 1531.5,-193 1531.5,-261\"/>\n<text text-anchor=\"middle\" x=\"1475.5\" y=\"-245.8\" font-family=\"Times,serif\" font-size=\"14.00\" fill=\"#000000\">Month &lt;= 10.5</text>\n<text text-anchor=\"middle\" x=\"1475.5\" y=\"-230.8\" font-family=\"Times,serif\" font-size=\"14.00\" fill=\"#000000\">mse = 56628.08</text>\n<text text-anchor=\"middle\" x=\"1475.5\" y=\"-215.8\" font-family=\"Times,serif\" font-size=\"14.00\" fill=\"#000000\">samples = 149</text>\n<text text-anchor=\"middle\" x=\"1475.5\" y=\"-200.8\" font-family=\"Times,serif\" font-size=\"14.00\" fill=\"#000000\">value = 295.973</text>\n</g>\n<!-- 15&#45;&gt;23 -->\n<g id=\"edge23\" class=\"edge\">\n<title>15&#45;&gt;23</title>\n<path fill=\"none\" stroke=\"#000000\" d=\"M1334.6498,-298.806C1358.6186,-286.5866 1385.9525,-272.6517 1410.1227,-260.3296\"/>\n<polygon fill=\"#000000\" stroke=\"#000000\" points=\"1411.8983,-263.3531 1419.2177,-255.693 1408.7189,-257.1167 1411.8983,-263.3531\"/>\n</g>\n<!-- 17 -->\n<g id=\"node18\" class=\"node\">\n<title>17</title>\n<polygon fill=\"none\" stroke=\"#000000\" points=\"1051.5,-157 939.5,-157 939.5,-89 1051.5,-89 1051.5,-157\"/>\n<text text-anchor=\"middle\" x=\"995.5\" y=\"-141.8\" font-family=\"Times,serif\" font-size=\"14.00\" fill=\"#000000\">Day &lt;= 3.5</text>\n<text text-anchor=\"middle\" x=\"995.5\" y=\"-126.8\" font-family=\"Times,serif\" font-size=\"14.00\" fill=\"#000000\">mse = 66823.14</text>\n<text text-anchor=\"middle\" x=\"995.5\" y=\"-111.8\" font-family=\"Times,serif\" font-size=\"14.00\" fill=\"#000000\">samples = 55</text>\n<text text-anchor=\"middle\" x=\"995.5\" y=\"-96.8\" font-family=\"Times,serif\" font-size=\"14.00\" fill=\"#000000\">value = 316.364</text>\n</g>\n<!-- 16&#45;&gt;17 -->\n<g id=\"edge17\" class=\"edge\">\n<title>16&#45;&gt;17</title>\n<path fill=\"none\" stroke=\"#000000\" d=\"M1139.2684,-195.2315C1114.3838,-182.729 1085.8198,-168.378 1060.7428,-155.779\"/>\n<polygon fill=\"#000000\" stroke=\"#000000\" points=\"1062.1819,-152.5852 1051.675,-151.2232 1059.0393,-158.8401 1062.1819,-152.5852\"/>\n</g>\n<!-- 20 -->\n<g id=\"node21\" class=\"node\">\n<title>20</title>\n<polygon fill=\"none\" stroke=\"#000000\" points=\"1258,-157 1147,-157 1147,-89 1258,-89 1258,-157\"/>\n<text text-anchor=\"middle\" x=\"1202.5\" y=\"-141.8\" font-family=\"Times,serif\" font-size=\"14.00\" fill=\"#000000\">Day &lt;= 0.5</text>\n<text text-anchor=\"middle\" x=\"1202.5\" y=\"-126.8\" font-family=\"Times,serif\" font-size=\"14.00\" fill=\"#000000\">mse = 486275.0</text>\n<text text-anchor=\"middle\" x=\"1202.5\" y=\"-111.8\" font-family=\"Times,serif\" font-size=\"14.00\" fill=\"#000000\">samples = 20</text>\n<text text-anchor=\"middle\" x=\"1202.5\" y=\"-96.8\" font-family=\"Times,serif\" font-size=\"14.00\" fill=\"#000000\">value = 585.0</text>\n</g>\n<!-- 16&#45;&gt;20 -->\n<g id=\"edge20\" class=\"edge\">\n<title>16&#45;&gt;20</title>\n<path fill=\"none\" stroke=\"#000000\" d=\"M1202.5,-192.9465C1202.5,-184.776 1202.5,-175.9318 1202.5,-167.3697\"/>\n<polygon fill=\"#000000\" stroke=\"#000000\" points=\"1206.0001,-167.13 1202.5,-157.13 1199.0001,-167.13 1206.0001,-167.13\"/>\n</g>\n<!-- 18 -->\n<g id=\"node19\" class=\"node\">\n<title>18</title>\n<polygon fill=\"none\" stroke=\"#000000\" points=\"918,-53 799,-53 799,0 918,0 918,-53\"/>\n<text text-anchor=\"middle\" x=\"858.5\" y=\"-37.8\" font-family=\"Times,serif\" font-size=\"14.00\" fill=\"#000000\">mse = 76763.039</text>\n<text text-anchor=\"middle\" x=\"858.5\" y=\"-22.8\" font-family=\"Times,serif\" font-size=\"14.00\" fill=\"#000000\">samples = 42</text>\n<text text-anchor=\"middle\" x=\"858.5\" y=\"-7.8\" font-family=\"Times,serif\" font-size=\"14.00\" fill=\"#000000\">value = 354.762</text>\n</g>\n<!-- 17&#45;&gt;18 -->\n<g id=\"edge18\" class=\"edge\">\n<title>17&#45;&gt;18</title>\n<path fill=\"none\" stroke=\"#000000\" d=\"M947.1989,-88.9777C933.4189,-79.2713 918.4411,-68.7213 904.7845,-59.1018\"/>\n<polygon fill=\"#000000\" stroke=\"#000000\" points=\"906.6655,-56.1457 896.4745,-53.2485 902.6345,-61.8686 906.6655,-56.1457\"/>\n</g>\n<!-- 19 -->\n<g id=\"node20\" class=\"node\">\n<title>19</title>\n<polygon fill=\"none\" stroke=\"#000000\" points=\"1055,-53 936,-53 936,0 1055,0 1055,-53\"/>\n<text text-anchor=\"middle\" x=\"995.5\" y=\"-37.8\" font-family=\"Times,serif\" font-size=\"14.00\" fill=\"#000000\">mse = 14556.213</text>\n<text text-anchor=\"middle\" x=\"995.5\" y=\"-22.8\" font-family=\"Times,serif\" font-size=\"14.00\" fill=\"#000000\">samples = 13</text>\n<text text-anchor=\"middle\" x=\"995.5\" y=\"-7.8\" font-family=\"Times,serif\" font-size=\"14.00\" fill=\"#000000\">value = 192.308</text>\n</g>\n<!-- 17&#45;&gt;19 -->\n<g id=\"edge19\" class=\"edge\">\n<title>17&#45;&gt;19</title>\n<path fill=\"none\" stroke=\"#000000\" d=\"M995.5,-88.9777C995.5,-80.7364 995.5,-71.887 995.5,-63.5153\"/>\n<polygon fill=\"#000000\" stroke=\"#000000\" points=\"999.0001,-63.2484 995.5,-53.2485 992.0001,-63.2485 999.0001,-63.2484\"/>\n</g>\n<!-- 21 -->\n<g id=\"node22\" class=\"node\">\n<title>21</title>\n<polygon fill=\"none\" stroke=\"#000000\" points=\"1192,-53 1073,-53 1073,0 1192,0 1192,-53\"/>\n<text text-anchor=\"middle\" x=\"1132.5\" y=\"-37.8\" font-family=\"Times,serif\" font-size=\"14.00\" fill=\"#000000\">mse = 901224.49</text>\n<text text-anchor=\"middle\" x=\"1132.5\" y=\"-22.8\" font-family=\"Times,serif\" font-size=\"14.00\" fill=\"#000000\">samples = 7</text>\n<text text-anchor=\"middle\" x=\"1132.5\" y=\"-7.8\" font-family=\"Times,serif\" font-size=\"14.00\" fill=\"#000000\">value = 814.286</text>\n</g>\n<!-- 20&#45;&gt;21 -->\n<g id=\"edge21\" class=\"edge\">\n<title>20&#45;&gt;21</title>\n<path fill=\"none\" stroke=\"#000000\" d=\"M1177.8206,-88.9777C1171.3775,-80.0954 1164.422,-70.5067 1157.9402,-61.5711\"/>\n<polygon fill=\"#000000\" stroke=\"#000000\" points=\"1160.6079,-59.288 1151.903,-53.2485 1154.9417,-63.3982 1160.6079,-59.288\"/>\n</g>\n<!-- 22 -->\n<g id=\"node23\" class=\"node\">\n<title>22</title>\n<polygon fill=\"none\" stroke=\"#000000\" points=\"1336.5,-53 1210.5,-53 1210.5,0 1336.5,0 1336.5,-53\"/>\n<text text-anchor=\"middle\" x=\"1273.5\" y=\"-37.8\" font-family=\"Times,serif\" font-size=\"14.00\" fill=\"#000000\">mse = 219289.941</text>\n<text text-anchor=\"middle\" x=\"1273.5\" y=\"-22.8\" font-family=\"Times,serif\" font-size=\"14.00\" fill=\"#000000\">samples = 13</text>\n<text text-anchor=\"middle\" x=\"1273.5\" y=\"-7.8\" font-family=\"Times,serif\" font-size=\"14.00\" fill=\"#000000\">value = 461.538</text>\n</g>\n<!-- 20&#45;&gt;22 -->\n<g id=\"edge22\" class=\"edge\">\n<title>20&#45;&gt;22</title>\n<path fill=\"none\" stroke=\"#000000\" d=\"M1227.5319,-88.9777C1234.0671,-80.0954 1241.122,-70.5067 1247.6964,-61.5711\"/>\n<polygon fill=\"#000000\" stroke=\"#000000\" points=\"1250.7126,-63.3775 1253.8198,-53.2485 1245.0743,-59.229 1250.7126,-63.3775\"/>\n</g>\n<!-- 24 -->\n<g id=\"node25\" class=\"node\">\n<title>24</title>\n<polygon fill=\"none\" stroke=\"#000000\" points=\"1535,-157 1416,-157 1416,-89 1535,-89 1535,-157\"/>\n<text text-anchor=\"middle\" x=\"1475.5\" y=\"-141.8\" font-family=\"Times,serif\" font-size=\"14.00\" fill=\"#000000\">Season &lt;= 2.5</text>\n<text text-anchor=\"middle\" x=\"1475.5\" y=\"-126.8\" font-family=\"Times,serif\" font-size=\"14.00\" fill=\"#000000\">mse = 34394.464</text>\n<text text-anchor=\"middle\" x=\"1475.5\" y=\"-111.8\" font-family=\"Times,serif\" font-size=\"14.00\" fill=\"#000000\">samples = 102</text>\n<text text-anchor=\"middle\" x=\"1475.5\" y=\"-96.8\" font-family=\"Times,serif\" font-size=\"14.00\" fill=\"#000000\">value = 282.353</text>\n</g>\n<!-- 23&#45;&gt;24 -->\n<g id=\"edge24\" class=\"edge\">\n<title>23&#45;&gt;24</title>\n<path fill=\"none\" stroke=\"#000000\" d=\"M1475.5,-192.9465C1475.5,-184.776 1475.5,-175.9318 1475.5,-167.3697\"/>\n<polygon fill=\"#000000\" stroke=\"#000000\" points=\"1479.0001,-167.13 1475.5,-157.13 1472.0001,-167.13 1479.0001,-167.13\"/>\n</g>\n<!-- 27 -->\n<g id=\"node28\" class=\"node\">\n<title>27</title>\n<polygon fill=\"none\" stroke=\"#000000\" points=\"1737,-157 1618,-157 1618,-89 1737,-89 1737,-157\"/>\n<text text-anchor=\"middle\" x=\"1677.5\" y=\"-141.8\" font-family=\"Times,serif\" font-size=\"14.00\" fill=\"#000000\">Season &lt;= 3.5</text>\n<text text-anchor=\"middle\" x=\"1677.5\" y=\"-126.8\" font-family=\"Times,serif\" font-size=\"14.00\" fill=\"#000000\">mse = 103603.44</text>\n<text text-anchor=\"middle\" x=\"1677.5\" y=\"-111.8\" font-family=\"Times,serif\" font-size=\"14.00\" fill=\"#000000\">samples = 47</text>\n<text text-anchor=\"middle\" x=\"1677.5\" y=\"-96.8\" font-family=\"Times,serif\" font-size=\"14.00\" fill=\"#000000\">value = 325.532</text>\n</g>\n<!-- 23&#45;&gt;27 -->\n<g id=\"edge27\" class=\"edge\">\n<title>23&#45;&gt;27</title>\n<path fill=\"none\" stroke=\"#000000\" d=\"M1531.5,-198.1683C1555.4175,-185.8544 1583.5668,-171.3616 1608.7335,-158.4046\"/>\n<polygon fill=\"#000000\" stroke=\"#000000\" points=\"1610.5683,-161.3966 1617.8571,-153.7073 1607.3641,-155.173 1610.5683,-161.3966\"/>\n</g>\n<!-- 25 -->\n<g id=\"node26\" class=\"node\">\n<title>25</title>\n<polygon fill=\"none\" stroke=\"#000000\" points=\"1466.5,-53 1354.5,-53 1354.5,0 1466.5,0 1466.5,-53\"/>\n<text text-anchor=\"middle\" x=\"1410.5\" y=\"-37.8\" font-family=\"Times,serif\" font-size=\"14.00\" fill=\"#000000\">mse = 44919.9</text>\n<text text-anchor=\"middle\" x=\"1410.5\" y=\"-22.8\" font-family=\"Times,serif\" font-size=\"14.00\" fill=\"#000000\">samples = 53</text>\n<text text-anchor=\"middle\" x=\"1410.5\" y=\"-7.8\" font-family=\"Times,serif\" font-size=\"14.00\" fill=\"#000000\">value = 313.208</text>\n</g>\n<!-- 24&#45;&gt;25 -->\n<g id=\"edge25\" class=\"edge\">\n<title>24&#45;&gt;25</title>\n<path fill=\"none\" stroke=\"#000000\" d=\"M1452.5834,-88.9777C1446.6006,-80.0954 1440.1418,-70.5067 1434.123,-61.5711\"/>\n<polygon fill=\"#000000\" stroke=\"#000000\" points=\"1437.0067,-59.5871 1428.5171,-53.2485 1431.2009,-63.4978 1437.0067,-59.5871\"/>\n</g>\n<!-- 26 -->\n<g id=\"node27\" class=\"node\">\n<title>26</title>\n<polygon fill=\"none\" stroke=\"#000000\" points=\"1604,-53 1485,-53 1485,0 1604,0 1604,-53\"/>\n<text text-anchor=\"middle\" x=\"1544.5\" y=\"-37.8\" font-family=\"Times,serif\" font-size=\"14.00\" fill=\"#000000\">mse = 20866.306</text>\n<text text-anchor=\"middle\" x=\"1544.5\" y=\"-22.8\" font-family=\"Times,serif\" font-size=\"14.00\" fill=\"#000000\">samples = 49</text>\n<text text-anchor=\"middle\" x=\"1544.5\" y=\"-7.8\" font-family=\"Times,serif\" font-size=\"14.00\" fill=\"#000000\">value = 248.98</text>\n</g>\n<!-- 24&#45;&gt;26 -->\n<g id=\"edge26\" class=\"edge\">\n<title>24&#45;&gt;26</title>\n<path fill=\"none\" stroke=\"#000000\" d=\"M1499.8268,-88.9777C1506.1779,-80.0954 1513.034,-70.5067 1519.4232,-61.5711\"/>\n<polygon fill=\"#000000\" stroke=\"#000000\" points=\"1522.4048,-63.4187 1525.3741,-53.2485 1516.7107,-59.3472 1522.4048,-63.4187\"/>\n</g>\n<!-- 28 -->\n<g id=\"node29\" class=\"node\">\n<title>28</title>\n<polygon fill=\"none\" stroke=\"#000000\" points=\"1733,-53 1622,-53 1622,0 1733,0 1733,-53\"/>\n<text text-anchor=\"middle\" x=\"1677.5\" y=\"-37.8\" font-family=\"Times,serif\" font-size=\"14.00\" fill=\"#000000\">mse = 164000.0</text>\n<text text-anchor=\"middle\" x=\"1677.5\" y=\"-22.8\" font-family=\"Times,serif\" font-size=\"14.00\" fill=\"#000000\">samples = 25</text>\n<text text-anchor=\"middle\" x=\"1677.5\" y=\"-7.8\" font-family=\"Times,serif\" font-size=\"14.00\" fill=\"#000000\">value = 380.0</text>\n</g>\n<!-- 27&#45;&gt;28 -->\n<g id=\"edge28\" class=\"edge\">\n<title>27&#45;&gt;28</title>\n<path fill=\"none\" stroke=\"#000000\" d=\"M1677.5,-88.9777C1677.5,-80.7364 1677.5,-71.887 1677.5,-63.5153\"/>\n<polygon fill=\"#000000\" stroke=\"#000000\" points=\"1681.0001,-63.2484 1677.5,-53.2485 1674.0001,-63.2485 1681.0001,-63.2484\"/>\n</g>\n<!-- 29 -->\n<g id=\"node30\" class=\"node\">\n<title>29</title>\n<polygon fill=\"none\" stroke=\"#000000\" points=\"1870,-53 1751,-53 1751,0 1870,0 1870,-53\"/>\n<text text-anchor=\"middle\" x=\"1810.5\" y=\"-37.8\" font-family=\"Times,serif\" font-size=\"14.00\" fill=\"#000000\">mse = 27768.595</text>\n<text text-anchor=\"middle\" x=\"1810.5\" y=\"-22.8\" font-family=\"Times,serif\" font-size=\"14.00\" fill=\"#000000\">samples = 22</text>\n<text text-anchor=\"middle\" x=\"1810.5\" y=\"-7.8\" font-family=\"Times,serif\" font-size=\"14.00\" fill=\"#000000\">value = 263.636</text>\n</g>\n<!-- 27&#45;&gt;29 -->\n<g id=\"edge29\" class=\"edge\">\n<title>27&#45;&gt;29</title>\n<path fill=\"none\" stroke=\"#000000\" d=\"M1724.3908,-88.9777C1737.6423,-79.3629 1752.0347,-68.9203 1765.1913,-59.3743\"/>\n<polygon fill=\"#000000\" stroke=\"#000000\" points=\"1767.5957,-61.9541 1773.6342,-53.2485 1763.4848,-56.2883 1767.5957,-61.9541\"/>\n</g>\n<!-- 31 -->\n<g id=\"node32\" class=\"node\">\n<title>31</title>\n<polygon fill=\"none\" stroke=\"#000000\" points=\"2358.5,-365 2224.5,-365 2224.5,-297 2358.5,-297 2358.5,-365\"/>\n<text text-anchor=\"middle\" x=\"2291.5\" y=\"-349.8\" font-family=\"Times,serif\" font-size=\"14.00\" fill=\"#000000\">Month &lt;= 7.5</text>\n<text text-anchor=\"middle\" x=\"2291.5\" y=\"-334.8\" font-family=\"Times,serif\" font-size=\"14.00\" fill=\"#000000\">mse = 1712482.639</text>\n<text text-anchor=\"middle\" x=\"2291.5\" y=\"-319.8\" font-family=\"Times,serif\" font-size=\"14.00\" fill=\"#000000\">samples = 48</text>\n<text text-anchor=\"middle\" x=\"2291.5\" y=\"-304.8\" font-family=\"Times,serif\" font-size=\"14.00\" fill=\"#000000\">value = 1795.833</text>\n</g>\n<!-- 30&#45;&gt;31 -->\n<g id=\"edge31\" class=\"edge\">\n<title>30&#45;&gt;31</title>\n<path fill=\"none\" stroke=\"#000000\" d=\"M2291.5,-400.9465C2291.5,-392.776 2291.5,-383.9318 2291.5,-375.3697\"/>\n<polygon fill=\"#000000\" stroke=\"#000000\" points=\"2295.0001,-375.13 2291.5,-365.13 2288.0001,-375.13 2295.0001,-375.13\"/>\n</g>\n<!-- 44 -->\n<g id=\"node45\" class=\"node\">\n<title>44</title>\n<polygon fill=\"none\" stroke=\"#000000\" points=\"3077.5,-365 2943.5,-365 2943.5,-297 3077.5,-297 3077.5,-365\"/>\n<text text-anchor=\"middle\" x=\"3010.5\" y=\"-349.8\" font-family=\"Times,serif\" font-size=\"14.00\" fill=\"#000000\">Month &lt;= 11.5</text>\n<text text-anchor=\"middle\" x=\"3010.5\" y=\"-334.8\" font-family=\"Times,serif\" font-size=\"14.00\" fill=\"#000000\">mse = 1418100.791</text>\n<text text-anchor=\"middle\" x=\"3010.5\" y=\"-319.8\" font-family=\"Times,serif\" font-size=\"14.00\" fill=\"#000000\">samples = 147</text>\n<text text-anchor=\"middle\" x=\"3010.5\" y=\"-304.8\" font-family=\"Times,serif\" font-size=\"14.00\" fill=\"#000000\">value = 1383.673</text>\n</g>\n<!-- 30&#45;&gt;44 -->\n<g id=\"edge44\" class=\"edge\">\n<title>30&#45;&gt;44</title>\n<path fill=\"none\" stroke=\"#000000\" d=\"M2358.8186,-425.2627C2492.7992,-405.883 2792.0875,-362.5924 2933.5768,-342.1266\"/>\n<polygon fill=\"#000000\" stroke=\"#000000\" points=\"2934.091,-345.5887 2943.4869,-340.6931 2933.0888,-338.6608 2934.091,-345.5887\"/>\n</g>\n<!-- 32 -->\n<g id=\"node33\" class=\"node\">\n<title>32</title>\n<polygon fill=\"none\" stroke=\"#000000\" points=\"2285.5,-261 2151.5,-261 2151.5,-193 2285.5,-193 2285.5,-261\"/>\n<text text-anchor=\"middle\" x=\"2218.5\" y=\"-245.8\" font-family=\"Times,serif\" font-size=\"14.00\" fill=\"#000000\">Month &lt;= 6.5</text>\n<text text-anchor=\"middle\" x=\"2218.5\" y=\"-230.8\" font-family=\"Times,serif\" font-size=\"14.00\" fill=\"#000000\">mse = 1936483.932</text>\n<text text-anchor=\"middle\" x=\"2218.5\" y=\"-215.8\" font-family=\"Times,serif\" font-size=\"14.00\" fill=\"#000000\">samples = 23</text>\n<text text-anchor=\"middle\" x=\"2218.5\" y=\"-200.8\" font-family=\"Times,serif\" font-size=\"14.00\" fill=\"#000000\">value = 1978.261</text>\n</g>\n<!-- 31&#45;&gt;32 -->\n<g id=\"edge32\" class=\"edge\">\n<title>31&#45;&gt;32</title>\n<path fill=\"none\" stroke=\"#000000\" d=\"M2267.5971,-296.9465C2261.4209,-288.1475 2254.6962,-278.5672 2248.261,-269.3993\"/>\n<polygon fill=\"#000000\" stroke=\"#000000\" points=\"2251.0666,-267.3041 2242.4566,-261.13 2245.3371,-271.3258 2251.0666,-267.3041\"/>\n</g>\n<!-- 37 -->\n<g id=\"node38\" class=\"node\">\n<title>37</title>\n<polygon fill=\"none\" stroke=\"#000000\" points=\"2423,-261 2304,-261 2304,-193 2423,-193 2423,-261\"/>\n<text text-anchor=\"middle\" x=\"2363.5\" y=\"-245.8\" font-family=\"Times,serif\" font-size=\"14.00\" fill=\"#000000\">Month &lt;= 9.5</text>\n<text text-anchor=\"middle\" x=\"2363.5\" y=\"-230.8\" font-family=\"Times,serif\" font-size=\"14.00\" fill=\"#000000\">mse = 1447616.0</text>\n<text text-anchor=\"middle\" x=\"2363.5\" y=\"-215.8\" font-family=\"Times,serif\" font-size=\"14.00\" fill=\"#000000\">samples = 25</text>\n<text text-anchor=\"middle\" x=\"2363.5\" y=\"-200.8\" font-family=\"Times,serif\" font-size=\"14.00\" fill=\"#000000\">value = 1628.0</text>\n</g>\n<!-- 31&#45;&gt;37 -->\n<g id=\"edge37\" class=\"edge\">\n<title>31&#45;&gt;37</title>\n<path fill=\"none\" stroke=\"#000000\" d=\"M2315.0755,-296.9465C2321.1671,-288.1475 2327.7996,-278.5672 2334.1466,-269.3993\"/>\n<polygon fill=\"#000000\" stroke=\"#000000\" points=\"2337.0571,-271.3442 2339.8715,-261.13 2331.3017,-267.3597 2337.0571,-271.3442\"/>\n</g>\n<!-- 33 -->\n<g id=\"node34\" class=\"node\">\n<title>33</title>\n<polygon fill=\"none\" stroke=\"#000000\" points=\"2142.5,-157 2016.5,-157 2016.5,-89 2142.5,-89 2142.5,-157\"/>\n<text text-anchor=\"middle\" x=\"2079.5\" y=\"-141.8\" font-family=\"Times,serif\" font-size=\"14.00\" fill=\"#000000\">Month &lt;= 4.5</text>\n<text text-anchor=\"middle\" x=\"2079.5\" y=\"-126.8\" font-family=\"Times,serif\" font-size=\"14.00\" fill=\"#000000\">mse = 1762326.87</text>\n<text text-anchor=\"middle\" x=\"2079.5\" y=\"-111.8\" font-family=\"Times,serif\" font-size=\"14.00\" fill=\"#000000\">samples = 19</text>\n<text text-anchor=\"middle\" x=\"2079.5\" y=\"-96.8\" font-family=\"Times,serif\" font-size=\"14.00\" fill=\"#000000\">value = 1763.158</text>\n</g>\n<!-- 32&#45;&gt;33 -->\n<g id=\"edge33\" class=\"edge\">\n<title>32&#45;&gt;33</title>\n<path fill=\"none\" stroke=\"#000000\" d=\"M2172.9862,-192.9465C2160.266,-183.4293 2146.324,-172.9978 2133.1794,-163.163\"/>\n<polygon fill=\"#000000\" stroke=\"#000000\" points=\"2135.2198,-160.3184 2125.1161,-157.13 2131.0262,-165.9232 2135.2198,-160.3184\"/>\n</g>\n<!-- 36 -->\n<g id=\"node37\" class=\"node\">\n<title>36</title>\n<polygon fill=\"none\" stroke=\"#000000\" points=\"2280,-149.5 2161,-149.5 2161,-96.5 2280,-96.5 2280,-149.5\"/>\n<text text-anchor=\"middle\" x=\"2220.5\" y=\"-134.3\" font-family=\"Times,serif\" font-size=\"14.00\" fill=\"#000000\">mse = 1500000.0</text>\n<text text-anchor=\"middle\" x=\"2220.5\" y=\"-119.3\" font-family=\"Times,serif\" font-size=\"14.00\" fill=\"#000000\">samples = 4</text>\n<text text-anchor=\"middle\" x=\"2220.5\" y=\"-104.3\" font-family=\"Times,serif\" font-size=\"14.00\" fill=\"#000000\">value = 3000.0</text>\n</g>\n<!-- 32&#45;&gt;36 -->\n<g id=\"edge36\" class=\"edge\">\n<title>32&#45;&gt;36</title>\n<path fill=\"none\" stroke=\"#000000\" d=\"M2219.1549,-192.9465C2219.3603,-182.2621 2219.588,-170.4254 2219.7966,-159.5742\"/>\n<polygon fill=\"#000000\" stroke=\"#000000\" points=\"2223.2966,-159.6076 2219.9896,-149.5422 2216.2979,-159.473 2223.2966,-159.6076\"/>\n</g>\n<!-- 34 -->\n<g id=\"node35\" class=\"node\">\n<title>34</title>\n<polygon fill=\"none\" stroke=\"#000000\" points=\"2022.5,-53 1888.5,-53 1888.5,0 2022.5,0 2022.5,-53\"/>\n<text text-anchor=\"middle\" x=\"1955.5\" y=\"-37.8\" font-family=\"Times,serif\" font-size=\"14.00\" fill=\"#000000\">mse = 1926863.905</text>\n<text text-anchor=\"middle\" x=\"1955.5\" y=\"-22.8\" font-family=\"Times,serif\" font-size=\"14.00\" fill=\"#000000\">samples = 13</text>\n<text text-anchor=\"middle\" x=\"1955.5\" y=\"-7.8\" font-family=\"Times,serif\" font-size=\"14.00\" fill=\"#000000\">value = 2007.692</text>\n</g>\n<!-- 33&#45;&gt;34 -->\n<g id=\"edge34\" class=\"edge\">\n<title>33&#45;&gt;34</title>\n<path fill=\"none\" stroke=\"#000000\" d=\"M2035.7822,-88.9777C2023.5451,-79.4545 2010.2645,-69.1191 1998.0934,-59.6473\"/>\n<polygon fill=\"#000000\" stroke=\"#000000\" points=\"1999.9125,-56.628 1989.8711,-53.2485 1995.6134,-62.1523 1999.9125,-56.628\"/>\n</g>\n<!-- 35 -->\n<g id=\"node36\" class=\"node\">\n<title>35</title>\n<polygon fill=\"none\" stroke=\"#000000\" points=\"2166.5,-53 2040.5,-53 2040.5,0 2166.5,0 2166.5,-53\"/>\n<text text-anchor=\"middle\" x=\"2103.5\" y=\"-37.8\" font-family=\"Times,serif\" font-size=\"14.00\" fill=\"#000000\">mse = 995555.556</text>\n<text text-anchor=\"middle\" x=\"2103.5\" y=\"-22.8\" font-family=\"Times,serif\" font-size=\"14.00\" fill=\"#000000\">samples = 6</text>\n<text text-anchor=\"middle\" x=\"2103.5\" y=\"-7.8\" font-family=\"Times,serif\" font-size=\"14.00\" fill=\"#000000\">value = 1233.333</text>\n</g>\n<!-- 33&#45;&gt;35 -->\n<g id=\"edge35\" class=\"edge\">\n<title>33&#45;&gt;35</title>\n<path fill=\"none\" stroke=\"#000000\" d=\"M2087.9615,-88.9777C2090.0567,-80.5533 2092.3099,-71.4934 2094.4327,-62.9579\"/>\n<polygon fill=\"#000000\" stroke=\"#000000\" points=\"2097.8305,-63.7976 2096.8475,-53.2485 2091.0374,-62.1081 2097.8305,-63.7976\"/>\n</g>\n<!-- 38 -->\n<g id=\"node39\" class=\"node\">\n<title>38</title>\n<polygon fill=\"none\" stroke=\"#000000\" points=\"2425.5,-157 2299.5,-157 2299.5,-89 2425.5,-89 2425.5,-157\"/>\n<text text-anchor=\"middle\" x=\"2362.5\" y=\"-141.8\" font-family=\"Times,serif\" font-size=\"14.00\" fill=\"#000000\">Season &lt;= 2.5</text>\n<text text-anchor=\"middle\" x=\"2362.5\" y=\"-126.8\" font-family=\"Times,serif\" font-size=\"14.00\" fill=\"#000000\">mse = 605432.099</text>\n<text text-anchor=\"middle\" x=\"2362.5\" y=\"-111.8\" font-family=\"Times,serif\" font-size=\"14.00\" fill=\"#000000\">samples = 9</text>\n<text text-anchor=\"middle\" x=\"2362.5\" y=\"-96.8\" font-family=\"Times,serif\" font-size=\"14.00\" fill=\"#000000\">value = 988.889</text>\n</g>\n<!-- 37&#45;&gt;38 -->\n<g id=\"edge38\" class=\"edge\">\n<title>37&#45;&gt;38</title>\n<path fill=\"none\" stroke=\"#000000\" d=\"M2363.1726,-192.9465C2363.094,-184.776 2363.009,-175.9318 2362.9266,-167.3697\"/>\n<polygon fill=\"#000000\" stroke=\"#000000\" points=\"2366.4243,-167.0958 2362.8282,-157.13 2359.4246,-167.1632 2366.4243,-167.0958\"/>\n</g>\n<!-- 41 -->\n<g id=\"node42\" class=\"node\">\n<title>41</title>\n<polygon fill=\"none\" stroke=\"#000000\" points=\"2569.5,-157 2443.5,-157 2443.5,-89 2569.5,-89 2569.5,-157\"/>\n<text text-anchor=\"middle\" x=\"2506.5\" y=\"-141.8\" font-family=\"Times,serif\" font-size=\"14.00\" fill=\"#000000\">Month &lt;= 10.5</text>\n<text text-anchor=\"middle\" x=\"2506.5\" y=\"-126.8\" font-family=\"Times,serif\" font-size=\"14.00\" fill=\"#000000\">mse = 1562343.75</text>\n<text text-anchor=\"middle\" x=\"2506.5\" y=\"-111.8\" font-family=\"Times,serif\" font-size=\"14.00\" fill=\"#000000\">samples = 16</text>\n<text text-anchor=\"middle\" x=\"2506.5\" y=\"-96.8\" font-family=\"Times,serif\" font-size=\"14.00\" fill=\"#000000\">value = 1987.5</text>\n</g>\n<!-- 37&#45;&gt;41 -->\n<g id=\"edge41\" class=\"edge\">\n<title>37&#45;&gt;41</title>\n<path fill=\"none\" stroke=\"#000000\" d=\"M2410.3235,-192.9465C2423.4098,-183.4293 2437.753,-172.9978 2451.2759,-163.163\"/>\n<polygon fill=\"#000000\" stroke=\"#000000\" points=\"2453.5425,-165.8423 2459.5713,-157.13 2449.4253,-160.1812 2453.5425,-165.8423\"/>\n</g>\n<!-- 39 -->\n<g id=\"node40\" class=\"node\">\n<title>39</title>\n<polygon fill=\"none\" stroke=\"#000000\" points=\"2296,-53 2185,-53 2185,0 2296,0 2296,-53\"/>\n<text text-anchor=\"middle\" x=\"2240.5\" y=\"-37.8\" font-family=\"Times,serif\" font-size=\"14.00\" fill=\"#000000\">mse = 570000.0</text>\n<text text-anchor=\"middle\" x=\"2240.5\" y=\"-22.8\" font-family=\"Times,serif\" font-size=\"14.00\" fill=\"#000000\">samples = 4</text>\n<text text-anchor=\"middle\" x=\"2240.5\" y=\"-7.8\" font-family=\"Times,serif\" font-size=\"14.00\" fill=\"#000000\">value = 1300.0</text>\n</g>\n<!-- 38&#45;&gt;39 -->\n<g id=\"edge39\" class=\"edge\">\n<title>38&#45;&gt;39</title>\n<path fill=\"none\" stroke=\"#000000\" d=\"M2319.4874,-88.9777C2307.4476,-79.4545 2294.3812,-69.1191 2282.4065,-59.6473\"/>\n<polygon fill=\"#000000\" stroke=\"#000000\" points=\"2284.3311,-56.7072 2274.3167,-53.2485 2279.9885,-62.1973 2284.3311,-56.7072\"/>\n</g>\n<!-- 40 -->\n<g id=\"node41\" class=\"node\">\n<title>40</title>\n<polygon fill=\"none\" stroke=\"#000000\" points=\"2425,-53 2314,-53 2314,0 2425,0 2425,-53\"/>\n<text text-anchor=\"middle\" x=\"2369.5\" y=\"-37.8\" font-family=\"Times,serif\" font-size=\"14.00\" fill=\"#000000\">mse = 494400.0</text>\n<text text-anchor=\"middle\" x=\"2369.5\" y=\"-22.8\" font-family=\"Times,serif\" font-size=\"14.00\" fill=\"#000000\">samples = 5</text>\n<text text-anchor=\"middle\" x=\"2369.5\" y=\"-7.8\" font-family=\"Times,serif\" font-size=\"14.00\" fill=\"#000000\">value = 740.0</text>\n</g>\n<!-- 38&#45;&gt;40 -->\n<g id=\"edge40\" class=\"edge\">\n<title>38&#45;&gt;40</title>\n<path fill=\"none\" stroke=\"#000000\" d=\"M2364.9679,-88.9777C2365.5724,-80.6449 2366.222,-71.6903 2366.8352,-63.2364\"/>\n<polygon fill=\"#000000\" stroke=\"#000000\" points=\"2370.3269,-63.4755 2367.5597,-53.2485 2363.3453,-62.969 2370.3269,-63.4755\"/>\n</g>\n<!-- 42 -->\n<g id=\"node43\" class=\"node\">\n<title>42</title>\n<polygon fill=\"none\" stroke=\"#000000\" points=\"2554,-53 2443,-53 2443,0 2554,0 2554,-53\"/>\n<text text-anchor=\"middle\" x=\"2498.5\" y=\"-37.8\" font-family=\"Times,serif\" font-size=\"14.00\" fill=\"#000000\">mse = 500000.0</text>\n<text text-anchor=\"middle\" x=\"2498.5\" y=\"-22.8\" font-family=\"Times,serif\" font-size=\"14.00\" fill=\"#000000\">samples = 4</text>\n<text text-anchor=\"middle\" x=\"2498.5\" y=\"-7.8\" font-family=\"Times,serif\" font-size=\"14.00\" fill=\"#000000\">value = 3000.0</text>\n</g>\n<!-- 41&#45;&gt;42 -->\n<g id=\"edge42\" class=\"edge\">\n<title>41&#45;&gt;42</title>\n<path fill=\"none\" stroke=\"#000000\" d=\"M2503.6795,-88.9777C2502.9887,-80.6449 2502.2463,-71.6903 2501.5455,-63.2364\"/>\n<polygon fill=\"#000000\" stroke=\"#000000\" points=\"2505.0318,-62.9251 2500.7175,-53.2485 2498.0557,-63.5035 2505.0318,-62.9251\"/>\n</g>\n<!-- 43 -->\n<g id=\"node44\" class=\"node\">\n<title>43</title>\n<polygon fill=\"none\" stroke=\"#000000\" points=\"2706.5,-53 2572.5,-53 2572.5,0 2706.5,0 2706.5,-53\"/>\n<text text-anchor=\"middle\" x=\"2639.5\" y=\"-37.8\" font-family=\"Times,serif\" font-size=\"14.00\" fill=\"#000000\">mse = 1460833.333</text>\n<text text-anchor=\"middle\" x=\"2639.5\" y=\"-22.8\" font-family=\"Times,serif\" font-size=\"14.00\" fill=\"#000000\">samples = 12</text>\n<text text-anchor=\"middle\" x=\"2639.5\" y=\"-7.8\" font-family=\"Times,serif\" font-size=\"14.00\" fill=\"#000000\">value = 1650.0</text>\n</g>\n<!-- 41&#45;&gt;43 -->\n<g id=\"edge43\" class=\"edge\">\n<title>41&#45;&gt;43</title>\n<path fill=\"none\" stroke=\"#000000\" d=\"M2553.3908,-88.9777C2566.6423,-79.3629 2581.0347,-68.9203 2594.1913,-59.3743\"/>\n<polygon fill=\"#000000\" stroke=\"#000000\" points=\"2596.5957,-61.9541 2602.6342,-53.2485 2592.4848,-56.2883 2596.5957,-61.9541\"/>\n</g>\n<!-- 45 -->\n<g id=\"node46\" class=\"node\">\n<title>45</title>\n<polygon fill=\"none\" stroke=\"#000000\" points=\"3077.5,-261 2943.5,-261 2943.5,-193 3077.5,-193 3077.5,-261\"/>\n<text text-anchor=\"middle\" x=\"3010.5\" y=\"-245.8\" font-family=\"Times,serif\" font-size=\"14.00\" fill=\"#000000\">Month &lt;= 8.5</text>\n<text text-anchor=\"middle\" x=\"3010.5\" y=\"-230.8\" font-family=\"Times,serif\" font-size=\"14.00\" fill=\"#000000\">mse = 1446846.429</text>\n<text text-anchor=\"middle\" x=\"3010.5\" y=\"-215.8\" font-family=\"Times,serif\" font-size=\"14.00\" fill=\"#000000\">samples = 140</text>\n<text text-anchor=\"middle\" x=\"3010.5\" y=\"-200.8\" font-family=\"Times,serif\" font-size=\"14.00\" fill=\"#000000\">value = 1415.0</text>\n</g>\n<!-- 44&#45;&gt;45 -->\n<g id=\"edge45\" class=\"edge\">\n<title>44&#45;&gt;45</title>\n<path fill=\"none\" stroke=\"#000000\" d=\"M3010.5,-296.9465C3010.5,-288.776 3010.5,-279.9318 3010.5,-271.3697\"/>\n<polygon fill=\"#000000\" stroke=\"#000000\" points=\"3014.0001,-271.13 3010.5,-261.13 3007.0001,-271.13 3014.0001,-271.13\"/>\n</g>\n<!-- 52 -->\n<g id=\"node53\" class=\"node\">\n<title>52</title>\n<polygon fill=\"none\" stroke=\"#000000\" points=\"3487.5,-261 3361.5,-261 3361.5,-193 3487.5,-193 3487.5,-261\"/>\n<text text-anchor=\"middle\" x=\"3424.5\" y=\"-245.8\" font-family=\"Times,serif\" font-size=\"14.00\" fill=\"#000000\">Day &lt;= 2.5</text>\n<text text-anchor=\"middle\" x=\"3424.5\" y=\"-230.8\" font-family=\"Times,serif\" font-size=\"14.00\" fill=\"#000000\">mse = 431020.408</text>\n<text text-anchor=\"middle\" x=\"3424.5\" y=\"-215.8\" font-family=\"Times,serif\" font-size=\"14.00\" fill=\"#000000\">samples = 7</text>\n<text text-anchor=\"middle\" x=\"3424.5\" y=\"-200.8\" font-family=\"Times,serif\" font-size=\"14.00\" fill=\"#000000\">value = 757.143</text>\n</g>\n<!-- 44&#45;&gt;52 -->\n<g id=\"edge52\" class=\"edge\">\n<title>44&#45;&gt;52</title>\n<path fill=\"none\" stroke=\"#000000\" d=\"M3077.9377,-314.0591C3152.9312,-295.2202 3273.6699,-264.8897 3351.02,-245.4587\"/>\n<polygon fill=\"#000000\" stroke=\"#000000\" points=\"3352.3222,-248.7404 3361.1681,-242.9095 3350.6167,-241.9514 3352.3222,-248.7404\"/>\n</g>\n<!-- 46 -->\n<g id=\"node47\" class=\"node\">\n<title>46</title>\n<polygon fill=\"none\" stroke=\"#000000\" points=\"3001,-157 2868,-157 2868,-89 3001,-89 3001,-157\"/>\n<text text-anchor=\"middle\" x=\"2934.5\" y=\"-141.8\" font-family=\"Times,serif\" font-size=\"14.00\" fill=\"#000000\">Day &lt;= 3.5</text>\n<text text-anchor=\"middle\" x=\"2934.5\" y=\"-126.8\" font-family=\"Times,serif\" font-size=\"14.00\" fill=\"#000000\">mse = 1157190.504</text>\n<text text-anchor=\"middle\" x=\"2934.5\" y=\"-111.8\" font-family=\"Times,serif\" font-size=\"14.00\" fill=\"#000000\">samples = 102</text>\n<text text-anchor=\"middle\" x=\"2934.5\" y=\"-96.8\" font-family=\"Times,serif\" font-size=\"14.00\" fill=\"#000000\">value = 1353.922</text>\n</g>\n<!-- 45&#45;&gt;46 -->\n<g id=\"edge46\" class=\"edge\">\n<title>45&#45;&gt;46</title>\n<path fill=\"none\" stroke=\"#000000\" d=\"M2985.6148,-192.9465C2979.1847,-184.1475 2972.1837,-174.5672 2965.4841,-165.3993\"/>\n<polygon fill=\"#000000\" stroke=\"#000000\" points=\"2968.1672,-163.1389 2959.4412,-157.13 2962.5155,-167.269 2968.1672,-163.1389\"/>\n</g>\n<!-- 49 -->\n<g id=\"node50\" class=\"node\">\n<title>49</title>\n<polygon fill=\"none\" stroke=\"#000000\" points=\"3153.5,-157 3019.5,-157 3019.5,-89 3153.5,-89 3153.5,-157\"/>\n<text text-anchor=\"middle\" x=\"3086.5\" y=\"-141.8\" font-family=\"Times,serif\" font-size=\"14.00\" fill=\"#000000\">Day &lt;= 1.5</text>\n<text text-anchor=\"middle\" x=\"3086.5\" y=\"-126.8\" font-family=\"Times,serif\" font-size=\"14.00\" fill=\"#000000\">mse = 2187451.524</text>\n<text text-anchor=\"middle\" x=\"3086.5\" y=\"-111.8\" font-family=\"Times,serif\" font-size=\"14.00\" fill=\"#000000\">samples = 38</text>\n<text text-anchor=\"middle\" x=\"3086.5\" y=\"-96.8\" font-family=\"Times,serif\" font-size=\"14.00\" fill=\"#000000\">value = 1578.947</text>\n</g>\n<!-- 45&#45;&gt;49 -->\n<g id=\"edge49\" class=\"edge\">\n<title>45&#45;&gt;49</title>\n<path fill=\"none\" stroke=\"#000000\" d=\"M3035.3852,-192.9465C3041.8153,-184.1475 3048.8163,-174.5672 3055.5159,-165.3993\"/>\n<polygon fill=\"#000000\" stroke=\"#000000\" points=\"3058.4845,-167.269 3061.5588,-157.13 3052.8328,-163.1389 3058.4845,-167.269\"/>\n</g>\n<!-- 47 -->\n<g id=\"node48\" class=\"node\">\n<title>47</title>\n<polygon fill=\"none\" stroke=\"#000000\" points=\"2858,-53 2725,-53 2725,0 2858,0 2858,-53\"/>\n<text text-anchor=\"middle\" x=\"2791.5\" y=\"-37.8\" font-family=\"Times,serif\" font-size=\"14.00\" fill=\"#000000\">mse = 1198574.951</text>\n<text text-anchor=\"middle\" x=\"2791.5\" y=\"-22.8\" font-family=\"Times,serif\" font-size=\"14.00\" fill=\"#000000\">samples = 78</text>\n<text text-anchor=\"middle\" x=\"2791.5\" y=\"-7.8\" font-family=\"Times,serif\" font-size=\"14.00\" fill=\"#000000\">value = 1403.846</text>\n</g>\n<!-- 46&#45;&gt;47 -->\n<g id=\"edge47\" class=\"edge\">\n<title>46&#45;&gt;47</title>\n<path fill=\"none\" stroke=\"#000000\" d=\"M2884.0835,-88.9777C2869.7,-79.2713 2854.0663,-68.7213 2839.8115,-59.1018\"/>\n<polygon fill=\"#000000\" stroke=\"#000000\" points=\"2841.3846,-55.941 2831.1376,-53.2485 2837.469,-61.7435 2841.3846,-55.941\"/>\n</g>\n<!-- 48 -->\n<g id=\"node49\" class=\"node\">\n<title>48</title>\n<polygon fill=\"none\" stroke=\"#000000\" points=\"3002.5,-53 2876.5,-53 2876.5,0 3002.5,0 3002.5,-53\"/>\n<text text-anchor=\"middle\" x=\"2939.5\" y=\"-37.8\" font-family=\"Times,serif\" font-size=\"14.00\" fill=\"#000000\">mse = 988263.889</text>\n<text text-anchor=\"middle\" x=\"2939.5\" y=\"-22.8\" font-family=\"Times,serif\" font-size=\"14.00\" fill=\"#000000\">samples = 24</text>\n<text text-anchor=\"middle\" x=\"2939.5\" y=\"-7.8\" font-family=\"Times,serif\" font-size=\"14.00\" fill=\"#000000\">value = 1191.667</text>\n</g>\n<!-- 46&#45;&gt;48 -->\n<g id=\"edge48\" class=\"edge\">\n<title>46&#45;&gt;48</title>\n<path fill=\"none\" stroke=\"#000000\" d=\"M2936.2628,-88.9777C2936.6946,-80.6449 2937.1585,-71.6903 2937.5966,-63.2364\"/>\n<polygon fill=\"#000000\" stroke=\"#000000\" points=\"2941.0918,-63.4162 2938.1141,-53.2485 2934.1012,-63.0539 2941.0918,-63.4162\"/>\n</g>\n<!-- 50 -->\n<g id=\"node51\" class=\"node\">\n<title>50</title>\n<polygon fill=\"none\" stroke=\"#000000\" points=\"3140,-53 3021,-53 3021,0 3140,0 3140,-53\"/>\n<text text-anchor=\"middle\" x=\"3080.5\" y=\"-37.8\" font-family=\"Times,serif\" font-size=\"14.00\" fill=\"#000000\">mse = 1000000.0</text>\n<text text-anchor=\"middle\" x=\"3080.5\" y=\"-22.8\" font-family=\"Times,serif\" font-size=\"14.00\" fill=\"#000000\">samples = 2</text>\n<text text-anchor=\"middle\" x=\"3080.5\" y=\"-7.8\" font-family=\"Times,serif\" font-size=\"14.00\" fill=\"#000000\">value = 2000.0</text>\n</g>\n<!-- 49&#45;&gt;50 -->\n<g id=\"edge50\" class=\"edge\">\n<title>49&#45;&gt;50</title>\n<path fill=\"none\" stroke=\"#000000\" d=\"M3084.3846,-88.9777C3083.8665,-80.6449 3083.3098,-71.6903 3082.7841,-63.2364\"/>\n<polygon fill=\"#000000\" stroke=\"#000000\" points=\"3086.277,-63.012 3082.1631,-53.2485 3079.2905,-63.4464 3086.277,-63.012\"/>\n</g>\n<!-- 51 -->\n<g id=\"node52\" class=\"node\">\n<title>51</title>\n<polygon fill=\"none\" stroke=\"#000000\" points=\"3292.5,-53 3158.5,-53 3158.5,0 3292.5,0 3292.5,-53\"/>\n<text text-anchor=\"middle\" x=\"3225.5\" y=\"-37.8\" font-family=\"Times,serif\" font-size=\"14.00\" fill=\"#000000\">mse = 2243024.691</text>\n<text text-anchor=\"middle\" x=\"3225.5\" y=\"-22.8\" font-family=\"Times,serif\" font-size=\"14.00\" fill=\"#000000\">samples = 36</text>\n<text text-anchor=\"middle\" x=\"3225.5\" y=\"-7.8\" font-family=\"Times,serif\" font-size=\"14.00\" fill=\"#000000\">value = 1555.556</text>\n</g>\n<!-- 49&#45;&gt;51 -->\n<g id=\"edge51\" class=\"edge\">\n<title>49&#45;&gt;51</title>\n<path fill=\"none\" stroke=\"#000000\" d=\"M3135.5062,-88.9777C3149.4874,-79.2713 3164.6838,-68.7213 3178.5398,-59.1018\"/>\n<polygon fill=\"#000000\" stroke=\"#000000\" points=\"3180.7526,-61.8264 3186.9711,-53.2485 3176.7606,-56.0763 3180.7526,-61.8264\"/>\n</g>\n<!-- 53 -->\n<g id=\"node54\" class=\"node\">\n<title>53</title>\n<polygon fill=\"none\" stroke=\"#000000\" points=\"3480,-157 3369,-157 3369,-89 3480,-89 3480,-157\"/>\n<text text-anchor=\"middle\" x=\"3424.5\" y=\"-141.8\" font-family=\"Times,serif\" font-size=\"14.00\" fill=\"#000000\">Day &lt;= 1.5</text>\n<text text-anchor=\"middle\" x=\"3424.5\" y=\"-126.8\" font-family=\"Times,serif\" font-size=\"14.00\" fill=\"#000000\">mse = 498400.0</text>\n<text text-anchor=\"middle\" x=\"3424.5\" y=\"-111.8\" font-family=\"Times,serif\" font-size=\"14.00\" fill=\"#000000\">samples = 5</text>\n<text text-anchor=\"middle\" x=\"3424.5\" y=\"-96.8\" font-family=\"Times,serif\" font-size=\"14.00\" fill=\"#000000\">value = 840.0</text>\n</g>\n<!-- 52&#45;&gt;53 -->\n<g id=\"edge53\" class=\"edge\">\n<title>52&#45;&gt;53</title>\n<path fill=\"none\" stroke=\"#000000\" d=\"M3424.5,-192.9465C3424.5,-184.776 3424.5,-175.9318 3424.5,-167.3697\"/>\n<polygon fill=\"#000000\" stroke=\"#000000\" points=\"3428.0001,-167.13 3424.5,-157.13 3421.0001,-167.13 3428.0001,-167.13\"/>\n</g>\n<!-- 56 -->\n<g id=\"node57\" class=\"node\">\n<title>56</title>\n<polygon fill=\"none\" stroke=\"#000000\" points=\"3667,-157 3556,-157 3556,-89 3667,-89 3667,-157\"/>\n<text text-anchor=\"middle\" x=\"3611.5\" y=\"-141.8\" font-family=\"Times,serif\" font-size=\"14.00\" fill=\"#000000\">Day &lt;= 3.5</text>\n<text text-anchor=\"middle\" x=\"3611.5\" y=\"-126.8\" font-family=\"Times,serif\" font-size=\"14.00\" fill=\"#000000\">mse = 202500.0</text>\n<text text-anchor=\"middle\" x=\"3611.5\" y=\"-111.8\" font-family=\"Times,serif\" font-size=\"14.00\" fill=\"#000000\">samples = 2</text>\n<text text-anchor=\"middle\" x=\"3611.5\" y=\"-96.8\" font-family=\"Times,serif\" font-size=\"14.00\" fill=\"#000000\">value = 550.0</text>\n</g>\n<!-- 52&#45;&gt;56 -->\n<g id=\"edge56\" class=\"edge\">\n<title>52&#45;&gt;56</title>\n<path fill=\"none\" stroke=\"#000000\" d=\"M3485.7308,-192.9465C3505.3134,-182.0556 3527.0485,-169.9677 3546.8656,-158.9464\"/>\n<polygon fill=\"#000000\" stroke=\"#000000\" points=\"3548.7829,-161.885 3555.8211,-153.9658 3545.3806,-155.7675 3548.7829,-161.885\"/>\n</g>\n<!-- 54 -->\n<g id=\"node55\" class=\"node\">\n<title>54</title>\n<polygon fill=\"none\" stroke=\"#000000\" points=\"3422,-53 3311,-53 3311,0 3422,0 3422,-53\"/>\n<text text-anchor=\"middle\" x=\"3366.5\" y=\"-37.8\" font-family=\"Times,serif\" font-size=\"14.00\" fill=\"#000000\">mse = 615000.0</text>\n<text text-anchor=\"middle\" x=\"3366.5\" y=\"-22.8\" font-family=\"Times,serif\" font-size=\"14.00\" fill=\"#000000\">samples = 4</text>\n<text text-anchor=\"middle\" x=\"3366.5\" y=\"-7.8\" font-family=\"Times,serif\" font-size=\"14.00\" fill=\"#000000\">value = 800.0</text>\n</g>\n<!-- 53&#45;&gt;54 -->\n<g id=\"edge54\" class=\"edge\">\n<title>53&#45;&gt;54</title>\n<path fill=\"none\" stroke=\"#000000\" d=\"M3404.0514,-88.9777C3398.7678,-80.187 3393.0684,-70.7044 3387.7452,-61.8477\"/>\n<polygon fill=\"#000000\" stroke=\"#000000\" points=\"3390.7282,-60.0165 3382.5768,-53.2485 3384.7285,-63.6225 3390.7282,-60.0165\"/>\n</g>\n<!-- 55 -->\n<g id=\"node56\" class=\"node\">\n<title>55</title>\n<polygon fill=\"none\" stroke=\"#000000\" points=\"3544.5,-53 3440.5,-53 3440.5,0 3544.5,0 3544.5,-53\"/>\n<text text-anchor=\"middle\" x=\"3492.5\" y=\"-37.8\" font-family=\"Times,serif\" font-size=\"14.00\" fill=\"#000000\">mse = 0.0</text>\n<text text-anchor=\"middle\" x=\"3492.5\" y=\"-22.8\" font-family=\"Times,serif\" font-size=\"14.00\" fill=\"#000000\">samples = 1</text>\n<text text-anchor=\"middle\" x=\"3492.5\" y=\"-7.8\" font-family=\"Times,serif\" font-size=\"14.00\" fill=\"#000000\">value = 1000.0</text>\n</g>\n<!-- 53&#45;&gt;55 -->\n<g id=\"edge55\" class=\"edge\">\n<title>53&#45;&gt;55</title>\n<path fill=\"none\" stroke=\"#000000\" d=\"M3448.4743,-88.9777C3454.7333,-80.0954 3461.4901,-70.5067 3467.7867,-61.5711\"/>\n<polygon fill=\"#000000\" stroke=\"#000000\" points=\"3470.7521,-63.4389 3473.6513,-53.2485 3465.0301,-59.4068 3470.7521,-63.4389\"/>\n</g>\n<!-- 57 -->\n<g id=\"node58\" class=\"node\">\n<title>57</title>\n<polygon fill=\"none\" stroke=\"#000000\" points=\"3660,-53 3563,-53 3563,0 3660,0 3660,-53\"/>\n<text text-anchor=\"middle\" x=\"3611.5\" y=\"-37.8\" font-family=\"Times,serif\" font-size=\"14.00\" fill=\"#000000\">mse = 0.0</text>\n<text text-anchor=\"middle\" x=\"3611.5\" y=\"-22.8\" font-family=\"Times,serif\" font-size=\"14.00\" fill=\"#000000\">samples = 1</text>\n<text text-anchor=\"middle\" x=\"3611.5\" y=\"-7.8\" font-family=\"Times,serif\" font-size=\"14.00\" fill=\"#000000\">value = 100.0</text>\n</g>\n<!-- 56&#45;&gt;57 -->\n<g id=\"edge57\" class=\"edge\">\n<title>56&#45;&gt;57</title>\n<path fill=\"none\" stroke=\"#000000\" d=\"M3611.5,-88.9777C3611.5,-80.7364 3611.5,-71.887 3611.5,-63.5153\"/>\n<polygon fill=\"#000000\" stroke=\"#000000\" points=\"3615.0001,-63.2484 3611.5,-53.2485 3608.0001,-63.2485 3615.0001,-63.2484\"/>\n</g>\n<!-- 58 -->\n<g id=\"node59\" class=\"node\">\n<title>58</title>\n<polygon fill=\"none\" stroke=\"#000000\" points=\"3782.5,-53 3678.5,-53 3678.5,0 3782.5,0 3782.5,-53\"/>\n<text text-anchor=\"middle\" x=\"3730.5\" y=\"-37.8\" font-family=\"Times,serif\" font-size=\"14.00\" fill=\"#000000\">mse = 0.0</text>\n<text text-anchor=\"middle\" x=\"3730.5\" y=\"-22.8\" font-family=\"Times,serif\" font-size=\"14.00\" fill=\"#000000\">samples = 1</text>\n<text text-anchor=\"middle\" x=\"3730.5\" y=\"-7.8\" font-family=\"Times,serif\" font-size=\"14.00\" fill=\"#000000\">value = 1000.0</text>\n</g>\n<!-- 56&#45;&gt;58 -->\n<g id=\"edge58\" class=\"edge\">\n<title>56&#45;&gt;58</title>\n<path fill=\"none\" stroke=\"#000000\" d=\"M3653.4549,-88.9777C3665.1986,-79.4545 3677.9438,-69.1191 3689.624,-59.6473\"/>\n<polygon fill=\"#000000\" stroke=\"#000000\" points=\"3691.9522,-62.2656 3697.5148,-53.2485 3687.5432,-56.8286 3691.9522,-62.2656\"/>\n</g>\n</g>\n</svg>\n"
          },
          "metadata": {
            "tags": []
          },
          "execution_count": 68
        }
      ]
    },
    {
      "cell_type": "code",
      "metadata": {
        "id": "hed-HRPK9k4d"
      },
      "source": [
        "def mean_absolute_percentage_error(y_true, y_pred): \n",
        "    y_true, y_pred = np.array(y_true), np.array(y_pred)\n",
        "    return np.mean(np.abs((y_true - y_pred) / y_true)) * 100\n",
        "\n",
        "predictions = model.predict(X_test)\n",
        "mape = mean_absolute_percentage_error(y_test,predictions)"
      ],
      "execution_count": 69,
      "outputs": []
    },
    {
      "cell_type": "code",
      "metadata": {
        "id": "OmTVJbg699dh",
        "outputId": "1501602e-5f19-4041-e5f8-86e47a6b6d15",
        "colab": {
          "base_uri": "https://localhost:8080/",
          "height": 35
        }
      },
      "source": [
        "mape"
      ],
      "execution_count": 70,
      "outputs": [
        {
          "output_type": "execute_result",
          "data": {
            "text/plain": [
              "425.73288560722455"
            ]
          },
          "metadata": {
            "tags": []
          },
          "execution_count": 70
        }
      ]
    }
  ]
}
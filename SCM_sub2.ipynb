{
  "nbformat": 4,
  "nbformat_minor": 0,
  "metadata": {
    "colab": {
      "name": "SCM_sub2.ipynb",
      "provenance": [],
      "collapsed_sections": [],
      "authorship_tag": "ABX9TyN1ENO3d1X+xfSfDIdlyQA/",
      "include_colab_link": true
    },
    "kernelspec": {
      "name": "python3",
      "display_name": "Python 3"
    }
  },
  "cells": [
    {
      "cell_type": "markdown",
      "metadata": {
        "id": "view-in-github",
        "colab_type": "text"
      },
      "source": [
        "<a href=\"https://colab.research.google.com/github/HWANG-HOE-SUN/Univ.project/blob/main/SCM_sub2.ipynb\" target=\"_parent\"><img src=\"https://colab.research.google.com/assets/colab-badge.svg\" alt=\"Open In Colab\"/></a>"
      ]
    },
    {
      "cell_type": "code",
      "metadata": {
        "id": "T4qoIc4SPmhl"
      },
      "source": [
        "import matplotlib.pyplot as plt\n",
        "import numpy as np\n",
        "import pandas as pd\n",
        "import datetime as dt\n",
        "import seaborn as sns\n",
        "from scipy import stats\n",
        "import math"
      ],
      "execution_count": 1,
      "outputs": []
    },
    {
      "cell_type": "code",
      "metadata": {
        "id": "0VMQGn6xPpyk"
      },
      "source": [
        "Data = pd.read_excel('시계열_수요예측_데이터_2.xlsx')"
      ],
      "execution_count": 3,
      "outputs": []
    },
    {
      "cell_type": "code",
      "metadata": {
        "id": "3r_-RrwaW7cw",
        "outputId": "ab6adb3e-1c57-4ce9-9aad-efc68f89ae59",
        "colab": {
          "base_uri": "https://localhost:8080/",
          "height": 233
        }
      },
      "source": [
        "Data['Date'].value_counts() #한날에 수요정보 여러개 있는건 뭐지? 창고다른건 여러개 있다쳐도."
      ],
      "execution_count": 4,
      "outputs": [
        {
          "output_type": "execute_result",
          "data": {
            "text/plain": [
              "2012-01-10    4\n",
              "2015-03-18    4\n",
              "2012-10-01    4\n",
              "2013-04-24    3\n",
              "2014-11-25    3\n",
              "             ..\n",
              "2014-01-21    1\n",
              "2013-09-19    1\n",
              "2014-09-09    1\n",
              "2014-08-12    1\n",
              "2012-12-03    1\n",
              "Name: Date, Length: 469, dtype: int64"
            ]
          },
          "metadata": {
            "tags": []
          },
          "execution_count": 4
        }
      ]
    },
    {
      "cell_type": "code",
      "metadata": {
        "id": "CDaXeqCvXCvj",
        "outputId": "3fa6c357-e22e-489a-f978-a834fb411e8c",
        "colab": {
          "base_uri": "https://localhost:8080/",
          "height": 395
        }
      },
      "source": [
        "Data.describe(), Data.info()"
      ],
      "execution_count": 5,
      "outputs": [
        {
          "output_type": "stream",
          "text": [
            "<class 'pandas.core.frame.DataFrame'>\n",
            "RangeIndex: 597 entries, 0 to 596\n",
            "Data columns (total 5 columns):\n",
            " #   Column            Non-Null Count  Dtype         \n",
            "---  ------            --------------  -----         \n",
            " 0   Product_Code      597 non-null    object        \n",
            " 1   Warehouse         597 non-null    object        \n",
            " 2   Product_Category  597 non-null    object        \n",
            " 3   Date              597 non-null    datetime64[ns]\n",
            " 4   Order_Demand      597 non-null    int64         \n",
            "dtypes: datetime64[ns](1), int64(1), object(3)\n",
            "memory usage: 23.4+ KB\n"
          ],
          "name": "stdout"
        },
        {
          "output_type": "execute_result",
          "data": {
            "text/plain": [
              "(       Order_Demand\n",
              " count    597.000000\n",
              " mean     770.519263\n",
              " std     1016.921545\n",
              " min        0.000000\n",
              " 25%      200.000000\n",
              " 50%      300.000000\n",
              " 75%     1000.000000\n",
              " max     7000.000000, None)"
            ]
          },
          "metadata": {
            "tags": []
          },
          "execution_count": 5
        }
      ]
    },
    {
      "cell_type": "markdown",
      "metadata": {
        "id": "m5i1kWgGXbhj"
      },
      "source": [
        "#데이터 전처리"
      ]
    },
    {
      "cell_type": "code",
      "metadata": {
        "id": "ptVz8jNsXCtU",
        "outputId": "41b297af-8baa-4156-8c07-e0e11f6f9624",
        "colab": {
          "base_uri": "https://localhost:8080/",
          "height": 49
        }
      },
      "source": [
        "# 수요음수값 제거했음\n",
        "Data[Data['Order_Demand']<0] "
      ],
      "execution_count": 6,
      "outputs": [
        {
          "output_type": "execute_result",
          "data": {
            "text/html": [
              "<div>\n",
              "<style scoped>\n",
              "    .dataframe tbody tr th:only-of-type {\n",
              "        vertical-align: middle;\n",
              "    }\n",
              "\n",
              "    .dataframe tbody tr th {\n",
              "        vertical-align: top;\n",
              "    }\n",
              "\n",
              "    .dataframe thead th {\n",
              "        text-align: right;\n",
              "    }\n",
              "</style>\n",
              "<table border=\"1\" class=\"dataframe\">\n",
              "  <thead>\n",
              "    <tr style=\"text-align: right;\">\n",
              "      <th></th>\n",
              "      <th>Product_Code</th>\n",
              "      <th>Warehouse</th>\n",
              "      <th>Product_Category</th>\n",
              "      <th>Date</th>\n",
              "      <th>Order_Demand</th>\n",
              "    </tr>\n",
              "  </thead>\n",
              "  <tbody>\n",
              "  </tbody>\n",
              "</table>\n",
              "</div>"
            ],
            "text/plain": [
              "Empty DataFrame\n",
              "Columns: [Product_Code, Warehouse, Product_Category, Date, Order_Demand]\n",
              "Index: []"
            ]
          },
          "metadata": {
            "tags": []
          },
          "execution_count": 6
        }
      ]
    },
    {
      "cell_type": "code",
      "metadata": {
        "id": "BhYFna47Xe0A"
      },
      "source": [
        "Data[\"Day\"]=Data[\"Date\"].dt.dayofweek # 요일\n",
        "Data['Month'] = Data['Date'].dt.month # 월\n",
        "Data['year'] = Data['Date'].dt.year # 년도"
      ],
      "execution_count": 7,
      "outputs": []
    },
    {
      "cell_type": "code",
      "metadata": {
        "id": "ZkxuUc7iyadF",
        "outputId": "6c705b8a-4807-4874-9baa-a42c7397777a",
        "colab": {
          "base_uri": "https://localhost:8080/",
          "height": 377
        }
      },
      "source": [
        "Data[\"Season\"] = \"\"\n",
        "\n",
        "for i in Data.index:\n",
        "  if 3 <= Data['Month'][i] <= 5:\n",
        "    Data['Season'][i] = 1\n",
        "  elif 6<= Data['Month'][i] <= 8:\n",
        "    Data['Season'][i] = 2\n",
        "  elif 9<= Data['Month'][i] <= 11:\n",
        "    Data['Season'][i] = 3\n",
        "  else:\n",
        "    Data[\"Season\"][i] = 4"
      ],
      "execution_count": 8,
      "outputs": [
        {
          "output_type": "stream",
          "text": [
            "/usr/local/lib/python3.6/dist-packages/ipykernel_launcher.py:11: SettingWithCopyWarning: \n",
            "A value is trying to be set on a copy of a slice from a DataFrame\n",
            "\n",
            "See the caveats in the documentation: https://pandas.pydata.org/pandas-docs/stable/user_guide/indexing.html#returning-a-view-versus-a-copy\n",
            "  # This is added back by InteractiveShellApp.init_path()\n",
            "/usr/local/lib/python3.6/dist-packages/ipykernel_launcher.py:5: SettingWithCopyWarning: \n",
            "A value is trying to be set on a copy of a slice from a DataFrame\n",
            "\n",
            "See the caveats in the documentation: https://pandas.pydata.org/pandas-docs/stable/user_guide/indexing.html#returning-a-view-versus-a-copy\n",
            "  \"\"\"\n",
            "/usr/local/lib/python3.6/dist-packages/ipykernel_launcher.py:7: SettingWithCopyWarning: \n",
            "A value is trying to be set on a copy of a slice from a DataFrame\n",
            "\n",
            "See the caveats in the documentation: https://pandas.pydata.org/pandas-docs/stable/user_guide/indexing.html#returning-a-view-versus-a-copy\n",
            "  import sys\n",
            "/usr/local/lib/python3.6/dist-packages/ipykernel_launcher.py:9: SettingWithCopyWarning: \n",
            "A value is trying to be set on a copy of a slice from a DataFrame\n",
            "\n",
            "See the caveats in the documentation: https://pandas.pydata.org/pandas-docs/stable/user_guide/indexing.html#returning-a-view-versus-a-copy\n",
            "  if __name__ == '__main__':\n"
          ],
          "name": "stderr"
        }
      ]
    },
    {
      "cell_type": "code",
      "metadata": {
        "id": "ESJ1fTQkKR9n"
      },
      "source": [
        "Data['year_month'] = pd.to_datetime(Data['Date']).dt.to_period('M') # 월별 집계를 위한 년-월 생성"
      ],
      "execution_count": 9,
      "outputs": []
    },
    {
      "cell_type": "code",
      "metadata": {
        "id": "NMIhx2m9LduK",
        "outputId": "607ba6a2-018a-4edc-b32c-8b9cc59b0e45",
        "colab": {
          "base_uri": "https://localhost:8080/",
          "height": 419
        }
      },
      "source": [
        "Data = Data[Data['year']!=2011] #2011년은 2값으로만 이루어져있어 대표성이 없고 유용하지 않다고 판단, 제거했음.\n",
        "Data"
      ],
      "execution_count": 10,
      "outputs": [
        {
          "output_type": "execute_result",
          "data": {
            "text/html": [
              "<div>\n",
              "<style scoped>\n",
              "    .dataframe tbody tr th:only-of-type {\n",
              "        vertical-align: middle;\n",
              "    }\n",
              "\n",
              "    .dataframe tbody tr th {\n",
              "        vertical-align: top;\n",
              "    }\n",
              "\n",
              "    .dataframe thead th {\n",
              "        text-align: right;\n",
              "    }\n",
              "</style>\n",
              "<table border=\"1\" class=\"dataframe\">\n",
              "  <thead>\n",
              "    <tr style=\"text-align: right;\">\n",
              "      <th></th>\n",
              "      <th>Product_Code</th>\n",
              "      <th>Warehouse</th>\n",
              "      <th>Product_Category</th>\n",
              "      <th>Date</th>\n",
              "      <th>Order_Demand</th>\n",
              "      <th>Day</th>\n",
              "      <th>Month</th>\n",
              "      <th>year</th>\n",
              "      <th>Season</th>\n",
              "      <th>year_month</th>\n",
              "    </tr>\n",
              "  </thead>\n",
              "  <tbody>\n",
              "    <tr>\n",
              "      <th>2</th>\n",
              "      <td>Product_0001</td>\n",
              "      <td>Whse_A</td>\n",
              "      <td>Category_005</td>\n",
              "      <td>2012-01-03</td>\n",
              "      <td>200</td>\n",
              "      <td>1</td>\n",
              "      <td>1</td>\n",
              "      <td>2012</td>\n",
              "      <td>4</td>\n",
              "      <td>2012-01</td>\n",
              "    </tr>\n",
              "    <tr>\n",
              "      <th>3</th>\n",
              "      <td>Product_0001</td>\n",
              "      <td>Whse_A</td>\n",
              "      <td>Category_005</td>\n",
              "      <td>2012-01-03</td>\n",
              "      <td>800</td>\n",
              "      <td>1</td>\n",
              "      <td>1</td>\n",
              "      <td>2012</td>\n",
              "      <td>4</td>\n",
              "      <td>2012-01</td>\n",
              "    </tr>\n",
              "    <tr>\n",
              "      <th>4</th>\n",
              "      <td>Product_0001</td>\n",
              "      <td>Whse_A</td>\n",
              "      <td>Category_005</td>\n",
              "      <td>2012-01-04</td>\n",
              "      <td>200</td>\n",
              "      <td>2</td>\n",
              "      <td>1</td>\n",
              "      <td>2012</td>\n",
              "      <td>4</td>\n",
              "      <td>2012-01</td>\n",
              "    </tr>\n",
              "    <tr>\n",
              "      <th>5</th>\n",
              "      <td>Product_0001</td>\n",
              "      <td>Whse_J</td>\n",
              "      <td>Category_005</td>\n",
              "      <td>2012-01-05</td>\n",
              "      <td>100</td>\n",
              "      <td>3</td>\n",
              "      <td>1</td>\n",
              "      <td>2012</td>\n",
              "      <td>4</td>\n",
              "      <td>2012-01</td>\n",
              "    </tr>\n",
              "    <tr>\n",
              "      <th>6</th>\n",
              "      <td>Product_0001</td>\n",
              "      <td>Whse_A</td>\n",
              "      <td>Category_005</td>\n",
              "      <td>2012-01-09</td>\n",
              "      <td>2000</td>\n",
              "      <td>0</td>\n",
              "      <td>1</td>\n",
              "      <td>2012</td>\n",
              "      <td>4</td>\n",
              "      <td>2012-01</td>\n",
              "    </tr>\n",
              "    <tr>\n",
              "      <th>...</th>\n",
              "      <td>...</td>\n",
              "      <td>...</td>\n",
              "      <td>...</td>\n",
              "      <td>...</td>\n",
              "      <td>...</td>\n",
              "      <td>...</td>\n",
              "      <td>...</td>\n",
              "      <td>...</td>\n",
              "      <td>...</td>\n",
              "      <td>...</td>\n",
              "    </tr>\n",
              "    <tr>\n",
              "      <th>592</th>\n",
              "      <td>Product_0001</td>\n",
              "      <td>Whse_J</td>\n",
              "      <td>Category_005</td>\n",
              "      <td>2016-12-14</td>\n",
              "      <td>200</td>\n",
              "      <td>2</td>\n",
              "      <td>12</td>\n",
              "      <td>2016</td>\n",
              "      <td>4</td>\n",
              "      <td>2016-12</td>\n",
              "    </tr>\n",
              "    <tr>\n",
              "      <th>593</th>\n",
              "      <td>Product_0001</td>\n",
              "      <td>Whse_A</td>\n",
              "      <td>Category_005</td>\n",
              "      <td>2016-12-15</td>\n",
              "      <td>200</td>\n",
              "      <td>3</td>\n",
              "      <td>12</td>\n",
              "      <td>2016</td>\n",
              "      <td>4</td>\n",
              "      <td>2016-12</td>\n",
              "    </tr>\n",
              "    <tr>\n",
              "      <th>594</th>\n",
              "      <td>Product_0001</td>\n",
              "      <td>Whse_J</td>\n",
              "      <td>Category_005</td>\n",
              "      <td>2016-12-19</td>\n",
              "      <td>500</td>\n",
              "      <td>0</td>\n",
              "      <td>12</td>\n",
              "      <td>2016</td>\n",
              "      <td>4</td>\n",
              "      <td>2016-12</td>\n",
              "    </tr>\n",
              "    <tr>\n",
              "      <th>595</th>\n",
              "      <td>Product_0001</td>\n",
              "      <td>Whse_J</td>\n",
              "      <td>Category_005</td>\n",
              "      <td>2016-12-22</td>\n",
              "      <td>300</td>\n",
              "      <td>3</td>\n",
              "      <td>12</td>\n",
              "      <td>2016</td>\n",
              "      <td>4</td>\n",
              "      <td>2016-12</td>\n",
              "    </tr>\n",
              "    <tr>\n",
              "      <th>596</th>\n",
              "      <td>Product_0001</td>\n",
              "      <td>Whse_J</td>\n",
              "      <td>Category_005</td>\n",
              "      <td>2016-12-26</td>\n",
              "      <td>300</td>\n",
              "      <td>0</td>\n",
              "      <td>12</td>\n",
              "      <td>2016</td>\n",
              "      <td>4</td>\n",
              "      <td>2016-12</td>\n",
              "    </tr>\n",
              "  </tbody>\n",
              "</table>\n",
              "<p>595 rows × 10 columns</p>\n",
              "</div>"
            ],
            "text/plain": [
              "     Product_Code Warehouse Product_Category  ...  year  Season  year_month\n",
              "2    Product_0001    Whse_A     Category_005  ...  2012       4     2012-01\n",
              "3    Product_0001    Whse_A     Category_005  ...  2012       4     2012-01\n",
              "4    Product_0001    Whse_A     Category_005  ...  2012       4     2012-01\n",
              "5    Product_0001    Whse_J     Category_005  ...  2012       4     2012-01\n",
              "6    Product_0001    Whse_A     Category_005  ...  2012       4     2012-01\n",
              "..            ...       ...              ...  ...   ...     ...         ...\n",
              "592  Product_0001    Whse_J     Category_005  ...  2016       4     2016-12\n",
              "593  Product_0001    Whse_A     Category_005  ...  2016       4     2016-12\n",
              "594  Product_0001    Whse_J     Category_005  ...  2016       4     2016-12\n",
              "595  Product_0001    Whse_J     Category_005  ...  2016       4     2016-12\n",
              "596  Product_0001    Whse_J     Category_005  ...  2016       4     2016-12\n",
              "\n",
              "[595 rows x 10 columns]"
            ]
          },
          "metadata": {
            "tags": []
          },
          "execution_count": 10
        }
      ]
    },
    {
      "cell_type": "code",
      "metadata": {
        "id": "Z9Hi6gv0e3kJ",
        "outputId": "71d922a3-6b19-4c10-9b69-8bd59f0157f5",
        "colab": {
          "base_uri": "https://localhost:8080/",
          "height": 125
        }
      },
      "source": [
        "Data['Day'].value_counts() # 월~금 평일에만 장사한다.(수요발생)"
      ],
      "execution_count": 11,
      "outputs": [
        {
          "output_type": "execute_result",
          "data": {
            "text/plain": [
              "0    131\n",
              "3    119\n",
              "2    116\n",
              "1    115\n",
              "4    114\n",
              "Name: Day, dtype: int64"
            ]
          },
          "metadata": {
            "tags": []
          },
          "execution_count": 11
        }
      ]
    },
    {
      "cell_type": "code",
      "metadata": {
        "id": "teuhD-Vq7rEa",
        "outputId": "abd769b1-1996-42a5-b9e8-4827a69c403a",
        "colab": {
          "base_uri": "https://localhost:8080/",
          "height": 407
        }
      },
      "source": [
        "plt.figure(figsize=(10,6)) #창고 종류가 가장 차이가 큰 변수였다.(나머지도 그려봤음)\n",
        "plt.subplot(121)\n",
        "sns.boxplot(x=\"Warehouse\",y=\"Order_Demand\",data=Data)\n",
        "plt.subplot(122)\n",
        "sns.barplot(x=\"Warehouse\",y=\"Order_Demand\",data=Data)"
      ],
      "execution_count": 12,
      "outputs": [
        {
          "output_type": "execute_result",
          "data": {
            "text/plain": [
              "<matplotlib.axes._subplots.AxesSubplot at 0x7fb878242438>"
            ]
          },
          "metadata": {
            "tags": []
          },
          "execution_count": 12
        },
        {
          "output_type": "display_data",
          "data": {
            "image/png": "[encoded data removed]",
            "text/plain": [
              "<Figure size 720x432 with 2 Axes>"
            ]
          },
          "metadata": {
            "tags": [],
            "needs_background": "light"
          }
        }
      ]
    },
    {
      "cell_type": "markdown",
      "metadata": {
        "id": "D8abG4DM-fpC"
      },
      "source": [
        "# 창고별로 데이터 분리하기(각각 예측해서 후에 통합하겠음)"
      ]
    },
    {
      "cell_type": "code",
      "metadata": {
        "id": "jDyW-J68-iE9"
      },
      "source": [
        "Data_A = Data[Data['Warehouse']=='Whse_A']\n",
        "Data_J = Data[Data['Warehouse']=='Whse_J']"
      ],
      "execution_count": 13,
      "outputs": []
    },
    {
      "cell_type": "code",
      "metadata": {
        "id": "Oa85iY0GuJLC",
        "outputId": "60c9bbb2-8e6d-401d-c10b-989126f82693",
        "colab": {
          "base_uri": "https://localhost:8080/",
          "height": 1000
        }
      },
      "source": [
        "Data_A.groupby('year_month')['Order_Demand'].mean(),Data_J.groupby('year_month')['Order_Demand'].mean() \n",
        "#창고J는 전반적으로 수요값이 평탄하나 창고A는 수요 변동폭이 크다."
      ],
      "execution_count": 14,
      "outputs": [
        {
          "output_type": "execute_result",
          "data": {
            "text/plain": [
              "(year_month\n",
              " 2012-01     914.285714\n",
              " 2012-02    2080.000000\n",
              " 2012-03    1833.333333\n",
              " 2012-04     750.000000\n",
              " 2012-05    2000.000000\n",
              " 2012-06    2000.000000\n",
              " 2012-07    2666.666667\n",
              " 2012-08     800.000000\n",
              " 2012-09    1120.000000\n",
              " 2012-10    1712.500000\n",
              " 2012-11    1500.000000\n",
              " 2012-12     883.333333\n",
              " 2013-01    1666.666667\n",
              " 2013-02    1925.000000\n",
              " 2013-03    1766.666667\n",
              " 2013-04    1866.666667\n",
              " 2013-05     700.000000\n",
              " 2013-06    1516.666667\n",
              " 2013-07    1600.000000\n",
              " 2013-08    1500.000000\n",
              " 2013-09     883.333333\n",
              " 2013-10    1880.000000\n",
              " 2013-11    1375.000000\n",
              " 2013-12    1500.000000\n",
              " 2014-01    1366.666667\n",
              " 2014-02     766.666667\n",
              " 2014-03    1175.000000\n",
              " 2014-04    3500.000000\n",
              " 2014-05    1275.000000\n",
              " 2014-06    1133.333333\n",
              " 2014-07    1600.000000\n",
              " 2014-08    1171.428571\n",
              " 2014-09    1320.000000\n",
              " 2014-10    2040.000000\n",
              " 2014-11    2200.000000\n",
              " 2014-12    1333.333333\n",
              " 2015-01    1050.000000\n",
              " 2015-02    1420.000000\n",
              " 2015-03    1800.000000\n",
              " 2015-04    1366.666667\n",
              " 2015-05    1225.000000\n",
              " 2015-06    1300.000000\n",
              " 2015-07    1080.000000\n",
              " 2015-08    2100.000000\n",
              " 2015-09    4000.000000\n",
              " 2015-10    1000.000000\n",
              " 2015-11    1700.000000\n",
              " 2015-12    1000.000000\n",
              " 2016-01     100.000000\n",
              " 2016-02    1040.000000\n",
              " 2016-03    2000.000000\n",
              " 2016-04    2000.000000\n",
              " 2016-05    2800.000000\n",
              " 2016-06    1550.000000\n",
              " 2016-07    1950.000000\n",
              " 2016-08    2666.666667\n",
              " 2016-09    1000.000000\n",
              " 2016-10     500.000000\n",
              " 2016-11     500.000000\n",
              " 2016-12     200.000000\n",
              " Freq: M, Name: Order_Demand, dtype: float64, year_month\n",
              " 2012-01     412.500000\n",
              " 2012-02     325.000000\n",
              " 2012-03     442.857143\n",
              " 2012-04     360.000000\n",
              " 2012-05     216.666667\n",
              " 2012-06     733.333333\n",
              " 2012-07     300.000000\n",
              " 2012-08     483.333333\n",
              " 2012-09     275.000000\n",
              " 2012-10     275.000000\n",
              " 2012-11     362.500000\n",
              " 2012-12     175.000000\n",
              " 2013-01     475.000000\n",
              " 2013-02     280.000000\n",
              " 2013-03     300.000000\n",
              " 2013-04     200.000000\n",
              " 2013-05     200.000000\n",
              " 2013-06     150.000000\n",
              " 2013-07     325.000000\n",
              " 2013-08     466.666667\n",
              " 2013-09     166.666667\n",
              " 2013-10     285.714286\n",
              " 2013-11     550.000000\n",
              " 2013-12     322.222222\n",
              " 2014-01     350.000000\n",
              " 2014-02     385.714286\n",
              " 2014-03     200.000000\n",
              " 2014-04     133.333333\n",
              " 2014-05     400.000000\n",
              " 2014-06    1060.000000\n",
              " 2014-07     264.285714\n",
              " 2014-08     271.428571\n",
              " 2014-09     255.555556\n",
              " 2014-10     350.000000\n",
              " 2014-11     400.000000\n",
              " 2014-12     200.000000\n",
              " 2015-01     233.333333\n",
              " 2015-02     181.818182\n",
              " 2015-03     257.142857\n",
              " 2015-04     242.857143\n",
              " 2015-05     250.000000\n",
              " 2015-06     280.000000\n",
              " 2015-07     220.000000\n",
              " 2015-08     300.000000\n",
              " 2015-09     166.666667\n",
              " 2015-10     216.666667\n",
              " 2015-11     200.000000\n",
              " 2015-12     300.000000\n",
              " 2016-01     250.000000\n",
              " 2016-02     220.000000\n",
              " 2016-03     330.000000\n",
              " 2016-04     280.000000\n",
              " 2016-05     414.285714\n",
              " 2016-06     220.000000\n",
              " 2016-07     375.000000\n",
              " 2016-08     300.000000\n",
              " 2016-09     260.000000\n",
              " 2016-10     266.666667\n",
              " 2016-11     100.000000\n",
              " 2016-12     300.000000\n",
              " Freq: M, Name: Order_Demand, dtype: float64)"
            ]
          },
          "metadata": {
            "tags": []
          },
          "execution_count": 14
        }
      ]
    },
    {
      "cell_type": "markdown",
      "metadata": {
        "id": "wSEg1kXhQb8P"
      },
      "source": [
        "# 분석용 excel Data 생성 및 내보내기"
      ]
    },
    {
      "cell_type": "code",
      "metadata": {
        "id": "xRlsea88DDe7"
      },
      "source": [
        "train_A, test_A = Data_A[Data_A['year']!=2016], Data_A[Data_A['year']==2016] # 2012~2015는 train에 2016은 test에 넣겠음.\n",
        "train_J, test_J = Data_J[Data_J['year']!=2016], Data_J[Data_J['year']==2016] # 2012~2015는 train에 2016은 test에 넣겠음."
      ],
      "execution_count": 15,
      "outputs": []
    },
    {
      "cell_type": "code",
      "metadata": {
        "id": "2S53kai2DMRi",
        "outputId": "6b9fc0f5-4f05-4b94-dc3c-0e5259e07954",
        "colab": {
          "base_uri": "https://localhost:8080/",
          "height": 305
        }
      },
      "source": [
        "train_A.head(), train_J.head()"
      ],
      "execution_count": 16,
      "outputs": [
        {
          "output_type": "execute_result",
          "data": {
            "text/plain": [
              "(   Product_Code Warehouse Product_Category  ...  year  Season  year_month\n",
              " 2  Product_0001    Whse_A     Category_005  ...  2012       4     2012-01\n",
              " 3  Product_0001    Whse_A     Category_005  ...  2012       4     2012-01\n",
              " 4  Product_0001    Whse_A     Category_005  ...  2012       4     2012-01\n",
              " 6  Product_0001    Whse_A     Category_005  ...  2012       4     2012-01\n",
              " 7  Product_0001    Whse_A     Category_005  ...  2012       4     2012-01\n",
              " \n",
              " [5 rows x 10 columns],\n",
              "     Product_Code Warehouse Product_Category  ...  year  Season  year_month\n",
              " 5   Product_0001    Whse_J     Category_005  ...  2012       4     2012-01\n",
              " 8   Product_0001    Whse_J     Category_005  ...  2012       4     2012-01\n",
              " 9   Product_0001    Whse_J     Category_005  ...  2012       4     2012-01\n",
              " 11  Product_0001    Whse_J     Category_005  ...  2012       4     2012-01\n",
              " 12  Product_0001    Whse_J     Category_005  ...  2012       4     2012-01\n",
              " \n",
              " [5 rows x 10 columns])"
            ]
          },
          "metadata": {
            "tags": []
          },
          "execution_count": 16
        }
      ]
    },
    {
      "cell_type": "code",
      "metadata": {
        "id": "JEYju1JUGp61",
        "outputId": "a84dd6d6-2a74-45b5-f083-e74a678b3914",
        "colab": {
          "base_uri": "https://localhost:8080/",
          "height": 323
        }
      },
      "source": [
        "grouped_Data_A = train_A.groupby('year_month')['Order_Demand'].sum()\n",
        "grouped_Data_J = train_J.groupby('year_month')['Order_Demand'].sum()\n",
        "\n",
        "grouped_Data_A.describe(),grouped_Data_J.describe()"
      ],
      "execution_count": 17,
      "outputs": [
        {
          "output_type": "execute_result",
          "data": {
            "text/plain": [
              "(count       48.000000\n",
              " mean      6033.333333\n",
              " std       3016.079838\n",
              " min       1000.000000\n",
              " 25%       3900.000000\n",
              " 50%       5600.000000\n",
              " 75%       8000.000000\n",
              " max      13700.000000\n",
              " Name: Order_Demand, dtype: float64, count      48.000000\n",
              " mean     1922.916667\n",
              " std      1095.491648\n",
              " min       500.000000\n",
              " 25%      1100.000000\n",
              " 50%      1600.000000\n",
              " 75%      2625.000000\n",
              " max      5300.000000\n",
              " Name: Order_Demand, dtype: float64)"
            ]
          },
          "metadata": {
            "tags": []
          },
          "execution_count": 17
        }
      ]
    },
    {
      "cell_type": "markdown",
      "metadata": {
        "id": "o-HZdF_AAeSf"
      },
      "source": [
        "# 창고별 시각화"
      ]
    },
    {
      "cell_type": "code",
      "metadata": {
        "id": "FCNB33NKPWnc",
        "outputId": "e25a44c5-1a0a-49e9-d01d-b223bb2e3c46",
        "colab": {
          "base_uri": "https://localhost:8080/",
          "height": 694
        }
      },
      "source": [
        "plt.figure(figsize=(13,11))\n",
        "plt.subplot(221)\n",
        "plt.title(\"Warehouse_A\")\n",
        "sns.boxplot(x=\"Month\",y=\"Order_Demand\",data=Data_A)\n",
        "plt.subplot(222)\n",
        "plt.title(\"Warehouse_A\")\n",
        "sns.barplot(x=\"Month\",y=\"Order_Demand\",data=Data_A)\n",
        "plt.subplot(223)\n",
        "plt.title(\"Warehouse_J\")\n",
        "sns.boxplot(x=\"Month\",y=\"Order_Demand\",data=Data_J)\n",
        "plt.subplot(224)\n",
        "plt.title(\"Warehouse_J\")\n",
        "sns.barplot(x=\"Month\",y=\"Order_Demand\",data=Data_J)"
      ],
      "execution_count": 18,
      "outputs": [
        {
          "output_type": "execute_result",
          "data": {
            "text/plain": [
              "<matplotlib.axes._subplots.AxesSubplot at 0x7fb8767fa3c8>"
            ]
          },
          "metadata": {
            "tags": []
          },
          "execution_count": 18
        },
        {
          "output_type": "display_data",
          "data": {
            "image/png": "[encoded data removed]",
            "text/plain": [
              "<Figure size 936x792 with 4 Axes>"
            ]
          },
          "metadata": {
            "tags": [],
            "needs_background": "light"
          }
        }
      ]
    },
    {
      "cell_type": "markdown",
      "metadata": {
        "id": "OViM5TU7B4WG"
      },
      "source": [
        "# boxplot에서 많이 벗어난 값 제거(월별 plot 기준)"
      ]
    },
    {
      "cell_type": "code",
      "metadata": {
        "id": "noxiIYk_B6im"
      },
      "source": [
        "from collections import Counter # Outlier 제거 함수.\n",
        "def detect_outliers(df, n, features): \n",
        "  outlier_indices = [] \n",
        "  for col in features:\n",
        "     Q1 = np.percentile(df[col], 25) \n",
        "     Q3 = np.percentile(df[col], 75) \n",
        "     IQR = Q3 - Q1 \n",
        "     outlier_step = 1.5 * IQR \n",
        "     outlier_list = df[(df[col] < Q1 - outlier_step) | (df[col] > Q3 + outlier_step)].index\n",
        "     outlier_indices.extend(outlier_list)\n",
        "  return outlier_indices\n"
      ],
      "execution_count": 19,
      "outputs": []
    },
    {
      "cell_type": "code",
      "metadata": {
        "id": "CnOb1lfuC8p9",
        "outputId": "cad716fd-10c5-4ea6-9644-11562f074b33",
        "colab": {
          "base_uri": "https://localhost:8080/",
          "height": 161
        }
      },
      "source": [
        "# 2016년은 제거되면 안되므로, train기간 2012~2015에 대해서만 탐지 및 제거하겠다.\n",
        "Outliers_to_drop = detect_outliers(train_A, 2, [\"Order_Demand\"])\n",
        "print(train_A.loc[Outliers_to_drop]) #이상치 출력 및 바로 제거\n",
        "train_A = train_A.drop(Outliers_to_drop,axis=0).reset_index(drop=True)"
      ],
      "execution_count": 20,
      "outputs": [
        {
          "output_type": "stream",
          "text": [
            "     Product_Code Warehouse Product_Category  ...  year  Season  year_month\n",
            "35   Product_0001    Whse_A     Category_005  ...  2012       1     2012-03\n",
            "67   Product_0001    Whse_A     Category_005  ...  2012       2     2012-07\n",
            "289  Product_0001    Whse_A     Category_005  ...  2014       1     2014-04\n",
            "365  Product_0001    Whse_A     Category_005  ...  2014       3     2014-10\n",
            "474  Product_0001    Whse_A     Category_005  ...  2015       3     2015-09\n",
            "\n",
            "[5 rows x 10 columns]\n"
          ],
          "name": "stdout"
        }
      ]
    },
    {
      "cell_type": "code",
      "metadata": {
        "id": "Tgem7AVbERPg",
        "outputId": "8b4f5b55-be1d-456c-e6fb-f78bfa77addc",
        "colab": {
          "base_uri": "https://localhost:8080/",
          "height": 359
        }
      },
      "source": [
        "Outliers_to_drop = detect_outliers(train_J, 2, [\"Order_Demand\"])\n",
        "print(train_J.loc[Outliers_to_drop]) #이상치 출력 및 바로 제거\n",
        "train_J = train_J.drop(Outliers_to_drop,axis=0).reset_index(drop=True)"
      ],
      "execution_count": 21,
      "outputs": [
        {
          "output_type": "stream",
          "text": [
            "     Product_Code Warehouse Product_Category  ...  year  Season  year_month\n",
            "14   Product_0001    Whse_J     Category_005  ...  2012       4     2012-01\n",
            "32   Product_0001    Whse_J     Category_005  ...  2012       1     2012-03\n",
            "65   Product_0001    Whse_J     Category_005  ...  2012       2     2012-06\n",
            "84   Product_0001    Whse_J     Category_005  ...  2012       2     2012-08\n",
            "128  Product_0001    Whse_J     Category_005  ...  2012       3     2012-11\n",
            "144  Product_0001    Whse_J     Category_005  ...  2013       4     2013-01\n",
            "163  Product_0001    Whse_J     Category_005  ...  2013       1     2013-03\n",
            "206  Product_0001    Whse_J     Category_005  ...  2013       2     2013-07\n",
            "213  Product_0001    Whse_J     Category_005  ...  2013       2     2013-08\n",
            "263  Product_0001    Whse_J     Category_005  ...  2014       4     2014-01\n",
            "272  Product_0001    Whse_J     Category_005  ...  2014       4     2014-02\n",
            "300  Product_0001    Whse_J     Category_005  ...  2014       1     2014-05\n",
            "303  Product_0001    Whse_J     Category_005  ...  2014       2     2014-06\n",
            "304  Product_0001    Whse_J     Category_005  ...  2014       2     2014-06\n",
            "377  Product_0001    Whse_J     Category_005  ...  2014       3     2014-11\n",
            "413  Product_0001    Whse_J     Category_005  ...  2015       1     2015-03\n",
            "\n",
            "[16 rows x 10 columns]\n"
          ],
          "name": "stdout"
        }
      ]
    },
    {
      "cell_type": "code",
      "metadata": {
        "id": "_sHSPIRKBmZ6"
      },
      "source": [
        "Data_A.to_excel(\"handed_Data_A.xlsx\") #파일 내보내기 \n",
        "Data_J.to_excel(\"handed_Data_J.xlsx\") "
      ],
      "execution_count": 22,
      "outputs": []
    },
    {
      "cell_type": "code",
      "metadata": {
        "id": "ioSRWZtdGbQ-",
        "outputId": "a4532115-7b6c-4bfb-bbc9-390b8d029c7b",
        "colab": {
          "base_uri": "https://localhost:8080/",
          "height": 323
        }
      },
      "source": [
        "grouped_train_A = train_A.groupby('year_month')['Order_Demand'].sum()\n",
        "grouped_train_J = train_J.groupby('year_month')['Order_Demand'].sum()\n",
        "\n",
        "grouped_train_A.describe(),grouped_train_J.describe()"
      ],
      "execution_count": 25,
      "outputs": [
        {
          "output_type": "execute_result",
          "data": {
            "text/plain": [
              "(count       48.000000\n",
              " mean      5450.000000\n",
              " std       2970.349933\n",
              " min       1000.000000\n",
              " 25%       3000.000000\n",
              " 50%       5200.000000\n",
              " 75%       6875.000000\n",
              " max      13700.000000\n",
              " Name: Order_Demand, dtype: float64, count      48.000000\n",
              " mean     1493.750000\n",
              " std       782.632288\n",
              " min       200.000000\n",
              " 25%       900.000000\n",
              " 50%      1400.000000\n",
              " 75%      2000.000000\n",
              " max      3700.000000\n",
              " Name: Order_Demand, dtype: float64)"
            ]
          },
          "metadata": {
            "tags": []
          },
          "execution_count": 25
        }
      ]
    },
    {
      "cell_type": "markdown",
      "metadata": {
        "id": "-mo3OoyQ-ICf"
      },
      "source": [
        "# 실험용 코드 미리 짜놓기(머신러닝 기법이 통할까?)"
      ]
    },
    {
      "cell_type": "markdown",
      "metadata": {
        "id": "NusQrzcZ5mho"
      },
      "source": [
        "# train,test 전처리"
      ]
    },
    {
      "cell_type": "code",
      "metadata": {
        "id": "UPJFZeP85naD"
      },
      "source": [
        "# 어느 창고인가의 유무에 따라 1 또는 0의 이진변수로 전환\n",
        "train_x['Warehouse'] = np.where(train_x['Warehouse']=='Whse_A',1,0)\n",
        "test_x['Warehouse'] = np.where(test_x['Warehouse']=='Whse_J',1,0)"
      ],
      "execution_count": null,
      "outputs": []
    },
    {
      "cell_type": "code",
      "metadata": {
        "id": "4AQ2Xi2r56Q4"
      },
      "source": [
        "train_x"
      ],
      "execution_count": null,
      "outputs": []
    },
    {
      "cell_type": "code",
      "metadata": {
        "id": "YFgCnJjm78iZ"
      },
      "source": [
        "from sklearn.tree import DecisionTreeRegressor"
      ],
      "execution_count": null,
      "outputs": []
    },
    {
      "cell_type": "code",
      "metadata": {
        "id": "7dXfuhZJ7-wY"
      },
      "source": [
        "model = DecisionTreeRegressor(max_depth=5)\n",
        "model"
      ],
      "execution_count": null,
      "outputs": []
    },
    {
      "cell_type": "code",
      "metadata": {
        "id": "4lQJl1MK78kq"
      },
      "source": [
        "feature_names=['Warehouse','Day','Month','Season']\n",
        "label = 'Order_Demand'"
      ],
      "execution_count": null,
      "outputs": []
    },
    {
      "cell_type": "code",
      "metadata": {
        "id": "8cMzREoN78gX"
      },
      "source": [
        "X_train = train_x[feature_names]\n",
        "X_test = test_x[feature_names]"
      ],
      "execution_count": null,
      "outputs": []
    },
    {
      "cell_type": "code",
      "metadata": {
        "id": "Ja33nypQ9Jg6"
      },
      "source": [
        "y_train = train[label]\n",
        "y_test = test[label]"
      ],
      "execution_count": null,
      "outputs": []
    },
    {
      "cell_type": "code",
      "metadata": {
        "id": "2D6Gt1v89RAc"
      },
      "source": [
        "model.fit(X_train,y_train) "
      ],
      "execution_count": null,
      "outputs": []
    },
    {
      "cell_type": "code",
      "metadata": {
        "id": "Hg3q5I369Vp1"
      },
      "source": [
        "from sklearn.tree import export_graphviz\n",
        "import graphviz"
      ],
      "execution_count": null,
      "outputs": []
    },
    {
      "cell_type": "code",
      "metadata": {
        "id": "wqZMBaB79Xaz"
      },
      "source": [
        "dot_tree=export_graphviz(model,feature_names=feature_names,out_file=None)"
      ],
      "execution_count": null,
      "outputs": []
    },
    {
      "cell_type": "code",
      "metadata": {
        "id": "o2a2B7dd9eLW"
      },
      "source": [
        "graphviz.Source(dot_tree)"
      ],
      "execution_count": null,
      "outputs": []
    },
    {
      "cell_type": "code",
      "metadata": {
        "id": "hed-HRPK9k4d"
      },
      "source": [
        "def mean_absolute_percentage_error(y_true, y_pred): \n",
        "    y_true, y_pred = np.array(y_true), np.array(y_pred)\n",
        "    return np.mean(np.abs((y_true - y_pred) / y_true)) * 100\n",
        "\n",
        "predictions = model.predict(X_test)\n",
        "mape = mean_absolute_percentage_error(y_test,predictions)"
      ],
      "execution_count": null,
      "outputs": []
    },
    {
      "cell_type": "code",
      "metadata": {
        "id": "OmTVJbg699dh"
      },
      "source": [
        "mape"
      ],
      "execution_count": null,
      "outputs": []
    }
  ]
}